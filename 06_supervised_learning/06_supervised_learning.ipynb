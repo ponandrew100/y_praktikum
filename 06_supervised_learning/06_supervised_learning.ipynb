{
 "cells": [
  {
   "cell_type": "markdown",
   "metadata": {},
   "source": [
    "# Отток клиентов"
   ]
  },
  {
   "cell_type": "markdown",
   "metadata": {},
   "source": [
    "Из «Бета-Банка» стали уходить клиенты. \n",
    "Банковские маркетологи посчитали: сохранять текущих клиентов дешевле, чем привлекать новых.\n",
    "\n",
    "Нужно спрогнозировать, уйдёт клиент из банка в ближайшее время или нет. \n",
    "Вам предоставлены исторические данные о поведении клиентов и расторжении договоров с банком. \n",
    "\n",
    "Постройте модель с предельно большим значением *F1*-меры. Чтобы сдать проект успешно, нужно довести метрику до 0.59. Проверьте *F1*-меру на тестовой выборке самостоятельно.\n",
    "\n",
    "Дополнительно измеряйте *AUC-ROC*, сравнивайте её значение с *F1*-мерой.\n",
    "\n",
    "Источник данных: [https://www.kaggle.com/barelydedicated/bank-customer-churn-modeling](https://www.kaggle.com/barelydedicated/bank-customer-churn-modeling)"
   ]
  },
  {
   "cell_type": "markdown",
   "metadata": {},
   "source": [
    "__Признаки:__  \n",
    "`RowNumber` — индекс строки в данных  \n",
    "`CustomerId` — уникальный идентификатор клиента  \n",
    "`Surname` — фамилия  \n",
    "`CreditScore` — кредитный рейтинг  \n",
    "`Geography` — страна проживания  \n",
    "`Gender` — пол  \n",
    "`Age` — возраст  \n",
    "`Tenure` — количество недвижимости у клиента  \n",
    "`Balance` — баланс на счёте  \n",
    "`NumOfProducts` — количество продуктов банка, используемых клиентом  \n",
    "`HasCrCard` — наличие кредитной карты  \n",
    "`IsActiveMember` — активность клиента  \n",
    "`EstimatedSalary` — предполагаемая зарплата  \n",
    "\n",
    "__Целевой признак__:  \n",
    "`Exited` — факт ухода клиента"
   ]
  },
  {
   "cell_type": "code",
   "execution_count": 1,
   "metadata": {},
   "outputs": [],
   "source": [
    "import pandas as pd\n",
    "import numpy as np\n",
    "import matplotlib.pyplot as plt\n",
    "import seaborn as sns"
   ]
  },
  {
   "cell_type": "code",
   "execution_count": 2,
   "metadata": {},
   "outputs": [],
   "source": [
    "from sklearn.preprocessing import OrdinalEncoder\n",
    "from sklearn.model_selection import train_test_split\n",
    "from sklearn.linear_model import LinearRegression, LogisticRegression\n",
    "from sklearn.ensemble import RandomForestClassifier, RandomForestRegressor\n",
    "from sklearn.metrics import mean_squared_error, f1_score, roc_auc_score\n",
    "from sklearn.utils import shuffle\n",
    "from sklearn.metrics import roc_curve"
   ]
  },
  {
   "cell_type": "markdown",
   "metadata": {},
   "source": [
    "# 1. Подготовка данных"
   ]
  },
  {
   "cell_type": "markdown",
   "metadata": {},
   "source": [
    "Импортирование, просмотр информации о полях (признаках), преобразования типов при необходимости, выявление пропусков, исследование на возможность заполнения пропусков."
   ]
  },
  {
   "cell_type": "code",
   "execution_count": 3,
   "metadata": {
    "scrolled": true
   },
   "outputs": [
    {
     "name": "stdout",
     "output_type": "stream",
     "text": [
      "<class 'pandas.core.frame.DataFrame'>\n",
      "Int64Index: 10000 entries, 1 to 10000\n",
      "Data columns (total 13 columns):\n",
      "CustomerId         10000 non-null int64\n",
      "Surname            10000 non-null object\n",
      "CreditScore        10000 non-null int64\n",
      "Geography          10000 non-null object\n",
      "Gender             10000 non-null object\n",
      "Age                10000 non-null int64\n",
      "Tenure             9091 non-null float64\n",
      "Balance            10000 non-null float64\n",
      "NumOfProducts      10000 non-null int64\n",
      "HasCrCard          10000 non-null int64\n",
      "IsActiveMember     10000 non-null int64\n",
      "EstimatedSalary    10000 non-null float64\n",
      "Exited             10000 non-null int64\n",
      "dtypes: float64(3), int64(7), object(3)\n",
      "memory usage: 1.1+ MB\n"
     ]
    }
   ],
   "source": [
    "df = pd.read_csv('/datasets/Churn.csv')\n",
    "df.set_index('RowNumber', inplace=True)\n",
    "\n",
    "df.info()"
   ]
  },
  {
   "cell_type": "code",
   "execution_count": 4,
   "metadata": {
    "scrolled": true
   },
   "outputs": [
    {
     "data": {
      "text/html": [
       "<div>\n",
       "<style scoped>\n",
       "    .dataframe tbody tr th:only-of-type {\n",
       "        vertical-align: middle;\n",
       "    }\n",
       "\n",
       "    .dataframe tbody tr th {\n",
       "        vertical-align: top;\n",
       "    }\n",
       "\n",
       "    .dataframe thead th {\n",
       "        text-align: right;\n",
       "    }\n",
       "</style>\n",
       "<table border=\"1\" class=\"dataframe\">\n",
       "  <thead>\n",
       "    <tr style=\"text-align: right;\">\n",
       "      <th></th>\n",
       "      <th>CustomerId</th>\n",
       "      <th>Surname</th>\n",
       "      <th>CreditScore</th>\n",
       "      <th>Geography</th>\n",
       "      <th>Gender</th>\n",
       "      <th>Age</th>\n",
       "      <th>Tenure</th>\n",
       "      <th>Balance</th>\n",
       "      <th>NumOfProducts</th>\n",
       "      <th>HasCrCard</th>\n",
       "      <th>IsActiveMember</th>\n",
       "      <th>EstimatedSalary</th>\n",
       "      <th>Exited</th>\n",
       "    </tr>\n",
       "    <tr>\n",
       "      <th>RowNumber</th>\n",
       "      <th></th>\n",
       "      <th></th>\n",
       "      <th></th>\n",
       "      <th></th>\n",
       "      <th></th>\n",
       "      <th></th>\n",
       "      <th></th>\n",
       "      <th></th>\n",
       "      <th></th>\n",
       "      <th></th>\n",
       "      <th></th>\n",
       "      <th></th>\n",
       "      <th></th>\n",
       "    </tr>\n",
       "  </thead>\n",
       "  <tbody>\n",
       "    <tr>\n",
       "      <td>1</td>\n",
       "      <td>15634602</td>\n",
       "      <td>Hargrave</td>\n",
       "      <td>619</td>\n",
       "      <td>France</td>\n",
       "      <td>Female</td>\n",
       "      <td>42</td>\n",
       "      <td>2.0</td>\n",
       "      <td>0.00</td>\n",
       "      <td>1</td>\n",
       "      <td>1</td>\n",
       "      <td>1</td>\n",
       "      <td>101348.88</td>\n",
       "      <td>1</td>\n",
       "    </tr>\n",
       "    <tr>\n",
       "      <td>2</td>\n",
       "      <td>15647311</td>\n",
       "      <td>Hill</td>\n",
       "      <td>608</td>\n",
       "      <td>Spain</td>\n",
       "      <td>Female</td>\n",
       "      <td>41</td>\n",
       "      <td>1.0</td>\n",
       "      <td>83807.86</td>\n",
       "      <td>1</td>\n",
       "      <td>0</td>\n",
       "      <td>1</td>\n",
       "      <td>112542.58</td>\n",
       "      <td>0</td>\n",
       "    </tr>\n",
       "    <tr>\n",
       "      <td>3</td>\n",
       "      <td>15619304</td>\n",
       "      <td>Onio</td>\n",
       "      <td>502</td>\n",
       "      <td>France</td>\n",
       "      <td>Female</td>\n",
       "      <td>42</td>\n",
       "      <td>8.0</td>\n",
       "      <td>159660.80</td>\n",
       "      <td>3</td>\n",
       "      <td>1</td>\n",
       "      <td>0</td>\n",
       "      <td>113931.57</td>\n",
       "      <td>1</td>\n",
       "    </tr>\n",
       "    <tr>\n",
       "      <td>4</td>\n",
       "      <td>15701354</td>\n",
       "      <td>Boni</td>\n",
       "      <td>699</td>\n",
       "      <td>France</td>\n",
       "      <td>Female</td>\n",
       "      <td>39</td>\n",
       "      <td>1.0</td>\n",
       "      <td>0.00</td>\n",
       "      <td>2</td>\n",
       "      <td>0</td>\n",
       "      <td>0</td>\n",
       "      <td>93826.63</td>\n",
       "      <td>0</td>\n",
       "    </tr>\n",
       "    <tr>\n",
       "      <td>5</td>\n",
       "      <td>15737888</td>\n",
       "      <td>Mitchell</td>\n",
       "      <td>850</td>\n",
       "      <td>Spain</td>\n",
       "      <td>Female</td>\n",
       "      <td>43</td>\n",
       "      <td>2.0</td>\n",
       "      <td>125510.82</td>\n",
       "      <td>1</td>\n",
       "      <td>1</td>\n",
       "      <td>1</td>\n",
       "      <td>79084.10</td>\n",
       "      <td>0</td>\n",
       "    </tr>\n",
       "  </tbody>\n",
       "</table>\n",
       "</div>"
      ],
      "text/plain": [
       "           CustomerId   Surname  CreditScore Geography  Gender  Age  Tenure  \\\n",
       "RowNumber                                                                     \n",
       "1            15634602  Hargrave          619    France  Female   42     2.0   \n",
       "2            15647311      Hill          608     Spain  Female   41     1.0   \n",
       "3            15619304      Onio          502    France  Female   42     8.0   \n",
       "4            15701354      Boni          699    France  Female   39     1.0   \n",
       "5            15737888  Mitchell          850     Spain  Female   43     2.0   \n",
       "\n",
       "             Balance  NumOfProducts  HasCrCard  IsActiveMember  \\\n",
       "RowNumber                                                        \n",
       "1               0.00              1          1               1   \n",
       "2           83807.86              1          0               1   \n",
       "3          159660.80              3          1               0   \n",
       "4               0.00              2          0               0   \n",
       "5          125510.82              1          1               1   \n",
       "\n",
       "           EstimatedSalary  Exited  \n",
       "RowNumber                           \n",
       "1                101348.88       1  \n",
       "2                112542.58       0  \n",
       "3                113931.57       1  \n",
       "4                 93826.63       0  \n",
       "5                 79084.10       0  "
      ]
     },
     "execution_count": 4,
     "metadata": {},
     "output_type": "execute_result"
    }
   ],
   "source": [
    "df.head()"
   ]
  },
  {
   "cell_type": "code",
   "execution_count": 5,
   "metadata": {},
   "outputs": [
    {
     "data": {
      "text/plain": [
       "CustomerId           0\n",
       "Surname              0\n",
       "CreditScore          0\n",
       "Geography            0\n",
       "Gender               0\n",
       "Age                  0\n",
       "Tenure             909\n",
       "Balance              0\n",
       "NumOfProducts        0\n",
       "HasCrCard            0\n",
       "IsActiveMember       0\n",
       "EstimatedSalary      0\n",
       "Exited               0\n",
       "dtype: int64"
      ]
     },
     "execution_count": 5,
     "metadata": {},
     "output_type": "execute_result"
    }
   ],
   "source": [
    "df.isna().sum()"
   ]
  },
  {
   "cell_type": "markdown",
   "metadata": {},
   "source": [
    "В процессе загрузки данных и первичного анализа были обнаружены пропуски в поле `Tenure` (количество недвижимости у клиента).\n",
    "\n",
    "Попробуем заполнить эти пропуски в несколько этапов:  \n",
    "- рассмотрим вариант со средним значением (медианой);\n",
    "- если предыдущий этап не подойдет, то рассмотрим вариант зависимости от какого-либо другого признака;\n",
    "- если таких признаков нет, то, поскольку этот признак количественный, применим алгоритмы регрессионных моделей.\n"
   ]
  },
  {
   "cell_type": "code",
   "execution_count": 6,
   "metadata": {},
   "outputs": [
    {
     "data": {
      "image/png": "[encoded data removed]",
      "text/plain": [
       "<Figure size 432x288 with 1 Axes>"
      ]
     },
     "metadata": {
      "needs_background": "light"
     },
     "output_type": "display_data"
    }
   ],
   "source": [
    "df.Tenure.value_counts().plot(kind='bar');"
   ]
  },
  {
   "cell_type": "code",
   "execution_count": 7,
   "metadata": {},
   "outputs": [
    {
     "data": {
      "text/html": [
       "<div>\n",
       "<style scoped>\n",
       "    .dataframe tbody tr th:only-of-type {\n",
       "        vertical-align: middle;\n",
       "    }\n",
       "\n",
       "    .dataframe tbody tr th {\n",
       "        vertical-align: top;\n",
       "    }\n",
       "\n",
       "    .dataframe thead th {\n",
       "        text-align: right;\n",
       "    }\n",
       "</style>\n",
       "<table border=\"1\" class=\"dataframe\">\n",
       "  <thead>\n",
       "    <tr style=\"text-align: right;\">\n",
       "      <th></th>\n",
       "      <th>count</th>\n",
       "      <th>mean</th>\n",
       "      <th>std</th>\n",
       "      <th>min</th>\n",
       "      <th>25%</th>\n",
       "      <th>50%</th>\n",
       "      <th>75%</th>\n",
       "      <th>max</th>\n",
       "    </tr>\n",
       "  </thead>\n",
       "  <tbody>\n",
       "    <tr>\n",
       "      <td>Tenure</td>\n",
       "      <td>9091.0</td>\n",
       "      <td>4.99769</td>\n",
       "      <td>2.894723</td>\n",
       "      <td>0.0</td>\n",
       "      <td>2.0</td>\n",
       "      <td>5.0</td>\n",
       "      <td>7.0</td>\n",
       "      <td>10.0</td>\n",
       "    </tr>\n",
       "  </tbody>\n",
       "</table>\n",
       "</div>"
      ],
      "text/plain": [
       "         count     mean       std  min  25%  50%  75%   max\n",
       "Tenure  9091.0  4.99769  2.894723  0.0  2.0  5.0  7.0  10.0"
      ]
     },
     "execution_count": 7,
     "metadata": {},
     "output_type": "execute_result"
    }
   ],
   "source": [
    "df.Tenure.describe().to_frame().T"
   ]
  },
  {
   "cell_type": "code",
   "execution_count": 8,
   "metadata": {},
   "outputs": [
    {
     "data": {
      "image/png": "[encoded data removed]",
      "text/plain": [
       "<Figure size 432x288 with 1 Axes>"
      ]
     },
     "metadata": {
      "needs_background": "light"
     },
     "output_type": "display_data"
    }
   ],
   "source": [
    "df.Tenure.to_frame().boxplot();"
   ]
  },
  {
   "cell_type": "markdown",
   "metadata": {},
   "source": [
    "Среднее значение и медиана почти совпадают, и на мой взгляд, пропуски в этом поле вполне можно заменить на медиану.  \n",
    "\n",
    "Но все же смущает тот факт, что в банковском деле при принятии решения о кредите даже наличие одной недвижимости уже очень важно, также как и каждой последующей... Поэтому хотелось бы более точного результата. К тому же разброс данных достаточного большой для такого важного признака.  \n",
    "\n",
    "Попробуем проанализировать какие-либо зависимости от других признаков."
   ]
  },
  {
   "cell_type": "code",
   "execution_count": 9,
   "metadata": {},
   "outputs": [
    {
     "data": {
      "image/png": "[encoded data removed]",
      "text/plain": [
       "<Figure size 720x480 with 2 Axes>"
      ]
     },
     "metadata": {
      "needs_background": "light"
     },
     "output_type": "display_data"
    }
   ],
   "source": [
    "# матрица корреляций\n",
    "\n",
    "plt.figure(figsize=(9,6), dpi= 80)\n",
    "sns.heatmap(df.corr(), xticklabels=df.corr().columns, yticklabels=df.corr().columns, cmap='RdYlGn', center=0, annot=True)\n",
    "plt.show()"
   ]
  },
  {
   "cell_type": "markdown",
   "metadata": {},
   "source": [
    "Как видно из диаграммы, наш признак взаимно не коррелируется с прочими признаками, а значит нужно рассматривать ее зависимость в комплексе со всеми прочими признаками. Поэтому применим модели регрессионных алгоритмов для заполнения пропусков, а именно - случайного леса, выберем наилучший по RMSE и заполним пропуски.\n",
    "\n",
    "Целевым признаком будет `Tenere`, а тестовой выборкой - все данные, у которых этот признак пропущен.\n",
    "\n",
    "Но предварительно преобразуем категориальные поля `Geography` и `Gender` техникой __порядкового кодирования__."
   ]
  },
  {
   "cell_type": "code",
   "execution_count": 10,
   "metadata": {},
   "outputs": [
    {
     "data": {
      "text/html": [
       "<div>\n",
       "<style scoped>\n",
       "    .dataframe tbody tr th:only-of-type {\n",
       "        vertical-align: middle;\n",
       "    }\n",
       "\n",
       "    .dataframe tbody tr th {\n",
       "        vertical-align: top;\n",
       "    }\n",
       "\n",
       "    .dataframe thead th {\n",
       "        text-align: right;\n",
       "    }\n",
       "</style>\n",
       "<table border=\"1\" class=\"dataframe\">\n",
       "  <thead>\n",
       "    <tr style=\"text-align: right;\">\n",
       "      <th></th>\n",
       "      <th>Geography</th>\n",
       "      <th>Gender</th>\n",
       "      <th>CreditScore</th>\n",
       "      <th>Age</th>\n",
       "      <th>Tenure</th>\n",
       "      <th>Balance</th>\n",
       "      <th>NumOfProducts</th>\n",
       "      <th>HasCrCard</th>\n",
       "      <th>IsActiveMember</th>\n",
       "      <th>EstimatedSalary</th>\n",
       "      <th>Exited</th>\n",
       "    </tr>\n",
       "    <tr>\n",
       "      <th>RowNumber</th>\n",
       "      <th></th>\n",
       "      <th></th>\n",
       "      <th></th>\n",
       "      <th></th>\n",
       "      <th></th>\n",
       "      <th></th>\n",
       "      <th></th>\n",
       "      <th></th>\n",
       "      <th></th>\n",
       "      <th></th>\n",
       "      <th></th>\n",
       "    </tr>\n",
       "  </thead>\n",
       "  <tbody>\n",
       "    <tr>\n",
       "      <td>1</td>\n",
       "      <td>0.0</td>\n",
       "      <td>0.0</td>\n",
       "      <td>619</td>\n",
       "      <td>42</td>\n",
       "      <td>2.0</td>\n",
       "      <td>0.00</td>\n",
       "      <td>1</td>\n",
       "      <td>1</td>\n",
       "      <td>1</td>\n",
       "      <td>101348.88</td>\n",
       "      <td>1</td>\n",
       "    </tr>\n",
       "    <tr>\n",
       "      <td>2</td>\n",
       "      <td>2.0</td>\n",
       "      <td>0.0</td>\n",
       "      <td>608</td>\n",
       "      <td>41</td>\n",
       "      <td>1.0</td>\n",
       "      <td>83807.86</td>\n",
       "      <td>1</td>\n",
       "      <td>0</td>\n",
       "      <td>1</td>\n",
       "      <td>112542.58</td>\n",
       "      <td>0</td>\n",
       "    </tr>\n",
       "    <tr>\n",
       "      <td>3</td>\n",
       "      <td>0.0</td>\n",
       "      <td>0.0</td>\n",
       "      <td>502</td>\n",
       "      <td>42</td>\n",
       "      <td>8.0</td>\n",
       "      <td>159660.80</td>\n",
       "      <td>3</td>\n",
       "      <td>1</td>\n",
       "      <td>0</td>\n",
       "      <td>113931.57</td>\n",
       "      <td>1</td>\n",
       "    </tr>\n",
       "    <tr>\n",
       "      <td>4</td>\n",
       "      <td>0.0</td>\n",
       "      <td>0.0</td>\n",
       "      <td>699</td>\n",
       "      <td>39</td>\n",
       "      <td>1.0</td>\n",
       "      <td>0.00</td>\n",
       "      <td>2</td>\n",
       "      <td>0</td>\n",
       "      <td>0</td>\n",
       "      <td>93826.63</td>\n",
       "      <td>0</td>\n",
       "    </tr>\n",
       "    <tr>\n",
       "      <td>5</td>\n",
       "      <td>2.0</td>\n",
       "      <td>0.0</td>\n",
       "      <td>850</td>\n",
       "      <td>43</td>\n",
       "      <td>2.0</td>\n",
       "      <td>125510.82</td>\n",
       "      <td>1</td>\n",
       "      <td>1</td>\n",
       "      <td>1</td>\n",
       "      <td>79084.10</td>\n",
       "      <td>0</td>\n",
       "    </tr>\n",
       "  </tbody>\n",
       "</table>\n",
       "</div>"
      ],
      "text/plain": [
       "           Geography  Gender  CreditScore  Age  Tenure    Balance  \\\n",
       "RowNumber                                                           \n",
       "1                0.0     0.0          619   42     2.0       0.00   \n",
       "2                2.0     0.0          608   41     1.0   83807.86   \n",
       "3                0.0     0.0          502   42     8.0  159660.80   \n",
       "4                0.0     0.0          699   39     1.0       0.00   \n",
       "5                2.0     0.0          850   43     2.0  125510.82   \n",
       "\n",
       "           NumOfProducts  HasCrCard  IsActiveMember  EstimatedSalary  Exited  \n",
       "RowNumber                                                                     \n",
       "1                      1          1               1        101348.88       1  \n",
       "2                      1          0               1        112542.58       0  \n",
       "3                      3          1               0        113931.57       1  \n",
       "4                      2          0               0         93826.63       0  \n",
       "5                      1          1               1         79084.10       0  "
      ]
     },
     "execution_count": 10,
     "metadata": {},
     "output_type": "execute_result"
    }
   ],
   "source": [
    "columns = ['CreditScore', 'Age', 'Tenure', 'Balance', 'NumOfProducts', \n",
    "           'HasCrCard', 'IsActiveMember', 'EstimatedSalary', 'Exited']\n",
    "\n",
    "df1 = df[['Geography', 'Gender']]\n",
    "encoder = OrdinalEncoder()\n",
    "encoder.fit(df1)\n",
    "df_ordinal = pd.DataFrame(encoder.transform(df1), columns=['Geography', 'Gender'], index=df1.index)\n",
    "df_ordinal = df_ordinal.join(df[columns])\n",
    "df_ordinal.head()"
   ]
  },
  {
   "cell_type": "code",
   "execution_count": 11,
   "metadata": {},
   "outputs": [
    {
     "data": {
      "text/plain": [
       "((6818, 10), (2273, 10), (6818,), (2273,))"
      ]
     },
     "execution_count": 11,
     "metadata": {},
     "output_type": "execute_result"
    }
   ],
   "source": [
    "features = df_ordinal.query('~Tenure.isna()').drop(['Tenure'] , axis=1)\n",
    "target = df_ordinal.query('~Tenure.isna()')['Tenure']\n",
    "features_train, features_valid, target_train, target_valid = train_test_split(\n",
    "    features, target, test_size=0.25, random_state=12345)\n",
    "features_train.shape, features_valid.shape, target_train.shape, target_valid.shape"
   ]
  },
  {
   "cell_type": "code",
   "execution_count": 12,
   "metadata": {},
   "outputs": [
    {
     "data": {
      "text/html": [
       "<div>\n",
       "<style scoped>\n",
       "    .dataframe tbody tr th:only-of-type {\n",
       "        vertical-align: middle;\n",
       "    }\n",
       "\n",
       "    .dataframe tbody tr th {\n",
       "        vertical-align: top;\n",
       "    }\n",
       "\n",
       "    .dataframe thead th {\n",
       "        text-align: right;\n",
       "    }\n",
       "</style>\n",
       "<table border=\"1\" class=\"dataframe\">\n",
       "  <thead>\n",
       "    <tr style=\"text-align: right;\">\n",
       "      <th></th>\n",
       "      <th>depth</th>\n",
       "      <th>n_estimators</th>\n",
       "      <th>rmse</th>\n",
       "    </tr>\n",
       "  </thead>\n",
       "  <tbody>\n",
       "    <tr>\n",
       "      <td>0</td>\n",
       "      <td>2</td>\n",
       "      <td>6</td>\n",
       "      <td>2.866548</td>\n",
       "    </tr>\n",
       "    <tr>\n",
       "      <td>1</td>\n",
       "      <td>2</td>\n",
       "      <td>8</td>\n",
       "      <td>2.865349</td>\n",
       "    </tr>\n",
       "    <tr>\n",
       "      <td>2</td>\n",
       "      <td>2</td>\n",
       "      <td>10</td>\n",
       "      <td>2.866548</td>\n",
       "    </tr>\n",
       "    <tr>\n",
       "      <td>3</td>\n",
       "      <td>2</td>\n",
       "      <td>12</td>\n",
       "      <td>2.866852</td>\n",
       "    </tr>\n",
       "    <tr>\n",
       "      <td>4</td>\n",
       "      <td>2</td>\n",
       "      <td>14</td>\n",
       "      <td>2.866167</td>\n",
       "    </tr>\n",
       "  </tbody>\n",
       "</table>\n",
       "</div>"
      ],
      "text/plain": [
       "   depth  n_estimators      rmse\n",
       "0      2             6  2.866548\n",
       "1      2             8  2.865349\n",
       "2      2            10  2.866548\n",
       "3      2            12  2.866852\n",
       "4      2            14  2.866167"
      ]
     },
     "execution_count": 12,
     "metadata": {},
     "output_type": "execute_result"
    }
   ],
   "source": [
    "scores = []\n",
    "for depth in 2,3,4:\n",
    "    for n_estimators in range(6, 31, 2):\n",
    "        model = RandomForestRegressor(n_estimators=n_estimators, max_depth=depth, random_state=12345)\n",
    "        model.fit(features_train, target_train)\n",
    "        predicted_valid = model.predict(features_valid)\n",
    "        mse = mean_squared_error(target_valid, predicted_valid)\n",
    "        row = [depth, n_estimators, mse ** 0.5]\n",
    "        scores.append(row)\n",
    "\n",
    "df_scores = pd.DataFrame(scores, columns=['depth', 'n_estimators', 'rmse'])\n",
    "df_scores.head()"
   ]
  },
  {
   "cell_type": "code",
   "execution_count": 13,
   "metadata": {},
   "outputs": [
    {
     "data": {
      "text/html": [
       "<div>\n",
       "<style scoped>\n",
       "    .dataframe tbody tr th:only-of-type {\n",
       "        vertical-align: middle;\n",
       "    }\n",
       "\n",
       "    .dataframe tbody tr th {\n",
       "        vertical-align: top;\n",
       "    }\n",
       "\n",
       "    .dataframe thead th {\n",
       "        text-align: right;\n",
       "    }\n",
       "</style>\n",
       "<table border=\"1\" class=\"dataframe\">\n",
       "  <thead>\n",
       "    <tr style=\"text-align: right;\">\n",
       "      <th></th>\n",
       "      <th>depth</th>\n",
       "      <th>n_estimators</th>\n",
       "      <th>rmse</th>\n",
       "    </tr>\n",
       "  </thead>\n",
       "  <tbody>\n",
       "    <tr>\n",
       "      <td>20</td>\n",
       "      <td>3</td>\n",
       "      <td>20</td>\n",
       "      <td>2.863751</td>\n",
       "    </tr>\n",
       "  </tbody>\n",
       "</table>\n",
       "</div>"
      ],
      "text/plain": [
       "    depth  n_estimators      rmse\n",
       "20      3            20  2.863751"
      ]
     },
     "execution_count": 13,
     "metadata": {},
     "output_type": "execute_result"
    }
   ],
   "source": [
    "# параметры для минимального rmse\n",
    "min_params = df_scores[df_scores.rmse == df_scores.rmse.min()]\n",
    "min_params"
   ]
  },
  {
   "cell_type": "markdown",
   "metadata": {},
   "source": [
    "Таким образом, для заполнения пропусков признака `Tenure` будем использовать модель случайного леса с параметрами: \n",
    "`max_depth = 3` и `n_estimators = 20`"
   ]
  },
  {
   "cell_type": "code",
   "execution_count": 14,
   "metadata": {},
   "outputs": [
    {
     "data": {
      "text/html": [
       "<div>\n",
       "<style scoped>\n",
       "    .dataframe tbody tr th:only-of-type {\n",
       "        vertical-align: middle;\n",
       "    }\n",
       "\n",
       "    .dataframe tbody tr th {\n",
       "        vertical-align: top;\n",
       "    }\n",
       "\n",
       "    .dataframe thead th {\n",
       "        text-align: right;\n",
       "    }\n",
       "</style>\n",
       "<table border=\"1\" class=\"dataframe\">\n",
       "  <thead>\n",
       "    <tr style=\"text-align: right;\">\n",
       "      <th></th>\n",
       "      <th>Tenure</th>\n",
       "    </tr>\n",
       "    <tr>\n",
       "      <th>RowNumber</th>\n",
       "      <th></th>\n",
       "    </tr>\n",
       "  </thead>\n",
       "  <tbody>\n",
       "    <tr>\n",
       "      <td>31</td>\n",
       "      <td>5</td>\n",
       "    </tr>\n",
       "    <tr>\n",
       "      <td>49</td>\n",
       "      <td>5</td>\n",
       "    </tr>\n",
       "    <tr>\n",
       "      <td>52</td>\n",
       "      <td>5</td>\n",
       "    </tr>\n",
       "    <tr>\n",
       "      <td>54</td>\n",
       "      <td>5</td>\n",
       "    </tr>\n",
       "    <tr>\n",
       "      <td>61</td>\n",
       "      <td>5</td>\n",
       "    </tr>\n",
       "  </tbody>\n",
       "</table>\n",
       "</div>"
      ],
      "text/plain": [
       "           Tenure\n",
       "RowNumber        \n",
       "31              5\n",
       "49              5\n",
       "52              5\n",
       "54              5\n",
       "61              5"
      ]
     },
     "execution_count": 14,
     "metadata": {},
     "output_type": "execute_result"
    }
   ],
   "source": [
    "tenure_isna = df_ordinal.query('Tenure.isna()').drop(['Tenure'] , axis=1)\n",
    "\n",
    "model = RandomForestRegressor(n_estimators=20, max_depth=3, random_state=12345)\n",
    "model.fit(features_train, target_train)\n",
    "predicted_tenure = pd.DataFrame(model.predict(tenure_isna), columns=['Tenure'], index=tenure_isna.index).round().astype('int')\n",
    "predicted_tenure.head()"
   ]
  },
  {
   "cell_type": "code",
   "execution_count": 15,
   "metadata": {},
   "outputs": [
    {
     "data": {
      "text/plain": [
       "5    907\n",
       "6      1\n",
       "4      1\n",
       "Name: Tenure, dtype: int64"
      ]
     },
     "execution_count": 15,
     "metadata": {},
     "output_type": "execute_result"
    }
   ],
   "source": [
    "predicted_tenure.Tenure.value_counts()"
   ]
  },
  {
   "cell_type": "markdown",
   "metadata": {},
   "source": [
    "#### Вывод:\n",
    "\n",
    "__Как показали результаты расчета, полученные значения почти не отличаются от медианы. Поэтому пропуски признака `Tenure` заполним медианой.__"
   ]
  },
  {
   "cell_type": "code",
   "execution_count": 16,
   "metadata": {},
   "outputs": [
    {
     "data": {
      "image/png": "[encoded data removed]",
      "text/plain": [
       "<Figure size 432x288 with 1 Axes>"
      ]
     },
     "metadata": {
      "needs_background": "light"
     },
     "output_type": "display_data"
    }
   ],
   "source": [
    "df_ordinal.loc[[row for row in predicted_tenure.index], 'Tenure'] = 5\n",
    "df_ordinal.Tenure.value_counts().plot(kind='bar');"
   ]
  },
  {
   "cell_type": "markdown",
   "metadata": {},
   "source": [
    "***"
   ]
  },
  {
   "cell_type": "markdown",
   "metadata": {},
   "source": [
    "# 2. Исследование задачи"
   ]
  },
  {
   "cell_type": "markdown",
   "metadata": {},
   "source": [
    "По условию задания нам нужно построить модель с предельно большим значением F1-меры, но не менее 0.59.  \n",
    "\n",
    "Для этого будем применять модели случайного леса и логистической регрессии.  "
   ]
  },
  {
   "cell_type": "code",
   "execution_count": 17,
   "metadata": {},
   "outputs": [
    {
     "data": {
      "text/plain": [
       "0    7963\n",
       "1    2037\n",
       "Name: Exited, dtype: int64"
      ]
     },
     "execution_count": 17,
     "metadata": {},
     "output_type": "execute_result"
    }
   ],
   "source": [
    "# ранее мы уже преобразовали категориальные признаки и получили \n",
    "# таблицу df_ordinal, которую и будем использовать далее\n",
    "\n",
    "# проверка целевого признака\n",
    "df_ordinal.Exited.value_counts()"
   ]
  },
  {
   "cell_type": "markdown",
   "metadata": {},
   "source": [
    "Определение из курса: __\"Классы не сбалансированны, когда их соотношение далеко от 1:1.\"__  \n",
    "\n",
    "Поскольку у нас количество одного класса почти в 4 раза больше другого, следовательно - классы не сбалансированные.  \n",
    "\n",
    "Далее обучим и исследуем модели на текущих данных. Если не получится достичь значения 0,59 метрики F1, то попытаемся улучшить качество модели, учитывая дисбаланс классов."
   ]
  },
  {
   "cell_type": "code",
   "execution_count": 18,
   "metadata": {},
   "outputs": [],
   "source": [
    "# разбивка данных на тренировочные, валидационные и тестовые\n",
    "\n",
    "features = df_ordinal.drop('Exited', axis=1)\n",
    "target = df_ordinal['Exited']\n",
    "\n",
    "features_train, features_test, target_train, target_test = train_test_split(features, target, \n",
    "                                                                            test_size=0.2, random_state=12345)\n",
    "features_train, features_valid, target_train, target_valid = train_test_split(features_train, target_train, \n",
    "                                                                              test_size=0.25, random_state=12345)"
   ]
  },
  {
   "cell_type": "code",
   "execution_count": 19,
   "metadata": {},
   "outputs": [
    {
     "data": {
      "text/html": [
       "<div>\n",
       "<style scoped>\n",
       "    .dataframe tbody tr th:only-of-type {\n",
       "        vertical-align: middle;\n",
       "    }\n",
       "\n",
       "    .dataframe tbody tr th {\n",
       "        vertical-align: top;\n",
       "    }\n",
       "\n",
       "    .dataframe thead th {\n",
       "        text-align: right;\n",
       "    }\n",
       "</style>\n",
       "<table border=\"1\" class=\"dataframe\">\n",
       "  <thead>\n",
       "    <tr style=\"text-align: right;\">\n",
       "      <th></th>\n",
       "      <th>type</th>\n",
       "      <th>shape</th>\n",
       "    </tr>\n",
       "  </thead>\n",
       "  <tbody>\n",
       "    <tr>\n",
       "      <td>0</td>\n",
       "      <td>тренировочные</td>\n",
       "      <td>((6000, 10), (6000,))</td>\n",
       "    </tr>\n",
       "    <tr>\n",
       "      <td>1</td>\n",
       "      <td>валидационные</td>\n",
       "      <td>((2000, 10), (2000,))</td>\n",
       "    </tr>\n",
       "    <tr>\n",
       "      <td>2</td>\n",
       "      <td>тестовые</td>\n",
       "      <td>((2000, 10), (2000,))</td>\n",
       "    </tr>\n",
       "  </tbody>\n",
       "</table>\n",
       "</div>"
      ],
      "text/plain": [
       "            type                  shape\n",
       "0  тренировочные  ((6000, 10), (6000,))\n",
       "1  валидационные  ((2000, 10), (2000,))\n",
       "2       тестовые  ((2000, 10), (2000,))"
      ]
     },
     "execution_count": 19,
     "metadata": {},
     "output_type": "execute_result"
    }
   ],
   "source": [
    "data_shapes = {'type':['тренировочные', 'валидационные', 'тестовые'], \n",
    "               'shape': [(features_train.shape, target_train.shape),\n",
    "                         (features_valid.shape, target_valid.shape),\n",
    "                         (features_test.shape, target_test.shape),\n",
    "                        ]\n",
    "              }\n",
    "pd.DataFrame(data_shapes)"
   ]
  },
  {
   "cell_type": "code",
   "execution_count": 20,
   "metadata": {},
   "outputs": [
    {
     "name": "stdout",
     "output_type": "stream",
     "text": [
      "CPU times: user 1min 9s, sys: 120 ms, total: 1min 9s\n",
      "Wall time: 1min 9s\n"
     ]
    }
   ],
   "source": [
    "%%time\n",
    "\n",
    "# Случайный лес. \n",
    "# Расчет моделей для четных max_depth от 2 до 30, n_estimators от 1 до 30 и выбор модели с наилучшим результатом\n",
    "\n",
    "scores = []\n",
    "for depth in range(2, 31, 2):\n",
    "    for n_estimators in range(1,31):\n",
    "        model = RandomForestClassifier(random_state=12345, n_estimators=n_estimators, max_depth=depth)\n",
    "        model.fit(features_train, target_train)\n",
    "        valid_prediction = model.predict(features_valid)\n",
    "        f1 = f1_score(target_valid, valid_prediction)\n",
    "\n",
    "        probabilities_valid = model.predict_proba(features_valid)\n",
    "        auc_roc = roc_auc_score(target_valid, probabilities_valid[:,1])\n",
    "        scores.append(['{}_{}'.format(depth, n_estimators), f1, auc_roc])\n",
    "   "
   ]
  },
  {
   "cell_type": "code",
   "execution_count": 21,
   "metadata": {},
   "outputs": [
    {
     "data": {
      "text/html": [
       "<div>\n",
       "<style scoped>\n",
       "    .dataframe tbody tr th:only-of-type {\n",
       "        vertical-align: middle;\n",
       "    }\n",
       "\n",
       "    .dataframe tbody tr th {\n",
       "        vertical-align: top;\n",
       "    }\n",
       "\n",
       "    .dataframe thead th {\n",
       "        text-align: right;\n",
       "    }\n",
       "</style>\n",
       "<table border=\"1\" class=\"dataframe\">\n",
       "  <thead>\n",
       "    <tr style=\"text-align: right;\">\n",
       "      <th></th>\n",
       "      <th>depth_n_estimators</th>\n",
       "      <th>f1_score</th>\n",
       "      <th>roc_auc_score</th>\n",
       "    </tr>\n",
       "  </thead>\n",
       "  <tbody>\n",
       "    <tr>\n",
       "      <td>322</td>\n",
       "      <td>22_23</td>\n",
       "      <td>0.563780</td>\n",
       "      <td>0.831526</td>\n",
       "    </tr>\n",
       "    <tr>\n",
       "      <td>316</td>\n",
       "      <td>22_17</td>\n",
       "      <td>0.562597</td>\n",
       "      <td>0.819244</td>\n",
       "    </tr>\n",
       "    <tr>\n",
       "      <td>315</td>\n",
       "      <td>22_16</td>\n",
       "      <td>0.561404</td>\n",
       "      <td>0.817116</td>\n",
       "    </tr>\n",
       "    <tr>\n",
       "      <td>208</td>\n",
       "      <td>14_29</td>\n",
       "      <td>0.560897</td>\n",
       "      <td>0.835953</td>\n",
       "    </tr>\n",
       "    <tr>\n",
       "      <td>260</td>\n",
       "      <td>18_21</td>\n",
       "      <td>0.560386</td>\n",
       "      <td>0.834216</td>\n",
       "    </tr>\n",
       "  </tbody>\n",
       "</table>\n",
       "</div>"
      ],
      "text/plain": [
       "    depth_n_estimators  f1_score  roc_auc_score\n",
       "322              22_23  0.563780       0.831526\n",
       "316              22_17  0.562597       0.819244\n",
       "315              22_16  0.561404       0.817116\n",
       "208              14_29  0.560897       0.835953\n",
       "260              18_21  0.560386       0.834216"
      ]
     },
     "execution_count": 21,
     "metadata": {},
     "output_type": "execute_result"
    }
   ],
   "source": [
    "scores_df = pd.DataFrame(scores, columns=['depth_n_estimators', 'f1_score', 'roc_auc_score'])\n",
    "scores_df.sort_values('f1_score', ascending=False).head()"
   ]
  },
  {
   "cell_type": "code",
   "execution_count": 22,
   "metadata": {},
   "outputs": [
    {
     "data": {
      "image/png": "[encoded data removed]",
      "text/plain": [
       "<Figure size 720x288 with 1 Axes>"
      ]
     },
     "metadata": {
      "needs_background": "light"
     },
     "output_type": "display_data"
    }
   ],
   "source": [
    "scores_df.plot(x='depth_n_estimators', grid=True, figsize=(10, 4));"
   ]
  },
  {
   "cell_type": "code",
   "execution_count": 23,
   "metadata": {},
   "outputs": [
    {
     "name": "stdout",
     "output_type": "stream",
     "text": [
      "LogisticRegression: f1_score = 0.10291, roc_auc_score = 0.68122\n"
     ]
    }
   ],
   "source": [
    "# логистическая регрессия\n",
    "import warnings\n",
    "warnings.filterwarnings('ignore')\n",
    "\n",
    "model = LogisticRegression(random_state=12345)\n",
    "model.fit(features_train, target_train)\n",
    "valid_prediction = model.predict(features_valid)\n",
    "f1 = f1_score(target_valid, valid_prediction)\n",
    "\n",
    "probabilities_valid = model.predict_proba(features_valid)\n",
    "auc_roc = roc_auc_score(target_valid, probabilities_valid[:,1])\n",
    "\n",
    "print('LogisticRegression: f1_score = {:.5f}, roc_auc_score = {:.5f}'.format(f1, auc_roc))\n"
   ]
  },
  {
   "cell_type": "markdown",
   "metadata": {},
   "source": [
    "#### Вывод:\n",
    "\n",
    "Максимальное значение `F1`-метрики (0,564) получилось для модели случайного леса с параметрами `max_depth=22` и `n_estimators=23`.  \n",
    "Но полученное значение не дотягивает до требуемого (0,59), поэтому попытаемся улучшить качество модели.\n",
    "***"
   ]
  },
  {
   "cell_type": "markdown",
   "metadata": {},
   "source": [
    "# 3. Борьба с дисбалансом"
   ]
  },
  {
   "cell_type": "markdown",
   "metadata": {},
   "source": [
    "Проведем следующие действия для борьбы с дисбалансом классов:\n",
    "\n",
    "- расчет моделей с учетом взвешивания классов;\n",
    "- увеличение выборки меньшего класса;\n",
    "- уменьшение выборки большего класса"
   ]
  },
  {
   "cell_type": "markdown",
   "metadata": {},
   "source": [
    "#### Расчет с учетом взвешенности классов"
   ]
  },
  {
   "cell_type": "code",
   "execution_count": 24,
   "metadata": {},
   "outputs": [
    {
     "name": "stdout",
     "output_type": "stream",
     "text": [
      "CPU times: user 1min 8s, sys: 156 ms, total: 1min 8s\n",
      "Wall time: 1min 9s\n"
     ]
    }
   ],
   "source": [
    "%%time\n",
    "\n",
    "# Случайный лес. \n",
    "\n",
    "scores = []\n",
    "for depth in range(2, 31, 2):\n",
    "    for n_estimators in range(1,31):\n",
    "        model = RandomForestClassifier(random_state=12345, n_estimators=n_estimators, max_depth=depth, class_weight='balanced')\n",
    "        model.fit(features_train, target_train)\n",
    "        valid_prediction = model.predict(features_valid)\n",
    "        f1 = f1_score(target_valid, valid_prediction)\n",
    "\n",
    "        probabilities_valid = model.predict_proba(features_valid)\n",
    "        auc_roc = roc_auc_score(target_valid, probabilities_valid[:, 1])\n",
    "        scores.append(['{}_{}'.format(depth, n_estimators), f1, auc_roc])"
   ]
  },
  {
   "cell_type": "code",
   "execution_count": 25,
   "metadata": {},
   "outputs": [
    {
     "data": {
      "text/html": [
       "<div>\n",
       "<style scoped>\n",
       "    .dataframe tbody tr th:only-of-type {\n",
       "        vertical-align: middle;\n",
       "    }\n",
       "\n",
       "    .dataframe tbody tr th {\n",
       "        vertical-align: top;\n",
       "    }\n",
       "\n",
       "    .dataframe thead th {\n",
       "        text-align: right;\n",
       "    }\n",
       "</style>\n",
       "<table border=\"1\" class=\"dataframe\">\n",
       "  <thead>\n",
       "    <tr style=\"text-align: right;\">\n",
       "      <th></th>\n",
       "      <th>depth_n_estimators</th>\n",
       "      <th>f1_score</th>\n",
       "      <th>roc_auc_score</th>\n",
       "    </tr>\n",
       "  </thead>\n",
       "  <tbody>\n",
       "    <tr>\n",
       "      <td>89</td>\n",
       "      <td>6_30</td>\n",
       "      <td>0.583691</td>\n",
       "      <td>0.852977</td>\n",
       "    </tr>\n",
       "    <tr>\n",
       "      <td>87</td>\n",
       "      <td>6_28</td>\n",
       "      <td>0.583514</td>\n",
       "      <td>0.853075</td>\n",
       "    </tr>\n",
       "    <tr>\n",
       "      <td>88</td>\n",
       "      <td>6_29</td>\n",
       "      <td>0.583514</td>\n",
       "      <td>0.853238</td>\n",
       "    </tr>\n",
       "    <tr>\n",
       "      <td>142</td>\n",
       "      <td>10_23</td>\n",
       "      <td>0.582375</td>\n",
       "      <td>0.843654</td>\n",
       "    </tr>\n",
       "    <tr>\n",
       "      <td>86</td>\n",
       "      <td>6_27</td>\n",
       "      <td>0.578603</td>\n",
       "      <td>0.852893</td>\n",
       "    </tr>\n",
       "  </tbody>\n",
       "</table>\n",
       "</div>"
      ],
      "text/plain": [
       "    depth_n_estimators  f1_score  roc_auc_score\n",
       "89                6_30  0.583691       0.852977\n",
       "87                6_28  0.583514       0.853075\n",
       "88                6_29  0.583514       0.853238\n",
       "142              10_23  0.582375       0.843654\n",
       "86                6_27  0.578603       0.852893"
      ]
     },
     "execution_count": 25,
     "metadata": {},
     "output_type": "execute_result"
    }
   ],
   "source": [
    "scores_df = pd.DataFrame(scores, columns=['depth_n_estimators', 'f1_score', 'roc_auc_score'])\n",
    "scores_df.sort_values('f1_score', ascending=False).head()"
   ]
  },
  {
   "cell_type": "code",
   "execution_count": 26,
   "metadata": {},
   "outputs": [
    {
     "data": {
      "image/png": "[encoded data removed]",
      "text/plain": [
       "<Figure size 720x288 with 1 Axes>"
      ]
     },
     "metadata": {
      "needs_background": "light"
     },
     "output_type": "display_data"
    }
   ],
   "source": [
    "scores_df.plot(x='depth_n_estimators', grid=True, figsize=(10, 4));"
   ]
  },
  {
   "cell_type": "code",
   "execution_count": 27,
   "metadata": {},
   "outputs": [
    {
     "name": "stdout",
     "output_type": "stream",
     "text": [
      "LogisticRegression: f1_score = 0.47276, roc_auc_score = 0.75955\n"
     ]
    }
   ],
   "source": [
    "# логистическая регрессия\n",
    "model = LogisticRegression(random_state=12345, class_weight='balanced')\n",
    "model.fit(features_train, target_train)\n",
    "valid_prediction = model.predict(features_valid)\n",
    "f1 = f1_score(target_valid, valid_prediction)\n",
    "\n",
    "probabilities_valid = model.predict_proba(features_valid)\n",
    "auc_roc = roc_auc_score(target_valid, probabilities_valid[:, 1])\n",
    "print('LogisticRegression: f1_score = {:.5f}, roc_auc_score = {:.5f}'.format(f1, auc_roc))\n"
   ]
  },
  {
   "cell_type": "markdown",
   "metadata": {},
   "source": [
    "Применение взвешенности классов привело к росту метрик и максимальная f1-мера достигла значения 0,584.  \n",
    "Но мы опять не достигли нужного нам порога в 0,59!  \n",
    "Продолжим улучшать качестов моделей другими способами.\n",
    "***"
   ]
  },
  {
   "cell_type": "markdown",
   "metadata": {},
   "source": [
    "#### Увеличение выборки"
   ]
  },
  {
   "cell_type": "code",
   "execution_count": 28,
   "metadata": {},
   "outputs": [],
   "source": [
    "def upsample(features, target, repeat):\n",
    "    features_zeros = features[target_train == 0]\n",
    "    features_ones = features[target_train == 1]\n",
    "    target_zeros = target[target_train == 0]\n",
    "    target_ones = target[target_train == 1]\n",
    "    features_upsampled = pd.concat([features_zeros] + [features_ones] * repeat)\n",
    "    target_upsampled = pd.concat([target_zeros] + [target_ones] * repeat)\n",
    "    return shuffle(features_upsampled), shuffle(target_upsampled)\n",
    "    "
   ]
  },
  {
   "cell_type": "code",
   "execution_count": 29,
   "metadata": {},
   "outputs": [
    {
     "name": "stdout",
     "output_type": "stream",
     "text": [
      "CPU times: user 5min 29s, sys: 504 ms, total: 5min 29s\n",
      "Wall time: 5min 34s\n"
     ]
    }
   ],
   "source": [
    "%%time\n",
    "# Случайный лес. \n",
    "scores = []\n",
    "for repeat in 2,3,4:\n",
    "    features_upsampled, target_upsampled = upsample(features_train, target_train, repeat)\n",
    "    for depth in range(2, 31, 2):\n",
    "        for n_estimators in range(1,31):\n",
    "            model = RandomForestClassifier(random_state=12345, n_estimators=n_estimators, max_depth=depth)\n",
    "            model.fit(features_upsampled, target_upsampled)\n",
    "            valid_prediction = model.predict(features_valid)\n",
    "            f1 = f1_score(target_valid, valid_prediction)\n",
    "\n",
    "            probabilities_valid = model.predict_proba(features_valid)\n",
    "            auc_roc = roc_auc_score(target_valid, probabilities_valid[:,1])\n",
    "            scores.append(['{}_{}_{}'.format(repeat, depth, n_estimators), f1, auc_roc])\n"
   ]
  },
  {
   "cell_type": "code",
   "execution_count": 30,
   "metadata": {},
   "outputs": [
    {
     "data": {
      "text/html": [
       "<div>\n",
       "<style scoped>\n",
       "    .dataframe tbody tr th:only-of-type {\n",
       "        vertical-align: middle;\n",
       "    }\n",
       "\n",
       "    .dataframe tbody tr th {\n",
       "        vertical-align: top;\n",
       "    }\n",
       "\n",
       "    .dataframe thead th {\n",
       "        text-align: right;\n",
       "    }\n",
       "</style>\n",
       "<table border=\"1\" class=\"dataframe\">\n",
       "  <thead>\n",
       "    <tr style=\"text-align: right;\">\n",
       "      <th></th>\n",
       "      <th>repeat_depth_estimators</th>\n",
       "      <th>f1_score</th>\n",
       "      <th>roc_auc_score</th>\n",
       "      <th>059</th>\n",
       "    </tr>\n",
       "  </thead>\n",
       "  <tbody>\n",
       "    <tr>\n",
       "      <td>1327</td>\n",
       "      <td>4_30_8</td>\n",
       "      <td>0.306138</td>\n",
       "      <td>0.517193</td>\n",
       "      <td>0.59</td>\n",
       "    </tr>\n",
       "    <tr>\n",
       "      <td>915</td>\n",
       "      <td>4_2_16</td>\n",
       "      <td>0.301991</td>\n",
       "      <td>0.498834</td>\n",
       "      <td>0.59</td>\n",
       "    </tr>\n",
       "    <tr>\n",
       "      <td>928</td>\n",
       "      <td>4_2_29</td>\n",
       "      <td>0.301887</td>\n",
       "      <td>0.509521</td>\n",
       "      <td>0.59</td>\n",
       "    </tr>\n",
       "    <tr>\n",
       "      <td>929</td>\n",
       "      <td>4_2_30</td>\n",
       "      <td>0.301384</td>\n",
       "      <td>0.500006</td>\n",
       "      <td>0.59</td>\n",
       "    </tr>\n",
       "    <tr>\n",
       "      <td>917</td>\n",
       "      <td>4_2_18</td>\n",
       "      <td>0.301018</td>\n",
       "      <td>0.495766</td>\n",
       "      <td>0.59</td>\n",
       "    </tr>\n",
       "  </tbody>\n",
       "</table>\n",
       "</div>"
      ],
      "text/plain": [
       "     repeat_depth_estimators  f1_score  roc_auc_score   059\n",
       "1327                  4_30_8  0.306138       0.517193  0.59\n",
       "915                   4_2_16  0.301991       0.498834  0.59\n",
       "928                   4_2_29  0.301887       0.509521  0.59\n",
       "929                   4_2_30  0.301384       0.500006  0.59\n",
       "917                   4_2_18  0.301018       0.495766  0.59"
      ]
     },
     "execution_count": 30,
     "metadata": {},
     "output_type": "execute_result"
    }
   ],
   "source": [
    "scores_df = pd.DataFrame(scores, columns=['repeat_depth_estimators', 'f1_score', 'roc_auc_score'])\n",
    "scores_df['059'] = 0.59\n",
    "scores_df.sort_values('f1_score', ascending=False).head()"
   ]
  },
  {
   "cell_type": "code",
   "execution_count": 31,
   "metadata": {},
   "outputs": [
    {
     "data": {
      "image/png": "[encoded data removed]",
      "text/plain": [
       "<Figure size 720x360 with 1 Axes>"
      ]
     },
     "metadata": {
      "needs_background": "light"
     },
     "output_type": "display_data"
    }
   ],
   "source": [
    "scores_df.plot(x='repeat_depth_estimators', grid=True, figsize=(10, 5));"
   ]
  },
  {
   "cell_type": "code",
   "execution_count": 32,
   "metadata": {},
   "outputs": [
    {
     "name": "stdout",
     "output_type": "stream",
     "text": [
      "LogisticRegression: \n",
      "repeat = 2 f1_score = 0.00000, roc_auc_score = 0.55913\n",
      "repeat = 3 f1_score = 0.00000, roc_auc_score = 0.48911\n",
      "repeat = 4 f1_score = 0.33375, roc_auc_score = 0.55797\n",
      "CPU times: user 312 ms, sys: 340 ms, total: 652 ms\n",
      "Wall time: 628 ms\n"
     ]
    }
   ],
   "source": [
    "%%time\n",
    "# логистическая регрессия\n",
    "\n",
    "print('LogisticRegression: ')\n",
    "for repeat in 2,3,4:\n",
    "    model = LogisticRegression(random_state=12345)\n",
    "    features_upsampled, target_upsampled = upsample(features_train, target_train, repeat)\n",
    "    model.fit(features_upsampled, target_upsampled)\n",
    "    valid_prediction = model.predict(features_valid)\n",
    "    f1 = f1_score(target_valid, valid_prediction)\n",
    "\n",
    "    probabilities_valid = model.predict_proba(features_valid)\n",
    "    auc_roc = roc_auc_score(target_valid, probabilities_valid[:, 1])\n",
    "    print('repeat = {} f1_score = {:.5f}, roc_auc_score = {:.5f}'.format(repeat, f1, auc_roc))\n"
   ]
  },
  {
   "cell_type": "markdown",
   "metadata": {},
   "source": [
    "#### Вывод\n",
    "Увеличение выборки приводит к снижению нашего показателя F1.  \n",
    "Попробуем способ с уменьшением выборки.\n",
    "***"
   ]
  },
  {
   "cell_type": "markdown",
   "metadata": {},
   "source": [
    "#### Уменьшение выборки"
   ]
  },
  {
   "cell_type": "code",
   "execution_count": 33,
   "metadata": {},
   "outputs": [],
   "source": [
    "def downsample(features, target, fraction):\n",
    "    features_zeros = features[target == 0]\n",
    "    features_ones = features[target == 1]\n",
    "    target_zeros = target[target == 0]\n",
    "    target_ones = target[target == 1]\n",
    "\n",
    "    features_zeros_downsampled = features_zeros.sample(frac=fraction, random_state=12345)\n",
    "    features_downsampled = pd.concat([features_zeros_downsampled] + [features_ones])\n",
    "    target_zeros_downsampled = target_zeros.sample(frac=fraction, random_state=12345)\n",
    "    target_downsampled = pd.concat([target_zeros_downsampled] + [target_ones])\n",
    "\n",
    "    features_downsampled, target_downsampled = shuffle(\n",
    "        features_downsampled, target_downsampled, random_state=12345)\n",
    "\n",
    "    return features_downsampled, target_downsampled"
   ]
  },
  {
   "cell_type": "code",
   "execution_count": 34,
   "metadata": {},
   "outputs": [
    {
     "name": "stdout",
     "output_type": "stream",
     "text": [
      "CPU times: user 2min 11s, sys: 408 ms, total: 2min 12s\n",
      "Wall time: 2min 13s\n"
     ]
    }
   ],
   "source": [
    "%%time\n",
    "# Случайный лес. \n",
    "scores = []\n",
    "for frac in 0.25, 0.4, 0.5:\n",
    "    features_downsampled, target_downsampled = downsample(features_train, target_train, frac)\n",
    "    for depth in range(2, 31, 2):\n",
    "        for n_estimators in range(1,31):\n",
    "            model = RandomForestClassifier(random_state=12345, n_estimators=n_estimators, max_depth=depth)\n",
    "            model.fit(features_downsampled, target_downsampled)\n",
    "            valid_prediction = model.predict(features_valid)\n",
    "            f1 = f1_score(target_valid, valid_prediction)\n",
    "\n",
    "            probabilities_valid = model.predict_proba(features_valid)\n",
    "            auc_roc = roc_auc_score(target_valid, probabilities_valid[:,1])\n",
    "            scores.append(['{}_{}_{}'.format(frac, depth, n_estimators), f1, auc_roc])"
   ]
  },
  {
   "cell_type": "code",
   "execution_count": 35,
   "metadata": {},
   "outputs": [
    {
     "data": {
      "text/html": [
       "<div>\n",
       "<style scoped>\n",
       "    .dataframe tbody tr th:only-of-type {\n",
       "        vertical-align: middle;\n",
       "    }\n",
       "\n",
       "    .dataframe tbody tr th {\n",
       "        vertical-align: top;\n",
       "    }\n",
       "\n",
       "    .dataframe thead th {\n",
       "        text-align: right;\n",
       "    }\n",
       "</style>\n",
       "<table border=\"1\" class=\"dataframe\">\n",
       "  <thead>\n",
       "    <tr style=\"text-align: right;\">\n",
       "      <th></th>\n",
       "      <th>frac_depth_estimators</th>\n",
       "      <th>f1_score</th>\n",
       "      <th>roc_auc_score</th>\n",
       "    </tr>\n",
       "  </thead>\n",
       "  <tbody>\n",
       "    <tr>\n",
       "      <td>1249</td>\n",
       "      <td>0.5_24_20</td>\n",
       "      <td>0.596026</td>\n",
       "      <td>0.826750</td>\n",
       "    </tr>\n",
       "    <tr>\n",
       "      <td>1279</td>\n",
       "      <td>0.5_26_20</td>\n",
       "      <td>0.596026</td>\n",
       "      <td>0.826750</td>\n",
       "    </tr>\n",
       "    <tr>\n",
       "      <td>1309</td>\n",
       "      <td>0.5_28_20</td>\n",
       "      <td>0.596026</td>\n",
       "      <td>0.826750</td>\n",
       "    </tr>\n",
       "    <tr>\n",
       "      <td>1339</td>\n",
       "      <td>0.5_30_20</td>\n",
       "      <td>0.596026</td>\n",
       "      <td>0.826750</td>\n",
       "    </tr>\n",
       "    <tr>\n",
       "      <td>1310</td>\n",
       "      <td>0.5_28_21</td>\n",
       "      <td>0.595208</td>\n",
       "      <td>0.825694</td>\n",
       "    </tr>\n",
       "  </tbody>\n",
       "</table>\n",
       "</div>"
      ],
      "text/plain": [
       "     frac_depth_estimators  f1_score  roc_auc_score\n",
       "1249             0.5_24_20  0.596026       0.826750\n",
       "1279             0.5_26_20  0.596026       0.826750\n",
       "1309             0.5_28_20  0.596026       0.826750\n",
       "1339             0.5_30_20  0.596026       0.826750\n",
       "1310             0.5_28_21  0.595208       0.825694"
      ]
     },
     "execution_count": 35,
     "metadata": {},
     "output_type": "execute_result"
    }
   ],
   "source": [
    "scores2_df = pd.DataFrame(scores, columns=['frac_depth_estimators', 'f1_score', 'roc_auc_score'])\n",
    "scores2_df.sort_values('f1_score', ascending=False).head()"
   ]
  },
  {
   "cell_type": "code",
   "execution_count": 36,
   "metadata": {},
   "outputs": [
    {
     "data": {
      "text/html": [
       "<div>\n",
       "<style scoped>\n",
       "    .dataframe tbody tr th:only-of-type {\n",
       "        vertical-align: middle;\n",
       "    }\n",
       "\n",
       "    .dataframe tbody tr th {\n",
       "        vertical-align: top;\n",
       "    }\n",
       "\n",
       "    .dataframe thead th {\n",
       "        text-align: right;\n",
       "    }\n",
       "</style>\n",
       "<table border=\"1\" class=\"dataframe\">\n",
       "  <thead>\n",
       "    <tr style=\"text-align: right;\">\n",
       "      <th></th>\n",
       "      <th>f1_score</th>\n",
       "      <th>roc_auc_score</th>\n",
       "    </tr>\n",
       "  </thead>\n",
       "  <tbody>\n",
       "    <tr>\n",
       "      <td>count</td>\n",
       "      <td>33.000000</td>\n",
       "      <td>33.000000</td>\n",
       "    </tr>\n",
       "    <tr>\n",
       "      <td>mean</td>\n",
       "      <td>0.593080</td>\n",
       "      <td>0.828860</td>\n",
       "    </tr>\n",
       "    <tr>\n",
       "      <td>std</td>\n",
       "      <td>0.001633</td>\n",
       "      <td>0.002986</td>\n",
       "    </tr>\n",
       "    <tr>\n",
       "      <td>min</td>\n",
       "      <td>0.590674</td>\n",
       "      <td>0.824584</td>\n",
       "    </tr>\n",
       "    <tr>\n",
       "      <td>25%</td>\n",
       "      <td>0.591837</td>\n",
       "      <td>0.825694</td>\n",
       "    </tr>\n",
       "    <tr>\n",
       "      <td>50%</td>\n",
       "      <td>0.592790</td>\n",
       "      <td>0.827844</td>\n",
       "    </tr>\n",
       "    <tr>\n",
       "      <td>75%</td>\n",
       "      <td>0.593377</td>\n",
       "      <td>0.831547</td>\n",
       "    </tr>\n",
       "    <tr>\n",
       "      <td>max</td>\n",
       "      <td>0.596026</td>\n",
       "      <td>0.832842</td>\n",
       "    </tr>\n",
       "  </tbody>\n",
       "</table>\n",
       "</div>"
      ],
      "text/plain": [
       "        f1_score  roc_auc_score\n",
       "count  33.000000      33.000000\n",
       "mean    0.593080       0.828860\n",
       "std     0.001633       0.002986\n",
       "min     0.590674       0.824584\n",
       "25%     0.591837       0.825694\n",
       "50%     0.592790       0.827844\n",
       "75%     0.593377       0.831547\n",
       "max     0.596026       0.832842"
      ]
     },
     "execution_count": 36,
     "metadata": {},
     "output_type": "execute_result"
    }
   ],
   "source": [
    "scores2_df.query('f1_score >= 0.59').describe()"
   ]
  },
  {
   "cell_type": "code",
   "execution_count": 37,
   "metadata": {},
   "outputs": [
    {
     "data": {
      "image/png": "[encoded data removed]",
      "text/plain": [
       "<Figure size 720x360 with 1 Axes>"
      ]
     },
     "metadata": {
      "needs_background": "light"
     },
     "output_type": "display_data"
    }
   ],
   "source": [
    "scores2_df['059'] = 0.59\n",
    "scores2_df.plot(x='frac_depth_estimators', grid=True, figsize=(10, 5));"
   ]
  },
  {
   "cell_type": "markdown",
   "metadata": {},
   "source": [
    "Итак, мы получили модели, при которых метрика f1-мера получается больше 0.59.  \n",
    "\n",
    "На диаграмме показана линия значения 0.59 и значений f1-меры для разных параметров fraction для уменьшения выборки, а также параметров max_depth и n_estimators для алгоритма случайного дерева.  \n",
    "\n",
    "Количество моделей, у которых f1-мера больше 0.59, более тридцати.  \n",
    "Все они были получены при уменьшении трениновочной выборки в 2 раза (fraction = 0.5).  \n",
    "\n",
    "Максимальное значение f1-меры равна 0.596026 при max_depth=24 и n_estimators=20.\n",
    "\n",
    "Можно на этом и остановиться, но разберем еще модель логистической регрессии.\n"
   ]
  },
  {
   "cell_type": "code",
   "execution_count": 38,
   "metadata": {},
   "outputs": [
    {
     "name": "stdout",
     "output_type": "stream",
     "text": [
      "LogisticRegression: \n",
      "repeat = 4 f1_score = 0.10291, roc_auc_score = 0.68122\n",
      "repeat = 4 f1_score = 0.10291, roc_auc_score = 0.68122\n",
      "repeat = 4 f1_score = 0.10291, roc_auc_score = 0.68122\n"
     ]
    }
   ],
   "source": [
    "# логистическая регрессия\n",
    "\n",
    "print('LogisticRegression: ')\n",
    "for frac in 0.25, 0.4, 0.5:\n",
    "    model = LogisticRegression(random_state=12345)\n",
    "    features_downsampled, target_downsampled = downsample(features_train, target_train, frac)\n",
    "\n",
    "    model.fit(features_train, target_train)\n",
    "    valid_prediction = model.predict(features_valid)\n",
    "    f1 = f1_score(target_valid, valid_prediction)\n",
    "\n",
    "    probabilities_valid = model.predict_proba(features_valid)\n",
    "    auc_roc = roc_auc_score(target_valid, probabilities_valid[:, 1])\n",
    "    print('repeat = {} f1_score = {:.5f}, roc_auc_score = {:.5f}'.format(repeat, f1, auc_roc))\n"
   ]
  },
  {
   "cell_type": "markdown",
   "metadata": {},
   "source": [
    "Качество модели никак не улучшается на алгоритме логистической регрессии при уменьшении выборки на тренировочных данных.  \n",
    "\n",
    "### Вывод:\n",
    "\n",
    "Для борьбы с дисбалансом классов были использованы следующие методы:  \n",
    "- учет взвешенности классов;\n",
    "- увеличение выборки меньшего класса;\n",
    "- уменьшение выборки большего класса.\n",
    "\n",
    "При этом наибольший прирост показателя f1-мера были достигнут при применении последнего способа - уменьшение выборки в 2 раза - на алгоритмах случайного леса.  \n",
    "При этом мы выявили параметры нескольких моделей, при которых метрика f1 превышает заданный нам порог 0,59.\n",
    "Далее проведем тестирование на этих моделях.\n",
    "***"
   ]
  },
  {
   "cell_type": "markdown",
   "metadata": {},
   "source": [
    "# 4. Тестирование модели"
   ]
  },
  {
   "cell_type": "code",
   "execution_count": 39,
   "metadata": {},
   "outputs": [
    {
     "data": {
      "text/html": [
       "<div>\n",
       "<style scoped>\n",
       "    .dataframe tbody tr th:only-of-type {\n",
       "        vertical-align: middle;\n",
       "    }\n",
       "\n",
       "    .dataframe tbody tr th {\n",
       "        vertical-align: top;\n",
       "    }\n",
       "\n",
       "    .dataframe thead th {\n",
       "        text-align: right;\n",
       "    }\n",
       "</style>\n",
       "<table border=\"1\" class=\"dataframe\">\n",
       "  <thead>\n",
       "    <tr style=\"text-align: right;\">\n",
       "      <th></th>\n",
       "      <th>frac_depth_estimators</th>\n",
       "      <th>f1_score</th>\n",
       "      <th>roc_auc_score</th>\n",
       "      <th>059</th>\n",
       "      <th>max_depth</th>\n",
       "      <th>n_estimators</th>\n",
       "    </tr>\n",
       "  </thead>\n",
       "  <tbody>\n",
       "    <tr>\n",
       "      <td>1219</td>\n",
       "      <td>0.5_22_20</td>\n",
       "      <td>0.591327</td>\n",
       "      <td>0.825685</td>\n",
       "      <td>0.59</td>\n",
       "      <td>22</td>\n",
       "      <td>20</td>\n",
       "    </tr>\n",
       "    <tr>\n",
       "      <td>1221</td>\n",
       "      <td>0.5_22_22</td>\n",
       "      <td>0.592885</td>\n",
       "      <td>0.824584</td>\n",
       "      <td>0.59</td>\n",
       "      <td>22</td>\n",
       "      <td>22</td>\n",
       "    </tr>\n",
       "    <tr>\n",
       "      <td>1227</td>\n",
       "      <td>0.5_22_28</td>\n",
       "      <td>0.592593</td>\n",
       "      <td>0.831008</td>\n",
       "      <td>0.59</td>\n",
       "      <td>22</td>\n",
       "      <td>28</td>\n",
       "    </tr>\n",
       "    <tr>\n",
       "      <td>1248</td>\n",
       "      <td>0.5_24_19</td>\n",
       "      <td>0.591837</td>\n",
       "      <td>0.825430</td>\n",
       "      <td>0.59</td>\n",
       "      <td>24</td>\n",
       "      <td>19</td>\n",
       "    </tr>\n",
       "    <tr>\n",
       "      <td>1249</td>\n",
       "      <td>0.5_24_20</td>\n",
       "      <td>0.596026</td>\n",
       "      <td>0.826750</td>\n",
       "      <td>0.59</td>\n",
       "      <td>24</td>\n",
       "      <td>20</td>\n",
       "    </tr>\n",
       "  </tbody>\n",
       "</table>\n",
       "</div>"
      ],
      "text/plain": [
       "     frac_depth_estimators  f1_score  roc_auc_score   059  max_depth  \\\n",
       "1219             0.5_22_20  0.591327       0.825685  0.59         22   \n",
       "1221             0.5_22_22  0.592885       0.824584  0.59         22   \n",
       "1227             0.5_22_28  0.592593       0.831008  0.59         22   \n",
       "1248             0.5_24_19  0.591837       0.825430  0.59         24   \n",
       "1249             0.5_24_20  0.596026       0.826750  0.59         24   \n",
       "\n",
       "      n_estimators  \n",
       "1219            20  \n",
       "1221            22  \n",
       "1227            28  \n",
       "1248            19  \n",
       "1249            20  "
      ]
     },
     "execution_count": 39,
     "metadata": {},
     "output_type": "execute_result"
    }
   ],
   "source": [
    "# оставим в таблице только те модели, у которых f1 более 0,59\n",
    "scores_059 = scores2_df.query('f1_score >= 0.59')\n",
    "\n",
    "scores_059['max_depth'] = scores_059['frac_depth_estimators'].apply(lambda x: x.split('_')[1])\n",
    "scores_059['n_estimators'] = scores_059['frac_depth_estimators'].apply(lambda x: x.split('_')[2])\n",
    "scores_059.max_depth = scores_059.max_depth.astype('int')\n",
    "scores_059.n_estimators = scores_059.n_estimators.astype('int')\n",
    "scores_059.head()"
   ]
  },
  {
   "cell_type": "code",
   "execution_count": 40,
   "metadata": {},
   "outputs": [
    {
     "data": {
      "text/html": [
       "<div>\n",
       "<style scoped>\n",
       "    .dataframe tbody tr th:only-of-type {\n",
       "        vertical-align: middle;\n",
       "    }\n",
       "\n",
       "    .dataframe tbody tr th {\n",
       "        vertical-align: top;\n",
       "    }\n",
       "\n",
       "    .dataframe thead th {\n",
       "        text-align: right;\n",
       "    }\n",
       "</style>\n",
       "<table border=\"1\" class=\"dataframe\">\n",
       "  <thead>\n",
       "    <tr style=\"text-align: right;\">\n",
       "      <th></th>\n",
       "      <th>frac_depth_estimators</th>\n",
       "      <th>f1_score</th>\n",
       "      <th>roc_auc_score</th>\n",
       "      <th>059</th>\n",
       "      <th>max_depth</th>\n",
       "      <th>n_estimators</th>\n",
       "      <th>f1_test</th>\n",
       "      <th>roc_test</th>\n",
       "    </tr>\n",
       "  </thead>\n",
       "  <tbody>\n",
       "    <tr>\n",
       "      <td>1219</td>\n",
       "      <td>0.5_22_20</td>\n",
       "      <td>0.591327</td>\n",
       "      <td>0.825685</td>\n",
       "      <td>0.59</td>\n",
       "      <td>22</td>\n",
       "      <td>20</td>\n",
       "      <td>0.607013</td>\n",
       "      <td>0.847246</td>\n",
       "    </tr>\n",
       "    <tr>\n",
       "      <td>1221</td>\n",
       "      <td>0.5_22_22</td>\n",
       "      <td>0.592885</td>\n",
       "      <td>0.824584</td>\n",
       "      <td>0.59</td>\n",
       "      <td>22</td>\n",
       "      <td>22</td>\n",
       "      <td>0.610706</td>\n",
       "      <td>0.847338</td>\n",
       "    </tr>\n",
       "    <tr>\n",
       "      <td>1227</td>\n",
       "      <td>0.5_22_28</td>\n",
       "      <td>0.592593</td>\n",
       "      <td>0.831008</td>\n",
       "      <td>0.59</td>\n",
       "      <td>22</td>\n",
       "      <td>28</td>\n",
       "      <td>0.610577</td>\n",
       "      <td>0.850701</td>\n",
       "    </tr>\n",
       "    <tr>\n",
       "      <td>1248</td>\n",
       "      <td>0.5_24_19</td>\n",
       "      <td>0.591837</td>\n",
       "      <td>0.825430</td>\n",
       "      <td>0.59</td>\n",
       "      <td>24</td>\n",
       "      <td>19</td>\n",
       "      <td>0.608092</td>\n",
       "      <td>0.848497</td>\n",
       "    </tr>\n",
       "    <tr>\n",
       "      <td>1249</td>\n",
       "      <td>0.5_24_20</td>\n",
       "      <td>0.596026</td>\n",
       "      <td>0.826750</td>\n",
       "      <td>0.59</td>\n",
       "      <td>24</td>\n",
       "      <td>20</td>\n",
       "      <td>0.613718</td>\n",
       "      <td>0.848735</td>\n",
       "    </tr>\n",
       "  </tbody>\n",
       "</table>\n",
       "</div>"
      ],
      "text/plain": [
       "     frac_depth_estimators  f1_score  roc_auc_score   059  max_depth  \\\n",
       "1219             0.5_22_20  0.591327       0.825685  0.59         22   \n",
       "1221             0.5_22_22  0.592885       0.824584  0.59         22   \n",
       "1227             0.5_22_28  0.592593       0.831008  0.59         22   \n",
       "1248             0.5_24_19  0.591837       0.825430  0.59         24   \n",
       "1249             0.5_24_20  0.596026       0.826750  0.59         24   \n",
       "\n",
       "      n_estimators   f1_test  roc_test  \n",
       "1219            20  0.607013  0.847246  \n",
       "1221            22  0.610706  0.847338  \n",
       "1227            28  0.610577  0.850701  \n",
       "1248            19  0.608092  0.848497  \n",
       "1249            20  0.613718  0.848735  "
      ]
     },
     "execution_count": 40,
     "metadata": {},
     "output_type": "execute_result"
    }
   ],
   "source": [
    "# исследование на тестовых данных\n",
    "\n",
    "f1_score_for_test = []\n",
    "for idx in scores_059.index:\n",
    "    n_estim = scores_059.loc[idx, 'n_estimators']\n",
    "    depth = scores_059.loc[idx, 'max_depth']\n",
    "    model = RandomForestClassifier(random_state=12345, n_estimators=n_estim, max_depth=depth)\n",
    "    model.fit(features_downsampled, target_downsampled)\n",
    "    valid_prediction = model.predict(features_test)\n",
    "    f1 = f1_score(target_test, valid_prediction)\n",
    "    probabilities_valid = model.predict_proba(features_test)\n",
    "    auc_roc = roc_auc_score(target_test, probabilities_valid[:, 1])\n",
    "\n",
    "    f1_score_for_test.append([f1, auc_roc])\n",
    "\n",
    "scores_059 = scores_059.join(pd.DataFrame(f1_score_for_test, \n",
    "                                          columns=['f1_test', 'roc_test'], \n",
    "                                          index=scores_059.index))\n",
    "scores_059.head()    "
   ]
  },
  {
   "cell_type": "code",
   "execution_count": 41,
   "metadata": {},
   "outputs": [
    {
     "data": {
      "text/html": [
       "<div>\n",
       "<style scoped>\n",
       "    .dataframe tbody tr th:only-of-type {\n",
       "        vertical-align: middle;\n",
       "    }\n",
       "\n",
       "    .dataframe tbody tr th {\n",
       "        vertical-align: top;\n",
       "    }\n",
       "\n",
       "    .dataframe thead th {\n",
       "        text-align: right;\n",
       "    }\n",
       "</style>\n",
       "<table border=\"1\" class=\"dataframe\">\n",
       "  <thead>\n",
       "    <tr style=\"text-align: right;\">\n",
       "      <th></th>\n",
       "      <th>f1_score</th>\n",
       "      <th>roc_auc_score</th>\n",
       "      <th>059</th>\n",
       "      <th>max_depth</th>\n",
       "      <th>n_estimators</th>\n",
       "      <th>f1_test</th>\n",
       "      <th>roc_test</th>\n",
       "    </tr>\n",
       "  </thead>\n",
       "  <tbody>\n",
       "    <tr>\n",
       "      <td>count</td>\n",
       "      <td>33.000000</td>\n",
       "      <td>33.000000</td>\n",
       "      <td>33.00</td>\n",
       "      <td>33.000000</td>\n",
       "      <td>33.000000</td>\n",
       "      <td>33.000000</td>\n",
       "      <td>33.000000</td>\n",
       "    </tr>\n",
       "    <tr>\n",
       "      <td>mean</td>\n",
       "      <td>0.593080</td>\n",
       "      <td>0.828860</td>\n",
       "      <td>0.59</td>\n",
       "      <td>26.727273</td>\n",
       "      <td>23.575758</td>\n",
       "      <td>0.613010</td>\n",
       "      <td>0.849007</td>\n",
       "    </tr>\n",
       "    <tr>\n",
       "      <td>std</td>\n",
       "      <td>0.001633</td>\n",
       "      <td>0.002986</td>\n",
       "      <td>0.00</td>\n",
       "      <td>2.589314</td>\n",
       "      <td>3.509187</td>\n",
       "      <td>0.004679</td>\n",
       "      <td>0.001342</td>\n",
       "    </tr>\n",
       "    <tr>\n",
       "      <td>min</td>\n",
       "      <td>0.590674</td>\n",
       "      <td>0.824584</td>\n",
       "      <td>0.59</td>\n",
       "      <td>22.000000</td>\n",
       "      <td>19.000000</td>\n",
       "      <td>0.605042</td>\n",
       "      <td>0.847246</td>\n",
       "    </tr>\n",
       "    <tr>\n",
       "      <td>25%</td>\n",
       "      <td>0.591837</td>\n",
       "      <td>0.825694</td>\n",
       "      <td>0.59</td>\n",
       "      <td>24.000000</td>\n",
       "      <td>20.000000</td>\n",
       "      <td>0.610577</td>\n",
       "      <td>0.848079</td>\n",
       "    </tr>\n",
       "    <tr>\n",
       "      <td>50%</td>\n",
       "      <td>0.592790</td>\n",
       "      <td>0.827844</td>\n",
       "      <td>0.59</td>\n",
       "      <td>26.000000</td>\n",
       "      <td>23.000000</td>\n",
       "      <td>0.612245</td>\n",
       "      <td>0.848562</td>\n",
       "    </tr>\n",
       "    <tr>\n",
       "      <td>75%</td>\n",
       "      <td>0.593377</td>\n",
       "      <td>0.831547</td>\n",
       "      <td>0.59</td>\n",
       "      <td>28.000000</td>\n",
       "      <td>26.000000</td>\n",
       "      <td>0.615741</td>\n",
       "      <td>0.848844</td>\n",
       "    </tr>\n",
       "    <tr>\n",
       "      <td>max</td>\n",
       "      <td>0.596026</td>\n",
       "      <td>0.832842</td>\n",
       "      <td>0.59</td>\n",
       "      <td>30.000000</td>\n",
       "      <td>30.000000</td>\n",
       "      <td>0.620047</td>\n",
       "      <td>0.851894</td>\n",
       "    </tr>\n",
       "  </tbody>\n",
       "</table>\n",
       "</div>"
      ],
      "text/plain": [
       "        f1_score  roc_auc_score    059  max_depth  n_estimators    f1_test  \\\n",
       "count  33.000000      33.000000  33.00  33.000000     33.000000  33.000000   \n",
       "mean    0.593080       0.828860   0.59  26.727273     23.575758   0.613010   \n",
       "std     0.001633       0.002986   0.00   2.589314      3.509187   0.004679   \n",
       "min     0.590674       0.824584   0.59  22.000000     19.000000   0.605042   \n",
       "25%     0.591837       0.825694   0.59  24.000000     20.000000   0.610577   \n",
       "50%     0.592790       0.827844   0.59  26.000000     23.000000   0.612245   \n",
       "75%     0.593377       0.831547   0.59  28.000000     26.000000   0.615741   \n",
       "max     0.596026       0.832842   0.59  30.000000     30.000000   0.620047   \n",
       "\n",
       "        roc_test  \n",
       "count  33.000000  \n",
       "mean    0.849007  \n",
       "std     0.001342  \n",
       "min     0.847246  \n",
       "25%     0.848079  \n",
       "50%     0.848562  \n",
       "75%     0.848844  \n",
       "max     0.851894  "
      ]
     },
     "execution_count": 41,
     "metadata": {},
     "output_type": "execute_result"
    }
   ],
   "source": [
    "scores_059.describe()"
   ]
  },
  {
   "cell_type": "code",
   "execution_count": 42,
   "metadata": {},
   "outputs": [
    {
     "data": {
      "text/html": [
       "<div>\n",
       "<style scoped>\n",
       "    .dataframe tbody tr th:only-of-type {\n",
       "        vertical-align: middle;\n",
       "    }\n",
       "\n",
       "    .dataframe tbody tr th {\n",
       "        vertical-align: top;\n",
       "    }\n",
       "\n",
       "    .dataframe thead th {\n",
       "        text-align: right;\n",
       "    }\n",
       "</style>\n",
       "<table border=\"1\" class=\"dataframe\">\n",
       "  <thead>\n",
       "    <tr style=\"text-align: right;\">\n",
       "      <th></th>\n",
       "      <th>frac_depth_estimators</th>\n",
       "      <th>f1_score</th>\n",
       "      <th>roc_auc_score</th>\n",
       "      <th>059</th>\n",
       "      <th>max_depth</th>\n",
       "      <th>n_estimators</th>\n",
       "      <th>f1_test</th>\n",
       "      <th>roc_test</th>\n",
       "    </tr>\n",
       "  </thead>\n",
       "  <tbody>\n",
       "    <tr>\n",
       "      <td>1254</td>\n",
       "      <td>0.5_24_25</td>\n",
       "      <td>0.593068</td>\n",
       "      <td>0.831486</td>\n",
       "      <td>0.59</td>\n",
       "      <td>24</td>\n",
       "      <td>25</td>\n",
       "      <td>0.620047</td>\n",
       "      <td>0.848562</td>\n",
       "    </tr>\n",
       "    <tr>\n",
       "      <td>1284</td>\n",
       "      <td>0.5_26_25</td>\n",
       "      <td>0.593068</td>\n",
       "      <td>0.831486</td>\n",
       "      <td>0.59</td>\n",
       "      <td>26</td>\n",
       "      <td>25</td>\n",
       "      <td>0.620047</td>\n",
       "      <td>0.848562</td>\n",
       "    </tr>\n",
       "    <tr>\n",
       "      <td>1314</td>\n",
       "      <td>0.5_28_25</td>\n",
       "      <td>0.593068</td>\n",
       "      <td>0.831486</td>\n",
       "      <td>0.59</td>\n",
       "      <td>28</td>\n",
       "      <td>25</td>\n",
       "      <td>0.620047</td>\n",
       "      <td>0.848562</td>\n",
       "    </tr>\n",
       "    <tr>\n",
       "      <td>1344</td>\n",
       "      <td>0.5_30_25</td>\n",
       "      <td>0.593068</td>\n",
       "      <td>0.831486</td>\n",
       "      <td>0.59</td>\n",
       "      <td>30</td>\n",
       "      <td>25</td>\n",
       "      <td>0.620047</td>\n",
       "      <td>0.848562</td>\n",
       "    </tr>\n",
       "  </tbody>\n",
       "</table>\n",
       "</div>"
      ],
      "text/plain": [
       "     frac_depth_estimators  f1_score  roc_auc_score   059  max_depth  \\\n",
       "1254             0.5_24_25  0.593068       0.831486  0.59         24   \n",
       "1284             0.5_26_25  0.593068       0.831486  0.59         26   \n",
       "1314             0.5_28_25  0.593068       0.831486  0.59         28   \n",
       "1344             0.5_30_25  0.593068       0.831486  0.59         30   \n",
       "\n",
       "      n_estimators   f1_test  roc_test  \n",
       "1254            25  0.620047  0.848562  \n",
       "1284            25  0.620047  0.848562  \n",
       "1314            25  0.620047  0.848562  \n",
       "1344            25  0.620047  0.848562  "
      ]
     },
     "execution_count": 42,
     "metadata": {},
     "output_type": "execute_result"
    }
   ],
   "source": [
    "# параметрый для максимального значения f1\n",
    "max_score = scores_059[scores_059['f1_test'] == scores_059['f1_test'].max()]\n",
    "max_score"
   ]
  },
  {
   "cell_type": "code",
   "execution_count": 43,
   "metadata": {},
   "outputs": [
    {
     "data": {
      "image/png": "[encoded data removed]",
      "text/plain": [
       "<Figure size 720x360 with 1 Axes>"
      ]
     },
     "metadata": {
      "needs_background": "light"
     },
     "output_type": "display_data"
    }
   ],
   "source": [
    "scores_059[['frac_depth_estimators', 'f1_score', '059','f1_test']].plot(x='frac_depth_estimators', \n",
    "                                                                        grid=True, figsize=(10, 5));"
   ]
  },
  {
   "cell_type": "markdown",
   "metadata": {},
   "source": [
    "На выбранных моделях тестовые данные показали даже лучшие значения метрики f1. А максимальное значение было достигнуто сразу на 4 моделях и составило 0,62.  \n",
    "\n",
    "При этом максимальные значения метрики AUC-ROC достигается совсем на других моделях. Но разница незначительная.   \n",
    "Рассмотрим сравнительную диаграмму."
   ]
  },
  {
   "cell_type": "code",
   "execution_count": 44,
   "metadata": {},
   "outputs": [
    {
     "data": {
      "text/html": [
       "<div>\n",
       "<style scoped>\n",
       "    .dataframe tbody tr th:only-of-type {\n",
       "        vertical-align: middle;\n",
       "    }\n",
       "\n",
       "    .dataframe tbody tr th {\n",
       "        vertical-align: top;\n",
       "    }\n",
       "\n",
       "    .dataframe thead th {\n",
       "        text-align: right;\n",
       "    }\n",
       "</style>\n",
       "<table border=\"1\" class=\"dataframe\">\n",
       "  <thead>\n",
       "    <tr style=\"text-align: right;\">\n",
       "      <th></th>\n",
       "      <th>frac_depth_estimators</th>\n",
       "      <th>f1_score</th>\n",
       "      <th>roc_auc_score</th>\n",
       "      <th>059</th>\n",
       "      <th>max_depth</th>\n",
       "      <th>n_estimators</th>\n",
       "      <th>f1_test</th>\n",
       "      <th>roc_test</th>\n",
       "    </tr>\n",
       "  </thead>\n",
       "  <tbody>\n",
       "    <tr>\n",
       "      <td>1254</td>\n",
       "      <td>0.5_24_25</td>\n",
       "      <td>0.593068</td>\n",
       "      <td>0.831486</td>\n",
       "      <td>0.59</td>\n",
       "      <td>24</td>\n",
       "      <td>25</td>\n",
       "      <td>0.620047</td>\n",
       "      <td>0.848562</td>\n",
       "    </tr>\n",
       "    <tr>\n",
       "      <td>1284</td>\n",
       "      <td>0.5_26_25</td>\n",
       "      <td>0.593068</td>\n",
       "      <td>0.831486</td>\n",
       "      <td>0.59</td>\n",
       "      <td>26</td>\n",
       "      <td>25</td>\n",
       "      <td>0.620047</td>\n",
       "      <td>0.848562</td>\n",
       "    </tr>\n",
       "    <tr>\n",
       "      <td>1314</td>\n",
       "      <td>0.5_28_25</td>\n",
       "      <td>0.593068</td>\n",
       "      <td>0.831486</td>\n",
       "      <td>0.59</td>\n",
       "      <td>28</td>\n",
       "      <td>25</td>\n",
       "      <td>0.620047</td>\n",
       "      <td>0.848562</td>\n",
       "    </tr>\n",
       "    <tr>\n",
       "      <td>1344</td>\n",
       "      <td>0.5_30_25</td>\n",
       "      <td>0.593068</td>\n",
       "      <td>0.831486</td>\n",
       "      <td>0.59</td>\n",
       "      <td>30</td>\n",
       "      <td>25</td>\n",
       "      <td>0.620047</td>\n",
       "      <td>0.848562</td>\n",
       "    </tr>\n",
       "    <tr>\n",
       "      <td>1289</td>\n",
       "      <td>0.5_26_30</td>\n",
       "      <td>0.592790</td>\n",
       "      <td>0.832583</td>\n",
       "      <td>0.59</td>\n",
       "      <td>26</td>\n",
       "      <td>30</td>\n",
       "      <td>0.612245</td>\n",
       "      <td>0.851894</td>\n",
       "    </tr>\n",
       "    <tr>\n",
       "      <td>1319</td>\n",
       "      <td>0.5_28_30</td>\n",
       "      <td>0.592790</td>\n",
       "      <td>0.832583</td>\n",
       "      <td>0.59</td>\n",
       "      <td>28</td>\n",
       "      <td>30</td>\n",
       "      <td>0.612245</td>\n",
       "      <td>0.851894</td>\n",
       "    </tr>\n",
       "    <tr>\n",
       "      <td>1349</td>\n",
       "      <td>0.5_30_30</td>\n",
       "      <td>0.592790</td>\n",
       "      <td>0.832583</td>\n",
       "      <td>0.59</td>\n",
       "      <td>30</td>\n",
       "      <td>30</td>\n",
       "      <td>0.612245</td>\n",
       "      <td>0.851894</td>\n",
       "    </tr>\n",
       "  </tbody>\n",
       "</table>\n",
       "</div>"
      ],
      "text/plain": [
       "     frac_depth_estimators  f1_score  roc_auc_score   059  max_depth  \\\n",
       "1254             0.5_24_25  0.593068       0.831486  0.59         24   \n",
       "1284             0.5_26_25  0.593068       0.831486  0.59         26   \n",
       "1314             0.5_28_25  0.593068       0.831486  0.59         28   \n",
       "1344             0.5_30_25  0.593068       0.831486  0.59         30   \n",
       "1289             0.5_26_30  0.592790       0.832583  0.59         26   \n",
       "1319             0.5_28_30  0.592790       0.832583  0.59         28   \n",
       "1349             0.5_30_30  0.592790       0.832583  0.59         30   \n",
       "\n",
       "      n_estimators   f1_test  roc_test  \n",
       "1254            25  0.620047  0.848562  \n",
       "1284            25  0.620047  0.848562  \n",
       "1314            25  0.620047  0.848562  \n",
       "1344            25  0.620047  0.848562  \n",
       "1289            30  0.612245  0.851894  \n",
       "1319            30  0.612245  0.851894  \n",
       "1349            30  0.612245  0.851894  "
      ]
     },
     "execution_count": 44,
     "metadata": {},
     "output_type": "execute_result"
    }
   ],
   "source": [
    "# добавим в max_score параметрый для максимального значения auc_roc\n",
    "\n",
    "max_score = pd.concat([max_score, scores_059[scores_059['roc_test'] == scores_059['roc_test'].max()]])\n",
    "max_score"
   ]
  },
  {
   "cell_type": "code",
   "execution_count": 45,
   "metadata": {},
   "outputs": [
    {
     "data": {
      "image/png": "[encoded data removed]",
      "text/plain": [
       "<Figure size 432x288 with 1 Axes>"
      ]
     },
     "metadata": {
      "needs_background": "light"
     },
     "output_type": "display_data"
    }
   ],
   "source": [
    "max_score[['frac_depth_estimators', 'f1_test', 'roc_test']]. \\\n",
    "    plot(x='frac_depth_estimators', kind='bar', grid=True, ylim=[0.5, 1.]);"
   ]
  },
  {
   "cell_type": "markdown",
   "metadata": {},
   "source": [
    "Последние 3 пары столбцов соответствуют максимальному значению auc_roc. Зрительно эти значения совсем не отличаются от значений auc_roc предыдущих 4 столбцов.  \n",
    "Можно сделать предположение, что метрики f1 и auc_roc почти равно значны. Следовательно, для измерения качества модели можно использовать ту или другую меру.\n",
    "\n",
    "Напоследок, приведем roc-кривую для одной из максимальных моделей. "
   ]
  },
  {
   "cell_type": "code",
   "execution_count": 46,
   "metadata": {},
   "outputs": [
    {
     "data": {
      "image/png": "[encoded data removed]",
      "text/plain": [
       "<Figure size 432x360 with 1 Axes>"
      ]
     },
     "metadata": {
      "needs_background": "light"
     },
     "output_type": "display_data"
    }
   ],
   "source": [
    "n_estim = scores_059.loc[max_score.index[0], 'n_estimators']\n",
    "depth = scores_059.loc[max_score.index[0], 'max_depth']\n",
    "model = RandomForestClassifier(random_state=12345, n_estimators=n_estim, max_depth=depth)\n",
    "model.fit(features_downsampled, target_downsampled)\n",
    "probabilities_valid = model.predict_proba(features_test)\n",
    "fpr, tpr, thresholds = roc_curve(target_test, probabilities_valid[:,1], pos_label=1)\n",
    "\n",
    "plt.figure(figsize=(6, 5))\n",
    "plt.plot(fpr, tpr, label='ROC curve')\n",
    "plt.plot([0, 1], [0, 1])\n",
    "plt.xlim([0.0, 1.0])\n",
    "plt.ylim([0.0, 1.05])\n",
    "plt.xlabel('False Positive Rate')\n",
    "plt.ylabel('True Positive Rate')\n",
    "plt.title('ROC curve')\n",
    "plt.grid(True)\n",
    "plt.show()"
   ]
  },
  {
   "cell_type": "code",
   "execution_count": null,
   "metadata": {},
   "outputs": [],
   "source": []
  }
 ],
 "metadata": {
  "kernelspec": {
   "display_name": "Python 3",
   "language": "python",
   "name": "python3"
  },
  "language_info": {
   "codemirror_mode": {
    "name": "ipython",
    "version": 3
   },
   "file_extension": ".py",
   "mimetype": "text/x-python",
   "name": "python",
   "nbconvert_exporter": "python",
   "pygments_lexer": "ipython3",
   "version": "3.7.5"
  },
  "varInspector": {
   "cols": {
    "lenName": 16,
    "lenType": 16,
    "lenVar": 40
   },
   "kernels_config": {
    "python": {
     "delete_cmd_postfix": "",
     "delete_cmd_prefix": "del ",
     "library": "var_list.py",
     "varRefreshCmd": "print(var_dic_list())"
    },
    "r": {
     "delete_cmd_postfix": ") ",
     "delete_cmd_prefix": "rm(",
     "library": "var_list.r",
     "varRefreshCmd": "cat(var_dic_list()) "
    }
   },
   "types_to_exclude": [
    "module",
    "function",
    "builtin_function_or_method",
    "instance",
    "_Feature"
   ],
   "window_display": false
  }
 },
 "nbformat": 4,
 "nbformat_minor": 2
}
