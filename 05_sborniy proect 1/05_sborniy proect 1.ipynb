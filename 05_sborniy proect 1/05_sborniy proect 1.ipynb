{
 "cells": [
  {
   "cell_type": "markdown",
   "metadata": {},
   "source": [
    "# Описание проекта\n",
    "\n",
    "Вы работаете в интернет-магазине, который продаёт по всему миру компьютерные игры.\n",
    "Из открытых источников доступны исторические данные о продажах игр, оценки пользователей и экспертов, жанры и\n",
    "платформы (например, Xbox или PlayStation).  \n",
    "\n",
    "Вам нужно выявить определяющие успешность игры закономерности.  \n",
    "Это позволит сделать ставку на потенциально популярный продукт и спланировать рекламные кампании.\n",
    "\n",
    "Перед вами данные до 2016 года. Представим, что сейчас декабрь 2016 г., и вы планируете кампанию на 2017-й.\n",
    "Нужно отработать принцип работы с данными."
   ]
  },
  {
   "cell_type": "markdown",
   "metadata": {},
   "source": [
    "__Описание данных__  \n",
    "\t`Name` — название игры  \n",
    "\t`Platform` — платформа  \n",
    "\t`Year_of_Release` — год выпуска  \n",
    "\t`Genre` — жанр игры  \n",
    "\t`NA_sales` — продажи в Северной Америке (миллионы долларов)  \n",
    "\t`EU_sales` — продажи в Европе (миллионы долларов)  \n",
    "\t`JP_sales` — продажи в Японии (миллионы долларов)  \n",
    "\t`Other_sales` — продажи в других странах (миллионы долларов)  \n",
    "\t`Critic_Score` — оценка критиков (максимум 100)  \n",
    "\t`User_Score` — оценка пользователей (максимум 10)  \n",
    "\t`Rating` — рейтинг от организации ESRB (англ. Entertainment Software Rating Board).\tЭта ассоциация определяет рейтинг компьютерных игр и присваивает им подходящую возрастную категорию.\n"
   ]
  },
  {
   "cell_type": "markdown",
   "metadata": {},
   "source": [
    "# Шаг 1. Открытие файла с данными и изучение общей информации"
   ]
  },
  {
   "cell_type": "code",
   "execution_count": 1,
   "metadata": {},
   "outputs": [
    {
     "data": {
      "text/html": [
       "<div>\n",
       "<style scoped>\n",
       "    .dataframe tbody tr th:only-of-type {\n",
       "        vertical-align: middle;\n",
       "    }\n",
       "\n",
       "    .dataframe tbody tr th {\n",
       "        vertical-align: top;\n",
       "    }\n",
       "\n",
       "    .dataframe thead th {\n",
       "        text-align: right;\n",
       "    }\n",
       "</style>\n",
       "<table border=\"1\" class=\"dataframe\">\n",
       "  <thead>\n",
       "    <tr style=\"text-align: right;\">\n",
       "      <th></th>\n",
       "      <th>Name</th>\n",
       "      <th>Platform</th>\n",
       "      <th>Year_of_Release</th>\n",
       "      <th>Genre</th>\n",
       "      <th>NA_sales</th>\n",
       "      <th>EU_sales</th>\n",
       "      <th>JP_sales</th>\n",
       "      <th>Other_sales</th>\n",
       "      <th>Critic_Score</th>\n",
       "      <th>User_Score</th>\n",
       "      <th>Rating</th>\n",
       "    </tr>\n",
       "  </thead>\n",
       "  <tbody>\n",
       "    <tr>\n",
       "      <td>0</td>\n",
       "      <td>Wii Sports</td>\n",
       "      <td>Wii</td>\n",
       "      <td>2006.0</td>\n",
       "      <td>Sports</td>\n",
       "      <td>41.36</td>\n",
       "      <td>28.96</td>\n",
       "      <td>3.77</td>\n",
       "      <td>8.45</td>\n",
       "      <td>76.0</td>\n",
       "      <td>8</td>\n",
       "      <td>E</td>\n",
       "    </tr>\n",
       "    <tr>\n",
       "      <td>1</td>\n",
       "      <td>Super Mario Bros.</td>\n",
       "      <td>NES</td>\n",
       "      <td>1985.0</td>\n",
       "      <td>Platform</td>\n",
       "      <td>29.08</td>\n",
       "      <td>3.58</td>\n",
       "      <td>6.81</td>\n",
       "      <td>0.77</td>\n",
       "      <td>NaN</td>\n",
       "      <td>NaN</td>\n",
       "      <td>NaN</td>\n",
       "    </tr>\n",
       "    <tr>\n",
       "      <td>2</td>\n",
       "      <td>Mario Kart Wii</td>\n",
       "      <td>Wii</td>\n",
       "      <td>2008.0</td>\n",
       "      <td>Racing</td>\n",
       "      <td>15.68</td>\n",
       "      <td>12.76</td>\n",
       "      <td>3.79</td>\n",
       "      <td>3.29</td>\n",
       "      <td>82.0</td>\n",
       "      <td>8.3</td>\n",
       "      <td>E</td>\n",
       "    </tr>\n",
       "    <tr>\n",
       "      <td>3</td>\n",
       "      <td>Wii Sports Resort</td>\n",
       "      <td>Wii</td>\n",
       "      <td>2009.0</td>\n",
       "      <td>Sports</td>\n",
       "      <td>15.61</td>\n",
       "      <td>10.93</td>\n",
       "      <td>3.28</td>\n",
       "      <td>2.95</td>\n",
       "      <td>80.0</td>\n",
       "      <td>8</td>\n",
       "      <td>E</td>\n",
       "    </tr>\n",
       "    <tr>\n",
       "      <td>4</td>\n",
       "      <td>Pokemon Red/Pokemon Blue</td>\n",
       "      <td>GB</td>\n",
       "      <td>1996.0</td>\n",
       "      <td>Role-Playing</td>\n",
       "      <td>11.27</td>\n",
       "      <td>8.89</td>\n",
       "      <td>10.22</td>\n",
       "      <td>1.00</td>\n",
       "      <td>NaN</td>\n",
       "      <td>NaN</td>\n",
       "      <td>NaN</td>\n",
       "    </tr>\n",
       "  </tbody>\n",
       "</table>\n",
       "</div>"
      ],
      "text/plain": [
       "                       Name Platform  Year_of_Release         Genre  NA_sales  \\\n",
       "0                Wii Sports      Wii           2006.0        Sports     41.36   \n",
       "1         Super Mario Bros.      NES           1985.0      Platform     29.08   \n",
       "2            Mario Kart Wii      Wii           2008.0        Racing     15.68   \n",
       "3         Wii Sports Resort      Wii           2009.0        Sports     15.61   \n",
       "4  Pokemon Red/Pokemon Blue       GB           1996.0  Role-Playing     11.27   \n",
       "\n",
       "   EU_sales  JP_sales  Other_sales  Critic_Score User_Score Rating  \n",
       "0     28.96      3.77         8.45          76.0          8      E  \n",
       "1      3.58      6.81         0.77           NaN        NaN    NaN  \n",
       "2     12.76      3.79         3.29          82.0        8.3      E  \n",
       "3     10.93      3.28         2.95          80.0          8      E  \n",
       "4      8.89     10.22         1.00           NaN        NaN    NaN  "
      ]
     },
     "execution_count": 1,
     "metadata": {},
     "output_type": "execute_result"
    }
   ],
   "source": [
    "import pandas as pd\n",
    "import numpy as np\n",
    "import matplotlib.pyplot as plt\n",
    "\n",
    "df = pd.read_csv('/datasets/games.csv')\n",
    "\n",
    "df.head()"
   ]
  },
  {
   "cell_type": "code",
   "execution_count": 2,
   "metadata": {},
   "outputs": [
    {
     "name": "stdout",
     "output_type": "stream",
     "text": [
      "<class 'pandas.core.frame.DataFrame'>\n",
      "RangeIndex: 16715 entries, 0 to 16714\n",
      "Data columns (total 12 columns):\n",
      "name               16713 non-null object\n",
      "platform           16715 non-null object\n",
      "year_of_release    16446 non-null float64\n",
      "genre              16713 non-null object\n",
      "na_sales           16715 non-null float64\n",
      "eu_sales           16715 non-null float64\n",
      "jp_sales           16715 non-null float64\n",
      "other_sales        16715 non-null float64\n",
      "critic_score       8137 non-null float64\n",
      "user_score         10014 non-null object\n",
      "rating             9949 non-null object\n",
      "sales_all          16715 non-null float64\n",
      "dtypes: float64(7), object(5)\n",
      "memory usage: 1.5+ MB\n"
     ]
    }
   ],
   "source": [
    "# приведение названия столбцов к нижнему регистру\n",
    "\n",
    "df.columns = df.columns.str.lower()\n",
    "df['sales_all'] = df['na_sales'] + df['eu_sales'] +df['jp_sales'] + df['other_sales']\n",
    "df.info()"
   ]
  },
  {
   "cell_type": "markdown",
   "metadata": {},
   "source": [
    "# Шаг 2. Подготовка данных"
   ]
  },
  {
   "cell_type": "markdown",
   "metadata": {},
   "source": [
    "#### Обработка пропусков"
   ]
  },
  {
   "cell_type": "code",
   "execution_count": 3,
   "metadata": {},
   "outputs": [
    {
     "data": {
      "text/plain": [
       "name                  2\n",
       "platform              0\n",
       "year_of_release     269\n",
       "genre                 2\n",
       "na_sales              0\n",
       "eu_sales              0\n",
       "jp_sales              0\n",
       "other_sales           0\n",
       "critic_score       8578\n",
       "user_score         6701\n",
       "rating             6766\n",
       "sales_all             0\n",
       "dtype: int64"
      ]
     },
     "execution_count": 3,
     "metadata": {},
     "output_type": "execute_result"
    }
   ],
   "source": [
    "df.isna().sum()"
   ]
  },
  {
   "cell_type": "code",
   "execution_count": 4,
   "metadata": {},
   "outputs": [
    {
     "data": {
      "text/html": [
       "<div>\n",
       "<style scoped>\n",
       "    .dataframe tbody tr th:only-of-type {\n",
       "        vertical-align: middle;\n",
       "    }\n",
       "\n",
       "    .dataframe tbody tr th {\n",
       "        vertical-align: top;\n",
       "    }\n",
       "\n",
       "    .dataframe thead th {\n",
       "        text-align: right;\n",
       "    }\n",
       "</style>\n",
       "<table border=\"1\" class=\"dataframe\">\n",
       "  <thead>\n",
       "    <tr style=\"text-align: right;\">\n",
       "      <th></th>\n",
       "      <th>name</th>\n",
       "      <th>platform</th>\n",
       "      <th>year_of_release</th>\n",
       "      <th>genre</th>\n",
       "      <th>na_sales</th>\n",
       "      <th>eu_sales</th>\n",
       "      <th>jp_sales</th>\n",
       "      <th>other_sales</th>\n",
       "      <th>critic_score</th>\n",
       "      <th>user_score</th>\n",
       "      <th>rating</th>\n",
       "      <th>sales_all</th>\n",
       "    </tr>\n",
       "  </thead>\n",
       "  <tbody>\n",
       "    <tr>\n",
       "      <td>659</td>\n",
       "      <td>NaN</td>\n",
       "      <td>GEN</td>\n",
       "      <td>1993.0</td>\n",
       "      <td>NaN</td>\n",
       "      <td>1.78</td>\n",
       "      <td>0.53</td>\n",
       "      <td>0.00</td>\n",
       "      <td>0.08</td>\n",
       "      <td>NaN</td>\n",
       "      <td>NaN</td>\n",
       "      <td>NaN</td>\n",
       "      <td>2.39</td>\n",
       "    </tr>\n",
       "    <tr>\n",
       "      <td>14244</td>\n",
       "      <td>NaN</td>\n",
       "      <td>GEN</td>\n",
       "      <td>1993.0</td>\n",
       "      <td>NaN</td>\n",
       "      <td>0.00</td>\n",
       "      <td>0.00</td>\n",
       "      <td>0.03</td>\n",
       "      <td>0.00</td>\n",
       "      <td>NaN</td>\n",
       "      <td>NaN</td>\n",
       "      <td>NaN</td>\n",
       "      <td>0.03</td>\n",
       "    </tr>\n",
       "  </tbody>\n",
       "</table>\n",
       "</div>"
      ],
      "text/plain": [
       "      name platform  year_of_release genre  na_sales  eu_sales  jp_sales  \\\n",
       "659    NaN      GEN           1993.0   NaN      1.78      0.53      0.00   \n",
       "14244  NaN      GEN           1993.0   NaN      0.00      0.00      0.03   \n",
       "\n",
       "       other_sales  critic_score user_score rating  sales_all  \n",
       "659           0.08           NaN        NaN    NaN       2.39  \n",
       "14244         0.00           NaN        NaN    NaN       0.03  "
      ]
     },
     "execution_count": 4,
     "metadata": {},
     "output_type": "execute_result"
    }
   ],
   "source": [
    "#Обработка пропусков в name\n",
    "\n",
    "df[df['name'].isna()]"
   ]
  },
  {
   "cell_type": "markdown",
   "metadata": {},
   "source": [
    "Примечательно, что в этих же записях существуют и пропуски поля genre (жанр).  \n",
    "\n",
    "Названия игр в нашем анализе не так важно, в отличие от всех остальдных данных.  \n",
    "Частично эти данные есть в этих записях и мы можем их использовать для некоторых видов анализа. Поэтому можем заполнить пропуски нейтральным значением Noname.  \n",
    "\n",
    "Поле genre мы используем в нашем исследовании, но, к сожалению, заполнить пропуски в этом поле не представляется возможным. Поэтому в дальнейших исследованиях с полем genre эти записи будем исключать."
   ]
  },
  {
   "cell_type": "code",
   "execution_count": 5,
   "metadata": {},
   "outputs": [],
   "source": [
    "df.name = df.name.fillna('Noname')"
   ]
  },
  {
   "cell_type": "code",
   "execution_count": 6,
   "metadata": {},
   "outputs": [
    {
     "data": {
      "text/html": [
       "<div>\n",
       "<style scoped>\n",
       "    .dataframe tbody tr th:only-of-type {\n",
       "        vertical-align: middle;\n",
       "    }\n",
       "\n",
       "    .dataframe tbody tr th {\n",
       "        vertical-align: top;\n",
       "    }\n",
       "\n",
       "    .dataframe thead th {\n",
       "        text-align: right;\n",
       "    }\n",
       "</style>\n",
       "<table border=\"1\" class=\"dataframe\">\n",
       "  <thead>\n",
       "    <tr style=\"text-align: right;\">\n",
       "      <th></th>\n",
       "      <th>name</th>\n",
       "      <th>platform</th>\n",
       "      <th>year_of_release</th>\n",
       "      <th>genre</th>\n",
       "      <th>na_sales</th>\n",
       "      <th>eu_sales</th>\n",
       "      <th>jp_sales</th>\n",
       "      <th>other_sales</th>\n",
       "      <th>critic_score</th>\n",
       "      <th>user_score</th>\n",
       "      <th>rating</th>\n",
       "      <th>sales_all</th>\n",
       "    </tr>\n",
       "  </thead>\n",
       "  <tbody>\n",
       "    <tr>\n",
       "      <td>183</td>\n",
       "      <td>Madden NFL 2004</td>\n",
       "      <td>PS2</td>\n",
       "      <td>NaN</td>\n",
       "      <td>Sports</td>\n",
       "      <td>4.26</td>\n",
       "      <td>0.26</td>\n",
       "      <td>0.01</td>\n",
       "      <td>0.71</td>\n",
       "      <td>94.0</td>\n",
       "      <td>8.5</td>\n",
       "      <td>E</td>\n",
       "      <td>5.24</td>\n",
       "    </tr>\n",
       "    <tr>\n",
       "      <td>377</td>\n",
       "      <td>FIFA Soccer 2004</td>\n",
       "      <td>PS2</td>\n",
       "      <td>NaN</td>\n",
       "      <td>Sports</td>\n",
       "      <td>0.59</td>\n",
       "      <td>2.36</td>\n",
       "      <td>0.04</td>\n",
       "      <td>0.51</td>\n",
       "      <td>84.0</td>\n",
       "      <td>6.4</td>\n",
       "      <td>E</td>\n",
       "      <td>3.50</td>\n",
       "    </tr>\n",
       "    <tr>\n",
       "      <td>456</td>\n",
       "      <td>LEGO Batman: The Videogame</td>\n",
       "      <td>Wii</td>\n",
       "      <td>NaN</td>\n",
       "      <td>Action</td>\n",
       "      <td>1.80</td>\n",
       "      <td>0.97</td>\n",
       "      <td>0.00</td>\n",
       "      <td>0.29</td>\n",
       "      <td>74.0</td>\n",
       "      <td>7.9</td>\n",
       "      <td>E10+</td>\n",
       "      <td>3.06</td>\n",
       "    </tr>\n",
       "    <tr>\n",
       "      <td>475</td>\n",
       "      <td>wwe Smackdown vs. Raw 2006</td>\n",
       "      <td>PS2</td>\n",
       "      <td>NaN</td>\n",
       "      <td>Fighting</td>\n",
       "      <td>1.57</td>\n",
       "      <td>1.02</td>\n",
       "      <td>0.00</td>\n",
       "      <td>0.41</td>\n",
       "      <td>NaN</td>\n",
       "      <td>NaN</td>\n",
       "      <td>NaN</td>\n",
       "      <td>3.00</td>\n",
       "    </tr>\n",
       "    <tr>\n",
       "      <td>609</td>\n",
       "      <td>Space Invaders</td>\n",
       "      <td>2600</td>\n",
       "      <td>NaN</td>\n",
       "      <td>Shooter</td>\n",
       "      <td>2.36</td>\n",
       "      <td>0.14</td>\n",
       "      <td>0.00</td>\n",
       "      <td>0.03</td>\n",
       "      <td>NaN</td>\n",
       "      <td>NaN</td>\n",
       "      <td>NaN</td>\n",
       "      <td>2.53</td>\n",
       "    </tr>\n",
       "  </tbody>\n",
       "</table>\n",
       "</div>"
      ],
      "text/plain": [
       "                           name platform  year_of_release     genre  na_sales  \\\n",
       "183             Madden NFL 2004      PS2              NaN    Sports      4.26   \n",
       "377            FIFA Soccer 2004      PS2              NaN    Sports      0.59   \n",
       "456  LEGO Batman: The Videogame      Wii              NaN    Action      1.80   \n",
       "475  wwe Smackdown vs. Raw 2006      PS2              NaN  Fighting      1.57   \n",
       "609              Space Invaders     2600              NaN   Shooter      2.36   \n",
       "\n",
       "     eu_sales  jp_sales  other_sales  critic_score user_score rating  \\\n",
       "183      0.26      0.01         0.71          94.0        8.5      E   \n",
       "377      2.36      0.04         0.51          84.0        6.4      E   \n",
       "456      0.97      0.00         0.29          74.0        7.9   E10+   \n",
       "475      1.02      0.00         0.41           NaN        NaN    NaN   \n",
       "609      0.14      0.00         0.03           NaN        NaN    NaN   \n",
       "\n",
       "     sales_all  \n",
       "183       5.24  \n",
       "377       3.50  \n",
       "456       3.06  \n",
       "475       3.00  \n",
       "609       2.53  "
      ]
     },
     "execution_count": 6,
     "metadata": {},
     "output_type": "execute_result"
    }
   ],
   "source": [
    "# обработка поля year_of_release\n",
    "\n",
    "df[df['year_of_release'].isna()].head()"
   ]
  },
  {
   "cell_type": "markdown",
   "metadata": {},
   "source": [
    "Не понятно, почему в этих случаях пропущен год релиза, но в некоторых играх мы видим год в названии игры. Мы можем выявить этот год и подставить в поле \"год релиза\".  \n",
    "\n",
    "Прочие игры без года выпуска удалять не будем, мы используем данные о продажах из этих записей в дальнейшем анализе."
   ]
  },
  {
   "cell_type": "code",
   "execution_count": 7,
   "metadata": {},
   "outputs": [
    {
     "data": {
      "text/html": [
       "<div>\n",
       "<style scoped>\n",
       "    .dataframe tbody tr th:only-of-type {\n",
       "        vertical-align: middle;\n",
       "    }\n",
       "\n",
       "    .dataframe tbody tr th {\n",
       "        vertical-align: top;\n",
       "    }\n",
       "\n",
       "    .dataframe thead th {\n",
       "        text-align: right;\n",
       "    }\n",
       "</style>\n",
       "<table border=\"1\" class=\"dataframe\">\n",
       "  <thead>\n",
       "    <tr style=\"text-align: right;\">\n",
       "      <th></th>\n",
       "      <th>name</th>\n",
       "      <th>platform</th>\n",
       "      <th>year_of_release</th>\n",
       "      <th>genre</th>\n",
       "      <th>na_sales</th>\n",
       "      <th>eu_sales</th>\n",
       "      <th>jp_sales</th>\n",
       "      <th>other_sales</th>\n",
       "      <th>critic_score</th>\n",
       "      <th>user_score</th>\n",
       "      <th>rating</th>\n",
       "      <th>sales_all</th>\n",
       "    </tr>\n",
       "  </thead>\n",
       "  <tbody>\n",
       "    <tr>\n",
       "      <td>183</td>\n",
       "      <td>Madden NFL 2004</td>\n",
       "      <td>PS2</td>\n",
       "      <td>NaN</td>\n",
       "      <td>Sports</td>\n",
       "      <td>4.26</td>\n",
       "      <td>0.26</td>\n",
       "      <td>0.01</td>\n",
       "      <td>0.71</td>\n",
       "      <td>94.0</td>\n",
       "      <td>8.5</td>\n",
       "      <td>E</td>\n",
       "      <td>5.24</td>\n",
       "    </tr>\n",
       "    <tr>\n",
       "      <td>377</td>\n",
       "      <td>FIFA Soccer 2004</td>\n",
       "      <td>PS2</td>\n",
       "      <td>NaN</td>\n",
       "      <td>Sports</td>\n",
       "      <td>0.59</td>\n",
       "      <td>2.36</td>\n",
       "      <td>0.04</td>\n",
       "      <td>0.51</td>\n",
       "      <td>84.0</td>\n",
       "      <td>6.4</td>\n",
       "      <td>E</td>\n",
       "      <td>3.50</td>\n",
       "    </tr>\n",
       "    <tr>\n",
       "      <td>475</td>\n",
       "      <td>wwe Smackdown vs. Raw 2006</td>\n",
       "      <td>PS2</td>\n",
       "      <td>NaN</td>\n",
       "      <td>Fighting</td>\n",
       "      <td>1.57</td>\n",
       "      <td>1.02</td>\n",
       "      <td>0.00</td>\n",
       "      <td>0.41</td>\n",
       "      <td>NaN</td>\n",
       "      <td>NaN</td>\n",
       "      <td>NaN</td>\n",
       "      <td>3.00</td>\n",
       "    </tr>\n",
       "    <tr>\n",
       "      <td>1650</td>\n",
       "      <td>NASCAR Thunder 2003</td>\n",
       "      <td>PS2</td>\n",
       "      <td>NaN</td>\n",
       "      <td>Racing</td>\n",
       "      <td>0.60</td>\n",
       "      <td>0.46</td>\n",
       "      <td>0.00</td>\n",
       "      <td>0.16</td>\n",
       "      <td>84.0</td>\n",
       "      <td>8.7</td>\n",
       "      <td>E</td>\n",
       "      <td>1.22</td>\n",
       "    </tr>\n",
       "    <tr>\n",
       "      <td>2572</td>\n",
       "      <td>PES 2009: Pro Evolution Soccer</td>\n",
       "      <td>PSP</td>\n",
       "      <td>NaN</td>\n",
       "      <td>Sports</td>\n",
       "      <td>0.04</td>\n",
       "      <td>0.33</td>\n",
       "      <td>0.26</td>\n",
       "      <td>0.17</td>\n",
       "      <td>NaN</td>\n",
       "      <td>NaN</td>\n",
       "      <td>NaN</td>\n",
       "      <td>0.80</td>\n",
       "    </tr>\n",
       "  </tbody>\n",
       "</table>\n",
       "</div>"
      ],
      "text/plain": [
       "                                name platform  year_of_release     genre  \\\n",
       "183                  Madden NFL 2004      PS2              NaN    Sports   \n",
       "377                 FIFA Soccer 2004      PS2              NaN    Sports   \n",
       "475       wwe Smackdown vs. Raw 2006      PS2              NaN  Fighting   \n",
       "1650             NASCAR Thunder 2003      PS2              NaN    Racing   \n",
       "2572  PES 2009: Pro Evolution Soccer      PSP              NaN    Sports   \n",
       "\n",
       "      na_sales  eu_sales  jp_sales  other_sales  critic_score user_score  \\\n",
       "183       4.26      0.26      0.01         0.71          94.0        8.5   \n",
       "377       0.59      2.36      0.04         0.51          84.0        6.4   \n",
       "475       1.57      1.02      0.00         0.41           NaN        NaN   \n",
       "1650      0.60      0.46      0.00         0.16          84.0        8.7   \n",
       "2572      0.04      0.33      0.26         0.17           NaN        NaN   \n",
       "\n",
       "     rating  sales_all  \n",
       "183       E       5.24  \n",
       "377       E       3.50  \n",
       "475     NaN       3.00  \n",
       "1650      E       1.22  \n",
       "2572    NaN       0.80  "
      ]
     },
     "execution_count": 7,
     "metadata": {},
     "output_type": "execute_result"
    }
   ],
   "source": [
    "df[(df['year_of_release'].isna()) & (df.name.str.contains(r'\\d{4}', regex=True, na=False))].head()"
   ]
  },
  {
   "cell_type": "code",
   "execution_count": 8,
   "metadata": {},
   "outputs": [],
   "source": [
    "import re\n",
    "\n",
    "ss = df[(df['year_of_release'].isna()) & (df.name.str.contains(r'\\d{4}', regex=True, na=False))].index\n",
    "\n",
    "def fill_year(row):\n",
    "    if pd.isna(row['year_of_release']):\n",
    "        if re.findall(r'\\d{4}', row['name']):\n",
    "            return re.findall(r'\\d{4}', row['name'])[0]\n",
    "        else:\n",
    "            return 0\n",
    "    return row['year_of_release']\n",
    "\n",
    "df['year_of_release'] = df.apply(fill_year, axis=1)"
   ]
  },
  {
   "cell_type": "code",
   "execution_count": 9,
   "metadata": {},
   "outputs": [
    {
     "data": {
      "text/html": [
       "<div>\n",
       "<style scoped>\n",
       "    .dataframe tbody tr th:only-of-type {\n",
       "        vertical-align: middle;\n",
       "    }\n",
       "\n",
       "    .dataframe tbody tr th {\n",
       "        vertical-align: top;\n",
       "    }\n",
       "\n",
       "    .dataframe thead th {\n",
       "        text-align: right;\n",
       "    }\n",
       "</style>\n",
       "<table border=\"1\" class=\"dataframe\">\n",
       "  <thead>\n",
       "    <tr style=\"text-align: right;\">\n",
       "      <th></th>\n",
       "      <th>name</th>\n",
       "      <th>platform</th>\n",
       "      <th>year_of_release</th>\n",
       "      <th>genre</th>\n",
       "      <th>na_sales</th>\n",
       "      <th>eu_sales</th>\n",
       "      <th>jp_sales</th>\n",
       "      <th>other_sales</th>\n",
       "      <th>critic_score</th>\n",
       "      <th>user_score</th>\n",
       "      <th>rating</th>\n",
       "      <th>sales_all</th>\n",
       "    </tr>\n",
       "  </thead>\n",
       "  <tbody>\n",
       "    <tr>\n",
       "      <td>183</td>\n",
       "      <td>Madden NFL 2004</td>\n",
       "      <td>PS2</td>\n",
       "      <td>2004</td>\n",
       "      <td>Sports</td>\n",
       "      <td>4.26</td>\n",
       "      <td>0.26</td>\n",
       "      <td>0.01</td>\n",
       "      <td>0.71</td>\n",
       "      <td>94.0</td>\n",
       "      <td>8.5</td>\n",
       "      <td>E</td>\n",
       "      <td>5.24</td>\n",
       "    </tr>\n",
       "    <tr>\n",
       "      <td>377</td>\n",
       "      <td>FIFA Soccer 2004</td>\n",
       "      <td>PS2</td>\n",
       "      <td>2004</td>\n",
       "      <td>Sports</td>\n",
       "      <td>0.59</td>\n",
       "      <td>2.36</td>\n",
       "      <td>0.04</td>\n",
       "      <td>0.51</td>\n",
       "      <td>84.0</td>\n",
       "      <td>6.4</td>\n",
       "      <td>E</td>\n",
       "      <td>3.50</td>\n",
       "    </tr>\n",
       "    <tr>\n",
       "      <td>475</td>\n",
       "      <td>wwe Smackdown vs. Raw 2006</td>\n",
       "      <td>PS2</td>\n",
       "      <td>2006</td>\n",
       "      <td>Fighting</td>\n",
       "      <td>1.57</td>\n",
       "      <td>1.02</td>\n",
       "      <td>0.00</td>\n",
       "      <td>0.41</td>\n",
       "      <td>NaN</td>\n",
       "      <td>NaN</td>\n",
       "      <td>NaN</td>\n",
       "      <td>3.00</td>\n",
       "    </tr>\n",
       "    <tr>\n",
       "      <td>1650</td>\n",
       "      <td>NASCAR Thunder 2003</td>\n",
       "      <td>PS2</td>\n",
       "      <td>2003</td>\n",
       "      <td>Racing</td>\n",
       "      <td>0.60</td>\n",
       "      <td>0.46</td>\n",
       "      <td>0.00</td>\n",
       "      <td>0.16</td>\n",
       "      <td>84.0</td>\n",
       "      <td>8.7</td>\n",
       "      <td>E</td>\n",
       "      <td>1.22</td>\n",
       "    </tr>\n",
       "    <tr>\n",
       "      <td>2572</td>\n",
       "      <td>PES 2009: Pro Evolution Soccer</td>\n",
       "      <td>PSP</td>\n",
       "      <td>2009</td>\n",
       "      <td>Sports</td>\n",
       "      <td>0.04</td>\n",
       "      <td>0.33</td>\n",
       "      <td>0.26</td>\n",
       "      <td>0.17</td>\n",
       "      <td>NaN</td>\n",
       "      <td>NaN</td>\n",
       "      <td>NaN</td>\n",
       "      <td>0.80</td>\n",
       "    </tr>\n",
       "  </tbody>\n",
       "</table>\n",
       "</div>"
      ],
      "text/plain": [
       "                                name platform year_of_release     genre  \\\n",
       "183                  Madden NFL 2004      PS2            2004    Sports   \n",
       "377                 FIFA Soccer 2004      PS2            2004    Sports   \n",
       "475       wwe Smackdown vs. Raw 2006      PS2            2006  Fighting   \n",
       "1650             NASCAR Thunder 2003      PS2            2003    Racing   \n",
       "2572  PES 2009: Pro Evolution Soccer      PSP            2009    Sports   \n",
       "\n",
       "      na_sales  eu_sales  jp_sales  other_sales  critic_score user_score  \\\n",
       "183       4.26      0.26      0.01         0.71          94.0        8.5   \n",
       "377       0.59      2.36      0.04         0.51          84.0        6.4   \n",
       "475       1.57      1.02      0.00         0.41           NaN        NaN   \n",
       "1650      0.60      0.46      0.00         0.16          84.0        8.7   \n",
       "2572      0.04      0.33      0.26         0.17           NaN        NaN   \n",
       "\n",
       "     rating  sales_all  \n",
       "183       E       5.24  \n",
       "377       E       3.50  \n",
       "475     NaN       3.00  \n",
       "1650      E       1.22  \n",
       "2572    NaN       0.80  "
      ]
     },
     "execution_count": 9,
     "metadata": {},
     "output_type": "execute_result"
    }
   ],
   "source": [
    "df[df.index.isin(ss)].head()"
   ]
  },
  {
   "cell_type": "code",
   "execution_count": 10,
   "metadata": {},
   "outputs": [],
   "source": [
    "df.year_of_release = df.year_of_release.astype('int')\n",
    "df = df.sort_values(by=['platform', 'year_of_release'])"
   ]
  },
  {
   "cell_type": "code",
   "execution_count": 11,
   "metadata": {},
   "outputs": [
    {
     "data": {
      "text/html": [
       "<div>\n",
       "<style scoped>\n",
       "    .dataframe tbody tr th:only-of-type {\n",
       "        vertical-align: middle;\n",
       "    }\n",
       "\n",
       "    .dataframe tbody tr th {\n",
       "        vertical-align: top;\n",
       "    }\n",
       "\n",
       "    .dataframe thead th {\n",
       "        text-align: right;\n",
       "    }\n",
       "</style>\n",
       "<table border=\"1\" class=\"dataframe\">\n",
       "  <thead>\n",
       "    <tr style=\"text-align: right;\">\n",
       "      <th></th>\n",
       "      <th>name</th>\n",
       "      <th>platform</th>\n",
       "      <th>year_of_release</th>\n",
       "      <th>genre</th>\n",
       "      <th>na_sales</th>\n",
       "      <th>eu_sales</th>\n",
       "      <th>jp_sales</th>\n",
       "      <th>other_sales</th>\n",
       "      <th>critic_score</th>\n",
       "      <th>user_score</th>\n",
       "      <th>rating</th>\n",
       "      <th>sales_all</th>\n",
       "    </tr>\n",
       "  </thead>\n",
       "  <tbody>\n",
       "    <tr>\n",
       "      <td>isna</td>\n",
       "      <td>0</td>\n",
       "      <td>0</td>\n",
       "      <td>0</td>\n",
       "      <td>2</td>\n",
       "      <td>0</td>\n",
       "      <td>0</td>\n",
       "      <td>0</td>\n",
       "      <td>0</td>\n",
       "      <td>8578</td>\n",
       "      <td>6701</td>\n",
       "      <td>6766</td>\n",
       "      <td>0</td>\n",
       "    </tr>\n",
       "    <tr>\n",
       "      <td>dtypes</td>\n",
       "      <td>object</td>\n",
       "      <td>object</td>\n",
       "      <td>int64</td>\n",
       "      <td>object</td>\n",
       "      <td>float64</td>\n",
       "      <td>float64</td>\n",
       "      <td>float64</td>\n",
       "      <td>float64</td>\n",
       "      <td>float64</td>\n",
       "      <td>object</td>\n",
       "      <td>object</td>\n",
       "      <td>float64</td>\n",
       "    </tr>\n",
       "  </tbody>\n",
       "</table>\n",
       "</div>"
      ],
      "text/plain": [
       "          name platform year_of_release   genre na_sales eu_sales jp_sales  \\\n",
       "isna         0        0               0       2        0        0        0   \n",
       "dtypes  object   object           int64  object  float64  float64  float64   \n",
       "\n",
       "       other_sales critic_score user_score  rating sales_all  \n",
       "isna             0         8578       6701    6766         0  \n",
       "dtypes     float64      float64     object  object   float64  "
      ]
     },
     "execution_count": 11,
     "metadata": {},
     "output_type": "execute_result"
    }
   ],
   "source": [
    "isna = df.isna().sum().to_frame()\n",
    "isna.columns = ['isna']\n",
    "isna['dtypes'] = df.dtypes\n",
    "isna.T"
   ]
  },
  {
   "cell_type": "markdown",
   "metadata": {},
   "source": [
    "Пропуски в последних трех полях объясняется тем, что не все игры были оценены экспертами и игроками.  \n",
    "Соответственно, пропуски в этих полях заполнять не будем, но эти записи будем иссключать из исследований, которые будут касаться значений в этих полях.  \n",
    "\n",
    "В поле user_score встречается значение TBD (ToBeDetermine), то есть \"Будет определено\". Т.е. это тоже не определенное значение. "
   ]
  },
  {
   "cell_type": "code",
   "execution_count": 12,
   "metadata": {},
   "outputs": [
    {
     "data": {
      "text/plain": [
       "na_sales       4402.35\n",
       "eu_sales       2424.67\n",
       "jp_sales       1297.37\n",
       "other_sales     791.32\n",
       "dtype: float64"
      ]
     },
     "execution_count": 12,
     "metadata": {},
     "output_type": "execute_result"
    }
   ],
   "source": [
    "# суммарные продажи по регионам\n",
    "\n",
    "sales_all = df[['na_sales', 'eu_sales', 'jp_sales', 'other_sales']].sum()\n",
    "sales_all"
   ]
  },
  {
   "cell_type": "markdown",
   "metadata": {},
   "source": [
    "# Шаг 3.  Исследовательский анализ данных"
   ]
  },
  {
   "cell_type": "markdown",
   "metadata": {},
   "source": [
    "### Сколько игр выпускалось в разные годы"
   ]
  },
  {
   "cell_type": "code",
   "execution_count": 13,
   "metadata": {},
   "outputs": [],
   "source": [
    "#предварительно установим опции для вывода на экран всех строк и колонок\n",
    "pd.set_option('display.max_rows', None, 'display.max_columns', None)"
   ]
  },
  {
   "cell_type": "code",
   "execution_count": 14,
   "metadata": {},
   "outputs": [],
   "source": [
    "# life_of_platform - таблица \"жизни\" платформ\n",
    "\n",
    "life_of_platform = (\n",
    "    df\n",
    "    .query('year_of_release > 0')\n",
    "    .pivot_table(index=['year_of_release'], columns='platform', values='sales_all', aggfunc='count')\n",
    ")\n",
    "for idx in life_of_platform.index:\n",
    "    for col in life_of_platform.columns:\n",
    "        if not pd.isna(life_of_platform.loc[idx, col]):\n",
    "            life_of_platform.loc[idx, col] = idx\n",
    "        "
   ]
  },
  {
   "cell_type": "code",
   "execution_count": 15,
   "metadata": {},
   "outputs": [
    {
     "data": {
      "image/png": "[encoded data removed]",
      "text/plain": [
       "<Figure size 936x432 with 1 Axes>"
      ]
     },
     "metadata": {
      "needs_background": "light"
     },
     "output_type": "display_data"
    }
   ],
   "source": [
    "# график сроков \"жизни\" платформ\n",
    "import seaborn as sns\n",
    "plt.figure(figsize=(13, 6))\n",
    "boxplt = sns.boxplot(data=life_of_platform)\n",
    "boxplt.grid(color='lightgray', alpha=0.7)\n",
    "boxplt.tick_params(axis='x', rotation=90)\n",
    "plt.show()\n"
   ]
  },
  {
   "cell_type": "code",
   "execution_count": 16,
   "metadata": {},
   "outputs": [],
   "source": [
    "# platforms_count_games - таблица с количеством реализованных игр по платформам и годам релиза\n",
    "platforms_count_games = (\n",
    "    df\n",
    "    .query('year_of_release > 0')\n",
    "    .pivot_table(index='year_of_release', columns='platform', \n",
    "                 values='name', aggfunc='count')\n",
    ")\n",
    "# platforms_count_games.fillna('')"
   ]
  },
  {
   "cell_type": "code",
   "execution_count": 17,
   "metadata": {},
   "outputs": [
    {
     "data": {
      "image/png": "[encoded data removed]",
      "text/plain": [
       "<Figure size 936x432 with 1 Axes>"
      ]
     },
     "metadata": {
      "needs_background": "light"
     },
     "output_type": "display_data"
    }
   ],
   "source": [
    "# график с количеством реализованных игр по платформам и годам релиза\n",
    "ax = platforms_count_games.reset_index().plot(x='year_of_release', figsize=(13, 6), grid=True)\n",
    "ax.legend(loc='upper left', bbox_to_anchor=(1.02, 1), borderaxespad=0)\n",
    "plt.show()"
   ]
  },
  {
   "cell_type": "markdown",
   "metadata": {},
   "source": [
    "По приведенному графику уже можно предварительно сделать некие выводы.   \n",
    "\n",
    "Например, почти по каждой платформе вначале идет рост количества реализованных игр, замем достигает некоторого максимума после чего происходит постепенное \"затухание\".\n",
    "Период от начала продаж и до полного \"затухания\" можно назвать временем \"жизни\" платформы.  \n",
    "\n",
    "Далее расчитаем среднее время жизни платформ и определим \"актуальный\" период анализа платформ. "
   ]
  },
  {
   "cell_type": "markdown",
   "metadata": {},
   "source": [
    "#### Платформы с наибольшими продажами"
   ]
  },
  {
   "cell_type": "code",
   "execution_count": 18,
   "metadata": {},
   "outputs": [
    {
     "data": {
      "text/html": [
       "<div>\n",
       "<style scoped>\n",
       "    .dataframe tbody tr th:only-of-type {\n",
       "        vertical-align: middle;\n",
       "    }\n",
       "\n",
       "    .dataframe tbody tr th {\n",
       "        vertical-align: top;\n",
       "    }\n",
       "\n",
       "    .dataframe thead th {\n",
       "        text-align: right;\n",
       "    }\n",
       "</style>\n",
       "<table border=\"1\" class=\"dataframe\">\n",
       "  <thead>\n",
       "    <tr style=\"text-align: right;\">\n",
       "      <th>platform</th>\n",
       "      <th>PS2</th>\n",
       "      <th>DS</th>\n",
       "      <th>PS3</th>\n",
       "      <th>Wii</th>\n",
       "      <th>X360</th>\n",
       "      <th>PSP</th>\n",
       "      <th>PS</th>\n",
       "      <th>PC</th>\n",
       "      <th>GBA</th>\n",
       "      <th>XB</th>\n",
       "      <th>GC</th>\n",
       "      <th>3DS</th>\n",
       "      <th>PSV</th>\n",
       "      <th>PS4</th>\n",
       "      <th>N64</th>\n",
       "      <th>XOne</th>\n",
       "      <th>SNES</th>\n",
       "      <th>SAT</th>\n",
       "      <th>WiiU</th>\n",
       "      <th>2600</th>\n",
       "      <th>NES</th>\n",
       "      <th>GB</th>\n",
       "      <th>DC</th>\n",
       "      <th>GEN</th>\n",
       "      <th>NG</th>\n",
       "      <th>SCD</th>\n",
       "      <th>WS</th>\n",
       "      <th>3DO</th>\n",
       "      <th>TG16</th>\n",
       "      <th>PCFX</th>\n",
       "      <th>GG</th>\n",
       "    </tr>\n",
       "  </thead>\n",
       "  <tbody>\n",
       "    <tr>\n",
       "      <td>0</td>\n",
       "      <td>2134.0</td>\n",
       "      <td>2122.0</td>\n",
       "      <td>1306.0</td>\n",
       "      <td>1286.0</td>\n",
       "      <td>1234.0</td>\n",
       "      <td>1195.0</td>\n",
       "      <td>1190.0</td>\n",
       "      <td>958.0</td>\n",
       "      <td>811.0</td>\n",
       "      <td>806.0</td>\n",
       "      <td>543.0</td>\n",
       "      <td>512.0</td>\n",
       "      <td>429.0</td>\n",
       "      <td>392.0</td>\n",
       "      <td>316.0</td>\n",
       "      <td>247.0</td>\n",
       "      <td>239.0</td>\n",
       "      <td>173.0</td>\n",
       "      <td>147.0</td>\n",
       "      <td>116.0</td>\n",
       "      <td>98.0</td>\n",
       "      <td>97.0</td>\n",
       "      <td>52.0</td>\n",
       "      <td>29.0</td>\n",
       "      <td>12.0</td>\n",
       "      <td>6.0</td>\n",
       "      <td>6.0</td>\n",
       "      <td>3.0</td>\n",
       "      <td>2.0</td>\n",
       "      <td>1.0</td>\n",
       "      <td>1.0</td>\n",
       "    </tr>\n",
       "  </tbody>\n",
       "</table>\n",
       "</div>"
      ],
      "text/plain": [
       "platform     PS2      DS     PS3     Wii    X360     PSP      PS     PC  \\\n",
       "0         2134.0  2122.0  1306.0  1286.0  1234.0  1195.0  1190.0  958.0   \n",
       "\n",
       "platform    GBA     XB     GC    3DS    PSV    PS4    N64   XOne   SNES  \\\n",
       "0         811.0  806.0  543.0  512.0  429.0  392.0  316.0  247.0  239.0   \n",
       "\n",
       "platform    SAT   WiiU   2600   NES    GB    DC   GEN    NG  SCD   WS  3DO  \\\n",
       "0         173.0  147.0  116.0  98.0  97.0  52.0  29.0  12.0  6.0  6.0  3.0   \n",
       "\n",
       "platform  TG16  PCFX   GG  \n",
       "0          2.0   1.0  1.0  "
      ]
     },
     "execution_count": 18,
     "metadata": {},
     "output_type": "execute_result"
    }
   ],
   "source": [
    "# all_sales - суммарные значения продаж по каждой платформе\n",
    "all_sales = platforms_count_games.sum().sort_values(ascending=False)\n",
    "\n",
    "all_sales.to_frame().T"
   ]
  },
  {
   "cell_type": "code",
   "execution_count": 19,
   "metadata": {},
   "outputs": [
    {
     "data": {
      "text/plain": [
       "count      31.000000\n",
       "mean      531.064516\n",
       "std       618.218566\n",
       "min         1.000000\n",
       "25%        40.500000\n",
       "50%       247.000000\n",
       "75%       884.500000\n",
       "max      2134.000000\n",
       "dtype: float64"
      ]
     },
     "execution_count": 19,
     "metadata": {},
     "output_type": "execute_result"
    }
   ],
   "source": [
    "all_sales.describe()"
   ]
  },
  {
   "cell_type": "markdown",
   "metadata": {},
   "source": [
    "В качестве крупнейших возьмем все платформы, количесво продаж у которых более $Q_.75$."
   ]
  },
  {
   "cell_type": "code",
   "execution_count": 20,
   "metadata": {},
   "outputs": [
    {
     "data": {
      "text/plain": [
       "platform\n",
       "PS2     2134.0\n",
       "DS      2122.0\n",
       "PS3     1306.0\n",
       "Wii     1286.0\n",
       "X360    1234.0\n",
       "PSP     1195.0\n",
       "PS      1190.0\n",
       "PC       958.0\n",
       "dtype: float64"
      ]
     },
     "execution_count": 20,
     "metadata": {},
     "output_type": "execute_result"
    }
   ],
   "source": [
    "big_platforms = all_sales[all_sales > all_sales.quantile(.75)]\n",
    "big_platforms"
   ]
  },
  {
   "cell_type": "code",
   "execution_count": 21,
   "metadata": {},
   "outputs": [
    {
     "data": {
      "image/png": "[encoded data removed]",
      "text/plain": [
       "<Figure size 1152x432 with 8 Axes>"
      ]
     },
     "metadata": {
      "needs_background": "light"
     },
     "output_type": "display_data"
    }
   ],
   "source": [
    "# графики количества реализованных игр по крупнейшим платформам\n",
    "fig, ax = plt.subplots(2, 4, figsize=(16, 6))\n",
    "\n",
    "for k, val in enumerate(big_platforms.index):\n",
    "    i = k // 4\n",
    "    j = k % 4\n",
    "    ax[i, j].grid(color='lightgray', alpha=0.7)\n",
    "    ax[i, j].bar(platforms_count_games.index, platforms_count_games.fillna(0)[val])\n",
    "    ax[i, j].axes.set_title(val)\n",
    "plt.show()    "
   ]
  },
  {
   "cell_type": "markdown",
   "metadata": {},
   "source": [
    "На основании графиков можно сделать предположение, что большинство платформ живет около 10 лет.   \n",
    "\n",
    "Затем им на смену приходят новые, основанные на более современных технологиях. Особенно это заментно по платформам PlayStation (PS*).  \n",
    "\n",
    "Попробуем найти подтверждение нашему предположению.  \n",
    "Для этого для каждой платформы посчитаем срок ее \"жизни\" - разницу между последним годом продажи и первым.\n"
   ]
  },
  {
   "cell_type": "code",
   "execution_count": 22,
   "metadata": {},
   "outputs": [
    {
     "data": {
      "text/html": [
       "<div>\n",
       "<style scoped>\n",
       "    .dataframe tbody tr th:only-of-type {\n",
       "        vertical-align: middle;\n",
       "    }\n",
       "\n",
       "    .dataframe tbody tr th {\n",
       "        vertical-align: top;\n",
       "    }\n",
       "\n",
       "    .dataframe thead th {\n",
       "        text-align: right;\n",
       "    }\n",
       "</style>\n",
       "<table border=\"1\" class=\"dataframe\">\n",
       "  <thead>\n",
       "    <tr style=\"text-align: right;\">\n",
       "      <th>platform</th>\n",
       "      <th>2600</th>\n",
       "      <th>3DO</th>\n",
       "      <th>3DS</th>\n",
       "      <th>DC</th>\n",
       "      <th>DS</th>\n",
       "      <th>GB</th>\n",
       "      <th>GBA</th>\n",
       "      <th>GC</th>\n",
       "      <th>GEN</th>\n",
       "      <th>GG</th>\n",
       "      <th>N64</th>\n",
       "      <th>NES</th>\n",
       "      <th>NG</th>\n",
       "      <th>PC</th>\n",
       "      <th>PCFX</th>\n",
       "      <th>PS</th>\n",
       "      <th>PS2</th>\n",
       "      <th>PS3</th>\n",
       "      <th>PS4</th>\n",
       "      <th>PSP</th>\n",
       "      <th>PSV</th>\n",
       "      <th>SAT</th>\n",
       "      <th>SCD</th>\n",
       "      <th>SNES</th>\n",
       "      <th>TG16</th>\n",
       "      <th>WS</th>\n",
       "      <th>Wii</th>\n",
       "      <th>WiiU</th>\n",
       "      <th>X360</th>\n",
       "      <th>XB</th>\n",
       "      <th>XOne</th>\n",
       "    </tr>\n",
       "  </thead>\n",
       "  <tbody>\n",
       "    <tr>\n",
       "      <td>first_year</td>\n",
       "      <td>1980</td>\n",
       "      <td>1994</td>\n",
       "      <td>2011</td>\n",
       "      <td>1998</td>\n",
       "      <td>1985</td>\n",
       "      <td>1988</td>\n",
       "      <td>2000</td>\n",
       "      <td>2001</td>\n",
       "      <td>1990</td>\n",
       "      <td>1992</td>\n",
       "      <td>1996</td>\n",
       "      <td>1983</td>\n",
       "      <td>1993</td>\n",
       "      <td>1985</td>\n",
       "      <td>1996</td>\n",
       "      <td>1994</td>\n",
       "      <td>2000</td>\n",
       "      <td>2006</td>\n",
       "      <td>2013</td>\n",
       "      <td>2004</td>\n",
       "      <td>2011</td>\n",
       "      <td>1994</td>\n",
       "      <td>1993</td>\n",
       "      <td>1990</td>\n",
       "      <td>1995</td>\n",
       "      <td>1999</td>\n",
       "      <td>2006</td>\n",
       "      <td>2012</td>\n",
       "      <td>2005</td>\n",
       "      <td>2000</td>\n",
       "      <td>2013</td>\n",
       "    </tr>\n",
       "    <tr>\n",
       "      <td>last_year</td>\n",
       "      <td>1989</td>\n",
       "      <td>1995</td>\n",
       "      <td>2016</td>\n",
       "      <td>2008</td>\n",
       "      <td>2013</td>\n",
       "      <td>2001</td>\n",
       "      <td>2007</td>\n",
       "      <td>2007</td>\n",
       "      <td>1994</td>\n",
       "      <td>1992</td>\n",
       "      <td>2002</td>\n",
       "      <td>1994</td>\n",
       "      <td>1996</td>\n",
       "      <td>2016</td>\n",
       "      <td>1996</td>\n",
       "      <td>2003</td>\n",
       "      <td>2011</td>\n",
       "      <td>2016</td>\n",
       "      <td>2016</td>\n",
       "      <td>2015</td>\n",
       "      <td>2016</td>\n",
       "      <td>1999</td>\n",
       "      <td>1994</td>\n",
       "      <td>1999</td>\n",
       "      <td>1995</td>\n",
       "      <td>2001</td>\n",
       "      <td>2016</td>\n",
       "      <td>2016</td>\n",
       "      <td>2016</td>\n",
       "      <td>2008</td>\n",
       "      <td>2016</td>\n",
       "    </tr>\n",
       "    <tr>\n",
       "      <td>long</td>\n",
       "      <td>10</td>\n",
       "      <td>2</td>\n",
       "      <td>6</td>\n",
       "      <td>11</td>\n",
       "      <td>29</td>\n",
       "      <td>14</td>\n",
       "      <td>8</td>\n",
       "      <td>7</td>\n",
       "      <td>5</td>\n",
       "      <td>1</td>\n",
       "      <td>7</td>\n",
       "      <td>12</td>\n",
       "      <td>4</td>\n",
       "      <td>32</td>\n",
       "      <td>1</td>\n",
       "      <td>10</td>\n",
       "      <td>12</td>\n",
       "      <td>11</td>\n",
       "      <td>4</td>\n",
       "      <td>12</td>\n",
       "      <td>6</td>\n",
       "      <td>6</td>\n",
       "      <td>2</td>\n",
       "      <td>10</td>\n",
       "      <td>1</td>\n",
       "      <td>3</td>\n",
       "      <td>11</td>\n",
       "      <td>5</td>\n",
       "      <td>12</td>\n",
       "      <td>9</td>\n",
       "      <td>4</td>\n",
       "    </tr>\n",
       "  </tbody>\n",
       "</table>\n",
       "</div>"
      ],
      "text/plain": [
       "platform    2600   3DO   3DS    DC    DS    GB   GBA    GC   GEN    GG   N64  \\\n",
       "first_year  1980  1994  2011  1998  1985  1988  2000  2001  1990  1992  1996   \n",
       "last_year   1989  1995  2016  2008  2013  2001  2007  2007  1994  1992  2002   \n",
       "long          10     2     6    11    29    14     8     7     5     1     7   \n",
       "\n",
       "platform     NES    NG    PC  PCFX    PS   PS2   PS3   PS4   PSP   PSV   SAT  \\\n",
       "first_year  1983  1993  1985  1996  1994  2000  2006  2013  2004  2011  1994   \n",
       "last_year   1994  1996  2016  1996  2003  2011  2016  2016  2015  2016  1999   \n",
       "long          12     4    32     1    10    12    11     4    12     6     6   \n",
       "\n",
       "platform     SCD  SNES  TG16    WS   Wii  WiiU  X360    XB  XOne  \n",
       "first_year  1993  1990  1995  1999  2006  2012  2005  2000  2013  \n",
       "last_year   1994  1999  1995  2001  2016  2016  2016  2008  2016  \n",
       "long           2    10     1     3    11     5    12     9     4  "
      ]
     },
     "execution_count": 22,
     "metadata": {},
     "output_type": "execute_result"
    }
   ],
   "source": [
    "# duration - это таблица с начальным и конечным годом продаж, а также разницей между ними\n",
    "duration = df.query('year_of_release > 0').groupby('platform')['year_of_release'].first().to_frame()\n",
    "duration.columns = ['first_year']\n",
    "duration['last_year'] = df.query('year_of_release > 0').groupby('platform')['year_of_release'].last()\n",
    "duration['long'] = duration['last_year'] - duration['first_year'] + 1\n",
    "\n",
    "duration.T"
   ]
  },
  {
   "cell_type": "code",
   "execution_count": 23,
   "metadata": {},
   "outputs": [
    {
     "data": {
      "text/plain": [
       "count    31.000000\n",
       "mean      8.612903\n",
       "std       6.998464\n",
       "min       1.000000\n",
       "25%       4.000000\n",
       "50%       7.000000\n",
       "75%      11.000000\n",
       "max      32.000000\n",
       "Name: long, dtype: float64"
      ]
     },
     "execution_count": 23,
     "metadata": {},
     "output_type": "execute_result"
    }
   ],
   "source": [
    "duration.long.describe()"
   ]
  },
  {
   "cell_type": "code",
   "execution_count": 24,
   "metadata": {},
   "outputs": [
    {
     "data": {
      "image/png": "[encoded data removed]",
      "text/plain": [
       "<Figure size 864x288 with 2 Axes>"
      ]
     },
     "metadata": {
      "needs_background": "light"
     },
     "output_type": "display_data"
    }
   ],
   "source": [
    "fig, ax = plt.subplots(1, 2, figsize=(12, 4))\n",
    "ax[0].grid(color='lightgray', alpha=0.7)\n",
    "ax[0].bar(duration.index, duration.long)\n",
    "ax[0].tick_params(rotation=90)\n",
    "ax[0].set_xlabel('Платформы')\n",
    "ax[0].set_ylabel('Количество лет')\n",
    "ax[1].grid(color='lightgray', alpha=0.7)\n",
    "ax[1].boxplot(duration.long);"
   ]
  },
  {
   "cell_type": "markdown",
   "metadata": {},
   "source": [
    "Получился достаточно большой разброс и есть явные \"выбросы\".  \n",
    "Исключим из анализа крайние значения - 1 и 32 ('PC', 'GG', 'PCFX', 'TG16').  \n",
    "Еще одни \"выброс\" на 29 (платформа DS), но там первая продажа обозначена 1985 годом, а все прочие - с 2004 г. В этом случае достаточно исключить только первое значение и все пересчитать заново."
   ]
  },
  {
   "cell_type": "code",
   "execution_count": 25,
   "metadata": {},
   "outputs": [
    {
     "data": {
      "text/plain": [
       "count    27.000000\n",
       "mean      7.888889\n",
       "std       3.511885\n",
       "min       2.000000\n",
       "25%       5.000000\n",
       "50%       8.000000\n",
       "75%      11.000000\n",
       "max      14.000000\n",
       "Name: long, dtype: float64"
      ]
     },
     "execution_count": 25,
     "metadata": {},
     "output_type": "execute_result"
    }
   ],
   "source": [
    "duration.loc['DS', 'first_year'] = 2004\n",
    "duration.loc['DS', 'long'] = 2013 - 2004 + 1\n",
    "duration.drop(index=['PC', 'GG', 'PCFX', 'TG16'], inplace=True)\n",
    "duration.long.describe()"
   ]
  },
  {
   "cell_type": "code",
   "execution_count": 26,
   "metadata": {},
   "outputs": [
    {
     "data": {
      "image/png": "[encoded data removed]",
      "text/plain": [
       "<Figure size 864x288 with 2 Axes>"
      ]
     },
     "metadata": {
      "needs_background": "light"
     },
     "output_type": "display_data"
    }
   ],
   "source": [
    "fig, ax = plt.subplots(1, 2, figsize=(12, 4))\n",
    "ax[0].grid(color='lightgray', alpha=0.7)\n",
    "ax[0].bar(duration.index, duration.long)\n",
    "ax[0].tick_params(rotation=90)\n",
    "ax[0].set_xlabel('Платформы')\n",
    "ax[0].set_ylabel('Количество лет')\n",
    "ax[1].grid(color='lightgray', alpha=0.7)\n",
    "ax[1].boxplot(duration.long);"
   ]
  },
  {
   "cell_type": "markdown",
   "metadata": {},
   "source": [
    "Таким образом, разброс стал намного меньше (данные получились более \"плотными\"), а медиана почти совпадает со средним значением.  \n",
    "Наше предположение о том, что \"характерная длительность жизни платформы составляет почти 10 лет\", считаю верным.  \n",
    "\n",
    "___На этом основании примем актуальный период анализа 10 лет.___\n",
    "***"
   ]
  },
  {
   "cell_type": "markdown",
   "metadata": {},
   "source": [
    "Теперь рассмотрим те платформы, по которым были продажи за последние 10 лет (актуальный период), и определим среди них потенциально прибыльные."
   ]
  },
  {
   "cell_type": "code",
   "execution_count": 27,
   "metadata": {},
   "outputs": [
    {
     "data": {
      "text/html": [
       "<div>\n",
       "<style scoped>\n",
       "    .dataframe tbody tr th:only-of-type {\n",
       "        vertical-align: middle;\n",
       "    }\n",
       "\n",
       "    .dataframe tbody tr th {\n",
       "        vertical-align: top;\n",
       "    }\n",
       "\n",
       "    .dataframe thead th {\n",
       "        text-align: right;\n",
       "    }\n",
       "</style>\n",
       "<table border=\"1\" class=\"dataframe\">\n",
       "  <thead>\n",
       "    <tr style=\"text-align: right;\">\n",
       "      <th>platform</th>\n",
       "      <th>3DS</th>\n",
       "      <th>DC</th>\n",
       "      <th>DS</th>\n",
       "      <th>GBA</th>\n",
       "      <th>GC</th>\n",
       "      <th>PC</th>\n",
       "      <th>PS2</th>\n",
       "      <th>PS3</th>\n",
       "      <th>PS4</th>\n",
       "      <th>PSP</th>\n",
       "      <th>PSV</th>\n",
       "      <th>Wii</th>\n",
       "      <th>WiiU</th>\n",
       "      <th>X360</th>\n",
       "      <th>XB</th>\n",
       "      <th>XOne</th>\n",
       "    </tr>\n",
       "  </thead>\n",
       "  <tbody>\n",
       "    <tr>\n",
       "      <td>0</td>\n",
       "      <td>512</td>\n",
       "      <td>2</td>\n",
       "      <td>1779</td>\n",
       "      <td>6</td>\n",
       "      <td>4</td>\n",
       "      <td>725</td>\n",
       "      <td>546</td>\n",
       "      <td>1279</td>\n",
       "      <td>392</td>\n",
       "      <td>896</td>\n",
       "      <td>429</td>\n",
       "      <td>1242</td>\n",
       "      <td>147</td>\n",
       "      <td>1123</td>\n",
       "      <td>4</td>\n",
       "      <td>247</td>\n",
       "    </tr>\n",
       "  </tbody>\n",
       "</table>\n",
       "</div>"
      ],
      "text/plain": [
       "platform  3DS  DC    DS  GBA  GC   PC  PS2   PS3  PS4  PSP  PSV   Wii  WiiU  \\\n",
       "0         512   2  1779    6   4  725  546  1279  392  896  429  1242   147   \n",
       "\n",
       "platform  X360  XB  XOne  \n",
       "0         1123   4   247  "
      ]
     },
     "execution_count": 27,
     "metadata": {},
     "output_type": "execute_result"
    }
   ],
   "source": [
    "# platforms_last_10 - таблица с названиями платформ, которые имели продажи в последние 10 лет\n",
    "platforms_last_10 = platforms_count_games.loc[2007:].sum()\n",
    "platforms_last_10 = platforms_last_10[platforms_last_10 > 0].astype('int')\n",
    "platforms_last_10.to_frame().T"
   ]
  },
  {
   "cell_type": "code",
   "execution_count": 28,
   "metadata": {},
   "outputs": [
    {
     "data": {
      "text/html": [
       "<div>\n",
       "<style scoped>\n",
       "    .dataframe tbody tr th:only-of-type {\n",
       "        vertical-align: middle;\n",
       "    }\n",
       "\n",
       "    .dataframe tbody tr th {\n",
       "        vertical-align: top;\n",
       "    }\n",
       "\n",
       "    .dataframe thead th {\n",
       "        text-align: right;\n",
       "    }\n",
       "</style>\n",
       "<table border=\"1\" class=\"dataframe\">\n",
       "  <thead>\n",
       "    <tr style=\"text-align: right;\">\n",
       "      <th>platform</th>\n",
       "      <th>3DS</th>\n",
       "      <th>DC</th>\n",
       "      <th>DS</th>\n",
       "      <th>GBA</th>\n",
       "      <th>GC</th>\n",
       "      <th>PC</th>\n",
       "      <th>PS2</th>\n",
       "      <th>PS3</th>\n",
       "      <th>PS4</th>\n",
       "      <th>PSP</th>\n",
       "      <th>PSV</th>\n",
       "      <th>Wii</th>\n",
       "      <th>WiiU</th>\n",
       "      <th>X360</th>\n",
       "      <th>XB</th>\n",
       "      <th>XOne</th>\n",
       "    </tr>\n",
       "    <tr>\n",
       "      <th>year_of_release</th>\n",
       "      <th></th>\n",
       "      <th></th>\n",
       "      <th></th>\n",
       "      <th></th>\n",
       "      <th></th>\n",
       "      <th></th>\n",
       "      <th></th>\n",
       "      <th></th>\n",
       "      <th></th>\n",
       "      <th></th>\n",
       "      <th></th>\n",
       "      <th></th>\n",
       "      <th></th>\n",
       "      <th></th>\n",
       "      <th></th>\n",
       "      <th></th>\n",
       "    </tr>\n",
       "  </thead>\n",
       "  <tbody>\n",
       "    <tr>\n",
       "      <td>2007</td>\n",
       "      <td>0.0</td>\n",
       "      <td>1.0</td>\n",
       "      <td>376.0</td>\n",
       "      <td>6.0</td>\n",
       "      <td>4.0</td>\n",
       "      <td>62.0</td>\n",
       "      <td>214.0</td>\n",
       "      <td>90.0</td>\n",
       "      <td>0.0</td>\n",
       "      <td>133.0</td>\n",
       "      <td>0.0</td>\n",
       "      <td>185.0</td>\n",
       "      <td>0.0</td>\n",
       "      <td>124.0</td>\n",
       "      <td>3.0</td>\n",
       "      <td>0.0</td>\n",
       "    </tr>\n",
       "    <tr>\n",
       "      <td>2008</td>\n",
       "      <td>0.0</td>\n",
       "      <td>1.0</td>\n",
       "      <td>493.0</td>\n",
       "      <td>0.0</td>\n",
       "      <td>0.0</td>\n",
       "      <td>76.0</td>\n",
       "      <td>191.0</td>\n",
       "      <td>138.0</td>\n",
       "      <td>0.0</td>\n",
       "      <td>101.0</td>\n",
       "      <td>0.0</td>\n",
       "      <td>282.0</td>\n",
       "      <td>0.0</td>\n",
       "      <td>146.0</td>\n",
       "      <td>1.0</td>\n",
       "      <td>0.0</td>\n",
       "    </tr>\n",
       "    <tr>\n",
       "      <td>2009</td>\n",
       "      <td>0.0</td>\n",
       "      <td>0.0</td>\n",
       "      <td>403.0</td>\n",
       "      <td>0.0</td>\n",
       "      <td>0.0</td>\n",
       "      <td>107.0</td>\n",
       "      <td>96.0</td>\n",
       "      <td>162.0</td>\n",
       "      <td>0.0</td>\n",
       "      <td>162.0</td>\n",
       "      <td>0.0</td>\n",
       "      <td>325.0</td>\n",
       "      <td>0.0</td>\n",
       "      <td>172.0</td>\n",
       "      <td>0.0</td>\n",
       "      <td>0.0</td>\n",
       "    </tr>\n",
       "    <tr>\n",
       "      <td>2010</td>\n",
       "      <td>0.0</td>\n",
       "      <td>0.0</td>\n",
       "      <td>323.0</td>\n",
       "      <td>0.0</td>\n",
       "      <td>0.0</td>\n",
       "      <td>90.0</td>\n",
       "      <td>38.0</td>\n",
       "      <td>181.0</td>\n",
       "      <td>0.0</td>\n",
       "      <td>188.0</td>\n",
       "      <td>0.0</td>\n",
       "      <td>253.0</td>\n",
       "      <td>0.0</td>\n",
       "      <td>182.0</td>\n",
       "      <td>0.0</td>\n",
       "      <td>0.0</td>\n",
       "    </tr>\n",
       "    <tr>\n",
       "      <td>2011</td>\n",
       "      <td>116.0</td>\n",
       "      <td>0.0</td>\n",
       "      <td>153.0</td>\n",
       "      <td>0.0</td>\n",
       "      <td>0.0</td>\n",
       "      <td>139.0</td>\n",
       "      <td>7.0</td>\n",
       "      <td>215.0</td>\n",
       "      <td>0.0</td>\n",
       "      <td>139.0</td>\n",
       "      <td>18.0</td>\n",
       "      <td>143.0</td>\n",
       "      <td>0.0</td>\n",
       "      <td>207.0</td>\n",
       "      <td>0.0</td>\n",
       "      <td>0.0</td>\n",
       "    </tr>\n",
       "    <tr>\n",
       "      <td>2012</td>\n",
       "      <td>93.0</td>\n",
       "      <td>0.0</td>\n",
       "      <td>23.0</td>\n",
       "      <td>0.0</td>\n",
       "      <td>0.0</td>\n",
       "      <td>61.0</td>\n",
       "      <td>0.0</td>\n",
       "      <td>148.0</td>\n",
       "      <td>0.0</td>\n",
       "      <td>106.0</td>\n",
       "      <td>53.0</td>\n",
       "      <td>31.0</td>\n",
       "      <td>32.0</td>\n",
       "      <td>106.0</td>\n",
       "      <td>0.0</td>\n",
       "      <td>0.0</td>\n",
       "    </tr>\n",
       "    <tr>\n",
       "      <td>2013</td>\n",
       "      <td>91.0</td>\n",
       "      <td>0.0</td>\n",
       "      <td>8.0</td>\n",
       "      <td>0.0</td>\n",
       "      <td>0.0</td>\n",
       "      <td>39.0</td>\n",
       "      <td>0.0</td>\n",
       "      <td>126.0</td>\n",
       "      <td>16.0</td>\n",
       "      <td>54.0</td>\n",
       "      <td>63.0</td>\n",
       "      <td>12.0</td>\n",
       "      <td>42.0</td>\n",
       "      <td>75.0</td>\n",
       "      <td>0.0</td>\n",
       "      <td>19.0</td>\n",
       "    </tr>\n",
       "    <tr>\n",
       "      <td>2014</td>\n",
       "      <td>80.0</td>\n",
       "      <td>0.0</td>\n",
       "      <td>0.0</td>\n",
       "      <td>0.0</td>\n",
       "      <td>0.0</td>\n",
       "      <td>47.0</td>\n",
       "      <td>0.0</td>\n",
       "      <td>108.0</td>\n",
       "      <td>75.0</td>\n",
       "      <td>10.0</td>\n",
       "      <td>100.0</td>\n",
       "      <td>6.0</td>\n",
       "      <td>31.0</td>\n",
       "      <td>63.0</td>\n",
       "      <td>0.0</td>\n",
       "      <td>61.0</td>\n",
       "    </tr>\n",
       "    <tr>\n",
       "      <td>2015</td>\n",
       "      <td>86.0</td>\n",
       "      <td>0.0</td>\n",
       "      <td>0.0</td>\n",
       "      <td>0.0</td>\n",
       "      <td>0.0</td>\n",
       "      <td>50.0</td>\n",
       "      <td>0.0</td>\n",
       "      <td>73.0</td>\n",
       "      <td>137.0</td>\n",
       "      <td>3.0</td>\n",
       "      <td>110.0</td>\n",
       "      <td>4.0</td>\n",
       "      <td>28.0</td>\n",
       "      <td>35.0</td>\n",
       "      <td>0.0</td>\n",
       "      <td>80.0</td>\n",
       "    </tr>\n",
       "    <tr>\n",
       "      <td>2016</td>\n",
       "      <td>46.0</td>\n",
       "      <td>0.0</td>\n",
       "      <td>0.0</td>\n",
       "      <td>0.0</td>\n",
       "      <td>0.0</td>\n",
       "      <td>54.0</td>\n",
       "      <td>0.0</td>\n",
       "      <td>38.0</td>\n",
       "      <td>164.0</td>\n",
       "      <td>0.0</td>\n",
       "      <td>85.0</td>\n",
       "      <td>1.0</td>\n",
       "      <td>14.0</td>\n",
       "      <td>13.0</td>\n",
       "      <td>0.0</td>\n",
       "      <td>87.0</td>\n",
       "    </tr>\n",
       "  </tbody>\n",
       "</table>\n",
       "</div>"
      ],
      "text/plain": [
       "platform           3DS   DC     DS  GBA   GC     PC    PS2    PS3    PS4  \\\n",
       "year_of_release                                                            \n",
       "2007               0.0  1.0  376.0  6.0  4.0   62.0  214.0   90.0    0.0   \n",
       "2008               0.0  1.0  493.0  0.0  0.0   76.0  191.0  138.0    0.0   \n",
       "2009               0.0  0.0  403.0  0.0  0.0  107.0   96.0  162.0    0.0   \n",
       "2010               0.0  0.0  323.0  0.0  0.0   90.0   38.0  181.0    0.0   \n",
       "2011             116.0  0.0  153.0  0.0  0.0  139.0    7.0  215.0    0.0   \n",
       "2012              93.0  0.0   23.0  0.0  0.0   61.0    0.0  148.0    0.0   \n",
       "2013              91.0  0.0    8.0  0.0  0.0   39.0    0.0  126.0   16.0   \n",
       "2014              80.0  0.0    0.0  0.0  0.0   47.0    0.0  108.0   75.0   \n",
       "2015              86.0  0.0    0.0  0.0  0.0   50.0    0.0   73.0  137.0   \n",
       "2016              46.0  0.0    0.0  0.0  0.0   54.0    0.0   38.0  164.0   \n",
       "\n",
       "platform           PSP    PSV    Wii  WiiU   X360   XB  XOne  \n",
       "year_of_release                                               \n",
       "2007             133.0    0.0  185.0   0.0  124.0  3.0   0.0  \n",
       "2008             101.0    0.0  282.0   0.0  146.0  1.0   0.0  \n",
       "2009             162.0    0.0  325.0   0.0  172.0  0.0   0.0  \n",
       "2010             188.0    0.0  253.0   0.0  182.0  0.0   0.0  \n",
       "2011             139.0   18.0  143.0   0.0  207.0  0.0   0.0  \n",
       "2012             106.0   53.0   31.0  32.0  106.0  0.0   0.0  \n",
       "2013              54.0   63.0   12.0  42.0   75.0  0.0  19.0  \n",
       "2014              10.0  100.0    6.0  31.0   63.0  0.0  61.0  \n",
       "2015               3.0  110.0    4.0  28.0   35.0  0.0  80.0  \n",
       "2016               0.0   85.0    1.0  14.0   13.0  0.0  87.0  "
      ]
     },
     "execution_count": 28,
     "metadata": {},
     "output_type": "execute_result"
    }
   ],
   "source": [
    "# platforms_actual - данные о количестве продаж по годам только по платформам, которые попали в platforms_last_10\n",
    "platforms_actual = platforms_count_games.loc[2007:, [col for col in platforms_last_10.index]]\n",
    "platforms_actual.fillna(0)"
   ]
  },
  {
   "cell_type": "code",
   "execution_count": 29,
   "metadata": {},
   "outputs": [
    {
     "data": {
      "image/png": "[encoded data removed]",
      "text/plain": [
       "<Figure size 864x432 with 1 Axes>"
      ]
     },
     "metadata": {
      "needs_background": "light"
     },
     "output_type": "display_data"
    }
   ],
   "source": [
    "ax2 = platforms_actual.plot(grid=True, figsize=(12, 6))\n",
    "ax2.legend(loc='upper left', bbox_to_anchor=(1.02, 1), borderaxespad=0)\n",
    "plt.show()"
   ]
  },
  {
   "cell_type": "markdown",
   "metadata": {},
   "source": [
    "В получившейся таблице и графике сразу видно платформы, которые очевидно \"затухают\" (DC, DS, GBA, GC, PS2, Wii, XB), и их смело можно удалить из таблицы."
   ]
  },
  {
   "cell_type": "code",
   "execution_count": 30,
   "metadata": {},
   "outputs": [
    {
     "data": {
      "text/html": [
       "<div>\n",
       "<style scoped>\n",
       "    .dataframe tbody tr th:only-of-type {\n",
       "        vertical-align: middle;\n",
       "    }\n",
       "\n",
       "    .dataframe tbody tr th {\n",
       "        vertical-align: top;\n",
       "    }\n",
       "\n",
       "    .dataframe thead th {\n",
       "        text-align: right;\n",
       "    }\n",
       "</style>\n",
       "<table border=\"1\" class=\"dataframe\">\n",
       "  <thead>\n",
       "    <tr style=\"text-align: right;\">\n",
       "      <th>platform</th>\n",
       "      <th>3DS</th>\n",
       "      <th>PC</th>\n",
       "      <th>PS3</th>\n",
       "      <th>PS4</th>\n",
       "      <th>PSV</th>\n",
       "      <th>WiiU</th>\n",
       "      <th>X360</th>\n",
       "      <th>XOne</th>\n",
       "    </tr>\n",
       "    <tr>\n",
       "      <th>year_of_release</th>\n",
       "      <th></th>\n",
       "      <th></th>\n",
       "      <th></th>\n",
       "      <th></th>\n",
       "      <th></th>\n",
       "      <th></th>\n",
       "      <th></th>\n",
       "      <th></th>\n",
       "    </tr>\n",
       "  </thead>\n",
       "  <tbody>\n",
       "    <tr>\n",
       "      <td>2007</td>\n",
       "      <td>0.0</td>\n",
       "      <td>62.0</td>\n",
       "      <td>90.0</td>\n",
       "      <td>0.0</td>\n",
       "      <td>0.0</td>\n",
       "      <td>0.0</td>\n",
       "      <td>124.0</td>\n",
       "      <td>0.0</td>\n",
       "    </tr>\n",
       "    <tr>\n",
       "      <td>2008</td>\n",
       "      <td>0.0</td>\n",
       "      <td>76.0</td>\n",
       "      <td>138.0</td>\n",
       "      <td>0.0</td>\n",
       "      <td>0.0</td>\n",
       "      <td>0.0</td>\n",
       "      <td>146.0</td>\n",
       "      <td>0.0</td>\n",
       "    </tr>\n",
       "    <tr>\n",
       "      <td>2009</td>\n",
       "      <td>0.0</td>\n",
       "      <td>107.0</td>\n",
       "      <td>162.0</td>\n",
       "      <td>0.0</td>\n",
       "      <td>0.0</td>\n",
       "      <td>0.0</td>\n",
       "      <td>172.0</td>\n",
       "      <td>0.0</td>\n",
       "    </tr>\n",
       "    <tr>\n",
       "      <td>2010</td>\n",
       "      <td>0.0</td>\n",
       "      <td>90.0</td>\n",
       "      <td>181.0</td>\n",
       "      <td>0.0</td>\n",
       "      <td>0.0</td>\n",
       "      <td>0.0</td>\n",
       "      <td>182.0</td>\n",
       "      <td>0.0</td>\n",
       "    </tr>\n",
       "    <tr>\n",
       "      <td>2011</td>\n",
       "      <td>116.0</td>\n",
       "      <td>139.0</td>\n",
       "      <td>215.0</td>\n",
       "      <td>0.0</td>\n",
       "      <td>18.0</td>\n",
       "      <td>0.0</td>\n",
       "      <td>207.0</td>\n",
       "      <td>0.0</td>\n",
       "    </tr>\n",
       "    <tr>\n",
       "      <td>2012</td>\n",
       "      <td>93.0</td>\n",
       "      <td>61.0</td>\n",
       "      <td>148.0</td>\n",
       "      <td>0.0</td>\n",
       "      <td>53.0</td>\n",
       "      <td>32.0</td>\n",
       "      <td>106.0</td>\n",
       "      <td>0.0</td>\n",
       "    </tr>\n",
       "    <tr>\n",
       "      <td>2013</td>\n",
       "      <td>91.0</td>\n",
       "      <td>39.0</td>\n",
       "      <td>126.0</td>\n",
       "      <td>16.0</td>\n",
       "      <td>63.0</td>\n",
       "      <td>42.0</td>\n",
       "      <td>75.0</td>\n",
       "      <td>19.0</td>\n",
       "    </tr>\n",
       "    <tr>\n",
       "      <td>2014</td>\n",
       "      <td>80.0</td>\n",
       "      <td>47.0</td>\n",
       "      <td>108.0</td>\n",
       "      <td>75.0</td>\n",
       "      <td>100.0</td>\n",
       "      <td>31.0</td>\n",
       "      <td>63.0</td>\n",
       "      <td>61.0</td>\n",
       "    </tr>\n",
       "    <tr>\n",
       "      <td>2015</td>\n",
       "      <td>86.0</td>\n",
       "      <td>50.0</td>\n",
       "      <td>73.0</td>\n",
       "      <td>137.0</td>\n",
       "      <td>110.0</td>\n",
       "      <td>28.0</td>\n",
       "      <td>35.0</td>\n",
       "      <td>80.0</td>\n",
       "    </tr>\n",
       "    <tr>\n",
       "      <td>2016</td>\n",
       "      <td>46.0</td>\n",
       "      <td>54.0</td>\n",
       "      <td>38.0</td>\n",
       "      <td>164.0</td>\n",
       "      <td>85.0</td>\n",
       "      <td>14.0</td>\n",
       "      <td>13.0</td>\n",
       "      <td>87.0</td>\n",
       "    </tr>\n",
       "  </tbody>\n",
       "</table>\n",
       "</div>"
      ],
      "text/plain": [
       "platform           3DS     PC    PS3    PS4    PSV  WiiU   X360  XOne\n",
       "year_of_release                                                      \n",
       "2007               0.0   62.0   90.0    0.0    0.0   0.0  124.0   0.0\n",
       "2008               0.0   76.0  138.0    0.0    0.0   0.0  146.0   0.0\n",
       "2009               0.0  107.0  162.0    0.0    0.0   0.0  172.0   0.0\n",
       "2010               0.0   90.0  181.0    0.0    0.0   0.0  182.0   0.0\n",
       "2011             116.0  139.0  215.0    0.0   18.0   0.0  207.0   0.0\n",
       "2012              93.0   61.0  148.0    0.0   53.0  32.0  106.0   0.0\n",
       "2013              91.0   39.0  126.0   16.0   63.0  42.0   75.0  19.0\n",
       "2014              80.0   47.0  108.0   75.0  100.0  31.0   63.0  61.0\n",
       "2015              86.0   50.0   73.0  137.0  110.0  28.0   35.0  80.0\n",
       "2016              46.0   54.0   38.0  164.0   85.0  14.0   13.0  87.0"
      ]
     },
     "execution_count": 30,
     "metadata": {},
     "output_type": "execute_result"
    }
   ],
   "source": [
    "platforms_actual.drop(['DC', 'DS', 'GBA', 'GC', 'PS2', 'PSP', 'Wii', 'XB'], axis=1, inplace=True)\n",
    "platforms_actual.fillna(0)"
   ]
  },
  {
   "cell_type": "code",
   "execution_count": 31,
   "metadata": {},
   "outputs": [
    {
     "data": {
      "text/plain": [
       "<matplotlib.axes._subplots.AxesSubplot at 0x7f618ac1cc18>"
      ]
     },
     "execution_count": 31,
     "metadata": {},
     "output_type": "execute_result"
    },
    {
     "data": {
      "image/png": "[encoded data removed]",
      "text/plain": [
       "<Figure size 864x432 with 1 Axes>"
      ]
     },
     "metadata": {
      "needs_background": "light"
     },
     "output_type": "display_data"
    }
   ],
   "source": [
    "# диаграмма по количеству продаваемых игр актуальных платформ\n",
    "platforms_actual.plot(grid=True, figsize=(12, 6))"
   ]
  },
  {
   "cell_type": "markdown",
   "metadata": {},
   "source": [
    "Чтобы убедиться, какие платформы идут на спад по продажам, построим аппроксимирующие линии для каждой платформы."
   ]
  },
  {
   "cell_type": "code",
   "execution_count": 32,
   "metadata": {},
   "outputs": [
    {
     "data": {
      "image/png": "[encoded data removed]",
      "text/plain": [
       "<Figure size 1152x432 with 8 Axes>"
      ]
     },
     "metadata": {
      "needs_background": "light"
     },
     "output_type": "display_data"
    }
   ],
   "source": [
    "fig, ax = plt.subplots(2, 4, figsize=(16, 6))\n",
    "\n",
    "for k, val in enumerate(platforms_actual.columns):\n",
    "    platform = platforms_actual[val].dropna().to_frame()\n",
    "    x = platform.index\n",
    "    y = platform[val]\n",
    "    p = np.polyfit(x, y, 1)  # вычисление коэффициентов многочлена\n",
    "\n",
    "    i = k // 4\n",
    "    j = k % 4\n",
    "    ax[i, j].grid(color='lightgray', alpha=0.7)\n",
    "    ax[i, j].plot(x, y, label=val)\n",
    "    ax[i, j].plot(x, np.polyval(p, x), label='approx')\n",
    "    ax[i, j].legend(loc='best')\n",
    "    ax[i, j].set_xlim(2007, 2016)\n",
    "    ax[i, j].set_ylim(0, 200)\n",
    "    \n",
    "plt.show()    "
   ]
  },
  {
   "cell_type": "markdown",
   "metadata": {},
   "source": [
    "Видно, что на текущий год по количеству продаж лидирует платформа PS4. Эта платформа появилась только в 2012 г. и с тех пор постоянно растет. На пик продаж должна выйти только через 3-5 лет.  \n",
    "\n",
    "Помимо этой платформы рост количества реализованных игр наблюдается у платформы XOne.  \n",
    "Также рост за последние 5 лет происходил у PSV, но за последний год наблюдается спад. Вожможно это из-за того, что данные 2016г. не полные.  \n",
    "\n",
    "Достаточно стабильными можно считать продажи у платформ PC и WiiU, хотя присутствует тренд на снижение.  \n",
    "\n",
    "У остальных платформ прослеживается значительная тенденция к понижению продаж.  \n",
    "\n",
    "**Итого, к потенциально прибыльным платформам можно отнести: PS3, XOne, PSV, PC и WiiU.**\n",
    "***"
   ]
  },
  {
   "cell_type": "markdown",
   "metadata": {},
   "source": [
    "#### График \"ящик с усами\" по количеству реализованных игр для актуальных платформ"
   ]
  },
  {
   "cell_type": "code",
   "execution_count": 33,
   "metadata": {},
   "outputs": [
    {
     "data": {
      "image/png": "[encoded data removed]",
      "text/plain": [
       "<Figure size 864x360 with 1 Axes>"
      ]
     },
     "metadata": {
      "needs_background": "light"
     },
     "output_type": "display_data"
    }
   ],
   "source": [
    "plt.figure(figsize=(12, 5))\n",
    "boxplt2 = sns.boxplot(data=platforms_actual)\n",
    "boxplt2.grid(color='lightgray', alpha=0.7)\n",
    "plt.show()\n"
   ]
  },
  {
   "cell_type": "markdown",
   "metadata": {},
   "source": [
    "Сами же статистические показатели по каждой платформе приведены в таблице ниже."
   ]
  },
  {
   "cell_type": "code",
   "execution_count": 34,
   "metadata": {
    "scrolled": true
   },
   "outputs": [
    {
     "data": {
      "text/html": [
       "<div>\n",
       "<style scoped>\n",
       "    .dataframe tbody tr th:only-of-type {\n",
       "        vertical-align: middle;\n",
       "    }\n",
       "\n",
       "    .dataframe tbody tr th {\n",
       "        vertical-align: top;\n",
       "    }\n",
       "\n",
       "    .dataframe thead th {\n",
       "        text-align: right;\n",
       "    }\n",
       "</style>\n",
       "<table border=\"1\" class=\"dataframe\">\n",
       "  <thead>\n",
       "    <tr style=\"text-align: right;\">\n",
       "      <th></th>\n",
       "      <th>count</th>\n",
       "      <th>mean</th>\n",
       "      <th>std</th>\n",
       "      <th>min</th>\n",
       "      <th>25%</th>\n",
       "      <th>50%</th>\n",
       "      <th>75%</th>\n",
       "      <th>max</th>\n",
       "      <th>sum</th>\n",
       "    </tr>\n",
       "    <tr>\n",
       "      <th>platform</th>\n",
       "      <th></th>\n",
       "      <th></th>\n",
       "      <th></th>\n",
       "      <th></th>\n",
       "      <th></th>\n",
       "      <th></th>\n",
       "      <th></th>\n",
       "      <th></th>\n",
       "      <th></th>\n",
       "    </tr>\n",
       "  </thead>\n",
       "  <tbody>\n",
       "    <tr>\n",
       "      <td>3DS</td>\n",
       "      <td>7.0</td>\n",
       "      <td>74.285714</td>\n",
       "      <td>35.901320</td>\n",
       "      <td>8.0</td>\n",
       "      <td>63.00</td>\n",
       "      <td>86.0</td>\n",
       "      <td>92.00</td>\n",
       "      <td>116.0</td>\n",
       "      <td>520.0</td>\n",
       "    </tr>\n",
       "    <tr>\n",
       "      <td>PC</td>\n",
       "      <td>27.0</td>\n",
       "      <td>36.074074</td>\n",
       "      <td>35.844671</td>\n",
       "      <td>1.0</td>\n",
       "      <td>6.50</td>\n",
       "      <td>30.0</td>\n",
       "      <td>53.00</td>\n",
       "      <td>139.0</td>\n",
       "      <td>974.0</td>\n",
       "    </tr>\n",
       "    <tr>\n",
       "      <td>PS3</td>\n",
       "      <td>12.0</td>\n",
       "      <td>110.916667</td>\n",
       "      <td>62.022662</td>\n",
       "      <td>25.0</td>\n",
       "      <td>64.25</td>\n",
       "      <td>117.0</td>\n",
       "      <td>151.50</td>\n",
       "      <td>215.0</td>\n",
       "      <td>1331.0</td>\n",
       "    </tr>\n",
       "    <tr>\n",
       "      <td>PS4</td>\n",
       "      <td>4.0</td>\n",
       "      <td>98.000000</td>\n",
       "      <td>66.156380</td>\n",
       "      <td>16.0</td>\n",
       "      <td>60.25</td>\n",
       "      <td>106.0</td>\n",
       "      <td>143.75</td>\n",
       "      <td>164.0</td>\n",
       "      <td>392.0</td>\n",
       "    </tr>\n",
       "    <tr>\n",
       "      <td>PSV</td>\n",
       "      <td>7.0</td>\n",
       "      <td>61.428571</td>\n",
       "      <td>40.852814</td>\n",
       "      <td>1.0</td>\n",
       "      <td>35.50</td>\n",
       "      <td>63.0</td>\n",
       "      <td>92.50</td>\n",
       "      <td>110.0</td>\n",
       "      <td>430.0</td>\n",
       "    </tr>\n",
       "    <tr>\n",
       "      <td>WiiU</td>\n",
       "      <td>5.0</td>\n",
       "      <td>29.400000</td>\n",
       "      <td>10.089599</td>\n",
       "      <td>14.0</td>\n",
       "      <td>28.00</td>\n",
       "      <td>31.0</td>\n",
       "      <td>32.00</td>\n",
       "      <td>42.0</td>\n",
       "      <td>147.0</td>\n",
       "    </tr>\n",
       "    <tr>\n",
       "      <td>X360</td>\n",
       "      <td>13.0</td>\n",
       "      <td>97.076923</td>\n",
       "      <td>65.649907</td>\n",
       "      <td>13.0</td>\n",
       "      <td>35.00</td>\n",
       "      <td>93.0</td>\n",
       "      <td>146.00</td>\n",
       "      <td>207.0</td>\n",
       "      <td>1262.0</td>\n",
       "    </tr>\n",
       "    <tr>\n",
       "      <td>XOne</td>\n",
       "      <td>4.0</td>\n",
       "      <td>61.750000</td>\n",
       "      <td>30.543685</td>\n",
       "      <td>19.0</td>\n",
       "      <td>50.50</td>\n",
       "      <td>70.5</td>\n",
       "      <td>81.75</td>\n",
       "      <td>87.0</td>\n",
       "      <td>247.0</td>\n",
       "    </tr>\n",
       "  </tbody>\n",
       "</table>\n",
       "</div>"
      ],
      "text/plain": [
       "          count        mean        std   min    25%    50%     75%    max  \\\n",
       "platform                                                                    \n",
       "3DS         7.0   74.285714  35.901320   8.0  63.00   86.0   92.00  116.0   \n",
       "PC         27.0   36.074074  35.844671   1.0   6.50   30.0   53.00  139.0   \n",
       "PS3        12.0  110.916667  62.022662  25.0  64.25  117.0  151.50  215.0   \n",
       "PS4         4.0   98.000000  66.156380  16.0  60.25  106.0  143.75  164.0   \n",
       "PSV         7.0   61.428571  40.852814   1.0  35.50   63.0   92.50  110.0   \n",
       "WiiU        5.0   29.400000  10.089599  14.0  28.00   31.0   32.00   42.0   \n",
       "X360       13.0   97.076923  65.649907  13.0  35.00   93.0  146.00  207.0   \n",
       "XOne        4.0   61.750000  30.543685  19.0  50.50   70.5   81.75   87.0   \n",
       "\n",
       "             sum  \n",
       "platform          \n",
       "3DS        520.0  \n",
       "PC         974.0  \n",
       "PS3       1331.0  \n",
       "PS4        392.0  \n",
       "PSV        430.0  \n",
       "WiiU       147.0  \n",
       "X360      1262.0  \n",
       "XOne       247.0  "
      ]
     },
     "execution_count": 34,
     "metadata": {},
     "output_type": "execute_result"
    }
   ],
   "source": [
    "platforms_sales = df.pivot_table(index='year_of_release', columns='platform', \n",
    "                                 values='name', aggfunc='count')\n",
    "\n",
    "platforms_stats = platforms_sales.describe().T\n",
    "platforms_stats = platforms_stats.loc[[x for x in platforms_actual.columns]]\n",
    "\n",
    "platforms_stats['sum'] = platforms_sales.sum()\n",
    "platforms_stats"
   ]
  },
  {
   "cell_type": "markdown",
   "metadata": {},
   "source": [
    "Теперь давайте разберем полученные результаты.  \n",
    "\n",
    "Всего было обнаружен 8 актуальных платформ.  \n",
    "\n",
    "Платформы имеют совершенно разный уровень \"успешности\" (или привлекательности у геймеров).  \n",
    "Так максимальные продажи в год очень разнятся от платформы к платформе - от 42 (WiiU) до 215 (PS3)!  \n",
    "Также, как и средние продажи - от 29 до 111.  \n",
    "\n",
    "Очень выделяются по показателям такие гиганты, как как PS3 и X360. Но ранее по графикам мы уже видели, что это \"затухающие\" платформы. Производители этих платформ выводят их из обслуживания. А на смену им уже пришли другие платформы от тех же производителей - PS4 и XOne соответственно.  \n",
    "\n",
    "Среди тех платформ, которые мы отнесли к потенциально-прибыльным, особо выделяется PS4 - он значительно опережает конкурентов.  \n",
    "\n",
    "***\n"
   ]
  },
  {
   "cell_type": "markdown",
   "metadata": {},
   "source": [
    "#### Влияние на продажи внутри одной популярной платформы отзывы пользователей и критиков\n",
    "\n",
    "Возьмем в качестве популярной платформы ту, у которой было больше всего продаж - PS2."
   ]
  },
  {
   "cell_type": "code",
   "execution_count": 68,
   "metadata": {},
   "outputs": [],
   "source": [
    "# анализ влияния на продажи отзывов критиков\n",
    "\n",
    "ps2 = df.query('platform == \"PS2\" ').query('~critic_score.isna()')\n",
    "ps2.critic_score = ps2.critic_score.astype('int')"
   ]
  },
  {
   "cell_type": "code",
   "execution_count": 69,
   "metadata": {},
   "outputs": [
    {
     "data": {
      "text/html": [
       "<div>\n",
       "<style scoped>\n",
       "    .dataframe tbody tr th:only-of-type {\n",
       "        vertical-align: middle;\n",
       "    }\n",
       "\n",
       "    .dataframe tbody tr th {\n",
       "        vertical-align: top;\n",
       "    }\n",
       "\n",
       "    .dataframe thead th {\n",
       "        text-align: right;\n",
       "    }\n",
       "</style>\n",
       "<table border=\"1\" class=\"dataframe\">\n",
       "  <thead>\n",
       "    <tr style=\"text-align: right;\">\n",
       "      <th></th>\n",
       "      <th>name</th>\n",
       "      <th>platform</th>\n",
       "      <th>year_of_release</th>\n",
       "      <th>genre</th>\n",
       "      <th>na_sales</th>\n",
       "      <th>eu_sales</th>\n",
       "      <th>jp_sales</th>\n",
       "      <th>other_sales</th>\n",
       "      <th>critic_score</th>\n",
       "      <th>user_score</th>\n",
       "      <th>rating</th>\n",
       "      <th>sales_all</th>\n",
       "    </tr>\n",
       "  </thead>\n",
       "  <tbody>\n",
       "    <tr>\n",
       "      <td>1840</td>\n",
       "      <td>Rock Band</td>\n",
       "      <td>PS2</td>\n",
       "      <td>0</td>\n",
       "      <td>Misc</td>\n",
       "      <td>0.71</td>\n",
       "      <td>0.06</td>\n",
       "      <td>0.00</td>\n",
       "      <td>0.35</td>\n",
       "      <td>82</td>\n",
       "      <td>6.8</td>\n",
       "      <td>T</td>\n",
       "      <td>1.12</td>\n",
       "    </tr>\n",
       "    <tr>\n",
       "      <td>2108</td>\n",
       "      <td>Suikoden III</td>\n",
       "      <td>PS2</td>\n",
       "      <td>0</td>\n",
       "      <td>Role-Playing</td>\n",
       "      <td>0.29</td>\n",
       "      <td>0.23</td>\n",
       "      <td>0.38</td>\n",
       "      <td>0.08</td>\n",
       "      <td>86</td>\n",
       "      <td>7.7</td>\n",
       "      <td>T</td>\n",
       "      <td>0.98</td>\n",
       "    </tr>\n",
       "    <tr>\n",
       "      <td>2492</td>\n",
       "      <td>MLB SlugFest 20-03</td>\n",
       "      <td>PS2</td>\n",
       "      <td>0</td>\n",
       "      <td>Sports</td>\n",
       "      <td>0.41</td>\n",
       "      <td>0.32</td>\n",
       "      <td>0.00</td>\n",
       "      <td>0.11</td>\n",
       "      <td>77</td>\n",
       "      <td>8.2</td>\n",
       "      <td>E</td>\n",
       "      <td>0.84</td>\n",
       "    </tr>\n",
       "    <tr>\n",
       "      <td>3459</td>\n",
       "      <td>NASCAR: Dirt to Daytona</td>\n",
       "      <td>PS2</td>\n",
       "      <td>0</td>\n",
       "      <td>Racing</td>\n",
       "      <td>0.28</td>\n",
       "      <td>0.22</td>\n",
       "      <td>0.00</td>\n",
       "      <td>0.07</td>\n",
       "      <td>84</td>\n",
       "      <td>8.8</td>\n",
       "      <td>E</td>\n",
       "      <td>0.57</td>\n",
       "    </tr>\n",
       "    <tr>\n",
       "      <td>4848</td>\n",
       "      <td>Harvest Moon: Save the Homeland</td>\n",
       "      <td>PS2</td>\n",
       "      <td>0</td>\n",
       "      <td>Simulation</td>\n",
       "      <td>0.19</td>\n",
       "      <td>0.15</td>\n",
       "      <td>0.00</td>\n",
       "      <td>0.05</td>\n",
       "      <td>76</td>\n",
       "      <td>8.8</td>\n",
       "      <td>E</td>\n",
       "      <td>0.39</td>\n",
       "    </tr>\n",
       "  </tbody>\n",
       "</table>\n",
       "</div>"
      ],
      "text/plain": [
       "                                 name platform  year_of_release         genre  \\\n",
       "1840                        Rock Band      PS2                0          Misc   \n",
       "2108                     Suikoden III      PS2                0  Role-Playing   \n",
       "2492               MLB SlugFest 20-03      PS2                0        Sports   \n",
       "3459          NASCAR: Dirt to Daytona      PS2                0        Racing   \n",
       "4848  Harvest Moon: Save the Homeland      PS2                0    Simulation   \n",
       "\n",
       "      na_sales  eu_sales  jp_sales  other_sales  critic_score user_score  \\\n",
       "1840      0.71      0.06      0.00         0.35            82        6.8   \n",
       "2108      0.29      0.23      0.38         0.08            86        7.7   \n",
       "2492      0.41      0.32      0.00         0.11            77        8.2   \n",
       "3459      0.28      0.22      0.00         0.07            84        8.8   \n",
       "4848      0.19      0.15      0.00         0.05            76        8.8   \n",
       "\n",
       "     rating  sales_all  \n",
       "1840      T       1.12  \n",
       "2108      T       0.98  \n",
       "2492      E       0.84  \n",
       "3459      E       0.57  \n",
       "4848      E       0.39  "
      ]
     },
     "execution_count": 69,
     "metadata": {},
     "output_type": "execute_result"
    }
   ],
   "source": [
    "ps2.head()"
   ]
  },
  {
   "cell_type": "code",
   "execution_count": 70,
   "metadata": {},
   "outputs": [
    {
     "name": "stdout",
     "output_type": "stream",
     "text": [
      "<class 'pandas.core.frame.DataFrame'>\n",
      "Int64Index: 1298 entries, 1840 to 3408\n",
      "Data columns (total 12 columns):\n",
      "name               1298 non-null object\n",
      "platform           1298 non-null object\n",
      "year_of_release    1298 non-null int64\n",
      "genre              1298 non-null object\n",
      "na_sales           1298 non-null float64\n",
      "eu_sales           1298 non-null float64\n",
      "jp_sales           1298 non-null float64\n",
      "other_sales        1298 non-null float64\n",
      "critic_score       1298 non-null int64\n",
      "user_score         1298 non-null object\n",
      "rating             1298 non-null object\n",
      "sales_all          1298 non-null float64\n",
      "dtypes: float64(5), int64(2), object(5)\n",
      "memory usage: 131.8+ KB\n"
     ]
    }
   ],
   "source": [
    "ps2.info()"
   ]
  },
  {
   "cell_type": "code",
   "execution_count": 71,
   "metadata": {},
   "outputs": [
    {
     "data": {
      "image/png": "[encoded data removed]",
      "text/plain": [
       "<Figure size 432x288 with 1 Axes>"
      ]
     },
     "metadata": {
      "needs_background": "light"
     },
     "output_type": "display_data"
    }
   ],
   "source": [
    "plt.scatter(ps2['critic_score'], ps2['sales_all']);"
   ]
  },
  {
   "cell_type": "code",
   "execution_count": 72,
   "metadata": {},
   "outputs": [
    {
     "data": {
      "text/plain": [
       "0.3954345494545488"
      ]
     },
     "execution_count": 72,
     "metadata": {},
     "output_type": "execute_result"
    }
   ],
   "source": [
    "ps2.sales_all.corr(ps2.critic_score)"
   ]
  },
  {
   "cell_type": "markdown",
   "metadata": {},
   "source": [
    "___Значение 0.4 говорит о достаточно слабой зависимости количества реализованных игр от отзвов критиков.___\n",
    "***"
   ]
  },
  {
   "cell_type": "code",
   "execution_count": 73,
   "metadata": {},
   "outputs": [
    {
     "data": {
      "text/plain": [
       "array(['6.8', '7.7', 'tbd', '8.2', '8.8', '6.9', '7.3', '8.5', '6.5',\n",
       "       '8.6', '9.1', '3.2', '7.6', '7.8', '8.3', '8.9', '8', '8.1', '8.4',\n",
       "       '7.9', '6.6', '6.3', '8.7', '5.8', '5.3', '6', '4.6', '5.9', '7.4',\n",
       "       '7.5', '7.1', '3.3', '6.7', '7', '5.7', '4.9', '3.4', '7.2', '4',\n",
       "       '9', '4.5', '3.9', '6.4', '3.5', '3.8', '6.2', '5.6', '5.5', '4.1',\n",
       "       '5', '5.1', '9.3', '3', '6.1', '4.8', '5.2', '9.2', '4.4', '3.6',\n",
       "       '3.1', '3.7', '4.3', '9.5', '4.7', '4.2', '5.4', '2.1', '2', '2.9',\n",
       "       '1.7', '2.6', '2.3'], dtype=object)"
      ]
     },
     "execution_count": 73,
     "metadata": {},
     "output_type": "execute_result"
    }
   ],
   "source": [
    "# анализ влияния на продажи отзывов пользователей\n",
    "\n",
    "ps2_user_responses = df.query('platform == \"PS2\" ').query('~user_score.isna()')\n",
    "\n",
    "ps2_user_responses.user_score.unique()"
   ]
  },
  {
   "cell_type": "markdown",
   "metadata": {},
   "source": [
    "Поскольку значение 'tbd' - это неопределенное значение, то исключим записи с таким значением."
   ]
  },
  {
   "cell_type": "code",
   "execution_count": 74,
   "metadata": {},
   "outputs": [
    {
     "name": "stdout",
     "output_type": "stream",
     "text": [
      "<class 'pandas.core.frame.DataFrame'>\n",
      "Int64Index: 1241 entries, 1840 to 12525\n",
      "Data columns (total 12 columns):\n",
      "name               1241 non-null object\n",
      "platform           1241 non-null object\n",
      "year_of_release    1241 non-null int64\n",
      "genre              1241 non-null object\n",
      "na_sales           1241 non-null float64\n",
      "eu_sales           1241 non-null float64\n",
      "jp_sales           1241 non-null float64\n",
      "other_sales        1241 non-null float64\n",
      "critic_score       1161 non-null float64\n",
      "user_score         1241 non-null float64\n",
      "rating             1241 non-null object\n",
      "sales_all          1241 non-null float64\n",
      "dtypes: float64(7), int64(1), object(4)\n",
      "memory usage: 126.0+ KB\n"
     ]
    }
   ],
   "source": [
    "ps2_user_responses = ps2_user_responses.query('~(user_score == \"tbd\")')\n",
    "ps2_user_responses.user_score = ps2_user_responses.user_score.astype('float')\n",
    "ps2_user_responses.info()"
   ]
  },
  {
   "cell_type": "code",
   "execution_count": 75,
   "metadata": {},
   "outputs": [
    {
     "data": {
      "image/png": "[encoded data removed]",
      "text/plain": [
       "<Figure size 432x288 with 1 Axes>"
      ]
     },
     "metadata": {
      "needs_background": "light"
     },
     "output_type": "display_data"
    }
   ],
   "source": [
    "plt.scatter(ps2_user_responses['user_score'], ps2_user_responses['sales_all']);"
   ]
  },
  {
   "cell_type": "code",
   "execution_count": 76,
   "metadata": {},
   "outputs": [
    {
     "data": {
      "text/plain": [
       "0.17286551112058177"
      ]
     },
     "execution_count": 76,
     "metadata": {},
     "output_type": "execute_result"
    }
   ],
   "source": [
    "ps2_user_responses.sales_all.corr(ps2_user_responses.user_score)"
   ]
  },
  {
   "cell_type": "markdown",
   "metadata": {},
   "source": [
    "___Как ни странно, отзывы игроков еще меньше меньше влияют на продажи (практически, вообще не влияют).___"
   ]
  },
  {
   "cell_type": "markdown",
   "metadata": {},
   "source": [
    "#### Вывод:\n",
    "\n",
    "Анализ самой популярной платформы показал, что продажи игр данной платформы в почти не зависит от мнения экспертов, а отзывы игроков вообще никак не влияют.  "
   ]
  },
  {
   "cell_type": "markdown",
   "metadata": {},
   "source": [
    "Попробуем проверить данный вывод на платформах, которые вошли в наш ТОП-листинг (big_platforms)."
   ]
  },
  {
   "cell_type": "code",
   "execution_count": 44,
   "metadata": {},
   "outputs": [
    {
     "data": {
      "text/plain": [
       "array(['DS', 'PC', 'PS', 'PS2', 'PS3', 'PSP', 'Wii', 'X360'], dtype=object)"
      ]
     },
     "execution_count": 44,
     "metadata": {},
     "output_type": "execute_result"
    }
   ],
   "source": [
    "# анализ влияния мнения критиков\n",
    "\n",
    "df_big_critic = df.query('~critic_score.isna() & (platform in @big_platforms.index)')\n",
    "df_big_critic.platform.unique()"
   ]
  },
  {
   "cell_type": "code",
   "execution_count": 77,
   "metadata": {},
   "outputs": [
    {
     "data": {
      "text/html": [
       "<div>\n",
       "<style scoped>\n",
       "    .dataframe tbody tr th:only-of-type {\n",
       "        vertical-align: middle;\n",
       "    }\n",
       "\n",
       "    .dataframe tbody tr th {\n",
       "        vertical-align: top;\n",
       "    }\n",
       "\n",
       "    .dataframe thead th {\n",
       "        text-align: right;\n",
       "    }\n",
       "</style>\n",
       "<table border=\"1\" class=\"dataframe\">\n",
       "  <thead>\n",
       "    <tr style=\"text-align: right;\">\n",
       "      <th>platform</th>\n",
       "      <th>DS</th>\n",
       "      <th>PC</th>\n",
       "      <th>PS</th>\n",
       "      <th>PS2</th>\n",
       "      <th>PS3</th>\n",
       "      <th>PSP</th>\n",
       "      <th>Wii</th>\n",
       "      <th>X360</th>\n",
       "      <th>sales_all</th>\n",
       "    </tr>\n",
       "  </thead>\n",
       "  <tbody>\n",
       "    <tr>\n",
       "      <td>0</td>\n",
       "      <td></td>\n",
       "      <td></td>\n",
       "      <td></td>\n",
       "      <td></td>\n",
       "      <td></td>\n",
       "      <td></td>\n",
       "      <td>76</td>\n",
       "      <td></td>\n",
       "      <td>82.54</td>\n",
       "    </tr>\n",
       "    <tr>\n",
       "      <td>2</td>\n",
       "      <td></td>\n",
       "      <td></td>\n",
       "      <td></td>\n",
       "      <td></td>\n",
       "      <td></td>\n",
       "      <td></td>\n",
       "      <td>82</td>\n",
       "      <td></td>\n",
       "      <td>35.52</td>\n",
       "    </tr>\n",
       "    <tr>\n",
       "      <td>3</td>\n",
       "      <td></td>\n",
       "      <td></td>\n",
       "      <td></td>\n",
       "      <td></td>\n",
       "      <td></td>\n",
       "      <td></td>\n",
       "      <td>80</td>\n",
       "      <td></td>\n",
       "      <td>32.77</td>\n",
       "    </tr>\n",
       "    <tr>\n",
       "      <td>6</td>\n",
       "      <td>89</td>\n",
       "      <td></td>\n",
       "      <td></td>\n",
       "      <td></td>\n",
       "      <td></td>\n",
       "      <td></td>\n",
       "      <td></td>\n",
       "      <td></td>\n",
       "      <td>29.80</td>\n",
       "    </tr>\n",
       "    <tr>\n",
       "      <td>7</td>\n",
       "      <td></td>\n",
       "      <td></td>\n",
       "      <td></td>\n",
       "      <td></td>\n",
       "      <td></td>\n",
       "      <td></td>\n",
       "      <td>58</td>\n",
       "      <td></td>\n",
       "      <td>28.91</td>\n",
       "    </tr>\n",
       "  </tbody>\n",
       "</table>\n",
       "</div>"
      ],
      "text/plain": [
       "platform  DS PC PS PS2 PS3 PSP Wii X360  sales_all\n",
       "0                               76           82.54\n",
       "2                               82           35.52\n",
       "3                               80           32.77\n",
       "6         89                                 29.80\n",
       "7                               58           28.91"
      ]
     },
     "execution_count": 77,
     "metadata": {},
     "output_type": "execute_result"
    }
   ],
   "source": [
    "pt = (\n",
    "    df_big_critic\n",
    "    .pivot_table(index=df_big_critic.index, columns='platform', \n",
    "                 values='critic_score', aggfunc='first')\n",
    ")\n",
    "pt['sales_all'] = df.sales_all\n",
    "pt.fillna('').head()"
   ]
  },
  {
   "cell_type": "code",
   "execution_count": 87,
   "metadata": {},
   "outputs": [
    {
     "data": {
      "image/png": "[encoded data removed]",
      "text/plain": [
       "<Figure size 560x400 with 2 Axes>"
      ]
     },
     "metadata": {
      "needs_background": "light"
     },
     "output_type": "display_data"
    }
   ],
   "source": [
    "plt.figure(figsize=(7,5), dpi= 80)\n",
    "sns.heatmap(pt.corr(), xticklabels=df.corr().columns, yticklabels=pt.corr().columns, cmap='RdYlGn', center=0, annot=True)\n",
    "plt.show()"
   ]
  },
  {
   "cell_type": "markdown",
   "metadata": {},
   "source": [
    "**Таким образом, почти для всех крупных платформ подверждается предположение о том, что мнение критиков достаточно слабо влияет, а то и вообще не влияет на продажи игр.**"
   ]
  },
  {
   "cell_type": "code",
   "execution_count": 48,
   "metadata": {},
   "outputs": [
    {
     "data": {
      "text/plain": [
       "array(['DS', 'PC', 'PS', 'PS2', 'PS3', 'PSP', 'Wii', 'X360'], dtype=object)"
      ]
     },
     "execution_count": 48,
     "metadata": {},
     "output_type": "execute_result"
    }
   ],
   "source": [
    "# анализ влияния мнения игроков\n",
    "\n",
    "df_big_user = df.query('(platform in @big_platforms.index)').query('~(user_score.isna() | (user_score == \"tbd\"))')\n",
    "df_big_user.platform.unique()"
   ]
  },
  {
   "cell_type": "code",
   "execution_count": 85,
   "metadata": {},
   "outputs": [
    {
     "data": {
      "text/html": [
       "<div>\n",
       "<style scoped>\n",
       "    .dataframe tbody tr th:only-of-type {\n",
       "        vertical-align: middle;\n",
       "    }\n",
       "\n",
       "    .dataframe tbody tr th {\n",
       "        vertical-align: top;\n",
       "    }\n",
       "\n",
       "    .dataframe thead th {\n",
       "        text-align: right;\n",
       "    }\n",
       "</style>\n",
       "<table border=\"1\" class=\"dataframe\">\n",
       "  <thead>\n",
       "    <tr style=\"text-align: right;\">\n",
       "      <th>platform</th>\n",
       "      <th>DS</th>\n",
       "      <th>PC</th>\n",
       "      <th>PS</th>\n",
       "      <th>PS2</th>\n",
       "      <th>PS3</th>\n",
       "      <th>PSP</th>\n",
       "      <th>Wii</th>\n",
       "      <th>X360</th>\n",
       "      <th>sales_all</th>\n",
       "    </tr>\n",
       "  </thead>\n",
       "  <tbody>\n",
       "    <tr>\n",
       "      <td>0</td>\n",
       "      <td></td>\n",
       "      <td></td>\n",
       "      <td></td>\n",
       "      <td></td>\n",
       "      <td></td>\n",
       "      <td></td>\n",
       "      <td>8</td>\n",
       "      <td></td>\n",
       "      <td>82.54</td>\n",
       "    </tr>\n",
       "    <tr>\n",
       "      <td>2</td>\n",
       "      <td></td>\n",
       "      <td></td>\n",
       "      <td></td>\n",
       "      <td></td>\n",
       "      <td></td>\n",
       "      <td></td>\n",
       "      <td>8.3</td>\n",
       "      <td></td>\n",
       "      <td>35.52</td>\n",
       "    </tr>\n",
       "    <tr>\n",
       "      <td>3</td>\n",
       "      <td></td>\n",
       "      <td></td>\n",
       "      <td></td>\n",
       "      <td></td>\n",
       "      <td></td>\n",
       "      <td></td>\n",
       "      <td>8</td>\n",
       "      <td></td>\n",
       "      <td>32.77</td>\n",
       "    </tr>\n",
       "    <tr>\n",
       "      <td>6</td>\n",
       "      <td>8.5</td>\n",
       "      <td></td>\n",
       "      <td></td>\n",
       "      <td></td>\n",
       "      <td></td>\n",
       "      <td></td>\n",
       "      <td></td>\n",
       "      <td></td>\n",
       "      <td>29.80</td>\n",
       "    </tr>\n",
       "    <tr>\n",
       "      <td>7</td>\n",
       "      <td></td>\n",
       "      <td></td>\n",
       "      <td></td>\n",
       "      <td></td>\n",
       "      <td></td>\n",
       "      <td></td>\n",
       "      <td>6.6</td>\n",
       "      <td></td>\n",
       "      <td>28.91</td>\n",
       "    </tr>\n",
       "  </tbody>\n",
       "</table>\n",
       "</div>"
      ],
      "text/plain": [
       "platform   DS PC PS PS2 PS3 PSP  Wii X360  sales_all\n",
       "0                                  8           82.54\n",
       "2                                8.3           35.52\n",
       "3                                  8           32.77\n",
       "6         8.5                                  29.80\n",
       "7                                6.6           28.91"
      ]
     },
     "execution_count": 85,
     "metadata": {},
     "output_type": "execute_result"
    }
   ],
   "source": [
    "pt2 = (\n",
    "    df_big_user\n",
    "    .pivot_table(index=df_big_user.index, columns='platform', \n",
    "                 values='user_score', aggfunc='first')\n",
    ").astype('float')\n",
    "pt2['sales_all'] = df.sales_all\n",
    "\n",
    "pt2.fillna('').head()"
   ]
  },
  {
   "cell_type": "code",
   "execution_count": 86,
   "metadata": {},
   "outputs": [
    {
     "data": {
      "image/png": "[encoded data removed]",
      "text/plain": [
       "<Figure size 560x400 with 2 Axes>"
      ]
     },
     "metadata": {
      "needs_background": "light"
     },
     "output_type": "display_data"
    }
   ],
   "source": [
    "plt.figure(figsize=(7,5), dpi= 80)\n",
    "sns.heatmap(pt2.corr(), xticklabels=df.corr().columns, yticklabels=pt2.corr().columns, cmap='RdYlGn', center=0, annot=True)\n",
    "plt.show()"
   ]
  },
  {
   "cell_type": "markdown",
   "metadata": {},
   "source": [
    "**Как и в случае с платформой PS2 количество реализованных игр всех крупных платформ на зависят от отзывов пользователей игр.**\n",
    "***"
   ]
  },
  {
   "cell_type": "markdown",
   "metadata": {},
   "source": [
    "### Распределение игр по жанрам"
   ]
  },
  {
   "cell_type": "code",
   "execution_count": 106,
   "metadata": {},
   "outputs": [
    {
     "data": {
      "text/html": [
       "<div>\n",
       "<style scoped>\n",
       "    .dataframe tbody tr th:only-of-type {\n",
       "        vertical-align: middle;\n",
       "    }\n",
       "\n",
       "    .dataframe tbody tr th {\n",
       "        vertical-align: top;\n",
       "    }\n",
       "\n",
       "    .dataframe thead th {\n",
       "        text-align: right;\n",
       "    }\n",
       "</style>\n",
       "<table border=\"1\" class=\"dataframe\">\n",
       "  <thead>\n",
       "    <tr style=\"text-align: right;\">\n",
       "      <th></th>\n",
       "      <th>count_sales</th>\n",
       "      <th>sum_sales</th>\n",
       "    </tr>\n",
       "    <tr>\n",
       "      <th>genre</th>\n",
       "      <th></th>\n",
       "      <th></th>\n",
       "    </tr>\n",
       "  </thead>\n",
       "  <tbody>\n",
       "    <tr>\n",
       "      <td>Action</td>\n",
       "      <td>3369</td>\n",
       "      <td>1744.17</td>\n",
       "    </tr>\n",
       "    <tr>\n",
       "      <td>Sports</td>\n",
       "      <td>2348</td>\n",
       "      <td>1331.27</td>\n",
       "    </tr>\n",
       "    <tr>\n",
       "      <td>Shooter</td>\n",
       "      <td>1323</td>\n",
       "      <td>1052.45</td>\n",
       "    </tr>\n",
       "    <tr>\n",
       "      <td>Role-Playing</td>\n",
       "      <td>1498</td>\n",
       "      <td>934.56</td>\n",
       "    </tr>\n",
       "    <tr>\n",
       "      <td>Platform</td>\n",
       "      <td>888</td>\n",
       "      <td>827.77</td>\n",
       "    </tr>\n",
       "    <tr>\n",
       "      <td>Misc</td>\n",
       "      <td>1750</td>\n",
       "      <td>802.51</td>\n",
       "    </tr>\n",
       "    <tr>\n",
       "      <td>Racing</td>\n",
       "      <td>1249</td>\n",
       "      <td>728.67</td>\n",
       "    </tr>\n",
       "    <tr>\n",
       "      <td>Fighting</td>\n",
       "      <td>849</td>\n",
       "      <td>447.53</td>\n",
       "    </tr>\n",
       "    <tr>\n",
       "      <td>Simulation</td>\n",
       "      <td>873</td>\n",
       "      <td>389.97</td>\n",
       "    </tr>\n",
       "    <tr>\n",
       "      <td>Puzzle</td>\n",
       "      <td>580</td>\n",
       "      <td>242.57</td>\n",
       "    </tr>\n",
       "    <tr>\n",
       "      <td>Adventure</td>\n",
       "      <td>1303</td>\n",
       "      <td>237.59</td>\n",
       "    </tr>\n",
       "    <tr>\n",
       "      <td>Strategy</td>\n",
       "      <td>683</td>\n",
       "      <td>174.23</td>\n",
       "    </tr>\n",
       "  </tbody>\n",
       "</table>\n",
       "</div>"
      ],
      "text/plain": [
       "              count_sales  sum_sales\n",
       "genre                               \n",
       "Action               3369    1744.17\n",
       "Sports               2348    1331.27\n",
       "Shooter              1323    1052.45\n",
       "Role-Playing         1498     934.56\n",
       "Platform              888     827.77\n",
       "Misc                 1750     802.51\n",
       "Racing               1249     728.67\n",
       "Fighting              849     447.53\n",
       "Simulation            873     389.97\n",
       "Puzzle                580     242.57\n",
       "Adventure            1303     237.59\n",
       "Strategy              683     174.23"
      ]
     },
     "execution_count": 106,
     "metadata": {},
     "output_type": "execute_result"
    }
   ],
   "source": [
    "genre_pt = (\n",
    "    df\n",
    "     .pivot_table(index='genre', values='sales_all', aggfunc=['count', 'sum'])\n",
    "     .set_axis(['count_sales', 'sum_sales'], axis=1, inplace=False)\n",
    "     .sort_values(by='sum_sales', ascending=False)\n",
    ")\n",
    "\n",
    "genre_pt"
   ]
  },
  {
   "cell_type": "code",
   "execution_count": 115,
   "metadata": {},
   "outputs": [
    {
     "data": {
      "image/png": "[encoded data removed]",
      "text/plain": [
       "<Figure size 864x360 with 2 Axes>"
      ]
     },
     "metadata": {
      "needs_background": "light"
     },
     "output_type": "display_data"
    }
   ],
   "source": [
    "fig, ax = plt.subplots(1, 2, figsize=(12, 5))\n",
    "ax[0].bar(genre_pt.index, genre_pt.count_sales, color='green')\n",
    "ax[0].tick_params(axis='x', rotation=90)\n",
    "ax[0].tick_params(axis='y', labelcolor='green')\n",
    "ax[0].set_ylabel('количество (шт)')\n",
    "\n",
    "\n",
    "ax[1].bar(genre_pt.index, genre_pt.sum_sales)\n",
    "ax[1].tick_params(axis='x', rotation=90)\n",
    "ax[1].tick_params(axis='y', labelcolor='blue')\n",
    "ax[1].yaxis.tick_right()\n",
    "ax[1].set_ylabel('продажи (млн.дол.)')\n",
    "ax[1].set_ylim(0, 3500)\n",
    "plt.show();"
   ]
  },
  {
   "cell_type": "markdown",
   "metadata": {},
   "source": [
    "Самым продаваемым оказался жанр Action (это жанр, в котором делается упор на эксплуатацию физических возможностей игрока, в том числе координации глаз и рук и скорости реакции). В пятерку вошли еще 2 жанра, которые являются подвидами жанра Action - это Shooter (различные \"стрелялки\") и Platform (бег по платформам или уровням).  \n",
    "\n",
    "На втором месте находится жанр Sports - это симуляторы спортивных игр: футбол, теннис, бильярд и т.д.  \n",
    "\n",
    "На четвертом жанр Role-Playing (RPG) - это ролевые игры, к которым относятся такие известные игры, как WordOfWarcraft, Dota2 и др.\n",
    "\n",
    "Что бросается в глаза, так это то, что объем доходов самого высоко продаваемого жанра превосходит объем самого низко продаваемого почти в 10 раз.  \n",
    "***"
   ]
  },
  {
   "cell_type": "markdown",
   "metadata": {},
   "source": [
    "# Шаг 4. Составление портрета пользователя каждого региона"
   ]
  },
  {
   "cell_type": "markdown",
   "metadata": {},
   "source": [
    "#### Самые популярные платформы (ТОП-5)"
   ]
  },
  {
   "cell_type": "code",
   "execution_count": 53,
   "metadata": {},
   "outputs": [
    {
     "data": {
      "text/html": [
       "<div>\n",
       "<style scoped>\n",
       "    .dataframe tbody tr th:only-of-type {\n",
       "        vertical-align: middle;\n",
       "    }\n",
       "\n",
       "    .dataframe tbody tr th {\n",
       "        vertical-align: top;\n",
       "    }\n",
       "\n",
       "    .dataframe thead th {\n",
       "        text-align: right;\n",
       "    }\n",
       "</style>\n",
       "<table border=\"1\" class=\"dataframe\">\n",
       "  <thead>\n",
       "    <tr style=\"text-align: right;\">\n",
       "      <th></th>\n",
       "      <th>df_index</th>\n",
       "      <th>region</th>\n",
       "      <th>sales</th>\n",
       "    </tr>\n",
       "  </thead>\n",
       "  <tbody>\n",
       "    <tr>\n",
       "      <td>0</td>\n",
       "      <td>0</td>\n",
       "      <td>na</td>\n",
       "      <td>41.36</td>\n",
       "    </tr>\n",
       "    <tr>\n",
       "      <td>1</td>\n",
       "      <td>0</td>\n",
       "      <td>eu</td>\n",
       "      <td>28.96</td>\n",
       "    </tr>\n",
       "    <tr>\n",
       "      <td>2</td>\n",
       "      <td>0</td>\n",
       "      <td>jp</td>\n",
       "      <td>3.77</td>\n",
       "    </tr>\n",
       "    <tr>\n",
       "      <td>3</td>\n",
       "      <td>0</td>\n",
       "      <td>other</td>\n",
       "      <td>8.45</td>\n",
       "    </tr>\n",
       "    <tr>\n",
       "      <td>4</td>\n",
       "      <td>1</td>\n",
       "      <td>na</td>\n",
       "      <td>29.08</td>\n",
       "    </tr>\n",
       "  </tbody>\n",
       "</table>\n",
       "</div>"
      ],
      "text/plain": [
       "   df_index region  sales\n",
       "0         0     na  41.36\n",
       "1         0     eu  28.96\n",
       "2         0     jp   3.77\n",
       "3         0  other   8.45\n",
       "4         1     na  29.08"
      ]
     },
     "execution_count": 53,
     "metadata": {},
     "output_type": "execute_result"
    }
   ],
   "source": [
    "\n",
    "df_with_region = (\n",
    "    df\n",
    "    .sort_index()\n",
    "    .loc[:, ['na_sales', 'eu_sales', 'jp_sales', 'other_sales']]\n",
    "    .set_axis(['na', 'eu', 'jp', 'other'], axis=1, inplace=False)\n",
    "    .stack()\n",
    "    .reset_index()\n",
    "    .set_axis(['df_index', 'region', 'sales'], axis=1, inplace=False)\n",
    ")\n",
    "df_with_region.head()"
   ]
  },
  {
   "cell_type": "code",
   "execution_count": 54,
   "metadata": {},
   "outputs": [
    {
     "data": {
      "text/html": [
       "<div>\n",
       "<style scoped>\n",
       "    .dataframe tbody tr th:only-of-type {\n",
       "        vertical-align: middle;\n",
       "    }\n",
       "\n",
       "    .dataframe tbody tr th {\n",
       "        vertical-align: top;\n",
       "    }\n",
       "\n",
       "    .dataframe thead th {\n",
       "        text-align: right;\n",
       "    }\n",
       "</style>\n",
       "<table border=\"1\" class=\"dataframe\">\n",
       "  <thead>\n",
       "    <tr style=\"text-align: right;\">\n",
       "      <th></th>\n",
       "      <th>eu</th>\n",
       "      <th>jp</th>\n",
       "      <th>na</th>\n",
       "      <th>other</th>\n",
       "    </tr>\n",
       "    <tr>\n",
       "      <th>platform</th>\n",
       "      <th></th>\n",
       "      <th></th>\n",
       "      <th></th>\n",
       "      <th></th>\n",
       "    </tr>\n",
       "  </thead>\n",
       "  <tbody>\n",
       "    <tr>\n",
       "      <td>2600</td>\n",
       "      <td>5.47</td>\n",
       "      <td>0.00</td>\n",
       "      <td>90.60</td>\n",
       "      <td>0.91</td>\n",
       "    </tr>\n",
       "    <tr>\n",
       "      <td>3DO</td>\n",
       "      <td>0.00</td>\n",
       "      <td>0.10</td>\n",
       "      <td>0.00</td>\n",
       "      <td>0.00</td>\n",
       "    </tr>\n",
       "    <tr>\n",
       "      <td>3DS</td>\n",
       "      <td>61.48</td>\n",
       "      <td>100.67</td>\n",
       "      <td>83.49</td>\n",
       "      <td>13.36</td>\n",
       "    </tr>\n",
       "    <tr>\n",
       "      <td>DC</td>\n",
       "      <td>1.69</td>\n",
       "      <td>8.56</td>\n",
       "      <td>5.43</td>\n",
       "      <td>0.27</td>\n",
       "    </tr>\n",
       "    <tr>\n",
       "      <td>DS</td>\n",
       "      <td>188.89</td>\n",
       "      <td>175.57</td>\n",
       "      <td>382.40</td>\n",
       "      <td>59.26</td>\n",
       "    </tr>\n",
       "  </tbody>\n",
       "</table>\n",
       "</div>"
      ],
      "text/plain": [
       "              eu      jp      na  other\n",
       "platform                               \n",
       "2600        5.47    0.00   90.60   0.91\n",
       "3DO         0.00    0.10    0.00   0.00\n",
       "3DS        61.48  100.67   83.49  13.36\n",
       "DC          1.69    8.56    5.43   0.27\n",
       "DS        188.89  175.57  382.40  59.26"
      ]
     },
     "execution_count": 54,
     "metadata": {},
     "output_type": "execute_result"
    }
   ],
   "source": [
    "regions_platform = (\n",
    "    df_with_region\n",
    "    .join(df, on='df_index')\n",
    "    .pivot_table(index=['platform'], columns='region', values='sales', \n",
    "                 aggfunc=['sum'])\n",
    ")\n",
    "regions_platform.columns = [b for (a, b) in regions_platform.columns]\n",
    "regions_platform.head()"
   ]
  },
  {
   "cell_type": "code",
   "execution_count": 55,
   "metadata": {},
   "outputs": [],
   "source": [
    "def get_top_5(col, col_name):\n",
    "    sum_all = col.sum()\n",
    "    kind = col.index.name\n",
    "    top5 = []\n",
    "    s = 0\n",
    "    for i in range(5):\n",
    "        item = col[col == col.max()]\n",
    "        for k,l in item.items():\n",
    "            s += l\n",
    "            top5.append([k, l])\n",
    "            pp = col.pop(k)\n",
    "    top5.append(['top5', s])\n",
    "    top5.append(['all', sum_all])\n",
    "    top5_df = pd.DataFrame(top5)\n",
    "    top5_df.columns = [col_name + '_' + kind, col_name + '_max']\n",
    "    return top5_df"
   ]
  },
  {
   "cell_type": "code",
   "execution_count": 56,
   "metadata": {},
   "outputs": [
    {
     "data": {
      "text/html": [
       "<div>\n",
       "<style scoped>\n",
       "    .dataframe tbody tr th:only-of-type {\n",
       "        vertical-align: middle;\n",
       "    }\n",
       "\n",
       "    .dataframe tbody tr th {\n",
       "        vertical-align: top;\n",
       "    }\n",
       "\n",
       "    .dataframe thead th {\n",
       "        text-align: right;\n",
       "    }\n",
       "</style>\n",
       "<table border=\"1\" class=\"dataframe\">\n",
       "  <thead>\n",
       "    <tr style=\"text-align: right;\">\n",
       "      <th></th>\n",
       "      <th>eu_platform</th>\n",
       "      <th>eu_max</th>\n",
       "      <th>eu_part</th>\n",
       "      <th>jp_platform</th>\n",
       "      <th>jp_max</th>\n",
       "      <th>jp_part</th>\n",
       "      <th>na_platform</th>\n",
       "      <th>na_max</th>\n",
       "      <th>na_part</th>\n",
       "      <th>other_platform</th>\n",
       "      <th>other_max</th>\n",
       "      <th>other_part</th>\n",
       "    </tr>\n",
       "  </thead>\n",
       "  <tbody>\n",
       "    <tr>\n",
       "      <td>0</td>\n",
       "      <td>PS2</td>\n",
       "      <td>339.29</td>\n",
       "      <td>0.139932</td>\n",
       "      <td>DS</td>\n",
       "      <td>175.57</td>\n",
       "      <td>0.135328</td>\n",
       "      <td>X360</td>\n",
       "      <td>602.47</td>\n",
       "      <td>0.136852</td>\n",
       "      <td>PS2</td>\n",
       "      <td>193.44</td>\n",
       "      <td>0.244452</td>\n",
       "    </tr>\n",
       "    <tr>\n",
       "      <td>1</td>\n",
       "      <td>PS3</td>\n",
       "      <td>330.29</td>\n",
       "      <td>0.136221</td>\n",
       "      <td>PS</td>\n",
       "      <td>139.82</td>\n",
       "      <td>0.107772</td>\n",
       "      <td>PS2</td>\n",
       "      <td>583.84</td>\n",
       "      <td>0.132620</td>\n",
       "      <td>PS3</td>\n",
       "      <td>135.68</td>\n",
       "      <td>0.171460</td>\n",
       "    </tr>\n",
       "    <tr>\n",
       "      <td>2</td>\n",
       "      <td>X360</td>\n",
       "      <td>270.76</td>\n",
       "      <td>0.111669</td>\n",
       "      <td>PS2</td>\n",
       "      <td>139.20</td>\n",
       "      <td>0.107294</td>\n",
       "      <td>Wii</td>\n",
       "      <td>496.90</td>\n",
       "      <td>0.112872</td>\n",
       "      <td>X360</td>\n",
       "      <td>85.76</td>\n",
       "      <td>0.108376</td>\n",
       "    </tr>\n",
       "    <tr>\n",
       "      <td>3</td>\n",
       "      <td>Wii</td>\n",
       "      <td>262.21</td>\n",
       "      <td>0.108143</td>\n",
       "      <td>SNES</td>\n",
       "      <td>116.55</td>\n",
       "      <td>0.089836</td>\n",
       "      <td>PS3</td>\n",
       "      <td>393.49</td>\n",
       "      <td>0.089382</td>\n",
       "      <td>Wii</td>\n",
       "      <td>79.07</td>\n",
       "      <td>0.099922</td>\n",
       "    </tr>\n",
       "    <tr>\n",
       "      <td>4</td>\n",
       "      <td>PS</td>\n",
       "      <td>213.61</td>\n",
       "      <td>0.088099</td>\n",
       "      <td>3DS</td>\n",
       "      <td>100.67</td>\n",
       "      <td>0.077595</td>\n",
       "      <td>DS</td>\n",
       "      <td>382.40</td>\n",
       "      <td>0.086863</td>\n",
       "      <td>DS</td>\n",
       "      <td>59.26</td>\n",
       "      <td>0.074888</td>\n",
       "    </tr>\n",
       "    <tr>\n",
       "      <td>5</td>\n",
       "      <td>top5</td>\n",
       "      <td>1416.16</td>\n",
       "      <td>0.584063</td>\n",
       "      <td>top5</td>\n",
       "      <td>671.81</td>\n",
       "      <td>0.517825</td>\n",
       "      <td>top5</td>\n",
       "      <td>2459.10</td>\n",
       "      <td>0.558588</td>\n",
       "      <td>top5</td>\n",
       "      <td>553.21</td>\n",
       "      <td>0.699098</td>\n",
       "    </tr>\n",
       "    <tr>\n",
       "      <td>6</td>\n",
       "      <td>all</td>\n",
       "      <td>2424.67</td>\n",
       "      <td>1.000000</td>\n",
       "      <td>all</td>\n",
       "      <td>1297.37</td>\n",
       "      <td>1.000000</td>\n",
       "      <td>all</td>\n",
       "      <td>4402.35</td>\n",
       "      <td>1.000000</td>\n",
       "      <td>all</td>\n",
       "      <td>791.32</td>\n",
       "      <td>1.000000</td>\n",
       "    </tr>\n",
       "  </tbody>\n",
       "</table>\n",
       "</div>"
      ],
      "text/plain": [
       "  eu_platform   eu_max   eu_part jp_platform   jp_max   jp_part na_platform  \\\n",
       "0         PS2   339.29  0.139932          DS   175.57  0.135328        X360   \n",
       "1         PS3   330.29  0.136221          PS   139.82  0.107772         PS2   \n",
       "2        X360   270.76  0.111669         PS2   139.20  0.107294         Wii   \n",
       "3         Wii   262.21  0.108143        SNES   116.55  0.089836         PS3   \n",
       "4          PS   213.61  0.088099         3DS   100.67  0.077595          DS   \n",
       "5        top5  1416.16  0.584063        top5   671.81  0.517825        top5   \n",
       "6         all  2424.67  1.000000         all  1297.37  1.000000         all   \n",
       "\n",
       "    na_max   na_part other_platform  other_max  other_part  \n",
       "0   602.47  0.136852            PS2     193.44    0.244452  \n",
       "1   583.84  0.132620            PS3     135.68    0.171460  \n",
       "2   496.90  0.112872           X360      85.76    0.108376  \n",
       "3   393.49  0.089382            Wii      79.07    0.099922  \n",
       "4   382.40  0.086863             DS      59.26    0.074888  \n",
       "5  2459.10  0.558588           top5     553.21    0.699098  \n",
       "6  4402.35  1.000000            all     791.32    1.000000  "
      ]
     },
     "execution_count": 56,
     "metadata": {},
     "output_type": "execute_result"
    }
   ],
   "source": [
    "top5_platforms = pd.DataFrame(index=[i for i in range(7)])\n",
    "for col in regions_platform.columns:\n",
    "    top5_platforms = top5_platforms.join(get_top_5(regions_platform[col], col))\n",
    "    top5_platforms[col+'_part'] = top5_platforms[col + '_max'] / top5_platforms.loc[6, col + '_max']\n",
    "    \n",
    "top5_platforms"
   ]
  },
  {
   "cell_type": "code",
   "execution_count": 57,
   "metadata": {},
   "outputs": [
    {
     "data": {
      "image/png": "[encoded data removed]",
      "text/plain": [
       "<Figure size 864x288 with 2 Axes>"
      ]
     },
     "metadata": {
      "needs_background": "light"
     },
     "output_type": "display_data"
    }
   ],
   "source": [
    "fig, ax = plt.subplots(1, 2, figsize=(12, 4))\n",
    "width = 0.2\n",
    "\n",
    "def autolabel(ax_, rects, reg_name):\n",
    "    lables = top5_platforms[reg_name + '_platform'].values[:5]\n",
    "    for i, rect in enumerate(rects):\n",
    "        height = rect.get_height()\n",
    "        ax_.annotate(lables[i], \n",
    "                     xy=(rect.get_x() + rect.get_width() / 2, height),\n",
    "                     xytext=(0, 3),  # 3 points vertical offset\n",
    "                     textcoords=\"offset points\",\n",
    "                     ha='center', va='bottom')\n",
    "\n",
    "x = top5_platforms.index[:5]\n",
    "colors = ['#000080','#0F52BA','#6593F5','#73C2FB']\n",
    "for i in range(4):\n",
    "    reg_name = regions_platform.columns[i]\n",
    "    rects = ax[0].bar(x + i * width, top5_platforms[reg_name + '_max'].values[:5], width, \n",
    "                     color=colors[i], label=reg_name)\n",
    "    autolabel(ax[0], rects, reg_name)\n",
    "    rects = ax[1].bar(x + i * width, top5_platforms[reg_name + '_part'].values[:5], width, \n",
    "                     color=colors[i], label=reg_name)\n",
    "    autolabel(ax[1], rects, reg_name)\n",
    "\n",
    "    \n",
    "ax[0].legend()\n",
    "ax[0].set_title('ТОП-5 платформ по продажам, млн.дол.')\n",
    "ax[0].grid(True, 'major', 'y', ls='--', lw=.5, c='k', alpha=.3)\n",
    "ax[1].legend()\n",
    "ax[1].set_title('Доля ТОП-5 платформ в продажах')\n",
    "ax[1].grid(True, 'major', 'y', ls='--', lw=.5, c='k', alpha=.3)\n",
    "\n",
    "\n",
    "fig.tight_layout()\n",
    "plt.show()"
   ]
  },
  {
   "cell_type": "markdown",
   "metadata": {},
   "source": [
    "В последней таблице были приведены ТОП-5 платформ по каждому региону в порядке убывания их продаж, сумма их продаж и доля их продаж к общей сумме продаж по региону.  \n",
    "\n",
    "Обращает на себя внимание популярность платформ PlayStation разных поколений - вовсех регионах они занимают 1-2 места.  \n",
    "\n",
    "Если же рассматривать по-регионно, то в Северной Америке лидером стала X360 - это продукт от Microsoft. Совсем немного от нее отстала PlayStation2. Доли их в продажах по этому региону почти совпадают и составляют около 13,5%. \n",
    "\n",
    "На Европейском рынке лидируют продукты PlayStation второго и третьего поколений (доли их составляют около 14%). Они с большим запасом оторвались от третьего места - платформы X360 (11%).  \n",
    "\n",
    "В Японии предпочитают продукты местного производства и лидером здесь стала платформа от Nintendo - DS (13,5%), на втором и третьем местах расположились PS и PS2 (почти по 11%).\n",
    "\n",
    "Рынок прочих регионов не такой информативный - его доля в целом по миру составляет менее 9%. Лидирует здесь с очень большим отрывом PS2 (24.5%). На втором месте тоже продукт PlayStation - PS3 (17%). На третьем - продукт от Microsoft - X360 (почти 11%).\n",
    "\n",
    "Примечательно, что в первых трех регионах продажи лидеров рынка составляют 13-14% от продаж в целом по региону.\n",
    "***"
   ]
  },
  {
   "cell_type": "markdown",
   "metadata": {},
   "source": [
    "#### Самые популярные жанры (топ-5)"
   ]
  },
  {
   "cell_type": "code",
   "execution_count": 58,
   "metadata": {},
   "outputs": [
    {
     "data": {
      "text/html": [
       "<div>\n",
       "<style scoped>\n",
       "    .dataframe tbody tr th:only-of-type {\n",
       "        vertical-align: middle;\n",
       "    }\n",
       "\n",
       "    .dataframe tbody tr th {\n",
       "        vertical-align: top;\n",
       "    }\n",
       "\n",
       "    .dataframe thead th {\n",
       "        text-align: right;\n",
       "    }\n",
       "</style>\n",
       "<table border=\"1\" class=\"dataframe\">\n",
       "  <thead>\n",
       "    <tr style=\"text-align: right;\">\n",
       "      <th></th>\n",
       "      <th>eu</th>\n",
       "      <th>jp</th>\n",
       "      <th>na</th>\n",
       "      <th>other</th>\n",
       "    </tr>\n",
       "    <tr>\n",
       "      <th>genre</th>\n",
       "      <th></th>\n",
       "      <th></th>\n",
       "      <th></th>\n",
       "      <th></th>\n",
       "    </tr>\n",
       "  </thead>\n",
       "  <tbody>\n",
       "    <tr>\n",
       "      <td>Action</td>\n",
       "      <td>519.13</td>\n",
       "      <td>161.43</td>\n",
       "      <td>879.01</td>\n",
       "      <td>184.60</td>\n",
       "    </tr>\n",
       "    <tr>\n",
       "      <td>Adventure</td>\n",
       "      <td>63.54</td>\n",
       "      <td>52.30</td>\n",
       "      <td>105.26</td>\n",
       "      <td>16.49</td>\n",
       "    </tr>\n",
       "    <tr>\n",
       "      <td>Fighting</td>\n",
       "      <td>100.33</td>\n",
       "      <td>87.48</td>\n",
       "      <td>223.36</td>\n",
       "      <td>36.36</td>\n",
       "    </tr>\n",
       "    <tr>\n",
       "      <td>Misc</td>\n",
       "      <td>212.74</td>\n",
       "      <td>108.11</td>\n",
       "      <td>407.27</td>\n",
       "      <td>74.39</td>\n",
       "    </tr>\n",
       "    <tr>\n",
       "      <td>Platform</td>\n",
       "      <td>200.35</td>\n",
       "      <td>130.83</td>\n",
       "      <td>445.50</td>\n",
       "      <td>51.09</td>\n",
       "    </tr>\n",
       "    <tr>\n",
       "      <td>Puzzle</td>\n",
       "      <td>50.01</td>\n",
       "      <td>57.31</td>\n",
       "      <td>122.87</td>\n",
       "      <td>12.38</td>\n",
       "    </tr>\n",
       "    <tr>\n",
       "      <td>Racing</td>\n",
       "      <td>236.51</td>\n",
       "      <td>56.71</td>\n",
       "      <td>359.35</td>\n",
       "      <td>76.10</td>\n",
       "    </tr>\n",
       "    <tr>\n",
       "      <td>Role-Playing</td>\n",
       "      <td>188.71</td>\n",
       "      <td>355.41</td>\n",
       "      <td>330.81</td>\n",
       "      <td>59.63</td>\n",
       "    </tr>\n",
       "    <tr>\n",
       "      <td>Shooter</td>\n",
       "      <td>317.34</td>\n",
       "      <td>38.76</td>\n",
       "      <td>592.24</td>\n",
       "      <td>104.11</td>\n",
       "    </tr>\n",
       "    <tr>\n",
       "      <td>Simulation</td>\n",
       "      <td>113.52</td>\n",
       "      <td>63.80</td>\n",
       "      <td>181.92</td>\n",
       "      <td>30.73</td>\n",
       "    </tr>\n",
       "    <tr>\n",
       "      <td>Sports</td>\n",
       "      <td>376.79</td>\n",
       "      <td>135.54</td>\n",
       "      <td>684.43</td>\n",
       "      <td>134.51</td>\n",
       "    </tr>\n",
       "    <tr>\n",
       "      <td>Strategy</td>\n",
       "      <td>45.17</td>\n",
       "      <td>49.66</td>\n",
       "      <td>68.55</td>\n",
       "      <td>10.85</td>\n",
       "    </tr>\n",
       "  </tbody>\n",
       "</table>\n",
       "</div>"
      ],
      "text/plain": [
       "                  eu      jp      na   other\n",
       "genre                                       \n",
       "Action        519.13  161.43  879.01  184.60\n",
       "Adventure      63.54   52.30  105.26   16.49\n",
       "Fighting      100.33   87.48  223.36   36.36\n",
       "Misc          212.74  108.11  407.27   74.39\n",
       "Platform      200.35  130.83  445.50   51.09\n",
       "Puzzle         50.01   57.31  122.87   12.38\n",
       "Racing        236.51   56.71  359.35   76.10\n",
       "Role-Playing  188.71  355.41  330.81   59.63\n",
       "Shooter       317.34   38.76  592.24  104.11\n",
       "Simulation    113.52   63.80  181.92   30.73\n",
       "Sports        376.79  135.54  684.43  134.51\n",
       "Strategy       45.17   49.66   68.55   10.85"
      ]
     },
     "execution_count": 58,
     "metadata": {},
     "output_type": "execute_result"
    }
   ],
   "source": [
    "regions_genre = (\n",
    "    df_with_region\n",
    "    .join(df, on='df_index')\n",
    "    .pivot_table(index=['genre'], columns='region', values='sales', aggfunc=['sum'])\n",
    ")\n",
    "regions_genre.columns = [b for (a, b) in regions_genre.columns]\n",
    "\n",
    "regions_genre"
   ]
  },
  {
   "cell_type": "code",
   "execution_count": 59,
   "metadata": {},
   "outputs": [
    {
     "data": {
      "text/html": [
       "<div>\n",
       "<style scoped>\n",
       "    .dataframe tbody tr th:only-of-type {\n",
       "        vertical-align: middle;\n",
       "    }\n",
       "\n",
       "    .dataframe tbody tr th {\n",
       "        vertical-align: top;\n",
       "    }\n",
       "\n",
       "    .dataframe thead th {\n",
       "        text-align: right;\n",
       "    }\n",
       "</style>\n",
       "<table border=\"1\" class=\"dataframe\">\n",
       "  <thead>\n",
       "    <tr style=\"text-align: right;\">\n",
       "      <th></th>\n",
       "      <th>eu_genre</th>\n",
       "      <th>eu_max</th>\n",
       "      <th>eu_part</th>\n",
       "      <th>jp_genre</th>\n",
       "      <th>jp_max</th>\n",
       "      <th>jp_part</th>\n",
       "      <th>na_genre</th>\n",
       "      <th>na_max</th>\n",
       "      <th>na_part</th>\n",
       "      <th>other_genre</th>\n",
       "      <th>other_max</th>\n",
       "      <th>other_part</th>\n",
       "    </tr>\n",
       "  </thead>\n",
       "  <tbody>\n",
       "    <tr>\n",
       "      <td>0</td>\n",
       "      <td>Action</td>\n",
       "      <td>519.13</td>\n",
       "      <td>0.214150</td>\n",
       "      <td>Role-Playing</td>\n",
       "      <td>355.41</td>\n",
       "      <td>0.273953</td>\n",
       "      <td>Action</td>\n",
       "      <td>879.01</td>\n",
       "      <td>0.199749</td>\n",
       "      <td>Action</td>\n",
       "      <td>184.60</td>\n",
       "      <td>0.233305</td>\n",
       "    </tr>\n",
       "    <tr>\n",
       "      <td>1</td>\n",
       "      <td>Sports</td>\n",
       "      <td>376.79</td>\n",
       "      <td>0.155432</td>\n",
       "      <td>Action</td>\n",
       "      <td>161.43</td>\n",
       "      <td>0.124432</td>\n",
       "      <td>Sports</td>\n",
       "      <td>684.43</td>\n",
       "      <td>0.155532</td>\n",
       "      <td>Sports</td>\n",
       "      <td>134.51</td>\n",
       "      <td>0.169999</td>\n",
       "    </tr>\n",
       "    <tr>\n",
       "      <td>2</td>\n",
       "      <td>Shooter</td>\n",
       "      <td>317.34</td>\n",
       "      <td>0.130908</td>\n",
       "      <td>Sports</td>\n",
       "      <td>135.54</td>\n",
       "      <td>0.104475</td>\n",
       "      <td>Shooter</td>\n",
       "      <td>592.24</td>\n",
       "      <td>0.134583</td>\n",
       "      <td>Shooter</td>\n",
       "      <td>104.11</td>\n",
       "      <td>0.131578</td>\n",
       "    </tr>\n",
       "    <tr>\n",
       "      <td>3</td>\n",
       "      <td>Racing</td>\n",
       "      <td>236.51</td>\n",
       "      <td>0.097564</td>\n",
       "      <td>Platform</td>\n",
       "      <td>130.83</td>\n",
       "      <td>0.100845</td>\n",
       "      <td>Platform</td>\n",
       "      <td>445.50</td>\n",
       "      <td>0.101237</td>\n",
       "      <td>Racing</td>\n",
       "      <td>76.10</td>\n",
       "      <td>0.096178</td>\n",
       "    </tr>\n",
       "    <tr>\n",
       "      <td>4</td>\n",
       "      <td>Misc</td>\n",
       "      <td>212.74</td>\n",
       "      <td>0.087759</td>\n",
       "      <td>Misc</td>\n",
       "      <td>108.11</td>\n",
       "      <td>0.083332</td>\n",
       "      <td>Misc</td>\n",
       "      <td>407.27</td>\n",
       "      <td>0.092549</td>\n",
       "      <td>Misc</td>\n",
       "      <td>74.39</td>\n",
       "      <td>0.094017</td>\n",
       "    </tr>\n",
       "    <tr>\n",
       "      <td>5</td>\n",
       "      <td>top5</td>\n",
       "      <td>1662.51</td>\n",
       "      <td>0.685814</td>\n",
       "      <td>top5</td>\n",
       "      <td>891.32</td>\n",
       "      <td>0.687037</td>\n",
       "      <td>top5</td>\n",
       "      <td>3008.45</td>\n",
       "      <td>0.683650</td>\n",
       "      <td>top5</td>\n",
       "      <td>573.71</td>\n",
       "      <td>0.725077</td>\n",
       "    </tr>\n",
       "    <tr>\n",
       "      <td>6</td>\n",
       "      <td>all</td>\n",
       "      <td>2424.14</td>\n",
       "      <td>1.000000</td>\n",
       "      <td>all</td>\n",
       "      <td>1297.34</td>\n",
       "      <td>1.000000</td>\n",
       "      <td>all</td>\n",
       "      <td>4400.57</td>\n",
       "      <td>1.000000</td>\n",
       "      <td>all</td>\n",
       "      <td>791.24</td>\n",
       "      <td>1.000000</td>\n",
       "    </tr>\n",
       "  </tbody>\n",
       "</table>\n",
       "</div>"
      ],
      "text/plain": [
       "  eu_genre   eu_max   eu_part      jp_genre   jp_max   jp_part  na_genre  \\\n",
       "0   Action   519.13  0.214150  Role-Playing   355.41  0.273953    Action   \n",
       "1   Sports   376.79  0.155432        Action   161.43  0.124432    Sports   \n",
       "2  Shooter   317.34  0.130908        Sports   135.54  0.104475   Shooter   \n",
       "3   Racing   236.51  0.097564      Platform   130.83  0.100845  Platform   \n",
       "4     Misc   212.74  0.087759          Misc   108.11  0.083332      Misc   \n",
       "5     top5  1662.51  0.685814          top5   891.32  0.687037      top5   \n",
       "6      all  2424.14  1.000000           all  1297.34  1.000000       all   \n",
       "\n",
       "    na_max   na_part other_genre  other_max  other_part  \n",
       "0   879.01  0.199749      Action     184.60    0.233305  \n",
       "1   684.43  0.155532      Sports     134.51    0.169999  \n",
       "2   592.24  0.134583     Shooter     104.11    0.131578  \n",
       "3   445.50  0.101237      Racing      76.10    0.096178  \n",
       "4   407.27  0.092549        Misc      74.39    0.094017  \n",
       "5  3008.45  0.683650        top5     573.71    0.725077  \n",
       "6  4400.57  1.000000         all     791.24    1.000000  "
      ]
     },
     "execution_count": 59,
     "metadata": {},
     "output_type": "execute_result"
    }
   ],
   "source": [
    "top5_genres = pd.DataFrame(index=[i for i in range(7)])\n",
    "for col in regions_platform.columns:\n",
    "    top5_genres = top5_genres.join(get_top_5(regions_genre[col], col))\n",
    "    top5_genres[col+'_part'] = top5_genres[col + '_max'] / top5_genres.loc[6, col + '_max']\n",
    "    \n",
    "top5_genres"
   ]
  },
  {
   "cell_type": "code",
   "execution_count": 123,
   "metadata": {},
   "outputs": [
    {
     "data": {
      "image/png": "[encoded data removed]",
      "text/plain": [
       "<Figure size 864x288 with 2 Axes>"
      ]
     },
     "metadata": {
      "needs_background": "light"
     },
     "output_type": "display_data"
    }
   ],
   "source": [
    "fig2, ax2 = plt.subplots(1, 2, figsize=(12, 4))\n",
    "width = 0.2\n",
    "\n",
    "def autolabel2(ax_, rects, reg_name):\n",
    "    lables = top5_genres[reg_name + '_genre'].values[:5]\n",
    "    for i, rect in enumerate(rects):\n",
    "        height = rect.get_height()\n",
    "        ax_.annotate(lables[i], \n",
    "                     xy=(rect.get_x() + rect.get_width() / 2, height),\n",
    "                     xytext=(0, 3),  # 3 points vertical offset\n",
    "                     textcoords=\"offset points\",\n",
    "                     ha='center', va='bottom')\n",
    "\n",
    "x = top5_genres.index[:5]\n",
    "for i in range(4):\n",
    "    reg_name = regions_platform.columns[i]\n",
    "    rects = ax2[0].bar(x + i * width, top5_genres[reg_name + '_max'].values[:5], width, \n",
    "                      color=colors[i], label=reg_name)\n",
    "    autolabel2(ax2[0], rects, reg_name)\n",
    "    rects = ax2[1].bar(x + i * width, top5_genres[reg_name + '_part'].values[:5], width, \n",
    "                     color=colors[i], label=reg_name)\n",
    "    autolabel2(ax2[1], rects, reg_name)\n",
    "\n",
    "    \n",
    "ax2[0].legend()\n",
    "ax2[0].set_title('ТОП-5 жанров по продажам, млн.дол.')\n",
    "ax2[0].grid(True, 'major', 'y', ls='--', lw=.5, c='k', alpha=.3)\n",
    "ax2[1].legend()\n",
    "ax2[1].set_title('Доля ТОП-5 жанров в продажах')\n",
    "ax2[1].grid(True, 'major', 'y', ls='--', lw=.5, c='k', alpha=.3)\n",
    "\n",
    "\n",
    "fig.tight_layout()\n",
    "plt.show()"
   ]
  },
  {
   "cell_type": "markdown",
   "metadata": {},
   "source": [
    "Самыми популярными жанрами в трех регионах из четырех являются (в порядке убывания) Action, Sports и Shooter.  \n",
    "\n",
    "И только в Японии на первом месте оказался жанр Role-Playing (там больше предпочитают ролевые игры), который в других регионах не вошел даже в тройку лидеров. Хотя второе и третье место там тоже заняли Action и Sports.  \n",
    "\n",
    "Таким образом, предпочтения игроков по жанрам приблизительно одинаковые во всем мире.\n",
    "\n",
    "Примечательно, что лидеры регионов занимиют 20% и выше от всех продаж в регионе и имеют очень большой отрыв от второго места.\n",
    "***"
   ]
  },
  {
   "cell_type": "markdown",
   "metadata": {},
   "source": [
    "#### Влияет ли рейтинг ESRB на продажи в отдельном регионе?\n",
    "\n",
    "Справка из Википедии по значениями классификации:  \n",
    "* «EC» («Early childhood») — «Для детей младшего возраста»\n",
    "* «E» («Everyone») — «Для всех»\n",
    "* «E10+» («Everyone 10 and older») — «Для всех от 10 лет и старше»\n",
    "* «T» («Teen») — «Подросткам»\n",
    "* «M» («Mature») — «Для взрослых»\n",
    "* «AO» («Adults Only 18+») — «Только для взрослых»\n",
    "* «RP» («Rating Pending») — «Рейтинг ожидается»\n",
    "* K-A for Kids to Adults"
   ]
  },
  {
   "cell_type": "code",
   "execution_count": 61,
   "metadata": {},
   "outputs": [
    {
     "data": {
      "text/html": [
       "<div>\n",
       "<style scoped>\n",
       "    .dataframe tbody tr th:only-of-type {\n",
       "        vertical-align: middle;\n",
       "    }\n",
       "\n",
       "    .dataframe tbody tr th {\n",
       "        vertical-align: top;\n",
       "    }\n",
       "\n",
       "    .dataframe thead th {\n",
       "        text-align: right;\n",
       "    }\n",
       "</style>\n",
       "<table border=\"1\" class=\"dataframe\">\n",
       "  <thead>\n",
       "    <tr style=\"text-align: right;\">\n",
       "      <th></th>\n",
       "      <th>df_index</th>\n",
       "      <th>region</th>\n",
       "      <th>sales</th>\n",
       "      <th>rating</th>\n",
       "    </tr>\n",
       "  </thead>\n",
       "  <tbody>\n",
       "    <tr>\n",
       "      <td>0</td>\n",
       "      <td>0</td>\n",
       "      <td>na</td>\n",
       "      <td>41.36</td>\n",
       "      <td>E</td>\n",
       "    </tr>\n",
       "    <tr>\n",
       "      <td>1</td>\n",
       "      <td>0</td>\n",
       "      <td>eu</td>\n",
       "      <td>28.96</td>\n",
       "      <td>E</td>\n",
       "    </tr>\n",
       "    <tr>\n",
       "      <td>2</td>\n",
       "      <td>0</td>\n",
       "      <td>jp</td>\n",
       "      <td>3.77</td>\n",
       "      <td>E</td>\n",
       "    </tr>\n",
       "    <tr>\n",
       "      <td>3</td>\n",
       "      <td>0</td>\n",
       "      <td>other</td>\n",
       "      <td>8.45</td>\n",
       "      <td>E</td>\n",
       "    </tr>\n",
       "    <tr>\n",
       "      <td>8</td>\n",
       "      <td>2</td>\n",
       "      <td>na</td>\n",
       "      <td>15.68</td>\n",
       "      <td>E</td>\n",
       "    </tr>\n",
       "  </tbody>\n",
       "</table>\n",
       "</div>"
      ],
      "text/plain": [
       "   df_index region  sales rating\n",
       "0         0     na  41.36      E\n",
       "1         0     eu  28.96      E\n",
       "2         0     jp   3.77      E\n",
       "3         0  other   8.45      E\n",
       "8         2     na  15.68      E"
      ]
     },
     "execution_count": 61,
     "metadata": {},
     "output_type": "execute_result"
    }
   ],
   "source": [
    "# df_with_esrb - таблица с продажами и рейтингом (общая)\n",
    "\n",
    "df_with_esrb = (\n",
    "    df_with_region\n",
    "    .join(df['rating'], on='df_index')\n",
    "    .dropna()\n",
    ")\n",
    "df_with_esrb.head()"
   ]
  },
  {
   "cell_type": "code",
   "execution_count": 62,
   "metadata": {},
   "outputs": [
    {
     "data": {
      "text/plain": [
       "<matplotlib.collections.PathCollection at 0x7f618aa68be0>"
      ]
     },
     "execution_count": 62,
     "metadata": {},
     "output_type": "execute_result"
    },
    {
     "data": {
      "image/png": "[encoded data removed]",
      "text/plain": [
       "<Figure size 432x288 with 1 Axes>"
      ]
     },
     "metadata": {
      "needs_background": "light"
     },
     "output_type": "display_data"
    }
   ],
   "source": [
    "# вывод результата для региона Северная Америка\n",
    "df_with_esrb_na = df_with_esrb.query('region == \"na\"')\n",
    "plt.scatter(df_with_esrb_na['rating'], df_with_esrb_na['sales'])"
   ]
  },
  {
   "cell_type": "code",
   "execution_count": 63,
   "metadata": {},
   "outputs": [
    {
     "data": {
      "text/plain": [
       "<matplotlib.collections.PathCollection at 0x7f618cbaa1d0>"
      ]
     },
     "execution_count": 63,
     "metadata": {},
     "output_type": "execute_result"
    },
    {
     "data": {
      "image/png": "[encoded data removed]",
      "text/plain": [
       "<Figure size 432x288 with 1 Axes>"
      ]
     },
     "metadata": {
      "needs_background": "light"
     },
     "output_type": "display_data"
    }
   ],
   "source": [
    "# вывод результата для региона Европа\n",
    "df_with_esrb_na = df_with_esrb.query('region == \"eu\"')\n",
    "plt.scatter(df_with_esrb_na['rating'], df_with_esrb_na['sales'])"
   ]
  },
  {
   "cell_type": "markdown",
   "metadata": {},
   "source": [
    "На примере двух регионов видно, что рейтинг ESRB имеет сильное влияние на продажи в регионах. Так в Северной Америке и Европе наиболее продаваемые игры с оценкой E (для всех) и M (для взрослых).\n"
   ]
  },
  {
   "cell_type": "markdown",
   "metadata": {},
   "source": [
    "#### Выводы\n",
    "\n",
    "Анализируя ТОП-5 платформ по регионам, ТОП-5 жанров по регионам и рейтинги по версии ESRB, можем сделать следующие выводы:\n",
    "\n",
    "* почти во всем мире, кроме Северной Америки, больше всего предпочитают игры на платформах японских компаний (PlayStation и Nintendo), а в Северной Америки больше отдают предпочтение американскому производителю - Microsoft (X360);\n",
    "\n",
    "* что касается жанров, то здесь ситуация одинаковая почти для всего мира (за исключением Японии) - везде на первых местах жанры Action, Sports и Shooter. В Японии же на первом месте жанр Role-Playing (RPG) и только потом Action, Sports и Shooter;\n",
    "\n",
    "* во всем мире наиболее популярны игры, которые имеют оценки E (для всех) и M (для взрослых) по версии ESRB.\n",
    "\n",
    "Если же описать портрет среднего пользователя, то он: человек достаточно взрослый, любит игры активные, быстрые, где нужна физическая реакция.  \n",
    "Но в Японии несколько другой тип пользователя - это тоже взрослый человек, но больше предпочитающий ролевые игры (по моему мнению, это характерно вообще для всей восточной Азии). \n"
   ]
  },
  {
   "cell_type": "markdown",
   "metadata": {},
   "source": [
    "# Шаг 5. Проверьте гипотезы\n",
    "\n",
    "* Средние пользовательские рейтинги платформ Xbox One и PC одинаковые;  \n",
    "* Средние пользовательские рейтинги жанров Action (англ. «действие») и Sports (англ. «виды спорта») разные."
   ]
  },
  {
   "cell_type": "markdown",
   "metadata": {},
   "source": [
    "#### Проверка гипотезы: Средние пользовательские рейтинги платформ Xbox One и PC одинаковые.\n",
    "\n",
    "$𝐻_0$  = \"Средние пользовательские рейтинги платформ Xbox One и PC одинаковые\"  \n",
    "$𝐻_1$  = \"Средние пользовательские рейтинги платформ Xbox One и PC различны\"\n",
    "\n",
    "Поскольку это случай проверки гипотезы о равенстве среднего двух генеральных совокупностей по взятым из них выборкам, то будем применять односторонний критерий Сьюдента и функцию ttest_ind из библиотеки scipy.\n"
   ]
  },
  {
   "cell_type": "code",
   "execution_count": 117,
   "metadata": {},
   "outputs": [
    {
     "data": {
      "text/html": [
       "<div>\n",
       "<style scoped>\n",
       "    .dataframe tbody tr th:only-of-type {\n",
       "        vertical-align: middle;\n",
       "    }\n",
       "\n",
       "    .dataframe tbody tr th {\n",
       "        vertical-align: top;\n",
       "    }\n",
       "\n",
       "    .dataframe thead th {\n",
       "        text-align: right;\n",
       "    }\n",
       "</style>\n",
       "<table border=\"1\" class=\"dataframe\">\n",
       "  <thead>\n",
       "    <tr style=\"text-align: right;\">\n",
       "      <th>platform</th>\n",
       "      <th>PC</th>\n",
       "      <th>XOne</th>\n",
       "    </tr>\n",
       "    <tr>\n",
       "      <th>year_of_release</th>\n",
       "      <th></th>\n",
       "      <th></th>\n",
       "    </tr>\n",
       "  </thead>\n",
       "  <tbody>\n",
       "    <tr>\n",
       "      <td>2012</td>\n",
       "      <td>6.911765</td>\n",
       "      <td>NaN</td>\n",
       "    </tr>\n",
       "    <tr>\n",
       "      <td>2013</td>\n",
       "      <td>6.232353</td>\n",
       "      <td>5.811765</td>\n",
       "    </tr>\n",
       "    <tr>\n",
       "      <td>2014</td>\n",
       "      <td>6.302632</td>\n",
       "      <td>6.738636</td>\n",
       "    </tr>\n",
       "    <tr>\n",
       "      <td>2015</td>\n",
       "      <td>6.294872</td>\n",
       "      <td>6.474545</td>\n",
       "    </tr>\n",
       "    <tr>\n",
       "      <td>2016</td>\n",
       "      <td>6.297778</td>\n",
       "      <td>6.598485</td>\n",
       "    </tr>\n",
       "  </tbody>\n",
       "</table>\n",
       "</div>"
      ],
      "text/plain": [
       "platform               PC      XOne\n",
       "year_of_release                    \n",
       "2012             6.911765       NaN\n",
       "2013             6.232353  5.811765\n",
       "2014             6.302632  6.738636\n",
       "2015             6.294872  6.474545\n",
       "2016             6.297778  6.598485"
      ]
     },
     "execution_count": 117,
     "metadata": {},
     "output_type": "execute_result"
    }
   ],
   "source": [
    "# формирование таблицы с платформами и средними значениями пользовательских рейтингов по годам\n",
    "\n",
    "df_with_scores = df.query('~(user_score == \"tbd\") & ~user_score.isna()')\n",
    "df_with_scores.user_score = df_with_scores.user_score.astype('float')\n",
    "\n",
    "avg_user_scores = (\n",
    "    df_with_scores\n",
    "    .pivot_table(index='year_of_release', columns='platform', values='user_score')\n",
    ")\n",
    "avg_user_scores.loc[:, ['PC', 'XOne']].tail()"
   ]
  },
  {
   "cell_type": "code",
   "execution_count": 121,
   "metadata": {},
   "outputs": [
    {
     "name": "stdout",
     "output_type": "stream",
     "text": [
      "Дисперсия данных по платформе PC: 1.9317458214271326\n",
      "Дисперсия данных по платформе XOne: 0.16850378352969844\n"
     ]
    }
   ],
   "source": [
    "print('Дисперсия данных по платформе PC:', avg_user_scores['PC'].var())\n",
    "print('Дисперсия данных по платформе XOne:', avg_user_scores['XOne'].var())"
   ]
  },
  {
   "cell_type": "code",
   "execution_count": 122,
   "metadata": {},
   "outputs": [
    {
     "name": "stdout",
     "output_type": "stream",
     "text": [
      "p-значение: 0.026913126761802932\n",
      "Отвергаем нулевую гипотезу\n"
     ]
    }
   ],
   "source": [
    "# поскольку дисперсии двух массивов существенно различаются, \n",
    "# то в функции st.ttest_ind зададим параметр equal_var = False\n",
    "\n",
    "from scipy import stats as st\n",
    "\n",
    "alpha = 0.05\n",
    "pc_user_score = avg_user_scores['PC'].dropna()\n",
    "xone_user_score = avg_user_scores['XOne'].dropna()\n",
    "\n",
    "results = st.ttest_ind(pc_user_score, xone_user_score, equal_var = False)\n",
    "\n",
    "print('p-значение:', results.pvalue)\n",
    "\n",
    "if (results.pvalue < alpha):\n",
    "    print(\"Отвергаем нулевую гипотезу\")\n",
    "else:\n",
    "    print(\"Не получилось отвергнуть нулевую гипотезу\")"
   ]
  },
  {
   "cell_type": "markdown",
   "metadata": {},
   "source": [
    "Таким образом, мы отвергаем нулевую гипотезу. Т.е. средние рейтинги пользователей для указанных платформ различны."
   ]
  },
  {
   "cell_type": "markdown",
   "metadata": {},
   "source": [
    "#### Проверка гипотезы: Средние пользовательские рейтинги жанров Action (англ. «действие») и Sports (англ. «виды спорта») разные.\n",
    "\n",
    "$𝐻_0$ = \"Средние пользовательские рейтинги жанров Action и Sports одинаковые\"  \n",
    "$𝐻_1$ = \"Средние пользовательские рейтинги жанров Action и Sports различны\"\n",
    "\n",
    "Поскольку это случай проверки гипотезы о равенстве среднего двух генеральных совокупностей по взятым из них выборкам, то будем применять односторонний критерий Сьюдента и функцию ttest_ind из библиотеки scipy."
   ]
  },
  {
   "cell_type": "code",
   "execution_count": 66,
   "metadata": {},
   "outputs": [
    {
     "data": {
      "text/html": [
       "<div>\n",
       "<style scoped>\n",
       "    .dataframe tbody tr th:only-of-type {\n",
       "        vertical-align: middle;\n",
       "    }\n",
       "\n",
       "    .dataframe tbody tr th {\n",
       "        vertical-align: top;\n",
       "    }\n",
       "\n",
       "    .dataframe thead th {\n",
       "        text-align: right;\n",
       "    }\n",
       "</style>\n",
       "<table border=\"1\" class=\"dataframe\">\n",
       "  <thead>\n",
       "    <tr style=\"text-align: right;\">\n",
       "      <th>genre</th>\n",
       "      <th>Action</th>\n",
       "      <th>Sports</th>\n",
       "    </tr>\n",
       "    <tr>\n",
       "      <th>year_of_release</th>\n",
       "      <th></th>\n",
       "      <th></th>\n",
       "    </tr>\n",
       "  </thead>\n",
       "  <tbody>\n",
       "    <tr>\n",
       "      <td>2012</td>\n",
       "      <td>6.788806</td>\n",
       "      <td>6.451429</td>\n",
       "    </tr>\n",
       "    <tr>\n",
       "      <td>2013</td>\n",
       "      <td>7.101075</td>\n",
       "      <td>5.287879</td>\n",
       "    </tr>\n",
       "    <tr>\n",
       "      <td>2014</td>\n",
       "      <td>6.672115</td>\n",
       "      <td>5.273333</td>\n",
       "    </tr>\n",
       "    <tr>\n",
       "      <td>2015</td>\n",
       "      <td>6.941667</td>\n",
       "      <td>5.006667</td>\n",
       "    </tr>\n",
       "    <tr>\n",
       "      <td>2016</td>\n",
       "      <td>6.638824</td>\n",
       "      <td>5.432432</td>\n",
       "    </tr>\n",
       "  </tbody>\n",
       "</table>\n",
       "</div>"
      ],
      "text/plain": [
       "genre              Action    Sports\n",
       "year_of_release                    \n",
       "2012             6.788806  6.451429\n",
       "2013             7.101075  5.287879\n",
       "2014             6.672115  5.273333\n",
       "2015             6.941667  5.006667\n",
       "2016             6.638824  5.432432"
      ]
     },
     "execution_count": 66,
     "metadata": {},
     "output_type": "execute_result"
    }
   ],
   "source": [
    "avg_user_scores2 = (\n",
    "    df_with_scores\n",
    "    .pivot_table(index='year_of_release', columns='genre', values='user_score')\n",
    ")\n",
    "avg_user_scores2.loc[:, ['Action', 'Sports']].tail()"
   ]
  },
  {
   "cell_type": "code",
   "execution_count": 119,
   "metadata": {},
   "outputs": [
    {
     "name": "stdout",
     "output_type": "stream",
     "text": [
      "Дисперсия данных по жанру Action: 0.4599482285734865\n",
      "Дисперсия данных по жанру Sports: 1.319339702019021\n"
     ]
    }
   ],
   "source": [
    "print('Дисперсия данных по жанру Action:', avg_user_scores2['Action'].var())\n",
    "print('Дисперсия данных по жанру Sports:', avg_user_scores2['Sports'].var())"
   ]
  },
  {
   "cell_type": "code",
   "execution_count": 120,
   "metadata": {},
   "outputs": [
    {
     "name": "stdout",
     "output_type": "stream",
     "text": [
      "p-значение: 0.26415156845642407\n",
      "Не получилось отвергнуть нулевую гипотезу\n"
     ]
    }
   ],
   "source": [
    "# поскольку дисперсии двух массивов существенно различаются, \n",
    "# то в функции st.ttest_ind зададим параметр equal_var = False\n",
    "\n",
    "alpha = 0.05\n",
    "action = avg_user_scores2['Action'].dropna()\n",
    "sports = avg_user_scores2['Sports'].dropna()\n",
    "\n",
    "results = st.ttest_ind(action, sports, equal_var=False)\n",
    "\n",
    "print('p-значение:', results.pvalue)\n",
    "\n",
    "if (results.pvalue < alpha):\n",
    "    print(\"Отвергаем нулевую гипотезу\")\n",
    "else:\n",
    "    print(\"Не получилось отвергнуть нулевую гипотезу\")"
   ]
  },
  {
   "cell_type": "markdown",
   "metadata": {},
   "source": [
    "Таким образом, мы не смогли принять гипотезу о различии средних рейтингов для указанных жанров, а значит считаем их равными.\n",
    "***"
   ]
  },
  {
   "cell_type": "markdown",
   "metadata": {},
   "source": [
    "# Шаг 6. Общий вывод"
   ]
  },
  {
   "cell_type": "markdown",
   "metadata": {},
   "source": [
    "\n",
    "В результате анализа было обнаружено, что:\n",
    "\n",
    "* актуальный период жизни игровых платформ около 10 лет. Затем им на смену приходят новые с более современными технологиями;\n",
    "\n",
    "* выявлены потенциально-прибыльные платформы - это те, которые находятся не в конце \"актуального\" периода (жизненного цикла) и имеют рост продаж или стабильные продажи;\n",
    "\n",
    "* наиболее продаваемыми жанрами оказались Action, Sports и Shooter;\n",
    "\n",
    "* положительные мнения экспертов оказывают достаточно большую роль в продажах игр;\n",
    "\n",
    "* если говорить о категориях, установленные ESRB, то наиболее продаваемые - это игры с категорией Е (для всех) и М (для взрослых).\n"
   ]
  },
  {
   "cell_type": "code",
   "execution_count": null,
   "metadata": {},
   "outputs": [],
   "source": []
  }
 ],
 "metadata": {
  "kernelspec": {
   "display_name": "Python 3",
   "language": "python",
   "name": "python3"
  },
  "language_info": {
   "codemirror_mode": {
    "name": "ipython",
    "version": 3
   },
   "file_extension": ".py",
   "mimetype": "text/x-python",
   "name": "python",
   "nbconvert_exporter": "python",
   "pygments_lexer": "ipython3",
   "version": "3.7.5"
  },
  "varInspector": {
   "cols": {
    "lenName": 16,
    "lenType": 16,
    "lenVar": 40
   },
   "kernels_config": {
    "python": {
     "delete_cmd_postfix": "",
     "delete_cmd_prefix": "del ",
     "library": "var_list.py",
     "varRefreshCmd": "print(var_dic_list())"
    },
    "r": {
     "delete_cmd_postfix": ") ",
     "delete_cmd_prefix": "rm(",
     "library": "var_list.r",
     "varRefreshCmd": "cat(var_dic_list()) "
    }
   },
   "types_to_exclude": [
    "module",
    "function",
    "builtin_function_or_method",
    "instance",
    "_Feature"
   ],
   "window_display": false
  }
 },
 "nbformat": 4,
 "nbformat_minor": 2
}
