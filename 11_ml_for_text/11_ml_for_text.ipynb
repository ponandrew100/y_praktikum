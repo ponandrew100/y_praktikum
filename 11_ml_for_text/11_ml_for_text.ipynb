{
 "cells": [
  {
   "cell_type": "markdown",
   "metadata": {},
   "source": [
    "## Описание проекта\n",
    "\n",
    "Интернет-магазин «Викишоп» запускает новый сервис. Теперь пользователи могут редактировать и дополнять описания товаров, как в вики-сообществах. То есть клиенты предлагают свои правки и комментируют изменения других. Магазину нужен инструмент, который будет искать токсичные комментарии и отправлять их на модерацию. \n",
    "\n",
    "Обучите модель классифицировать комментарии на позитивные и негативные. В вашем распоряжении набор данных с разметкой о токсичности правок.\n",
    "\n",
    "Постройте модель со значением метрики качества *F1* не меньше 0.75. \n"
   ]
  },
  {
   "cell_type": "code",
   "execution_count": 1,
   "metadata": {
    "ExecuteTime": {
     "end_time": "2020-06-21T04:07:44.368888Z",
     "start_time": "2020-06-21T04:07:22.511409Z"
    }
   },
   "outputs": [],
   "source": [
    "import numpy as np\n",
    "import pandas as pd\n",
    "from sklearn.linear_model import LogisticRegression\n",
    "from sklearn.ensemble import RandomForestClassifier, GradientBoostingClassifier\n",
    "from sklearn.model_selection import train_test_split\n",
    "from sklearn.feature_extraction.text import CountVectorizer, TfidfVectorizer\n",
    "from sklearn.metrics import f1_score\n",
    "from catboost import CatBoostClassifier\n",
    "import nltk\n",
    "from nltk.corpus import wordnet, stopwords\n",
    "from nltk.stem import WordNetLemmatizer\n",
    "import transformers\n",
    "import matplotlib.pyplot as plt\n",
    "%matplotlib inline\n",
    "\n",
    "import re\n",
    "import warnings\n",
    "warnings.filterwarnings(\"ignore\")"
   ]
  },
  {
   "cell_type": "markdown",
   "metadata": {},
   "source": [
    "# 1. Подготовка"
   ]
  },
  {
   "cell_type": "code",
   "execution_count": 2,
   "metadata": {
    "ExecuteTime": {
     "end_time": "2020-06-21T04:07:47.871211Z",
     "start_time": "2020-06-21T04:07:47.217966Z"
    }
   },
   "outputs": [
    {
     "name": "stdout",
     "output_type": "stream",
     "text": [
      "<class 'pandas.core.frame.DataFrame'>\n",
      "RangeIndex: 159571 entries, 0 to 159570\n",
      "Data columns (total 2 columns):\n",
      " #   Column  Non-Null Count   Dtype \n",
      "---  ------  --------------   ----- \n",
      " 0   text    159571 non-null  object\n",
      " 1   toxic   159571 non-null  int64 \n",
      "dtypes: int64(1), object(1)\n",
      "memory usage: 2.4+ MB\n"
     ]
    }
   ],
   "source": [
    "df = pd.read_csv('datasets/toxic_comments.csv')\n",
    "df.info()"
   ]
  },
  {
   "cell_type": "code",
   "execution_count": 3,
   "metadata": {
    "ExecuteTime": {
     "end_time": "2020-06-21T04:07:53.136180Z",
     "start_time": "2020-06-21T04:07:53.108050Z"
    }
   },
   "outputs": [
    {
     "data": {
      "text/html": [
       "<div>\n",
       "<style scoped>\n",
       "    .dataframe tbody tr th:only-of-type {\n",
       "        vertical-align: middle;\n",
       "    }\n",
       "\n",
       "    .dataframe tbody tr th {\n",
       "        vertical-align: top;\n",
       "    }\n",
       "\n",
       "    .dataframe thead th {\n",
       "        text-align: right;\n",
       "    }\n",
       "</style>\n",
       "<table border=\"1\" class=\"dataframe\">\n",
       "  <thead>\n",
       "    <tr style=\"text-align: right;\">\n",
       "      <th></th>\n",
       "      <th>text</th>\n",
       "      <th>toxic</th>\n",
       "    </tr>\n",
       "  </thead>\n",
       "  <tbody>\n",
       "    <tr>\n",
       "      <th>0</th>\n",
       "      <td>Explanation\\nWhy the edits made under my usern...</td>\n",
       "      <td>0</td>\n",
       "    </tr>\n",
       "    <tr>\n",
       "      <th>1</th>\n",
       "      <td>D'aww! He matches this background colour I'm s...</td>\n",
       "      <td>0</td>\n",
       "    </tr>\n",
       "    <tr>\n",
       "      <th>2</th>\n",
       "      <td>Hey man, I'm really not trying to edit war. It...</td>\n",
       "      <td>0</td>\n",
       "    </tr>\n",
       "    <tr>\n",
       "      <th>3</th>\n",
       "      <td>\"\\nMore\\nI can't make any real suggestions on ...</td>\n",
       "      <td>0</td>\n",
       "    </tr>\n",
       "    <tr>\n",
       "      <th>4</th>\n",
       "      <td>You, sir, are my hero. Any chance you remember...</td>\n",
       "      <td>0</td>\n",
       "    </tr>\n",
       "  </tbody>\n",
       "</table>\n",
       "</div>"
      ],
      "text/plain": [
       "                                                text  toxic\n",
       "0  Explanation\\nWhy the edits made under my usern...      0\n",
       "1  D'aww! He matches this background colour I'm s...      0\n",
       "2  Hey man, I'm really not trying to edit war. It...      0\n",
       "3  \"\\nMore\\nI can't make any real suggestions on ...      0\n",
       "4  You, sir, are my hero. Any chance you remember...      0"
      ]
     },
     "execution_count": 3,
     "metadata": {},
     "output_type": "execute_result"
    }
   ],
   "source": [
    "df.head()"
   ]
  },
  {
   "cell_type": "markdown",
   "metadata": {},
   "source": [
    "# 2. Обучение"
   ]
  },
  {
   "cell_type": "markdown",
   "metadata": {},
   "source": [
    "### Bag of Words\n",
    "\n",
    "Формирование признаков техникой \"мешок слов\".   \n",
    "\n",
    "Вначале попробуем просчитать модели с различными параметрами \"мешка слов\".  \n",
    "Полученные таким образом признаки с лучшим значением метрики f1_score применим для улучшения этой метрики с помощью изменения гиперпараметров модели логистической регрессии."
   ]
  },
  {
   "cell_type": "code",
   "execution_count": 4,
   "metadata": {
    "ExecuteTime": {
     "end_time": "2020-06-21T04:07:56.349398Z",
     "start_time": "2020-06-21T04:07:56.320439Z"
    }
   },
   "outputs": [],
   "source": [
    "scores = []\n",
    "\n",
    "train, test, target_train, target_test = train_test_split(df['text'], df['toxic'], test_size=0.25)\n",
    "\n",
    "def model_train(params_for_features, params_for_model):\n",
    "    \n",
    "    count_vectorizer = CountVectorizer(stop_words='english', analyzer='word', \n",
    "                                       token_pattern=r'[a-zA-Z]{2,}', **params_for_features)\n",
    "    cv_train = count_vectorizer.fit_transform(train)\n",
    "    cv_test = count_vectorizer.transform(test)\n",
    "\n",
    "    model = LogisticRegression(random_state=123, **params_for_model)\n",
    "    model.fit(cv_train, target_train)\n",
    "\n",
    "    f1_score_train = f1_score(target_train, model.predict(cv_train))\n",
    "    f1_score_test = f1_score(target_test, model.predict(cv_test))\n",
    "\n",
    "    name = 'maxdf{max_df}+mindf{min_df}+C{C}+{solver}'.format(**params_for_features, **params_for_model)\n",
    "    scores.append([name, f1_score_train, f1_score_test])\n"
   ]
  },
  {
   "cell_type": "code",
   "execution_count": 5,
   "metadata": {
    "ExecuteTime": {
     "end_time": "2020-06-21T04:08:39.698537Z",
     "start_time": "2020-06-21T04:07:57.585063Z"
    }
   },
   "outputs": [
    {
     "name": "stdout",
     "output_type": "stream",
     "text": [
      "CPU times: user 1min 2s, sys: 22 s, total: 1min 23s\n",
      "Wall time: 42.1 s\n"
     ]
    },
    {
     "data": {
      "text/html": [
       "<div>\n",
       "<style scoped>\n",
       "    .dataframe tbody tr th:only-of-type {\n",
       "        vertical-align: middle;\n",
       "    }\n",
       "\n",
       "    .dataframe tbody tr th {\n",
       "        vertical-align: top;\n",
       "    }\n",
       "\n",
       "    .dataframe thead th {\n",
       "        text-align: right;\n",
       "    }\n",
       "</style>\n",
       "<table border=\"1\" class=\"dataframe\">\n",
       "  <thead>\n",
       "    <tr style=\"text-align: right;\">\n",
       "      <th></th>\n",
       "      <th>params</th>\n",
       "      <th>f1_train</th>\n",
       "      <th>f1_test</th>\n",
       "    </tr>\n",
       "  </thead>\n",
       "  <tbody>\n",
       "    <tr>\n",
       "      <th>0</th>\n",
       "      <td>maxdf1.0+mindf1+C1+liblinear</td>\n",
       "      <td>0.766176</td>\n",
       "      <td>0.709140</td>\n",
       "    </tr>\n",
       "    <tr>\n",
       "      <th>1</th>\n",
       "      <td>maxdf1.0+mindf1+C1+lbfgs</td>\n",
       "      <td>0.884898</td>\n",
       "      <td>0.751976</td>\n",
       "    </tr>\n",
       "    <tr>\n",
       "      <th>2</th>\n",
       "      <td>maxdf1.0+mindf1+C1+sag</td>\n",
       "      <td>0.361173</td>\n",
       "      <td>0.353968</td>\n",
       "    </tr>\n",
       "  </tbody>\n",
       "</table>\n",
       "</div>"
      ],
      "text/plain": [
       "                         params  f1_train   f1_test\n",
       "0  maxdf1.0+mindf1+C1+liblinear  0.766176  0.709140\n",
       "1      maxdf1.0+mindf1+C1+lbfgs  0.884898  0.751976\n",
       "2        maxdf1.0+mindf1+C1+sag  0.361173  0.353968"
      ]
     },
     "execution_count": 5,
     "metadata": {},
     "output_type": "execute_result"
    }
   ],
   "source": [
    "%%time\n",
    "# создание мешка слов со стандартными параметрами max_df и min_df\n",
    "scores = []\n",
    "params_for_features = {\n",
    "    'max_df': 1., \n",
    "    'min_df': 1, \n",
    "}\n",
    "model_train(params_for_features, {'C': 1, 'solver':'liblinear'})\n",
    "model_train(params_for_features, {'C': 1, 'solver':'lbfgs'})\n",
    "model_train(params_for_features, {'C': 1, 'solver':'sag'})\n",
    "\n",
    "pd.DataFrame(scores, columns=['params', 'f1_train', 'f1_test'])"
   ]
  },
  {
   "cell_type": "markdown",
   "metadata": {},
   "source": [
    "Максимальные значения метрики получаются при расчете моделей логистической регрессии с параметром solver='lbfgs'.  \n",
    "Далее будем использовать этот параметр именно с этим значением при работе с логистической регрессией."
   ]
  },
  {
   "cell_type": "code",
   "execution_count": 6,
   "metadata": {
    "ExecuteTime": {
     "end_time": "2020-06-21T04:11:24.177669Z",
     "start_time": "2020-06-21T04:08:43.322160Z"
    }
   },
   "outputs": [
    {
     "name": "stdout",
     "output_type": "stream",
     "text": [
      "CPU times: user 4min 3s, sys: 1min 30s, total: 5min 34s\n",
      "Wall time: 2min 40s\n"
     ]
    }
   ],
   "source": [
    "%%time\n",
    "\n",
    "scores = []\n",
    "# модели с созданием мешка слов с другими max_df и min_df\n",
    "for max_df in 0.85, 0.9, 0.95, 1.:\n",
    "    for min_df in 1, 2, 5, 10:\n",
    "        params_for_features = {\n",
    "            'max_df': max_df, \n",
    "            'min_df': min_df, \n",
    "        }\n",
    "        model_train(params_for_features, {'C': 1, 'solver':'lbfgs'})"
   ]
  },
  {
   "cell_type": "code",
   "execution_count": 7,
   "metadata": {
    "ExecuteTime": {
     "end_time": "2020-06-21T04:11:24.209283Z",
     "start_time": "2020-06-21T04:11:24.192723Z"
    },
    "scrolled": false
   },
   "outputs": [
    {
     "data": {
      "text/html": [
       "<div>\n",
       "<style scoped>\n",
       "    .dataframe tbody tr th:only-of-type {\n",
       "        vertical-align: middle;\n",
       "    }\n",
       "\n",
       "    .dataframe tbody tr th {\n",
       "        vertical-align: top;\n",
       "    }\n",
       "\n",
       "    .dataframe thead th {\n",
       "        text-align: right;\n",
       "    }\n",
       "</style>\n",
       "<table border=\"1\" class=\"dataframe\">\n",
       "  <thead>\n",
       "    <tr style=\"text-align: right;\">\n",
       "      <th></th>\n",
       "      <th>index</th>\n",
       "      <th>params</th>\n",
       "      <th>f1_train</th>\n",
       "      <th>f1_test</th>\n",
       "    </tr>\n",
       "  </thead>\n",
       "  <tbody>\n",
       "    <tr>\n",
       "      <th>0</th>\n",
       "      <td>0</td>\n",
       "      <td>maxdf0.85+mindf1+C1+lbfgs</td>\n",
       "      <td>0.884898</td>\n",
       "      <td>0.751976</td>\n",
       "    </tr>\n",
       "    <tr>\n",
       "      <th>1</th>\n",
       "      <td>4</td>\n",
       "      <td>maxdf0.9+mindf1+C1+lbfgs</td>\n",
       "      <td>0.884898</td>\n",
       "      <td>0.751976</td>\n",
       "    </tr>\n",
       "    <tr>\n",
       "      <th>2</th>\n",
       "      <td>8</td>\n",
       "      <td>maxdf0.95+mindf1+C1+lbfgs</td>\n",
       "      <td>0.884898</td>\n",
       "      <td>0.751976</td>\n",
       "    </tr>\n",
       "    <tr>\n",
       "      <th>3</th>\n",
       "      <td>12</td>\n",
       "      <td>maxdf1.0+mindf1+C1+lbfgs</td>\n",
       "      <td>0.884898</td>\n",
       "      <td>0.751976</td>\n",
       "    </tr>\n",
       "  </tbody>\n",
       "</table>\n",
       "</div>"
      ],
      "text/plain": [
       "   index                     params  f1_train   f1_test\n",
       "0      0  maxdf0.85+mindf1+C1+lbfgs  0.884898  0.751976\n",
       "1      4   maxdf0.9+mindf1+C1+lbfgs  0.884898  0.751976\n",
       "2      8  maxdf0.95+mindf1+C1+lbfgs  0.884898  0.751976\n",
       "3     12   maxdf1.0+mindf1+C1+lbfgs  0.884898  0.751976"
      ]
     },
     "execution_count": 7,
     "metadata": {},
     "output_type": "execute_result"
    }
   ],
   "source": [
    "df_scores = pd.DataFrame(scores, columns=['params', 'f1_train', 'f1_test'])\n",
    "df_scores_max = df_scores[df_scores['f1_test'] == df_scores['f1_test'].max()].reset_index()\n",
    "df_scores_max"
   ]
  },
  {
   "cell_type": "markdown",
   "metadata": {},
   "source": [
    "Таким образом, обнаружили, что создание мешка слов со стандартными параметрами max_df и min_df показывает максимальное значение метрики f1_score на модели логистической регрессии с solver='lbfgs'."
   ]
  },
  {
   "cell_type": "code",
   "execution_count": 8,
   "metadata": {
    "ExecuteTime": {
     "end_time": "2020-06-21T04:13:38.020435Z",
     "start_time": "2020-06-21T04:13:38.016658Z"
    }
   },
   "outputs": [
    {
     "name": "stdout",
     "output_type": "stream",
     "text": [
      "best_param: {'max_df': 1.0, 'min_df': 1}\n"
     ]
    }
   ],
   "source": [
    "best_param = {\n",
    "    'max_df': 1., \n",
    "    'min_df': 1, \n",
    "}\n",
    "print('best_param:', best_param)"
   ]
  },
  {
   "cell_type": "code",
   "execution_count": 9,
   "metadata": {
    "ExecuteTime": {
     "end_time": "2020-06-21T04:13:39.261494Z",
     "start_time": "2020-06-21T04:13:38.738025Z"
    }
   },
   "outputs": [
    {
     "data": {
      "image/png": "[encoded data removed]",
      "text/plain": [
       "<Figure size 576x288 with 1 Axes>"
      ]
     },
     "metadata": {
      "needs_background": "light"
     },
     "output_type": "display_data"
    }
   ],
   "source": [
    "df_scores.plot.line(x='params', grid=True, figsize=(8, 4), rot=45);"
   ]
  },
  {
   "cell_type": "code",
   "execution_count": 10,
   "metadata": {
    "ExecuteTime": {
     "end_time": "2020-06-21T04:14:28.607789Z",
     "start_time": "2020-06-21T04:13:42.182367Z"
    }
   },
   "outputs": [
    {
     "name": "stdout",
     "output_type": "stream",
     "text": [
      "CPU times: user 1min 17s, sys: 32.6 s, total: 1min 49s\n",
      "Wall time: 46.4 s\n"
     ]
    }
   ],
   "source": [
    "%%time\n",
    "# расчет логистической регрессии с различными значениями гиперпараметра С\n",
    "scores = []\n",
    "for c in 0.5, 1, 5, 10:\n",
    "    model_train(best_param, {'C': c, 'solver':'lbfgs'})"
   ]
  },
  {
   "cell_type": "code",
   "execution_count": 11,
   "metadata": {
    "ExecuteTime": {
     "end_time": "2020-06-21T04:14:28.676700Z",
     "start_time": "2020-06-21T04:14:28.636663Z"
    }
   },
   "outputs": [
    {
     "data": {
      "text/html": [
       "<div>\n",
       "<style scoped>\n",
       "    .dataframe tbody tr th:only-of-type {\n",
       "        vertical-align: middle;\n",
       "    }\n",
       "\n",
       "    .dataframe tbody tr th {\n",
       "        vertical-align: top;\n",
       "    }\n",
       "\n",
       "    .dataframe thead th {\n",
       "        text-align: right;\n",
       "    }\n",
       "</style>\n",
       "<table border=\"1\" class=\"dataframe\">\n",
       "  <thead>\n",
       "    <tr style=\"text-align: right;\">\n",
       "      <th></th>\n",
       "      <th>params</th>\n",
       "      <th>f1_train</th>\n",
       "      <th>f1_test</th>\n",
       "      <th>best</th>\n",
       "    </tr>\n",
       "  </thead>\n",
       "  <tbody>\n",
       "    <tr>\n",
       "      <th>3</th>\n",
       "      <td>maxdf1.0+mindf1+C10+lbfgs</td>\n",
       "      <td>0.929298</td>\n",
       "      <td>0.766662</td>\n",
       "      <td>0.751976</td>\n",
       "    </tr>\n",
       "    <tr>\n",
       "      <th>2</th>\n",
       "      <td>maxdf1.0+mindf1+C5+lbfgs</td>\n",
       "      <td>0.929490</td>\n",
       "      <td>0.765507</td>\n",
       "      <td>0.751976</td>\n",
       "    </tr>\n",
       "    <tr>\n",
       "      <th>1</th>\n",
       "      <td>maxdf1.0+mindf1+C1+lbfgs</td>\n",
       "      <td>0.884898</td>\n",
       "      <td>0.751976</td>\n",
       "      <td>0.751976</td>\n",
       "    </tr>\n",
       "    <tr>\n",
       "      <th>0</th>\n",
       "      <td>maxdf1.0+mindf1+C0.5+lbfgs</td>\n",
       "      <td>0.854367</td>\n",
       "      <td>0.743197</td>\n",
       "      <td>0.751976</td>\n",
       "    </tr>\n",
       "  </tbody>\n",
       "</table>\n",
       "</div>"
      ],
      "text/plain": [
       "                       params  f1_train   f1_test      best\n",
       "3   maxdf1.0+mindf1+C10+lbfgs  0.929298  0.766662  0.751976\n",
       "2    maxdf1.0+mindf1+C5+lbfgs  0.929490  0.765507  0.751976\n",
       "1    maxdf1.0+mindf1+C1+lbfgs  0.884898  0.751976  0.751976\n",
       "0  maxdf1.0+mindf1+C0.5+lbfgs  0.854367  0.743197  0.751976"
      ]
     },
     "execution_count": 11,
     "metadata": {},
     "output_type": "execute_result"
    }
   ],
   "source": [
    "df_scores2 = pd.DataFrame(scores, columns=['params', 'f1_train', 'f1_test'])\n",
    "df_scores2['best'] = df_scores2.loc[1, 'f1_test']\n",
    "df_scores2.sort_values('f1_test', ascending=False).head()"
   ]
  },
  {
   "cell_type": "code",
   "execution_count": 12,
   "metadata": {
    "ExecuteTime": {
     "end_time": "2020-06-21T04:14:51.213544Z",
     "start_time": "2020-06-21T04:14:51.006403Z"
    }
   },
   "outputs": [
    {
     "data": {
      "image/png": "[encoded data removed]",
      "text/plain": [
       "<Figure size 576x288 with 1 Axes>"
      ]
     },
     "metadata": {
      "needs_background": "light"
     },
     "output_type": "display_data"
    }
   ],
   "source": [
    "df_scores2.plot.line(x='params', grid=True, figsize=(8, 4), rot=45);"
   ]
  },
  {
   "cell_type": "markdown",
   "metadata": {},
   "source": [
    "Изменение гиперпараметра С в модели логистической регрессии слабо повлияла на улучшение качества модели.  \n",
    "\n",
    "**Итак, лучшие показатели метрики f1_score=0.765543 было получено при формировании признаков техникой \"мешок слов\" с параметрами 'max_df': 1., 'min_df': 1 и гиперпараметром С=5 модели логистической регрессии.**\n",
    "***"
   ]
  },
  {
   "cell_type": "markdown",
   "metadata": {},
   "source": [
    "### TF-IDF\n"
   ]
  },
  {
   "cell_type": "code",
   "execution_count": 13,
   "metadata": {
    "ExecuteTime": {
     "end_time": "2020-06-21T04:15:03.483709Z",
     "start_time": "2020-06-21T04:15:03.478014Z"
    }
   },
   "outputs": [],
   "source": [
    "def tf_model_train(params_for_features, params_for_model):\n",
    "    tf = TfidfVectorizer(stop_words='english', analyzer='word', \n",
    "                         token_pattern=r'[a-zA-Z]{2,}', **params_for_features)\n",
    "\n",
    "    tf_train = tf.fit_transform(train)\n",
    "    tf_test = tf.transform(test)\n",
    "            \n",
    "    model = LogisticRegression(random_state=123, solver='lbfgs', **params_for_model)\n",
    "\n",
    "    model.fit(tf_train, target_train)\n",
    "    f1_score_train = f1_score(target_train, model.predict(tf_train))\n",
    "    f1_score_test = f1_score(target_test, model.predict(tf_test))\n",
    "\n",
    "    name = 'maxdf{max_df}+mindf{min_df}+C{C}'.format(**params_for_features, **params_for_model)\n",
    "    scores.append([name, f1_score_train, f1_score_test])\n"
   ]
  },
  {
   "cell_type": "code",
   "execution_count": 14,
   "metadata": {
    "ExecuteTime": {
     "end_time": "2020-06-21T04:15:15.803131Z",
     "start_time": "2020-06-21T04:15:05.108255Z"
    }
   },
   "outputs": [
    {
     "name": "stdout",
     "output_type": "stream",
     "text": [
      "CPU times: user 17 s, sys: 6.47 s, total: 23.4 s\n",
      "Wall time: 10.7 s\n"
     ]
    },
    {
     "data": {
      "text/html": [
       "<div>\n",
       "<style scoped>\n",
       "    .dataframe tbody tr th:only-of-type {\n",
       "        vertical-align: middle;\n",
       "    }\n",
       "\n",
       "    .dataframe tbody tr th {\n",
       "        vertical-align: top;\n",
       "    }\n",
       "\n",
       "    .dataframe thead th {\n",
       "        text-align: right;\n",
       "    }\n",
       "</style>\n",
       "<table border=\"1\" class=\"dataframe\">\n",
       "  <thead>\n",
       "    <tr style=\"text-align: right;\">\n",
       "      <th></th>\n",
       "      <th>params</th>\n",
       "      <th>f1_train</th>\n",
       "      <th>f1_test</th>\n",
       "    </tr>\n",
       "  </thead>\n",
       "  <tbody>\n",
       "    <tr>\n",
       "      <th>0</th>\n",
       "      <td>maxdf1.0+mindf1+C1</td>\n",
       "      <td>0.761749</td>\n",
       "      <td>0.716245</td>\n",
       "    </tr>\n",
       "  </tbody>\n",
       "</table>\n",
       "</div>"
      ],
      "text/plain": [
       "               params  f1_train   f1_test\n",
       "0  maxdf1.0+mindf1+C1  0.761749  0.716245"
      ]
     },
     "execution_count": 14,
     "metadata": {},
     "output_type": "execute_result"
    }
   ],
   "source": [
    "%%time\n",
    "\n",
    "# создание признаков со стандартными параметрами max_df и min_df\n",
    "scores = []\n",
    "params_for_features = {\n",
    "    'max_df': 1., \n",
    "    'min_df': 1, \n",
    "}\n",
    "tf_model_train(params_for_features, {'C': 1})\n",
    "\n",
    "pd.DataFrame(scores, columns=['params', 'f1_train', 'f1_test'])"
   ]
  },
  {
   "cell_type": "code",
   "execution_count": 15,
   "metadata": {
    "ExecuteTime": {
     "end_time": "2020-06-21T04:18:06.239891Z",
     "start_time": "2020-06-21T04:15:34.872817Z"
    }
   },
   "outputs": [
    {
     "name": "stdout",
     "output_type": "stream",
     "text": [
      "CPU times: user 3min 43s, sys: 1min 17s, total: 5min\n",
      "Wall time: 2min 31s\n"
     ]
    }
   ],
   "source": [
    "%%time\n",
    "\n",
    "scores = []\n",
    "# создание признаков с другими параметрами max_df и min_df\n",
    "\n",
    "for max_df in 0.85, 0.90, 0.95, 1.:\n",
    "    for min_df in 1, 2, 5, 10:\n",
    "        params_for_features = {\n",
    "            'max_df': max_df, \n",
    "            'min_df': min_df, \n",
    "        }\n",
    "        tf_model_train(params_for_features, {'C': 1})"
   ]
  },
  {
   "cell_type": "code",
   "execution_count": 16,
   "metadata": {
    "ExecuteTime": {
     "end_time": "2020-06-21T04:18:06.277417Z",
     "start_time": "2020-06-21T04:18:06.266258Z"
    }
   },
   "outputs": [
    {
     "data": {
      "text/html": [
       "<div>\n",
       "<style scoped>\n",
       "    .dataframe tbody tr th:only-of-type {\n",
       "        vertical-align: middle;\n",
       "    }\n",
       "\n",
       "    .dataframe tbody tr th {\n",
       "        vertical-align: top;\n",
       "    }\n",
       "\n",
       "    .dataframe thead th {\n",
       "        text-align: right;\n",
       "    }\n",
       "</style>\n",
       "<table border=\"1\" class=\"dataframe\">\n",
       "  <thead>\n",
       "    <tr style=\"text-align: right;\">\n",
       "      <th></th>\n",
       "      <th>index</th>\n",
       "      <th>params</th>\n",
       "      <th>f1_train</th>\n",
       "      <th>f1_test</th>\n",
       "    </tr>\n",
       "  </thead>\n",
       "  <tbody>\n",
       "    <tr>\n",
       "      <th>0</th>\n",
       "      <td>3</td>\n",
       "      <td>maxdf0.85+mindf10+C1</td>\n",
       "      <td>0.770072</td>\n",
       "      <td>0.723565</td>\n",
       "    </tr>\n",
       "    <tr>\n",
       "      <th>1</th>\n",
       "      <td>7</td>\n",
       "      <td>maxdf0.9+mindf10+C1</td>\n",
       "      <td>0.770072</td>\n",
       "      <td>0.723565</td>\n",
       "    </tr>\n",
       "    <tr>\n",
       "      <th>2</th>\n",
       "      <td>11</td>\n",
       "      <td>maxdf0.95+mindf10+C1</td>\n",
       "      <td>0.770072</td>\n",
       "      <td>0.723565</td>\n",
       "    </tr>\n",
       "    <tr>\n",
       "      <th>3</th>\n",
       "      <td>15</td>\n",
       "      <td>maxdf1.0+mindf10+C1</td>\n",
       "      <td>0.770072</td>\n",
       "      <td>0.723565</td>\n",
       "    </tr>\n",
       "  </tbody>\n",
       "</table>\n",
       "</div>"
      ],
      "text/plain": [
       "   index                params  f1_train   f1_test\n",
       "0      3  maxdf0.85+mindf10+C1  0.770072  0.723565\n",
       "1      7   maxdf0.9+mindf10+C1  0.770072  0.723565\n",
       "2     11  maxdf0.95+mindf10+C1  0.770072  0.723565\n",
       "3     15   maxdf1.0+mindf10+C1  0.770072  0.723565"
      ]
     },
     "execution_count": 16,
     "metadata": {},
     "output_type": "execute_result"
    }
   ],
   "source": [
    "df_tf_scores = pd.DataFrame(scores, columns=['params', 'f1_train', 'f1_test'])\n",
    "df_tf_scores_max = df_tf_scores[df_tf_scores['f1_test'] == df_tf_scores['f1_test'].max()].reset_index()\n",
    "df_tf_scores_max"
   ]
  },
  {
   "cell_type": "code",
   "execution_count": 17,
   "metadata": {
    "ExecuteTime": {
     "end_time": "2020-06-21T04:19:26.923576Z",
     "start_time": "2020-06-21T04:19:26.916725Z"
    }
   },
   "outputs": [
    {
     "name": "stdout",
     "output_type": "stream",
     "text": [
      "tf_best_param: {'max_df': 0.85, 'min_df': 10}\n"
     ]
    }
   ],
   "source": [
    "substr_tf = lambda y: df_tf_scores_max.loc[0, 'params'].split(y)[1].split('+')[0]\n",
    "                    \n",
    "tf_best_param = {\n",
    "    'max_df': float(substr_tf('maxdf')), \n",
    "    'min_df': int(substr_tf('mindf')), \n",
    "}\n",
    "print('tf_best_param:', tf_best_param)"
   ]
  },
  {
   "cell_type": "code",
   "execution_count": 18,
   "metadata": {
    "ExecuteTime": {
     "end_time": "2020-06-21T04:19:28.194332Z",
     "start_time": "2020-06-21T04:19:27.985671Z"
    }
   },
   "outputs": [
    {
     "data": {
      "image/png": "[encoded data removed]",
      "text/plain": [
       "<Figure size 576x288 with 1 Axes>"
      ]
     },
     "metadata": {
      "needs_background": "light"
     },
     "output_type": "display_data"
    }
   ],
   "source": [
    "df_tf_scores.plot.line(x='params', grid=True, figsize=(8, 4), rot=45);"
   ]
  },
  {
   "cell_type": "markdown",
   "metadata": {},
   "source": [
    "### RandomForestClassifier"
   ]
  },
  {
   "cell_type": "code",
   "execution_count": 19,
   "metadata": {
    "ExecuteTime": {
     "end_time": "2020-06-21T04:19:39.122392Z",
     "start_time": "2020-06-21T04:19:33.022732Z"
    }
   },
   "outputs": [],
   "source": [
    "train, test, target_train, target_test = train_test_split(df['text'], df['toxic'], test_size=0.25)\n",
    "\n",
    "count_vectorizer = CountVectorizer(stop_words='english', analyzer='word', token_pattern=r'[a-zA-Z]{2,}')\n",
    "\n",
    "cv_train = count_vectorizer.fit_transform(train)\n",
    "cv_test = count_vectorizer.transform(test)\n"
   ]
  },
  {
   "cell_type": "code",
   "execution_count": 20,
   "metadata": {
    "ExecuteTime": {
     "end_time": "2020-06-21T04:20:38.360946Z",
     "start_time": "2020-06-21T04:19:40.365459Z"
    }
   },
   "outputs": [
    {
     "name": "stdout",
     "output_type": "stream",
     "text": [
      "CPU times: user 57.9 s, sys: 73.8 ms, total: 58 s\n",
      "Wall time: 58 s\n"
     ]
    },
    {
     "data": {
      "text/plain": [
       "(0.976292200720449, 0.6898196452526457)"
      ]
     },
     "execution_count": 20,
     "metadata": {},
     "output_type": "execute_result"
    }
   ],
   "source": [
    "%%time\n",
    "# Расчет модели при стандартных параметрах\n",
    "\n",
    "model = RandomForestClassifier(random_state=123)\n",
    "model.fit(cv_train, target_train)\n",
    "\n",
    "f1_score_train = f1_score(target_train, model.predict(cv_train))\n",
    "f1_score_test = f1_score(target_test, model.predict(cv_test))\n",
    "f1_score_train, f1_score_test"
   ]
  },
  {
   "cell_type": "markdown",
   "metadata": {},
   "source": [
    "При стандартных параметрах модель Случайного леса показал худшее качество, чем на модели логистической регрессии.  \n",
    "Я сомневался в том, что это качество значительно улучшится при варьировании гиперпараметров модели.  \n",
    "И действительно - при больших \"танцах с бубнами\" удалось выйти на уровень f1=0.73 (пример приведен ниже), что не дотягивает до требуемого уровня. Вероятно, можно подобрать более оптимальные параметры, но это требует больших ресурсов и времени."
   ]
  },
  {
   "cell_type": "code",
   "execution_count": 21,
   "metadata": {
    "ExecuteTime": {
     "end_time": "2020-06-21T04:30:44.146932Z",
     "start_time": "2020-06-21T04:20:41.925555Z"
    }
   },
   "outputs": [
    {
     "name": "stdout",
     "output_type": "stream",
     "text": [
      "CPU times: user 33min 11s, sys: 13.4 s, total: 33min 24s\n",
      "Wall time: 10min 2s\n"
     ]
    },
    {
     "data": {
      "text/plain": [
       "(0.96874476286241, 0.7265069755198736)"
      ]
     },
     "execution_count": 21,
     "metadata": {},
     "output_type": "execute_result"
    }
   ],
   "source": [
    "%%time\n",
    "\n",
    "model = RandomForestClassifier(random_state=123, n_estimators=10, max_depth=1000, n_jobs=-1, max_features=None)\n",
    "model.fit(cv_train, target_train)\n",
    "\n",
    "f1_score_train = f1_score(target_train, model.predict(cv_train))\n",
    "f1_score_test = f1_score(target_test, model.predict(cv_test))\n",
    "f1_score_train, f1_score_test"
   ]
  },
  {
   "cell_type": "markdown",
   "metadata": {},
   "source": [
    "### GradientBoostingClassifier"
   ]
  },
  {
   "cell_type": "code",
   "execution_count": 22,
   "metadata": {
    "ExecuteTime": {
     "end_time": "2020-06-21T04:31:44.517488Z",
     "start_time": "2020-06-21T04:30:44.207663Z"
    }
   },
   "outputs": [
    {
     "name": "stdout",
     "output_type": "stream",
     "text": [
      "CPU times: user 1min, sys: 63.1 ms, total: 1min\n",
      "Wall time: 1min\n"
     ]
    },
    {
     "data": {
      "text/plain": [
       "(0.5865852279153942, 0.5695614789337919)"
      ]
     },
     "execution_count": 22,
     "metadata": {},
     "output_type": "execute_result"
    }
   ],
   "source": [
    "%%time\n",
    "# Расчет модели при стандартных параметрах\n",
    "\n",
    "model = GradientBoostingClassifier(random_state=123)\n",
    "\n",
    "model.fit(cv_train, target_train)\n",
    "\n",
    "f1_score_train = f1_score(target_train, model.predict(cv_train))\n",
    "f1_score_test = f1_score(target_test, model.predict(cv_test))\n",
    "f1_score_train, f1_score_test"
   ]
  },
  {
   "cell_type": "code",
   "execution_count": 23,
   "metadata": {
    "ExecuteTime": {
     "end_time": "2020-06-21T05:35:16.726553Z",
     "start_time": "2020-06-21T04:31:44.579405Z"
    }
   },
   "outputs": [
    {
     "name": "stdout",
     "output_type": "stream",
     "text": [
      "CPU times: user 1h 3min 30s, sys: 1.37 s, total: 1h 3min 31s\n",
      "Wall time: 1h 3min 32s\n"
     ]
    },
    {
     "data": {
      "text/plain": [
       "(0.9668739687777637, 0.7494835422118166)"
      ]
     },
     "execution_count": 23,
     "metadata": {},
     "output_type": "execute_result"
    }
   ],
   "source": [
    "%%time\n",
    "\n",
    "model = GradientBoostingClassifier(n_estimators=100, learning_rate=0.1, \n",
    "                                   max_depth=100, max_features=None, min_samples_leaf=3, \n",
    "                                   subsample=1., random_state=123)\n",
    "\n",
    "model.fit(cv_train, target_train)\n",
    "\n",
    "f1_score_train = f1_score(target_train, model.predict(cv_train))\n",
    "f1_score_test = f1_score(target_test, model.predict(cv_test))\n",
    "f1_score_train, f1_score_test"
   ]
  },
  {
   "cell_type": "markdown",
   "metadata": {},
   "source": [
    "Как видно из результатов расчетов - при стандарных параметрах расчета значение метрики f1_score очень далеко от нужного нам порога в 0,75.  \n",
    "Но стоило поменять 2 параметра: max_depth=100 и min_samples_leaf=3 - как модель сразу же достигла требуемого порога (0.752286). Но время вычислений выросло во много раз и превысило 1 час.  \n",
    "При некотором запасе ресурсов вариацией гиперпараметров можно было бы достичь гораздо более высокого значения метрики.\n",
    "***"
   ]
  },
  {
   "cell_type": "markdown",
   "metadata": {},
   "source": [
    "### CatBoostClassifier"
   ]
  },
  {
   "cell_type": "code",
   "execution_count": 24,
   "metadata": {
    "ExecuteTime": {
     "end_time": "2020-06-21T05:44:43.263565Z",
     "start_time": "2020-06-21T05:35:16.790023Z"
    }
   },
   "outputs": [
    {
     "name": "stdout",
     "output_type": "stream",
     "text": [
      "Learning rate set to 0.079478\n",
      "0:\tlearn: 0.6129387\ttotal: 599ms\tremaining: 9m 58s\n",
      "1:\tlearn: 0.5465071\ttotal: 1.12s\tremaining: 9m 18s\n",
      "2:\tlearn: 0.4909372\ttotal: 1.63s\tremaining: 9m 2s\n",
      "3:\tlearn: 0.4472322\ttotal: 2.15s\tremaining: 8m 56s\n",
      "4:\tlearn: 0.4124967\ttotal: 2.67s\tremaining: 8m 50s\n",
      "5:\tlearn: 0.3825227\ttotal: 3.18s\tremaining: 8m 47s\n",
      "6:\tlearn: 0.3585261\ttotal: 3.7s\tremaining: 8m 44s\n",
      "7:\tlearn: 0.3373812\ttotal: 4.23s\tremaining: 8m 44s\n",
      "8:\tlearn: 0.3208638\ttotal: 4.75s\tremaining: 8m 43s\n",
      "9:\tlearn: 0.3067008\ttotal: 5.28s\tremaining: 8m 42s\n",
      "10:\tlearn: 0.2948166\ttotal: 5.8s\tremaining: 8m 41s\n",
      "11:\tlearn: 0.2850201\ttotal: 6.32s\tremaining: 8m 39s\n",
      "12:\tlearn: 0.2757720\ttotal: 6.85s\tremaining: 8m 40s\n",
      "13:\tlearn: 0.2687648\ttotal: 7.37s\tremaining: 8m 39s\n",
      "14:\tlearn: 0.2623609\ttotal: 7.91s\tremaining: 8m 39s\n",
      "15:\tlearn: 0.2565466\ttotal: 8.47s\tremaining: 8m 40s\n",
      "16:\tlearn: 0.2522086\ttotal: 8.98s\tremaining: 8m 39s\n",
      "17:\tlearn: 0.2483935\ttotal: 9.52s\tremaining: 8m 39s\n",
      "18:\tlearn: 0.2449238\ttotal: 10s\tremaining: 8m 38s\n",
      "19:\tlearn: 0.2414700\ttotal: 10.6s\tremaining: 8m 39s\n",
      "20:\tlearn: 0.2387427\ttotal: 11.1s\tremaining: 8m 39s\n",
      "21:\tlearn: 0.2360739\ttotal: 11.7s\tremaining: 8m 38s\n",
      "22:\tlearn: 0.2339896\ttotal: 12.2s\tremaining: 8m 37s\n",
      "23:\tlearn: 0.2321412\ttotal: 12.7s\tremaining: 8m 37s\n",
      "24:\tlearn: 0.2303640\ttotal: 13.2s\tremaining: 8m 36s\n",
      "25:\tlearn: 0.2288522\ttotal: 13.8s\tremaining: 8m 35s\n",
      "26:\tlearn: 0.2273387\ttotal: 14.3s\tremaining: 8m 35s\n",
      "27:\tlearn: 0.2259642\ttotal: 14.8s\tremaining: 8m 34s\n",
      "28:\tlearn: 0.2246651\ttotal: 15.3s\tremaining: 8m 33s\n",
      "29:\tlearn: 0.2231341\ttotal: 15.9s\tremaining: 8m 33s\n",
      "30:\tlearn: 0.2218131\ttotal: 16.4s\tremaining: 8m 33s\n",
      "31:\tlearn: 0.2206386\ttotal: 17s\tremaining: 8m 33s\n",
      "32:\tlearn: 0.2195092\ttotal: 17.5s\tremaining: 8m 32s\n",
      "33:\tlearn: 0.2182459\ttotal: 18s\tremaining: 8m 32s\n",
      "34:\tlearn: 0.2172939\ttotal: 18.6s\tremaining: 8m 32s\n",
      "35:\tlearn: 0.2164453\ttotal: 19.1s\tremaining: 8m 31s\n",
      "36:\tlearn: 0.2152850\ttotal: 19.6s\tremaining: 8m 31s\n",
      "37:\tlearn: 0.2145802\ttotal: 20.2s\tremaining: 8m 30s\n",
      "38:\tlearn: 0.2138263\ttotal: 20.7s\tremaining: 8m 29s\n",
      "39:\tlearn: 0.2130618\ttotal: 21.2s\tremaining: 8m 28s\n",
      "40:\tlearn: 0.2122543\ttotal: 21.7s\tremaining: 8m 28s\n",
      "41:\tlearn: 0.2115994\ttotal: 22.3s\tremaining: 8m 27s\n",
      "42:\tlearn: 0.2107160\ttotal: 22.8s\tremaining: 8m 27s\n",
      "43:\tlearn: 0.2100628\ttotal: 23.3s\tremaining: 8m 26s\n",
      "44:\tlearn: 0.2094084\ttotal: 23.9s\tremaining: 8m 26s\n",
      "45:\tlearn: 0.2086037\ttotal: 24.4s\tremaining: 8m 26s\n",
      "46:\tlearn: 0.2079987\ttotal: 25s\tremaining: 8m 26s\n",
      "47:\tlearn: 0.2074095\ttotal: 25.5s\tremaining: 8m 25s\n",
      "48:\tlearn: 0.2068108\ttotal: 26s\tremaining: 8m 24s\n",
      "49:\tlearn: 0.2062370\ttotal: 26.5s\tremaining: 8m 24s\n",
      "50:\tlearn: 0.2054466\ttotal: 27.1s\tremaining: 8m 23s\n",
      "51:\tlearn: 0.2049493\ttotal: 27.6s\tremaining: 8m 23s\n",
      "52:\tlearn: 0.2040268\ttotal: 28.2s\tremaining: 8m 23s\n",
      "53:\tlearn: 0.2034944\ttotal: 28.7s\tremaining: 8m 22s\n",
      "54:\tlearn: 0.2028248\ttotal: 29.3s\tremaining: 8m 22s\n",
      "55:\tlearn: 0.2021807\ttotal: 29.8s\tremaining: 8m 22s\n",
      "56:\tlearn: 0.2017587\ttotal: 30.3s\tremaining: 8m 21s\n",
      "57:\tlearn: 0.2012012\ttotal: 30.9s\tremaining: 8m 21s\n",
      "58:\tlearn: 0.2007933\ttotal: 31.4s\tremaining: 8m 20s\n",
      "59:\tlearn: 0.2002880\ttotal: 31.9s\tremaining: 8m 20s\n",
      "60:\tlearn: 0.1998568\ttotal: 32.5s\tremaining: 8m 19s\n",
      "61:\tlearn: 0.1993416\ttotal: 33s\tremaining: 8m 19s\n",
      "62:\tlearn: 0.1988815\ttotal: 33.6s\tremaining: 8m 19s\n",
      "63:\tlearn: 0.1982316\ttotal: 34.1s\tremaining: 8m 18s\n",
      "64:\tlearn: 0.1977142\ttotal: 34.7s\tremaining: 8m 18s\n",
      "65:\tlearn: 0.1973017\ttotal: 35.2s\tremaining: 8m 18s\n",
      "66:\tlearn: 0.1966883\ttotal: 35.7s\tremaining: 8m 17s\n",
      "67:\tlearn: 0.1963367\ttotal: 36.3s\tremaining: 8m 17s\n",
      "68:\tlearn: 0.1959000\ttotal: 36.8s\tremaining: 8m 16s\n",
      "69:\tlearn: 0.1954934\ttotal: 37.4s\tremaining: 8m 16s\n",
      "70:\tlearn: 0.1951194\ttotal: 37.9s\tremaining: 8m 15s\n",
      "71:\tlearn: 0.1946234\ttotal: 38.4s\tremaining: 8m 14s\n",
      "72:\tlearn: 0.1943182\ttotal: 38.9s\tremaining: 8m 14s\n",
      "73:\tlearn: 0.1939491\ttotal: 39.5s\tremaining: 8m 13s\n",
      "74:\tlearn: 0.1934447\ttotal: 40s\tremaining: 8m 13s\n",
      "75:\tlearn: 0.1930633\ttotal: 40.6s\tremaining: 8m 13s\n",
      "76:\tlearn: 0.1926419\ttotal: 41.1s\tremaining: 8m 12s\n",
      "77:\tlearn: 0.1921116\ttotal: 41.7s\tremaining: 8m 12s\n",
      "78:\tlearn: 0.1917602\ttotal: 42.2s\tremaining: 8m 11s\n",
      "79:\tlearn: 0.1913632\ttotal: 42.7s\tremaining: 8m 11s\n",
      "80:\tlearn: 0.1910639\ttotal: 43.3s\tremaining: 8m 10s\n",
      "81:\tlearn: 0.1905627\ttotal: 43.8s\tremaining: 8m 10s\n",
      "82:\tlearn: 0.1901662\ttotal: 44.4s\tremaining: 8m 10s\n",
      "83:\tlearn: 0.1896807\ttotal: 44.9s\tremaining: 8m 9s\n",
      "84:\tlearn: 0.1892523\ttotal: 45.5s\tremaining: 8m 9s\n",
      "85:\tlearn: 0.1888678\ttotal: 46s\tremaining: 8m 9s\n",
      "86:\tlearn: 0.1884808\ttotal: 46.6s\tremaining: 8m 8s\n",
      "87:\tlearn: 0.1880465\ttotal: 47.1s\tremaining: 8m 8s\n",
      "88:\tlearn: 0.1876773\ttotal: 47.7s\tremaining: 8m 8s\n",
      "89:\tlearn: 0.1873894\ttotal: 48.2s\tremaining: 8m 7s\n",
      "90:\tlearn: 0.1870486\ttotal: 48.8s\tremaining: 8m 7s\n",
      "91:\tlearn: 0.1866856\ttotal: 49.3s\tremaining: 8m 6s\n",
      "92:\tlearn: 0.1863066\ttotal: 49.8s\tremaining: 8m 6s\n",
      "93:\tlearn: 0.1860494\ttotal: 50.4s\tremaining: 8m 5s\n",
      "94:\tlearn: 0.1857334\ttotal: 50.9s\tremaining: 8m 4s\n",
      "95:\tlearn: 0.1854297\ttotal: 51.5s\tremaining: 8m 4s\n",
      "96:\tlearn: 0.1849626\ttotal: 52s\tremaining: 8m 4s\n",
      "97:\tlearn: 0.1846593\ttotal: 52.6s\tremaining: 8m 3s\n",
      "98:\tlearn: 0.1842742\ttotal: 53.1s\tremaining: 8m 3s\n",
      "99:\tlearn: 0.1839753\ttotal: 53.6s\tremaining: 8m 2s\n",
      "100:\tlearn: 0.1836669\ttotal: 54.2s\tremaining: 8m 2s\n",
      "101:\tlearn: 0.1833562\ttotal: 54.7s\tremaining: 8m 1s\n",
      "102:\tlearn: 0.1831177\ttotal: 55.3s\tremaining: 8m 1s\n",
      "103:\tlearn: 0.1828943\ttotal: 55.8s\tremaining: 8m\n",
      "104:\tlearn: 0.1825083\ttotal: 56.3s\tremaining: 8m\n",
      "105:\tlearn: 0.1821532\ttotal: 56.9s\tremaining: 7m 59s\n",
      "106:\tlearn: 0.1818947\ttotal: 57.4s\tremaining: 7m 59s\n",
      "107:\tlearn: 0.1816208\ttotal: 58s\tremaining: 7m 58s\n",
      "108:\tlearn: 0.1813392\ttotal: 58.5s\tremaining: 7m 58s\n",
      "109:\tlearn: 0.1810996\ttotal: 59s\tremaining: 7m 57s\n",
      "110:\tlearn: 0.1807881\ttotal: 59.6s\tremaining: 7m 57s\n",
      "111:\tlearn: 0.1804753\ttotal: 1m\tremaining: 7m 56s\n",
      "112:\tlearn: 0.1802467\ttotal: 1m\tremaining: 7m 56s\n",
      "113:\tlearn: 0.1800188\ttotal: 1m 1s\tremaining: 7m 55s\n",
      "114:\tlearn: 0.1797536\ttotal: 1m 1s\tremaining: 7m 55s\n",
      "115:\tlearn: 0.1795194\ttotal: 1m 2s\tremaining: 7m 54s\n",
      "116:\tlearn: 0.1791300\ttotal: 1m 2s\tremaining: 7m 54s\n",
      "117:\tlearn: 0.1788878\ttotal: 1m 3s\tremaining: 7m 53s\n",
      "118:\tlearn: 0.1785943\ttotal: 1m 3s\tremaining: 7m 53s\n",
      "119:\tlearn: 0.1784009\ttotal: 1m 4s\tremaining: 7m 53s\n",
      "120:\tlearn: 0.1781729\ttotal: 1m 5s\tremaining: 7m 53s\n",
      "121:\tlearn: 0.1779034\ttotal: 1m 5s\tremaining: 7m 52s\n",
      "122:\tlearn: 0.1776083\ttotal: 1m 6s\tremaining: 7m 52s\n",
      "123:\tlearn: 0.1773765\ttotal: 1m 6s\tremaining: 7m 52s\n",
      "124:\tlearn: 0.1770944\ttotal: 1m 7s\tremaining: 7m 51s\n",
      "125:\tlearn: 0.1768103\ttotal: 1m 7s\tremaining: 7m 51s\n",
      "126:\tlearn: 0.1765702\ttotal: 1m 8s\tremaining: 7m 50s\n",
      "127:\tlearn: 0.1763092\ttotal: 1m 9s\tremaining: 7m 50s\n",
      "128:\tlearn: 0.1760108\ttotal: 1m 9s\tremaining: 7m 49s\n",
      "129:\tlearn: 0.1758136\ttotal: 1m 10s\tremaining: 7m 49s\n",
      "130:\tlearn: 0.1756015\ttotal: 1m 10s\tremaining: 7m 48s\n",
      "131:\tlearn: 0.1754061\ttotal: 1m 11s\tremaining: 7m 48s\n",
      "132:\tlearn: 0.1751903\ttotal: 1m 11s\tremaining: 7m 47s\n",
      "133:\tlearn: 0.1749283\ttotal: 1m 12s\tremaining: 7m 47s\n",
      "134:\tlearn: 0.1747303\ttotal: 1m 12s\tremaining: 7m 46s\n",
      "135:\tlearn: 0.1744918\ttotal: 1m 13s\tremaining: 7m 46s\n",
      "136:\tlearn: 0.1743001\ttotal: 1m 13s\tremaining: 7m 45s\n",
      "137:\tlearn: 0.1740772\ttotal: 1m 14s\tremaining: 7m 44s\n",
      "138:\tlearn: 0.1738888\ttotal: 1m 14s\tremaining: 7m 44s\n",
      "139:\tlearn: 0.1737165\ttotal: 1m 15s\tremaining: 7m 43s\n",
      "140:\tlearn: 0.1735322\ttotal: 1m 16s\tremaining: 7m 43s\n",
      "141:\tlearn: 0.1733238\ttotal: 1m 16s\tremaining: 7m 42s\n",
      "142:\tlearn: 0.1730678\ttotal: 1m 17s\tremaining: 7m 42s\n",
      "143:\tlearn: 0.1728005\ttotal: 1m 17s\tremaining: 7m 41s\n",
      "144:\tlearn: 0.1725725\ttotal: 1m 18s\tremaining: 7m 41s\n",
      "145:\tlearn: 0.1724069\ttotal: 1m 18s\tremaining: 7m 40s\n",
      "146:\tlearn: 0.1722109\ttotal: 1m 19s\tremaining: 7m 40s\n",
      "147:\tlearn: 0.1720275\ttotal: 1m 19s\tremaining: 7m 39s\n",
      "148:\tlearn: 0.1717922\ttotal: 1m 20s\tremaining: 7m 39s\n",
      "149:\tlearn: 0.1715636\ttotal: 1m 20s\tremaining: 7m 38s\n",
      "150:\tlearn: 0.1713454\ttotal: 1m 21s\tremaining: 7m 38s\n",
      "151:\tlearn: 0.1710717\ttotal: 1m 22s\tremaining: 7m 37s\n",
      "152:\tlearn: 0.1708653\ttotal: 1m 22s\tremaining: 7m 37s\n",
      "153:\tlearn: 0.1706467\ttotal: 1m 23s\tremaining: 7m 36s\n",
      "154:\tlearn: 0.1704640\ttotal: 1m 23s\tremaining: 7m 36s\n",
      "155:\tlearn: 0.1702705\ttotal: 1m 24s\tremaining: 7m 35s\n",
      "156:\tlearn: 0.1700965\ttotal: 1m 24s\tremaining: 7m 35s\n"
     ]
    },
    {
     "name": "stdout",
     "output_type": "stream",
     "text": [
      "157:\tlearn: 0.1698872\ttotal: 1m 25s\tremaining: 7m 34s\n",
      "158:\tlearn: 0.1697075\ttotal: 1m 25s\tremaining: 7m 34s\n",
      "159:\tlearn: 0.1695153\ttotal: 1m 26s\tremaining: 7m 33s\n",
      "160:\tlearn: 0.1693315\ttotal: 1m 26s\tremaining: 7m 33s\n",
      "161:\tlearn: 0.1691390\ttotal: 1m 27s\tremaining: 7m 32s\n",
      "162:\tlearn: 0.1689655\ttotal: 1m 28s\tremaining: 7m 32s\n",
      "163:\tlearn: 0.1687692\ttotal: 1m 28s\tremaining: 7m 31s\n",
      "164:\tlearn: 0.1685681\ttotal: 1m 29s\tremaining: 7m 31s\n",
      "165:\tlearn: 0.1684272\ttotal: 1m 29s\tremaining: 7m 30s\n",
      "166:\tlearn: 0.1682843\ttotal: 1m 30s\tremaining: 7m 30s\n",
      "167:\tlearn: 0.1681311\ttotal: 1m 30s\tremaining: 7m 29s\n",
      "168:\tlearn: 0.1679496\ttotal: 1m 31s\tremaining: 7m 28s\n",
      "169:\tlearn: 0.1677705\ttotal: 1m 31s\tremaining: 7m 28s\n",
      "170:\tlearn: 0.1675078\ttotal: 1m 32s\tremaining: 7m 28s\n",
      "171:\tlearn: 0.1673133\ttotal: 1m 32s\tremaining: 7m 27s\n",
      "172:\tlearn: 0.1671289\ttotal: 1m 33s\tremaining: 7m 27s\n",
      "173:\tlearn: 0.1669081\ttotal: 1m 34s\tremaining: 7m 26s\n",
      "174:\tlearn: 0.1667601\ttotal: 1m 34s\tremaining: 7m 25s\n",
      "175:\tlearn: 0.1665683\ttotal: 1m 35s\tremaining: 7m 25s\n",
      "176:\tlearn: 0.1663691\ttotal: 1m 35s\tremaining: 7m 24s\n",
      "177:\tlearn: 0.1662249\ttotal: 1m 36s\tremaining: 7m 24s\n",
      "178:\tlearn: 0.1660184\ttotal: 1m 36s\tremaining: 7m 24s\n",
      "179:\tlearn: 0.1659407\ttotal: 1m 37s\tremaining: 7m 23s\n",
      "180:\tlearn: 0.1657446\ttotal: 1m 37s\tremaining: 7m 22s\n",
      "181:\tlearn: 0.1655830\ttotal: 1m 38s\tremaining: 7m 22s\n",
      "182:\tlearn: 0.1654139\ttotal: 1m 38s\tremaining: 7m 21s\n",
      "183:\tlearn: 0.1652452\ttotal: 1m 39s\tremaining: 7m 21s\n",
      "184:\tlearn: 0.1650965\ttotal: 1m 40s\tremaining: 7m 20s\n",
      "185:\tlearn: 0.1648924\ttotal: 1m 40s\tremaining: 7m 20s\n",
      "186:\tlearn: 0.1646763\ttotal: 1m 41s\tremaining: 7m 19s\n",
      "187:\tlearn: 0.1645524\ttotal: 1m 41s\tremaining: 7m 19s\n",
      "188:\tlearn: 0.1643909\ttotal: 1m 42s\tremaining: 7m 18s\n",
      "189:\tlearn: 0.1642394\ttotal: 1m 42s\tremaining: 7m 18s\n",
      "190:\tlearn: 0.1640975\ttotal: 1m 43s\tremaining: 7m 17s\n",
      "191:\tlearn: 0.1638926\ttotal: 1m 43s\tremaining: 7m 17s\n",
      "192:\tlearn: 0.1637597\ttotal: 1m 44s\tremaining: 7m 16s\n",
      "193:\tlearn: 0.1635986\ttotal: 1m 44s\tremaining: 7m 16s\n",
      "194:\tlearn: 0.1634517\ttotal: 1m 45s\tremaining: 7m 15s\n",
      "195:\tlearn: 0.1633786\ttotal: 1m 46s\tremaining: 7m 14s\n",
      "196:\tlearn: 0.1632246\ttotal: 1m 46s\tremaining: 7m 14s\n",
      "197:\tlearn: 0.1630843\ttotal: 1m 47s\tremaining: 7m 13s\n",
      "198:\tlearn: 0.1629358\ttotal: 1m 47s\tremaining: 7m 13s\n",
      "199:\tlearn: 0.1627661\ttotal: 1m 48s\tremaining: 7m 13s\n",
      "200:\tlearn: 0.1625901\ttotal: 1m 48s\tremaining: 7m 12s\n",
      "201:\tlearn: 0.1623913\ttotal: 1m 49s\tremaining: 7m 12s\n",
      "202:\tlearn: 0.1622427\ttotal: 1m 49s\tremaining: 7m 11s\n",
      "203:\tlearn: 0.1621166\ttotal: 1m 50s\tremaining: 7m 10s\n",
      "204:\tlearn: 0.1619566\ttotal: 1m 51s\tremaining: 7m 10s\n",
      "205:\tlearn: 0.1618960\ttotal: 1m 51s\tremaining: 7m 9s\n",
      "206:\tlearn: 0.1617558\ttotal: 1m 52s\tremaining: 7m 9s\n",
      "207:\tlearn: 0.1615474\ttotal: 1m 52s\tremaining: 7m 8s\n",
      "208:\tlearn: 0.1614021\ttotal: 1m 53s\tremaining: 7m 8s\n",
      "209:\tlearn: 0.1612544\ttotal: 1m 53s\tremaining: 7m 7s\n",
      "210:\tlearn: 0.1611044\ttotal: 1m 54s\tremaining: 7m 7s\n",
      "211:\tlearn: 0.1609124\ttotal: 1m 54s\tremaining: 7m 6s\n",
      "212:\tlearn: 0.1608178\ttotal: 1m 55s\tremaining: 7m 6s\n",
      "213:\tlearn: 0.1606891\ttotal: 1m 55s\tremaining: 7m 5s\n",
      "214:\tlearn: 0.1605401\ttotal: 1m 56s\tremaining: 7m 5s\n",
      "215:\tlearn: 0.1603540\ttotal: 1m 56s\tremaining: 7m 4s\n",
      "216:\tlearn: 0.1602215\ttotal: 1m 57s\tremaining: 7m 4s\n",
      "217:\tlearn: 0.1600072\ttotal: 1m 58s\tremaining: 7m 3s\n",
      "218:\tlearn: 0.1597925\ttotal: 1m 58s\tremaining: 7m 3s\n",
      "219:\tlearn: 0.1596450\ttotal: 1m 59s\tremaining: 7m 2s\n",
      "220:\tlearn: 0.1594896\ttotal: 1m 59s\tremaining: 7m 2s\n",
      "221:\tlearn: 0.1593404\ttotal: 2m\tremaining: 7m 1s\n",
      "222:\tlearn: 0.1592331\ttotal: 2m\tremaining: 7m 1s\n",
      "223:\tlearn: 0.1591147\ttotal: 2m 1s\tremaining: 7m\n",
      "224:\tlearn: 0.1589893\ttotal: 2m 1s\tremaining: 7m\n",
      "225:\tlearn: 0.1588664\ttotal: 2m 2s\tremaining: 6m 59s\n",
      "226:\tlearn: 0.1587488\ttotal: 2m 3s\tremaining: 6m 59s\n",
      "227:\tlearn: 0.1586218\ttotal: 2m 3s\tremaining: 6m 58s\n",
      "228:\tlearn: 0.1584711\ttotal: 2m 4s\tremaining: 6m 57s\n",
      "229:\tlearn: 0.1583738\ttotal: 2m 4s\tremaining: 6m 57s\n",
      "230:\tlearn: 0.1582755\ttotal: 2m 5s\tremaining: 6m 56s\n",
      "231:\tlearn: 0.1582185\ttotal: 2m 5s\tremaining: 6m 56s\n",
      "232:\tlearn: 0.1581247\ttotal: 2m 6s\tremaining: 6m 55s\n",
      "233:\tlearn: 0.1579851\ttotal: 2m 6s\tremaining: 6m 55s\n",
      "234:\tlearn: 0.1578744\ttotal: 2m 7s\tremaining: 6m 54s\n",
      "235:\tlearn: 0.1577271\ttotal: 2m 7s\tremaining: 6m 54s\n",
      "236:\tlearn: 0.1576758\ttotal: 2m 8s\tremaining: 6m 53s\n",
      "237:\tlearn: 0.1575351\ttotal: 2m 8s\tremaining: 6m 52s\n",
      "238:\tlearn: 0.1574462\ttotal: 2m 9s\tremaining: 6m 52s\n",
      "239:\tlearn: 0.1573363\ttotal: 2m 10s\tremaining: 6m 51s\n",
      "240:\tlearn: 0.1572446\ttotal: 2m 10s\tremaining: 6m 51s\n",
      "241:\tlearn: 0.1571213\ttotal: 2m 11s\tremaining: 6m 50s\n",
      "242:\tlearn: 0.1569863\ttotal: 2m 11s\tremaining: 6m 50s\n",
      "243:\tlearn: 0.1568680\ttotal: 2m 12s\tremaining: 6m 49s\n",
      "244:\tlearn: 0.1567485\ttotal: 2m 12s\tremaining: 6m 49s\n",
      "245:\tlearn: 0.1566013\ttotal: 2m 13s\tremaining: 6m 48s\n",
      "246:\tlearn: 0.1564186\ttotal: 2m 13s\tremaining: 6m 48s\n",
      "247:\tlearn: 0.1562902\ttotal: 2m 14s\tremaining: 6m 47s\n",
      "248:\tlearn: 0.1561638\ttotal: 2m 15s\tremaining: 6m 47s\n",
      "249:\tlearn: 0.1560385\ttotal: 2m 15s\tremaining: 6m 46s\n",
      "250:\tlearn: 0.1558957\ttotal: 2m 16s\tremaining: 6m 46s\n",
      "251:\tlearn: 0.1558475\ttotal: 2m 16s\tremaining: 6m 45s\n",
      "252:\tlearn: 0.1557325\ttotal: 2m 17s\tremaining: 6m 45s\n",
      "253:\tlearn: 0.1555916\ttotal: 2m 17s\tremaining: 6m 44s\n",
      "254:\tlearn: 0.1554495\ttotal: 2m 18s\tremaining: 6m 44s\n",
      "255:\tlearn: 0.1554028\ttotal: 2m 18s\tremaining: 6m 43s\n",
      "256:\tlearn: 0.1552364\ttotal: 2m 19s\tremaining: 6m 42s\n",
      "257:\tlearn: 0.1551427\ttotal: 2m 19s\tremaining: 6m 42s\n",
      "258:\tlearn: 0.1550281\ttotal: 2m 20s\tremaining: 6m 41s\n",
      "259:\tlearn: 0.1548971\ttotal: 2m 21s\tremaining: 6m 41s\n",
      "260:\tlearn: 0.1547642\ttotal: 2m 21s\tremaining: 6m 40s\n",
      "261:\tlearn: 0.1546580\ttotal: 2m 22s\tremaining: 6m 40s\n",
      "262:\tlearn: 0.1544601\ttotal: 2m 22s\tremaining: 6m 39s\n",
      "263:\tlearn: 0.1543651\ttotal: 2m 23s\tremaining: 6m 39s\n",
      "264:\tlearn: 0.1542631\ttotal: 2m 23s\tremaining: 6m 38s\n",
      "265:\tlearn: 0.1541248\ttotal: 2m 24s\tremaining: 6m 38s\n",
      "266:\tlearn: 0.1540175\ttotal: 2m 24s\tremaining: 6m 37s\n",
      "267:\tlearn: 0.1538964\ttotal: 2m 25s\tremaining: 6m 37s\n",
      "268:\tlearn: 0.1537708\ttotal: 2m 26s\tremaining: 6m 36s\n",
      "269:\tlearn: 0.1536668\ttotal: 2m 26s\tremaining: 6m 36s\n",
      "270:\tlearn: 0.1535801\ttotal: 2m 27s\tremaining: 6m 35s\n",
      "271:\tlearn: 0.1534551\ttotal: 2m 27s\tremaining: 6m 35s\n",
      "272:\tlearn: 0.1533502\ttotal: 2m 28s\tremaining: 6m 34s\n",
      "273:\tlearn: 0.1532429\ttotal: 2m 28s\tremaining: 6m 34s\n",
      "274:\tlearn: 0.1531977\ttotal: 2m 29s\tremaining: 6m 33s\n",
      "275:\tlearn: 0.1530753\ttotal: 2m 29s\tremaining: 6m 33s\n",
      "276:\tlearn: 0.1530252\ttotal: 2m 30s\tremaining: 6m 32s\n",
      "277:\tlearn: 0.1529850\ttotal: 2m 30s\tremaining: 6m 32s\n",
      "278:\tlearn: 0.1529181\ttotal: 2m 31s\tremaining: 6m 31s\n",
      "279:\tlearn: 0.1528144\ttotal: 2m 32s\tremaining: 6m 31s\n",
      "280:\tlearn: 0.1527113\ttotal: 2m 32s\tremaining: 6m 30s\n",
      "281:\tlearn: 0.1525844\ttotal: 2m 33s\tremaining: 6m 29s\n",
      "282:\tlearn: 0.1525053\ttotal: 2m 33s\tremaining: 6m 29s\n",
      "283:\tlearn: 0.1524057\ttotal: 2m 34s\tremaining: 6m 28s\n",
      "284:\tlearn: 0.1522928\ttotal: 2m 34s\tremaining: 6m 28s\n",
      "285:\tlearn: 0.1522571\ttotal: 2m 35s\tremaining: 6m 27s\n",
      "286:\tlearn: 0.1521586\ttotal: 2m 35s\tremaining: 6m 27s\n",
      "287:\tlearn: 0.1521184\ttotal: 2m 36s\tremaining: 6m 26s\n",
      "288:\tlearn: 0.1520723\ttotal: 2m 36s\tremaining: 6m 26s\n",
      "289:\tlearn: 0.1519374\ttotal: 2m 37s\tremaining: 6m 25s\n",
      "290:\tlearn: 0.1518191\ttotal: 2m 38s\tremaining: 6m 25s\n",
      "291:\tlearn: 0.1517031\ttotal: 2m 38s\tremaining: 6m 24s\n",
      "292:\tlearn: 0.1515860\ttotal: 2m 39s\tremaining: 6m 24s\n",
      "293:\tlearn: 0.1515496\ttotal: 2m 39s\tremaining: 6m 23s\n",
      "294:\tlearn: 0.1514663\ttotal: 2m 40s\tremaining: 6m 23s\n",
      "295:\tlearn: 0.1513488\ttotal: 2m 40s\tremaining: 6m 22s\n",
      "296:\tlearn: 0.1511739\ttotal: 2m 41s\tremaining: 6m 22s\n",
      "297:\tlearn: 0.1510364\ttotal: 2m 41s\tremaining: 6m 21s\n",
      "298:\tlearn: 0.1509269\ttotal: 2m 42s\tremaining: 6m 21s\n",
      "299:\tlearn: 0.1508440\ttotal: 2m 43s\tremaining: 6m 20s\n",
      "300:\tlearn: 0.1507085\ttotal: 2m 43s\tremaining: 6m 19s\n",
      "301:\tlearn: 0.1505981\ttotal: 2m 44s\tremaining: 6m 19s\n",
      "302:\tlearn: 0.1504567\ttotal: 2m 44s\tremaining: 6m 18s\n",
      "303:\tlearn: 0.1503459\ttotal: 2m 45s\tremaining: 6m 18s\n",
      "304:\tlearn: 0.1502872\ttotal: 2m 45s\tremaining: 6m 17s\n",
      "305:\tlearn: 0.1501436\ttotal: 2m 46s\tremaining: 6m 17s\n",
      "306:\tlearn: 0.1500599\ttotal: 2m 46s\tremaining: 6m 16s\n",
      "307:\tlearn: 0.1499379\ttotal: 2m 47s\tremaining: 6m 16s\n",
      "308:\tlearn: 0.1498618\ttotal: 2m 48s\tremaining: 6m 15s\n",
      "309:\tlearn: 0.1497658\ttotal: 2m 48s\tremaining: 6m 15s\n"
     ]
    },
    {
     "name": "stdout",
     "output_type": "stream",
     "text": [
      "310:\tlearn: 0.1496849\ttotal: 2m 49s\tremaining: 6m 14s\n",
      "311:\tlearn: 0.1496219\ttotal: 2m 49s\tremaining: 6m 14s\n",
      "312:\tlearn: 0.1495208\ttotal: 2m 50s\tremaining: 6m 13s\n",
      "313:\tlearn: 0.1494269\ttotal: 2m 50s\tremaining: 6m 13s\n",
      "314:\tlearn: 0.1493562\ttotal: 2m 51s\tremaining: 6m 12s\n",
      "315:\tlearn: 0.1492742\ttotal: 2m 51s\tremaining: 6m 11s\n",
      "316:\tlearn: 0.1491721\ttotal: 2m 52s\tremaining: 6m 11s\n",
      "317:\tlearn: 0.1490663\ttotal: 2m 52s\tremaining: 6m 10s\n",
      "318:\tlearn: 0.1489982\ttotal: 2m 53s\tremaining: 6m 10s\n",
      "319:\tlearn: 0.1489603\ttotal: 2m 53s\tremaining: 6m 9s\n",
      "320:\tlearn: 0.1488579\ttotal: 2m 54s\tremaining: 6m 9s\n",
      "321:\tlearn: 0.1487467\ttotal: 2m 55s\tremaining: 6m 8s\n",
      "322:\tlearn: 0.1486500\ttotal: 2m 55s\tremaining: 6m 8s\n",
      "323:\tlearn: 0.1485941\ttotal: 2m 56s\tremaining: 6m 7s\n",
      "324:\tlearn: 0.1485609\ttotal: 2m 56s\tremaining: 6m 7s\n",
      "325:\tlearn: 0.1484509\ttotal: 2m 57s\tremaining: 6m 6s\n",
      "326:\tlearn: 0.1484123\ttotal: 2m 57s\tremaining: 6m 5s\n",
      "327:\tlearn: 0.1483397\ttotal: 2m 58s\tremaining: 6m 5s\n",
      "328:\tlearn: 0.1482189\ttotal: 2m 58s\tremaining: 6m 4s\n",
      "329:\tlearn: 0.1481120\ttotal: 2m 59s\tremaining: 6m 4s\n",
      "330:\tlearn: 0.1480307\ttotal: 3m\tremaining: 6m 3s\n",
      "331:\tlearn: 0.1479378\ttotal: 3m\tremaining: 6m 3s\n",
      "332:\tlearn: 0.1478744\ttotal: 3m 1s\tremaining: 6m 2s\n",
      "333:\tlearn: 0.1478026\ttotal: 3m 1s\tremaining: 6m 2s\n",
      "334:\tlearn: 0.1477027\ttotal: 3m 2s\tremaining: 6m 1s\n",
      "335:\tlearn: 0.1476019\ttotal: 3m 2s\tremaining: 6m 1s\n",
      "336:\tlearn: 0.1474782\ttotal: 3m 3s\tremaining: 6m\n",
      "337:\tlearn: 0.1473955\ttotal: 3m 4s\tremaining: 6m\n",
      "338:\tlearn: 0.1473066\ttotal: 3m 4s\tremaining: 6m\n",
      "339:\tlearn: 0.1472195\ttotal: 3m 5s\tremaining: 5m 59s\n",
      "340:\tlearn: 0.1471440\ttotal: 3m 5s\tremaining: 5m 58s\n",
      "341:\tlearn: 0.1470587\ttotal: 3m 6s\tremaining: 5m 58s\n",
      "342:\tlearn: 0.1469416\ttotal: 3m 6s\tremaining: 5m 58s\n",
      "343:\tlearn: 0.1468699\ttotal: 3m 7s\tremaining: 5m 57s\n",
      "344:\tlearn: 0.1467709\ttotal: 3m 8s\tremaining: 5m 57s\n",
      "345:\tlearn: 0.1466605\ttotal: 3m 8s\tremaining: 5m 56s\n",
      "346:\tlearn: 0.1466272\ttotal: 3m 9s\tremaining: 5m 55s\n",
      "347:\tlearn: 0.1465958\ttotal: 3m 9s\tremaining: 5m 55s\n",
      "348:\tlearn: 0.1464555\ttotal: 3m 10s\tremaining: 5m 54s\n",
      "349:\tlearn: 0.1464237\ttotal: 3m 10s\tremaining: 5m 54s\n",
      "350:\tlearn: 0.1463265\ttotal: 3m 11s\tremaining: 5m 53s\n",
      "351:\tlearn: 0.1462255\ttotal: 3m 11s\tremaining: 5m 53s\n",
      "352:\tlearn: 0.1461257\ttotal: 3m 12s\tremaining: 5m 52s\n",
      "353:\tlearn: 0.1460260\ttotal: 3m 13s\tremaining: 5m 52s\n",
      "354:\tlearn: 0.1459464\ttotal: 3m 13s\tremaining: 5m 51s\n",
      "355:\tlearn: 0.1458617\ttotal: 3m 14s\tremaining: 5m 51s\n",
      "356:\tlearn: 0.1457797\ttotal: 3m 14s\tremaining: 5m 50s\n",
      "357:\tlearn: 0.1456936\ttotal: 3m 15s\tremaining: 5m 50s\n",
      "358:\tlearn: 0.1455804\ttotal: 3m 15s\tremaining: 5m 49s\n",
      "359:\tlearn: 0.1455035\ttotal: 3m 16s\tremaining: 5m 49s\n",
      "360:\tlearn: 0.1454640\ttotal: 3m 16s\tremaining: 5m 48s\n",
      "361:\tlearn: 0.1453696\ttotal: 3m 17s\tremaining: 5m 48s\n",
      "362:\tlearn: 0.1452673\ttotal: 3m 18s\tremaining: 5m 47s\n",
      "363:\tlearn: 0.1452103\ttotal: 3m 18s\tremaining: 5m 46s\n",
      "364:\tlearn: 0.1451319\ttotal: 3m 19s\tremaining: 5m 46s\n",
      "365:\tlearn: 0.1450640\ttotal: 3m 19s\tremaining: 5m 45s\n",
      "366:\tlearn: 0.1449796\ttotal: 3m 20s\tremaining: 5m 45s\n",
      "367:\tlearn: 0.1449259\ttotal: 3m 20s\tremaining: 5m 44s\n",
      "368:\tlearn: 0.1448834\ttotal: 3m 21s\tremaining: 5m 44s\n",
      "369:\tlearn: 0.1448194\ttotal: 3m 21s\tremaining: 5m 43s\n",
      "370:\tlearn: 0.1447879\ttotal: 3m 22s\tremaining: 5m 43s\n",
      "371:\tlearn: 0.1447566\ttotal: 3m 22s\tremaining: 5m 42s\n",
      "372:\tlearn: 0.1447275\ttotal: 3m 23s\tremaining: 5m 42s\n",
      "373:\tlearn: 0.1446997\ttotal: 3m 24s\tremaining: 5m 41s\n",
      "374:\tlearn: 0.1446140\ttotal: 3m 24s\tremaining: 5m 40s\n",
      "375:\tlearn: 0.1445208\ttotal: 3m 25s\tremaining: 5m 40s\n",
      "376:\tlearn: 0.1444937\ttotal: 3m 25s\tremaining: 5m 39s\n",
      "377:\tlearn: 0.1444220\ttotal: 3m 26s\tremaining: 5m 39s\n",
      "378:\tlearn: 0.1443524\ttotal: 3m 26s\tremaining: 5m 38s\n",
      "379:\tlearn: 0.1442617\ttotal: 3m 27s\tremaining: 5m 38s\n",
      "380:\tlearn: 0.1441854\ttotal: 3m 27s\tremaining: 5m 37s\n",
      "381:\tlearn: 0.1441012\ttotal: 3m 28s\tremaining: 5m 37s\n",
      "382:\tlearn: 0.1440134\ttotal: 3m 29s\tremaining: 5m 36s\n",
      "383:\tlearn: 0.1439600\ttotal: 3m 29s\tremaining: 5m 36s\n",
      "384:\tlearn: 0.1438706\ttotal: 3m 30s\tremaining: 5m 35s\n",
      "385:\tlearn: 0.1438083\ttotal: 3m 30s\tremaining: 5m 35s\n",
      "386:\tlearn: 0.1437083\ttotal: 3m 31s\tremaining: 5m 34s\n",
      "387:\tlearn: 0.1436749\ttotal: 3m 31s\tremaining: 5m 34s\n",
      "388:\tlearn: 0.1435957\ttotal: 3m 32s\tremaining: 5m 33s\n",
      "389:\tlearn: 0.1435112\ttotal: 3m 32s\tremaining: 5m 32s\n",
      "390:\tlearn: 0.1434249\ttotal: 3m 33s\tremaining: 5m 32s\n",
      "391:\tlearn: 0.1433899\ttotal: 3m 33s\tremaining: 5m 31s\n",
      "392:\tlearn: 0.1433401\ttotal: 3m 34s\tremaining: 5m 31s\n",
      "393:\tlearn: 0.1432527\ttotal: 3m 35s\tremaining: 5m 30s\n",
      "394:\tlearn: 0.1432257\ttotal: 3m 35s\tremaining: 5m 30s\n",
      "395:\tlearn: 0.1431963\ttotal: 3m 36s\tremaining: 5m 29s\n",
      "396:\tlearn: 0.1431279\ttotal: 3m 36s\tremaining: 5m 29s\n",
      "397:\tlearn: 0.1430748\ttotal: 3m 37s\tremaining: 5m 28s\n",
      "398:\tlearn: 0.1429960\ttotal: 3m 37s\tremaining: 5m 28s\n",
      "399:\tlearn: 0.1429698\ttotal: 3m 38s\tremaining: 5m 27s\n",
      "400:\tlearn: 0.1429435\ttotal: 3m 38s\tremaining: 5m 26s\n",
      "401:\tlearn: 0.1429194\ttotal: 3m 39s\tremaining: 5m 26s\n",
      "402:\tlearn: 0.1428955\ttotal: 3m 39s\tremaining: 5m 25s\n",
      "403:\tlearn: 0.1428353\ttotal: 3m 40s\tremaining: 5m 25s\n",
      "404:\tlearn: 0.1427317\ttotal: 3m 41s\tremaining: 5m 24s\n",
      "405:\tlearn: 0.1427068\ttotal: 3m 41s\tremaining: 5m 24s\n",
      "406:\tlearn: 0.1426157\ttotal: 3m 42s\tremaining: 5m 23s\n",
      "407:\tlearn: 0.1425836\ttotal: 3m 42s\tremaining: 5m 23s\n",
      "408:\tlearn: 0.1425112\ttotal: 3m 43s\tremaining: 5m 22s\n",
      "409:\tlearn: 0.1424156\ttotal: 3m 43s\tremaining: 5m 22s\n",
      "410:\tlearn: 0.1423525\ttotal: 3m 44s\tremaining: 5m 21s\n",
      "411:\tlearn: 0.1423191\ttotal: 3m 44s\tremaining: 5m 21s\n",
      "412:\tlearn: 0.1422942\ttotal: 3m 45s\tremaining: 5m 20s\n",
      "413:\tlearn: 0.1422163\ttotal: 3m 46s\tremaining: 5m 20s\n",
      "414:\tlearn: 0.1421179\ttotal: 3m 46s\tremaining: 5m 19s\n",
      "415:\tlearn: 0.1420374\ttotal: 3m 47s\tremaining: 5m 18s\n",
      "416:\tlearn: 0.1420124\ttotal: 3m 47s\tremaining: 5m 18s\n",
      "417:\tlearn: 0.1419885\ttotal: 3m 48s\tremaining: 5m 17s\n",
      "418:\tlearn: 0.1419333\ttotal: 3m 48s\tremaining: 5m 17s\n",
      "419:\tlearn: 0.1418608\ttotal: 3m 49s\tremaining: 5m 16s\n",
      "420:\tlearn: 0.1418371\ttotal: 3m 49s\tremaining: 5m 16s\n",
      "421:\tlearn: 0.1417648\ttotal: 3m 50s\tremaining: 5m 15s\n",
      "422:\tlearn: 0.1416960\ttotal: 3m 51s\tremaining: 5m 15s\n",
      "423:\tlearn: 0.1416008\ttotal: 3m 51s\tremaining: 5m 14s\n",
      "424:\tlearn: 0.1415731\ttotal: 3m 52s\tremaining: 5m 14s\n",
      "425:\tlearn: 0.1415131\ttotal: 3m 52s\tremaining: 5m 13s\n",
      "426:\tlearn: 0.1414315\ttotal: 3m 53s\tremaining: 5m 13s\n",
      "427:\tlearn: 0.1413996\ttotal: 3m 53s\tremaining: 5m 12s\n",
      "428:\tlearn: 0.1413233\ttotal: 3m 54s\tremaining: 5m 11s\n",
      "429:\tlearn: 0.1412843\ttotal: 3m 54s\tremaining: 5m 11s\n",
      "430:\tlearn: 0.1412212\ttotal: 3m 55s\tremaining: 5m 10s\n",
      "431:\tlearn: 0.1411597\ttotal: 3m 55s\tremaining: 5m 10s\n",
      "432:\tlearn: 0.1410465\ttotal: 3m 56s\tremaining: 5m 9s\n",
      "433:\tlearn: 0.1409825\ttotal: 3m 57s\tremaining: 5m 9s\n",
      "434:\tlearn: 0.1409596\ttotal: 3m 57s\tremaining: 5m 8s\n",
      "435:\tlearn: 0.1409336\ttotal: 3m 58s\tremaining: 5m 8s\n",
      "436:\tlearn: 0.1409104\ttotal: 3m 58s\tremaining: 5m 7s\n",
      "437:\tlearn: 0.1408277\ttotal: 3m 59s\tremaining: 5m 7s\n",
      "438:\tlearn: 0.1408043\ttotal: 3m 59s\tremaining: 5m 6s\n",
      "439:\tlearn: 0.1407818\ttotal: 4m\tremaining: 5m 5s\n",
      "440:\tlearn: 0.1407066\ttotal: 4m\tremaining: 5m 5s\n",
      "441:\tlearn: 0.1406349\ttotal: 4m 1s\tremaining: 5m 4s\n",
      "442:\tlearn: 0.1405431\ttotal: 4m 2s\tremaining: 5m 4s\n",
      "443:\tlearn: 0.1405204\ttotal: 4m 2s\tremaining: 5m 3s\n",
      "444:\tlearn: 0.1404555\ttotal: 4m 3s\tremaining: 5m 3s\n",
      "445:\tlearn: 0.1404338\ttotal: 4m 3s\tremaining: 5m 2s\n",
      "446:\tlearn: 0.1403925\ttotal: 4m 4s\tremaining: 5m 2s\n",
      "447:\tlearn: 0.1403701\ttotal: 4m 4s\tremaining: 5m 1s\n",
      "448:\tlearn: 0.1402898\ttotal: 4m 5s\tremaining: 5m 1s\n",
      "449:\tlearn: 0.1401625\ttotal: 4m 5s\tremaining: 5m\n",
      "450:\tlearn: 0.1401085\ttotal: 4m 6s\tremaining: 5m\n",
      "451:\tlearn: 0.1400422\ttotal: 4m 7s\tremaining: 4m 59s\n",
      "452:\tlearn: 0.1399540\ttotal: 4m 7s\tremaining: 4m 58s\n",
      "453:\tlearn: 0.1398777\ttotal: 4m 8s\tremaining: 4m 58s\n",
      "454:\tlearn: 0.1398234\ttotal: 4m 8s\tremaining: 4m 57s\n",
      "455:\tlearn: 0.1397643\ttotal: 4m 9s\tremaining: 4m 57s\n",
      "456:\tlearn: 0.1396866\ttotal: 4m 9s\tremaining: 4m 56s\n",
      "457:\tlearn: 0.1396606\ttotal: 4m 10s\tremaining: 4m 56s\n",
      "458:\tlearn: 0.1396402\ttotal: 4m 10s\tremaining: 4m 55s\n",
      "459:\tlearn: 0.1395771\ttotal: 4m 11s\tremaining: 4m 55s\n",
      "460:\tlearn: 0.1394875\ttotal: 4m 11s\tremaining: 4m 54s\n",
      "461:\tlearn: 0.1394173\ttotal: 4m 12s\tremaining: 4m 54s\n",
      "462:\tlearn: 0.1393581\ttotal: 4m 13s\tremaining: 4m 53s\n",
      "463:\tlearn: 0.1393284\ttotal: 4m 13s\tremaining: 4m 52s\n"
     ]
    },
    {
     "name": "stdout",
     "output_type": "stream",
     "text": [
      "464:\tlearn: 0.1393028\ttotal: 4m 14s\tremaining: 4m 52s\n",
      "465:\tlearn: 0.1392427\ttotal: 4m 14s\tremaining: 4m 51s\n",
      "466:\tlearn: 0.1391865\ttotal: 4m 15s\tremaining: 4m 51s\n",
      "467:\tlearn: 0.1391420\ttotal: 4m 15s\tremaining: 4m 50s\n",
      "468:\tlearn: 0.1390976\ttotal: 4m 16s\tremaining: 4m 50s\n",
      "469:\tlearn: 0.1390587\ttotal: 4m 16s\tremaining: 4m 49s\n",
      "470:\tlearn: 0.1389910\ttotal: 4m 17s\tremaining: 4m 49s\n",
      "471:\tlearn: 0.1388988\ttotal: 4m 18s\tremaining: 4m 48s\n",
      "472:\tlearn: 0.1388338\ttotal: 4m 18s\tremaining: 4m 48s\n",
      "473:\tlearn: 0.1388125\ttotal: 4m 19s\tremaining: 4m 47s\n",
      "474:\tlearn: 0.1387385\ttotal: 4m 19s\tremaining: 4m 47s\n",
      "475:\tlearn: 0.1387033\ttotal: 4m 20s\tremaining: 4m 46s\n",
      "476:\tlearn: 0.1386368\ttotal: 4m 20s\tremaining: 4m 45s\n",
      "477:\tlearn: 0.1386132\ttotal: 4m 21s\tremaining: 4m 45s\n",
      "478:\tlearn: 0.1385921\ttotal: 4m 21s\tremaining: 4m 44s\n",
      "479:\tlearn: 0.1384983\ttotal: 4m 22s\tremaining: 4m 44s\n",
      "480:\tlearn: 0.1384777\ttotal: 4m 22s\tremaining: 4m 43s\n",
      "481:\tlearn: 0.1384348\ttotal: 4m 23s\tremaining: 4m 43s\n",
      "482:\tlearn: 0.1384141\ttotal: 4m 24s\tremaining: 4m 42s\n",
      "483:\tlearn: 0.1383475\ttotal: 4m 24s\tremaining: 4m 42s\n",
      "484:\tlearn: 0.1383206\ttotal: 4m 25s\tremaining: 4m 41s\n",
      "485:\tlearn: 0.1383002\ttotal: 4m 25s\tremaining: 4m 40s\n",
      "486:\tlearn: 0.1382150\ttotal: 4m 26s\tremaining: 4m 40s\n",
      "487:\tlearn: 0.1381949\ttotal: 4m 26s\tremaining: 4m 39s\n",
      "488:\tlearn: 0.1381644\ttotal: 4m 27s\tremaining: 4m 39s\n",
      "489:\tlearn: 0.1381127\ttotal: 4m 27s\tremaining: 4m 38s\n",
      "490:\tlearn: 0.1380597\ttotal: 4m 28s\tremaining: 4m 38s\n",
      "491:\tlearn: 0.1379895\ttotal: 4m 28s\tremaining: 4m 37s\n",
      "492:\tlearn: 0.1379356\ttotal: 4m 29s\tremaining: 4m 37s\n",
      "493:\tlearn: 0.1379157\ttotal: 4m 30s\tremaining: 4m 36s\n",
      "494:\tlearn: 0.1378675\ttotal: 4m 30s\tremaining: 4m 36s\n",
      "495:\tlearn: 0.1378002\ttotal: 4m 31s\tremaining: 4m 35s\n",
      "496:\tlearn: 0.1377819\ttotal: 4m 31s\tremaining: 4m 35s\n",
      "497:\tlearn: 0.1377584\ttotal: 4m 32s\tremaining: 4m 34s\n",
      "498:\tlearn: 0.1377393\ttotal: 4m 32s\tremaining: 4m 33s\n",
      "499:\tlearn: 0.1376680\ttotal: 4m 33s\tremaining: 4m 33s\n",
      "500:\tlearn: 0.1375972\ttotal: 4m 33s\tremaining: 4m 32s\n",
      "501:\tlearn: 0.1375782\ttotal: 4m 34s\tremaining: 4m 32s\n",
      "502:\tlearn: 0.1375123\ttotal: 4m 35s\tremaining: 4m 31s\n",
      "503:\tlearn: 0.1374519\ttotal: 4m 35s\tremaining: 4m 31s\n",
      "504:\tlearn: 0.1374287\ttotal: 4m 36s\tremaining: 4m 30s\n",
      "505:\tlearn: 0.1373736\ttotal: 4m 36s\tremaining: 4m 30s\n",
      "506:\tlearn: 0.1373104\ttotal: 4m 37s\tremaining: 4m 29s\n",
      "507:\tlearn: 0.1372448\ttotal: 4m 37s\tremaining: 4m 29s\n",
      "508:\tlearn: 0.1371728\ttotal: 4m 38s\tremaining: 4m 28s\n",
      "509:\tlearn: 0.1371541\ttotal: 4m 38s\tremaining: 4m 27s\n",
      "510:\tlearn: 0.1371092\ttotal: 4m 39s\tremaining: 4m 27s\n",
      "511:\tlearn: 0.1370907\ttotal: 4m 39s\tremaining: 4m 26s\n",
      "512:\tlearn: 0.1370290\ttotal: 4m 40s\tremaining: 4m 26s\n",
      "513:\tlearn: 0.1369915\ttotal: 4m 41s\tremaining: 4m 25s\n",
      "514:\tlearn: 0.1369413\ttotal: 4m 41s\tremaining: 4m 25s\n",
      "515:\tlearn: 0.1368827\ttotal: 4m 42s\tremaining: 4m 24s\n",
      "516:\tlearn: 0.1368342\ttotal: 4m 42s\tremaining: 4m 24s\n",
      "517:\tlearn: 0.1368110\ttotal: 4m 43s\tremaining: 4m 23s\n",
      "518:\tlearn: 0.1367629\ttotal: 4m 43s\tremaining: 4m 23s\n",
      "519:\tlearn: 0.1366860\ttotal: 4m 44s\tremaining: 4m 22s\n",
      "520:\tlearn: 0.1365988\ttotal: 4m 44s\tremaining: 4m 21s\n",
      "521:\tlearn: 0.1365285\ttotal: 4m 45s\tremaining: 4m 21s\n",
      "522:\tlearn: 0.1364951\ttotal: 4m 46s\tremaining: 4m 20s\n",
      "523:\tlearn: 0.1364113\ttotal: 4m 46s\tremaining: 4m 20s\n",
      "524:\tlearn: 0.1363839\ttotal: 4m 47s\tremaining: 4m 19s\n",
      "525:\tlearn: 0.1363149\ttotal: 4m 47s\tremaining: 4m 19s\n",
      "526:\tlearn: 0.1362679\ttotal: 4m 48s\tremaining: 4m 18s\n",
      "527:\tlearn: 0.1361865\ttotal: 4m 48s\tremaining: 4m 18s\n",
      "528:\tlearn: 0.1361227\ttotal: 4m 49s\tremaining: 4m 17s\n",
      "529:\tlearn: 0.1360653\ttotal: 4m 49s\tremaining: 4m 17s\n",
      "530:\tlearn: 0.1360442\ttotal: 4m 50s\tremaining: 4m 16s\n",
      "531:\tlearn: 0.1360145\ttotal: 4m 50s\tremaining: 4m 15s\n",
      "532:\tlearn: 0.1359966\ttotal: 4m 51s\tremaining: 4m 15s\n",
      "533:\tlearn: 0.1359783\ttotal: 4m 52s\tremaining: 4m 14s\n",
      "534:\tlearn: 0.1359315\ttotal: 4m 52s\tremaining: 4m 14s\n",
      "535:\tlearn: 0.1359127\ttotal: 4m 53s\tremaining: 4m 13s\n",
      "536:\tlearn: 0.1358956\ttotal: 4m 53s\tremaining: 4m 13s\n",
      "537:\tlearn: 0.1358331\ttotal: 4m 54s\tremaining: 4m 12s\n",
      "538:\tlearn: 0.1357859\ttotal: 4m 54s\tremaining: 4m 12s\n",
      "539:\tlearn: 0.1357279\ttotal: 4m 55s\tremaining: 4m 11s\n",
      "540:\tlearn: 0.1357102\ttotal: 4m 55s\tremaining: 4m 11s\n",
      "541:\tlearn: 0.1356381\ttotal: 4m 56s\tremaining: 4m 10s\n",
      "542:\tlearn: 0.1356209\ttotal: 4m 56s\tremaining: 4m 9s\n",
      "543:\tlearn: 0.1355467\ttotal: 4m 57s\tremaining: 4m 9s\n",
      "544:\tlearn: 0.1354911\ttotal: 4m 58s\tremaining: 4m 8s\n",
      "545:\tlearn: 0.1354679\ttotal: 4m 58s\tremaining: 4m 8s\n",
      "546:\tlearn: 0.1354257\ttotal: 4m 59s\tremaining: 4m 7s\n",
      "547:\tlearn: 0.1353573\ttotal: 4m 59s\tremaining: 4m 7s\n",
      "548:\tlearn: 0.1353185\ttotal: 5m\tremaining: 4m 6s\n",
      "549:\tlearn: 0.1352950\ttotal: 5m\tremaining: 4m 6s\n",
      "550:\tlearn: 0.1352376\ttotal: 5m 1s\tremaining: 4m 5s\n",
      "551:\tlearn: 0.1351812\ttotal: 5m 1s\tremaining: 4m 5s\n",
      "552:\tlearn: 0.1351344\ttotal: 5m 2s\tremaining: 4m 4s\n",
      "553:\tlearn: 0.1350833\ttotal: 5m 3s\tremaining: 4m 3s\n",
      "554:\tlearn: 0.1350658\ttotal: 5m 3s\tremaining: 4m 3s\n",
      "555:\tlearn: 0.1350409\ttotal: 5m 4s\tremaining: 4m 2s\n",
      "556:\tlearn: 0.1349694\ttotal: 5m 4s\tremaining: 4m 2s\n",
      "557:\tlearn: 0.1349006\ttotal: 5m 5s\tremaining: 4m 1s\n",
      "558:\tlearn: 0.1348837\ttotal: 5m 5s\tremaining: 4m 1s\n",
      "559:\tlearn: 0.1348253\ttotal: 5m 6s\tremaining: 4m\n",
      "560:\tlearn: 0.1348057\ttotal: 5m 6s\tremaining: 4m\n",
      "561:\tlearn: 0.1347252\ttotal: 5m 7s\tremaining: 3m 59s\n",
      "562:\tlearn: 0.1346960\ttotal: 5m 8s\tremaining: 3m 59s\n",
      "563:\tlearn: 0.1346770\ttotal: 5m 8s\tremaining: 3m 58s\n",
      "564:\tlearn: 0.1346599\ttotal: 5m 9s\tremaining: 3m 58s\n",
      "565:\tlearn: 0.1346125\ttotal: 5m 9s\tremaining: 3m 57s\n",
      "566:\tlearn: 0.1345596\ttotal: 5m 10s\tremaining: 3m 56s\n",
      "567:\tlearn: 0.1345019\ttotal: 5m 10s\tremaining: 3m 56s\n",
      "568:\tlearn: 0.1344839\ttotal: 5m 11s\tremaining: 3m 55s\n",
      "569:\tlearn: 0.1344389\ttotal: 5m 11s\tremaining: 3m 55s\n",
      "570:\tlearn: 0.1343844\ttotal: 5m 12s\tremaining: 3m 54s\n",
      "571:\tlearn: 0.1343561\ttotal: 5m 13s\tremaining: 3m 54s\n",
      "572:\tlearn: 0.1343336\ttotal: 5m 13s\tremaining: 3m 53s\n",
      "573:\tlearn: 0.1342371\ttotal: 5m 14s\tremaining: 3m 53s\n",
      "574:\tlearn: 0.1342140\ttotal: 5m 14s\tremaining: 3m 52s\n",
      "575:\tlearn: 0.1341355\ttotal: 5m 15s\tremaining: 3m 52s\n",
      "576:\tlearn: 0.1340681\ttotal: 5m 15s\tremaining: 3m 51s\n",
      "577:\tlearn: 0.1339978\ttotal: 5m 16s\tremaining: 3m 50s\n",
      "578:\tlearn: 0.1339819\ttotal: 5m 16s\tremaining: 3m 50s\n",
      "579:\tlearn: 0.1339596\ttotal: 5m 17s\tremaining: 3m 49s\n",
      "580:\tlearn: 0.1339132\ttotal: 5m 17s\tremaining: 3m 49s\n",
      "581:\tlearn: 0.1338715\ttotal: 5m 18s\tremaining: 3m 48s\n",
      "582:\tlearn: 0.1338541\ttotal: 5m 19s\tremaining: 3m 48s\n",
      "583:\tlearn: 0.1338373\ttotal: 5m 19s\tremaining: 3m 47s\n",
      "584:\tlearn: 0.1338142\ttotal: 5m 20s\tremaining: 3m 47s\n",
      "585:\tlearn: 0.1337482\ttotal: 5m 20s\tremaining: 3m 46s\n",
      "586:\tlearn: 0.1337310\ttotal: 5m 21s\tremaining: 3m 46s\n",
      "587:\tlearn: 0.1336990\ttotal: 5m 21s\tremaining: 3m 45s\n",
      "588:\tlearn: 0.1336825\ttotal: 5m 22s\tremaining: 3m 44s\n",
      "589:\tlearn: 0.1336346\ttotal: 5m 22s\tremaining: 3m 44s\n",
      "590:\tlearn: 0.1335756\ttotal: 5m 23s\tremaining: 3m 43s\n",
      "591:\tlearn: 0.1335172\ttotal: 5m 24s\tremaining: 3m 43s\n",
      "592:\tlearn: 0.1334463\ttotal: 5m 24s\tremaining: 3m 42s\n",
      "593:\tlearn: 0.1334101\ttotal: 5m 25s\tremaining: 3m 42s\n",
      "594:\tlearn: 0.1333613\ttotal: 5m 25s\tremaining: 3m 41s\n",
      "595:\tlearn: 0.1333401\ttotal: 5m 26s\tremaining: 3m 41s\n",
      "596:\tlearn: 0.1332698\ttotal: 5m 26s\tremaining: 3m 40s\n",
      "597:\tlearn: 0.1332160\ttotal: 5m 27s\tremaining: 3m 40s\n",
      "598:\tlearn: 0.1331613\ttotal: 5m 27s\tremaining: 3m 39s\n",
      "599:\tlearn: 0.1331055\ttotal: 5m 28s\tremaining: 3m 38s\n",
      "600:\tlearn: 0.1330431\ttotal: 5m 29s\tremaining: 3m 38s\n",
      "601:\tlearn: 0.1330268\ttotal: 5m 29s\tremaining: 3m 37s\n",
      "602:\tlearn: 0.1329953\ttotal: 5m 30s\tremaining: 3m 37s\n",
      "603:\tlearn: 0.1329327\ttotal: 5m 30s\tremaining: 3m 36s\n",
      "604:\tlearn: 0.1329172\ttotal: 5m 31s\tremaining: 3m 36s\n",
      "605:\tlearn: 0.1328500\ttotal: 5m 31s\tremaining: 3m 35s\n",
      "606:\tlearn: 0.1328344\ttotal: 5m 32s\tremaining: 3m 35s\n",
      "607:\tlearn: 0.1327962\ttotal: 5m 33s\tremaining: 3m 34s\n",
      "608:\tlearn: 0.1327696\ttotal: 5m 33s\tremaining: 3m 34s\n",
      "609:\tlearn: 0.1326945\ttotal: 5m 34s\tremaining: 3m 33s\n",
      "610:\tlearn: 0.1326752\ttotal: 5m 34s\tremaining: 3m 33s\n",
      "611:\tlearn: 0.1325924\ttotal: 5m 35s\tremaining: 3m 32s\n",
      "612:\tlearn: 0.1325152\ttotal: 5m 35s\tremaining: 3m 31s\n",
      "613:\tlearn: 0.1324993\ttotal: 5m 36s\tremaining: 3m 31s\n",
      "614:\tlearn: 0.1324493\ttotal: 5m 36s\tremaining: 3m 30s\n",
      "615:\tlearn: 0.1324334\ttotal: 5m 37s\tremaining: 3m 30s\n",
      "616:\tlearn: 0.1323627\ttotal: 5m 38s\tremaining: 3m 29s\n"
     ]
    },
    {
     "name": "stdout",
     "output_type": "stream",
     "text": [
      "617:\tlearn: 0.1323419\ttotal: 5m 38s\tremaining: 3m 29s\n",
      "618:\tlearn: 0.1322987\ttotal: 5m 39s\tremaining: 3m 28s\n",
      "619:\tlearn: 0.1322839\ttotal: 5m 39s\tremaining: 3m 28s\n",
      "620:\tlearn: 0.1322420\ttotal: 5m 40s\tremaining: 3m 27s\n",
      "621:\tlearn: 0.1321873\ttotal: 5m 40s\tremaining: 3m 27s\n",
      "622:\tlearn: 0.1321652\ttotal: 5m 41s\tremaining: 3m 26s\n",
      "623:\tlearn: 0.1320929\ttotal: 5m 41s\tremaining: 3m 26s\n",
      "624:\tlearn: 0.1320200\ttotal: 5m 42s\tremaining: 3m 25s\n",
      "625:\tlearn: 0.1319684\ttotal: 5m 43s\tremaining: 3m 24s\n",
      "626:\tlearn: 0.1319241\ttotal: 5m 43s\tremaining: 3m 24s\n",
      "627:\tlearn: 0.1318542\ttotal: 5m 44s\tremaining: 3m 23s\n",
      "628:\tlearn: 0.1317881\ttotal: 5m 44s\tremaining: 3m 23s\n",
      "629:\tlearn: 0.1317470\ttotal: 5m 45s\tremaining: 3m 22s\n",
      "630:\tlearn: 0.1316946\ttotal: 5m 45s\tremaining: 3m 22s\n",
      "631:\tlearn: 0.1316318\ttotal: 5m 46s\tremaining: 3m 21s\n",
      "632:\tlearn: 0.1315766\ttotal: 5m 46s\tremaining: 3m 21s\n",
      "633:\tlearn: 0.1315279\ttotal: 5m 47s\tremaining: 3m 20s\n",
      "634:\tlearn: 0.1314647\ttotal: 5m 48s\tremaining: 3m 20s\n",
      "635:\tlearn: 0.1314500\ttotal: 5m 48s\tremaining: 3m 19s\n",
      "636:\tlearn: 0.1314012\ttotal: 5m 49s\tremaining: 3m 18s\n",
      "637:\tlearn: 0.1313359\ttotal: 5m 49s\tremaining: 3m 18s\n",
      "638:\tlearn: 0.1313097\ttotal: 5m 50s\tremaining: 3m 17s\n",
      "639:\tlearn: 0.1312862\ttotal: 5m 50s\tremaining: 3m 17s\n",
      "640:\tlearn: 0.1312708\ttotal: 5m 51s\tremaining: 3m 16s\n",
      "641:\tlearn: 0.1312558\ttotal: 5m 51s\tremaining: 3m 16s\n",
      "642:\tlearn: 0.1312309\ttotal: 5m 52s\tremaining: 3m 15s\n",
      "643:\tlearn: 0.1312111\ttotal: 5m 52s\tremaining: 3m 15s\n",
      "644:\tlearn: 0.1311433\ttotal: 5m 53s\tremaining: 3m 14s\n",
      "645:\tlearn: 0.1310878\ttotal: 5m 54s\tremaining: 3m 14s\n",
      "646:\tlearn: 0.1310412\ttotal: 5m 54s\tremaining: 3m 13s\n",
      "647:\tlearn: 0.1309935\ttotal: 5m 55s\tremaining: 3m 12s\n",
      "648:\tlearn: 0.1309249\ttotal: 5m 55s\tremaining: 3m 12s\n",
      "649:\tlearn: 0.1308569\ttotal: 5m 56s\tremaining: 3m 11s\n",
      "650:\tlearn: 0.1308410\ttotal: 5m 56s\tremaining: 3m 11s\n",
      "651:\tlearn: 0.1307843\ttotal: 5m 57s\tremaining: 3m 10s\n",
      "652:\tlearn: 0.1307496\ttotal: 5m 57s\tremaining: 3m 10s\n",
      "653:\tlearn: 0.1307298\ttotal: 5m 58s\tremaining: 3m 9s\n",
      "654:\tlearn: 0.1307078\ttotal: 5m 59s\tremaining: 3m 9s\n",
      "655:\tlearn: 0.1306487\ttotal: 5m 59s\tremaining: 3m 8s\n",
      "656:\tlearn: 0.1306167\ttotal: 6m\tremaining: 3m 8s\n",
      "657:\tlearn: 0.1305723\ttotal: 6m\tremaining: 3m 7s\n",
      "658:\tlearn: 0.1305518\ttotal: 6m 1s\tremaining: 3m 6s\n",
      "659:\tlearn: 0.1305046\ttotal: 6m 1s\tremaining: 3m 6s\n",
      "660:\tlearn: 0.1304593\ttotal: 6m 2s\tremaining: 3m 5s\n",
      "661:\tlearn: 0.1304436\ttotal: 6m 2s\tremaining: 3m 5s\n",
      "662:\tlearn: 0.1303826\ttotal: 6m 3s\tremaining: 3m 4s\n",
      "663:\tlearn: 0.1303685\ttotal: 6m 4s\tremaining: 3m 4s\n",
      "664:\tlearn: 0.1303130\ttotal: 6m 4s\tremaining: 3m 3s\n",
      "665:\tlearn: 0.1302980\ttotal: 6m 5s\tremaining: 3m 3s\n",
      "666:\tlearn: 0.1302400\ttotal: 6m 5s\tremaining: 3m 2s\n",
      "667:\tlearn: 0.1302130\ttotal: 6m 6s\tremaining: 3m 2s\n",
      "668:\tlearn: 0.1301535\ttotal: 6m 6s\tremaining: 3m 1s\n",
      "669:\tlearn: 0.1301068\ttotal: 6m 7s\tremaining: 3m\n",
      "670:\tlearn: 0.1300652\ttotal: 6m 7s\tremaining: 3m\n",
      "671:\tlearn: 0.1300197\ttotal: 6m 8s\tremaining: 2m 59s\n",
      "672:\tlearn: 0.1299621\ttotal: 6m 9s\tremaining: 2m 59s\n",
      "673:\tlearn: 0.1299483\ttotal: 6m 9s\tremaining: 2m 58s\n",
      "674:\tlearn: 0.1298745\ttotal: 6m 10s\tremaining: 2m 58s\n",
      "675:\tlearn: 0.1298239\ttotal: 6m 10s\tremaining: 2m 57s\n",
      "676:\tlearn: 0.1297737\ttotal: 6m 11s\tremaining: 2m 57s\n",
      "677:\tlearn: 0.1297342\ttotal: 6m 11s\tremaining: 2m 56s\n",
      "678:\tlearn: 0.1297003\ttotal: 6m 12s\tremaining: 2m 56s\n",
      "679:\tlearn: 0.1296597\ttotal: 6m 12s\tremaining: 2m 55s\n",
      "680:\tlearn: 0.1296128\ttotal: 6m 13s\tremaining: 2m 54s\n",
      "681:\tlearn: 0.1295516\ttotal: 6m 14s\tremaining: 2m 54s\n",
      "682:\tlearn: 0.1295037\ttotal: 6m 14s\tremaining: 2m 53s\n",
      "683:\tlearn: 0.1294790\ttotal: 6m 15s\tremaining: 2m 53s\n",
      "684:\tlearn: 0.1294338\ttotal: 6m 15s\tremaining: 2m 52s\n",
      "685:\tlearn: 0.1294184\ttotal: 6m 16s\tremaining: 2m 52s\n",
      "686:\tlearn: 0.1293944\ttotal: 6m 16s\tremaining: 2m 51s\n",
      "687:\tlearn: 0.1293292\ttotal: 6m 17s\tremaining: 2m 51s\n",
      "688:\tlearn: 0.1292720\ttotal: 6m 17s\tremaining: 2m 50s\n",
      "689:\tlearn: 0.1292579\ttotal: 6m 18s\tremaining: 2m 50s\n",
      "690:\tlearn: 0.1292312\ttotal: 6m 18s\tremaining: 2m 49s\n",
      "691:\tlearn: 0.1291830\ttotal: 6m 19s\tremaining: 2m 48s\n",
      "692:\tlearn: 0.1291643\ttotal: 6m 20s\tremaining: 2m 48s\n",
      "693:\tlearn: 0.1291108\ttotal: 6m 20s\tremaining: 2m 47s\n",
      "694:\tlearn: 0.1290973\ttotal: 6m 21s\tremaining: 2m 47s\n",
      "695:\tlearn: 0.1290682\ttotal: 6m 21s\tremaining: 2m 46s\n",
      "696:\tlearn: 0.1290335\ttotal: 6m 22s\tremaining: 2m 46s\n",
      "697:\tlearn: 0.1290189\ttotal: 6m 22s\tremaining: 2m 45s\n",
      "698:\tlearn: 0.1289549\ttotal: 6m 23s\tremaining: 2m 45s\n",
      "699:\tlearn: 0.1289181\ttotal: 6m 24s\tremaining: 2m 44s\n",
      "700:\tlearn: 0.1288754\ttotal: 6m 24s\tremaining: 2m 44s\n",
      "701:\tlearn: 0.1288612\ttotal: 6m 25s\tremaining: 2m 43s\n",
      "702:\tlearn: 0.1288473\ttotal: 6m 25s\tremaining: 2m 42s\n",
      "703:\tlearn: 0.1288326\ttotal: 6m 26s\tremaining: 2m 42s\n",
      "704:\tlearn: 0.1287731\ttotal: 6m 26s\tremaining: 2m 41s\n",
      "705:\tlearn: 0.1287321\ttotal: 6m 27s\tremaining: 2m 41s\n",
      "706:\tlearn: 0.1287184\ttotal: 6m 27s\tremaining: 2m 40s\n",
      "707:\tlearn: 0.1286615\ttotal: 6m 28s\tremaining: 2m 40s\n",
      "708:\tlearn: 0.1286424\ttotal: 6m 28s\tremaining: 2m 39s\n",
      "709:\tlearn: 0.1285978\ttotal: 6m 29s\tremaining: 2m 39s\n",
      "710:\tlearn: 0.1285799\ttotal: 6m 30s\tremaining: 2m 38s\n",
      "711:\tlearn: 0.1285340\ttotal: 6m 30s\tremaining: 2m 38s\n",
      "712:\tlearn: 0.1285094\ttotal: 6m 31s\tremaining: 2m 37s\n",
      "713:\tlearn: 0.1284739\ttotal: 6m 31s\tremaining: 2m 36s\n",
      "714:\tlearn: 0.1284253\ttotal: 6m 32s\tremaining: 2m 36s\n",
      "715:\tlearn: 0.1284117\ttotal: 6m 32s\tremaining: 2m 35s\n",
      "716:\tlearn: 0.1283901\ttotal: 6m 33s\tremaining: 2m 35s\n",
      "717:\tlearn: 0.1283768\ttotal: 6m 33s\tremaining: 2m 34s\n",
      "718:\tlearn: 0.1283233\ttotal: 6m 34s\tremaining: 2m 34s\n",
      "719:\tlearn: 0.1282770\ttotal: 6m 35s\tremaining: 2m 33s\n",
      "720:\tlearn: 0.1282646\ttotal: 6m 35s\tremaining: 2m 33s\n",
      "721:\tlearn: 0.1282215\ttotal: 6m 36s\tremaining: 2m 32s\n",
      "722:\tlearn: 0.1281816\ttotal: 6m 36s\tremaining: 2m 31s\n",
      "723:\tlearn: 0.1281595\ttotal: 6m 37s\tremaining: 2m 31s\n",
      "724:\tlearn: 0.1280851\ttotal: 6m 37s\tremaining: 2m 30s\n",
      "725:\tlearn: 0.1280472\ttotal: 6m 38s\tremaining: 2m 30s\n",
      "726:\tlearn: 0.1280307\ttotal: 6m 38s\tremaining: 2m 29s\n",
      "727:\tlearn: 0.1279871\ttotal: 6m 39s\tremaining: 2m 29s\n",
      "728:\tlearn: 0.1279262\ttotal: 6m 40s\tremaining: 2m 28s\n",
      "729:\tlearn: 0.1278887\ttotal: 6m 40s\tremaining: 2m 28s\n",
      "730:\tlearn: 0.1278696\ttotal: 6m 41s\tremaining: 2m 27s\n",
      "731:\tlearn: 0.1278121\ttotal: 6m 41s\tremaining: 2m 27s\n",
      "732:\tlearn: 0.1277860\ttotal: 6m 42s\tremaining: 2m 26s\n",
      "733:\tlearn: 0.1277602\ttotal: 6m 42s\tremaining: 2m 25s\n",
      "734:\tlearn: 0.1277020\ttotal: 6m 43s\tremaining: 2m 25s\n",
      "735:\tlearn: 0.1276894\ttotal: 6m 43s\tremaining: 2m 24s\n",
      "736:\tlearn: 0.1276499\ttotal: 6m 44s\tremaining: 2m 24s\n",
      "737:\tlearn: 0.1276045\ttotal: 6m 45s\tremaining: 2m 23s\n",
      "738:\tlearn: 0.1275797\ttotal: 6m 45s\tremaining: 2m 23s\n",
      "739:\tlearn: 0.1275009\ttotal: 6m 46s\tremaining: 2m 22s\n",
      "740:\tlearn: 0.1274430\ttotal: 6m 46s\tremaining: 2m 22s\n",
      "741:\tlearn: 0.1273879\ttotal: 6m 47s\tremaining: 2m 21s\n",
      "742:\tlearn: 0.1273306\ttotal: 6m 47s\tremaining: 2m 21s\n",
      "743:\tlearn: 0.1272786\ttotal: 6m 48s\tremaining: 2m 20s\n",
      "744:\tlearn: 0.1272315\ttotal: 6m 48s\tremaining: 2m 19s\n",
      "745:\tlearn: 0.1271789\ttotal: 6m 49s\tremaining: 2m 19s\n",
      "746:\tlearn: 0.1271258\ttotal: 6m 50s\tremaining: 2m 18s\n",
      "747:\tlearn: 0.1270827\ttotal: 6m 50s\tremaining: 2m 18s\n",
      "748:\tlearn: 0.1270220\ttotal: 6m 51s\tremaining: 2m 17s\n",
      "749:\tlearn: 0.1269967\ttotal: 6m 51s\tremaining: 2m 17s\n",
      "750:\tlearn: 0.1269381\ttotal: 6m 52s\tremaining: 2m 16s\n",
      "751:\tlearn: 0.1269090\ttotal: 6m 52s\tremaining: 2m 16s\n",
      "752:\tlearn: 0.1268934\ttotal: 6m 53s\tremaining: 2m 15s\n",
      "753:\tlearn: 0.1268800\ttotal: 6m 54s\tremaining: 2m 15s\n",
      "754:\tlearn: 0.1268670\ttotal: 6m 54s\tremaining: 2m 14s\n",
      "755:\tlearn: 0.1268505\ttotal: 6m 55s\tremaining: 2m 13s\n",
      "756:\tlearn: 0.1268332\ttotal: 6m 55s\tremaining: 2m 13s\n",
      "757:\tlearn: 0.1268106\ttotal: 6m 56s\tremaining: 2m 12s\n",
      "758:\tlearn: 0.1267411\ttotal: 6m 56s\tremaining: 2m 12s\n",
      "759:\tlearn: 0.1266960\ttotal: 6m 57s\tremaining: 2m 11s\n",
      "760:\tlearn: 0.1266837\ttotal: 6m 57s\tremaining: 2m 11s\n",
      "761:\tlearn: 0.1266715\ttotal: 6m 58s\tremaining: 2m 10s\n",
      "762:\tlearn: 0.1266197\ttotal: 6m 58s\tremaining: 2m 10s\n",
      "763:\tlearn: 0.1266074\ttotal: 6m 59s\tremaining: 2m 9s\n",
      "764:\tlearn: 0.1265690\ttotal: 7m\tremaining: 2m 9s\n",
      "765:\tlearn: 0.1265418\ttotal: 7m\tremaining: 2m 8s\n",
      "766:\tlearn: 0.1264896\ttotal: 7m 1s\tremaining: 2m 7s\n",
      "767:\tlearn: 0.1264768\ttotal: 7m 1s\tremaining: 2m 7s\n",
      "768:\tlearn: 0.1264452\ttotal: 7m 2s\tremaining: 2m 6s\n",
      "769:\tlearn: 0.1263990\ttotal: 7m 3s\tremaining: 2m 6s\n"
     ]
    },
    {
     "name": "stdout",
     "output_type": "stream",
     "text": [
      "770:\tlearn: 0.1263545\ttotal: 7m 3s\tremaining: 2m 5s\n",
      "771:\tlearn: 0.1263429\ttotal: 7m 4s\tremaining: 2m 5s\n",
      "772:\tlearn: 0.1262909\ttotal: 7m 4s\tremaining: 2m 4s\n",
      "773:\tlearn: 0.1262760\ttotal: 7m 5s\tremaining: 2m 4s\n",
      "774:\tlearn: 0.1262387\ttotal: 7m 6s\tremaining: 2m 3s\n",
      "775:\tlearn: 0.1262265\ttotal: 7m 6s\tremaining: 2m 3s\n",
      "776:\tlearn: 0.1262080\ttotal: 7m 7s\tremaining: 2m 2s\n",
      "777:\tlearn: 0.1261429\ttotal: 7m 7s\tremaining: 2m 2s\n",
      "778:\tlearn: 0.1261310\ttotal: 7m 8s\tremaining: 2m 1s\n",
      "779:\tlearn: 0.1261193\ttotal: 7m 9s\tremaining: 2m 1s\n",
      "780:\tlearn: 0.1261077\ttotal: 7m 9s\tremaining: 2m\n",
      "781:\tlearn: 0.1260663\ttotal: 7m 10s\tremaining: 1m 59s\n",
      "782:\tlearn: 0.1260288\ttotal: 7m 10s\tremaining: 1m 59s\n",
      "783:\tlearn: 0.1260170\ttotal: 7m 11s\tremaining: 1m 58s\n",
      "784:\tlearn: 0.1259737\ttotal: 7m 11s\tremaining: 1m 58s\n",
      "785:\tlearn: 0.1259590\ttotal: 7m 12s\tremaining: 1m 57s\n",
      "786:\tlearn: 0.1258900\ttotal: 7m 13s\tremaining: 1m 57s\n",
      "787:\tlearn: 0.1258373\ttotal: 7m 13s\tremaining: 1m 56s\n",
      "788:\tlearn: 0.1258258\ttotal: 7m 14s\tremaining: 1m 56s\n",
      "789:\tlearn: 0.1257621\ttotal: 7m 15s\tremaining: 1m 55s\n",
      "790:\tlearn: 0.1257323\ttotal: 7m 15s\tremaining: 1m 55s\n",
      "791:\tlearn: 0.1257206\ttotal: 7m 16s\tremaining: 1m 54s\n",
      "792:\tlearn: 0.1257074\ttotal: 7m 16s\tremaining: 1m 54s\n",
      "793:\tlearn: 0.1256862\ttotal: 7m 17s\tremaining: 1m 53s\n",
      "794:\tlearn: 0.1256415\ttotal: 7m 18s\tremaining: 1m 52s\n",
      "795:\tlearn: 0.1256109\ttotal: 7m 18s\tremaining: 1m 52s\n",
      "796:\tlearn: 0.1255976\ttotal: 7m 19s\tremaining: 1m 51s\n",
      "797:\tlearn: 0.1255863\ttotal: 7m 19s\tremaining: 1m 51s\n",
      "798:\tlearn: 0.1255463\ttotal: 7m 20s\tremaining: 1m 50s\n",
      "799:\tlearn: 0.1255276\ttotal: 7m 20s\tremaining: 1m 50s\n",
      "800:\tlearn: 0.1254942\ttotal: 7m 21s\tremaining: 1m 49s\n",
      "801:\tlearn: 0.1254404\ttotal: 7m 21s\tremaining: 1m 49s\n",
      "802:\tlearn: 0.1254290\ttotal: 7m 22s\tremaining: 1m 48s\n",
      "803:\tlearn: 0.1254174\ttotal: 7m 22s\tremaining: 1m 47s\n",
      "804:\tlearn: 0.1253492\ttotal: 7m 23s\tremaining: 1m 47s\n",
      "805:\tlearn: 0.1253376\ttotal: 7m 24s\tremaining: 1m 46s\n",
      "806:\tlearn: 0.1252966\ttotal: 7m 24s\tremaining: 1m 46s\n",
      "807:\tlearn: 0.1252638\ttotal: 7m 25s\tremaining: 1m 45s\n",
      "808:\tlearn: 0.1252523\ttotal: 7m 26s\tremaining: 1m 45s\n",
      "809:\tlearn: 0.1251992\ttotal: 7m 26s\tremaining: 1m 44s\n",
      "810:\tlearn: 0.1251878\ttotal: 7m 27s\tremaining: 1m 44s\n",
      "811:\tlearn: 0.1251765\ttotal: 7m 27s\tremaining: 1m 43s\n",
      "812:\tlearn: 0.1251651\ttotal: 7m 28s\tremaining: 1m 43s\n",
      "813:\tlearn: 0.1251492\ttotal: 7m 28s\tremaining: 1m 42s\n",
      "814:\tlearn: 0.1251003\ttotal: 7m 29s\tremaining: 1m 42s\n",
      "815:\tlearn: 0.1250809\ttotal: 7m 30s\tremaining: 1m 41s\n",
      "816:\tlearn: 0.1250695\ttotal: 7m 30s\tremaining: 1m 41s\n",
      "817:\tlearn: 0.1250573\ttotal: 7m 31s\tremaining: 1m 40s\n",
      "818:\tlearn: 0.1250198\ttotal: 7m 32s\tremaining: 1m 39s\n",
      "819:\tlearn: 0.1249547\ttotal: 7m 32s\tremaining: 1m 39s\n",
      "820:\tlearn: 0.1249434\ttotal: 7m 33s\tremaining: 1m 38s\n",
      "821:\tlearn: 0.1249328\ttotal: 7m 33s\tremaining: 1m 38s\n",
      "822:\tlearn: 0.1248785\ttotal: 7m 34s\tremaining: 1m 37s\n",
      "823:\tlearn: 0.1248674\ttotal: 7m 35s\tremaining: 1m 37s\n",
      "824:\tlearn: 0.1248131\ttotal: 7m 35s\tremaining: 1m 36s\n",
      "825:\tlearn: 0.1247943\ttotal: 7m 36s\tremaining: 1m 36s\n",
      "826:\tlearn: 0.1247828\ttotal: 7m 36s\tremaining: 1m 35s\n",
      "827:\tlearn: 0.1247648\ttotal: 7m 37s\tremaining: 1m 35s\n",
      "828:\tlearn: 0.1247277\ttotal: 7m 38s\tremaining: 1m 34s\n",
      "829:\tlearn: 0.1247165\ttotal: 7m 38s\tremaining: 1m 33s\n",
      "830:\tlearn: 0.1247053\ttotal: 7m 39s\tremaining: 1m 33s\n",
      "831:\tlearn: 0.1246941\ttotal: 7m 39s\tremaining: 1m 32s\n",
      "832:\tlearn: 0.1246822\ttotal: 7m 40s\tremaining: 1m 32s\n",
      "833:\tlearn: 0.1246449\ttotal: 7m 40s\tremaining: 1m 31s\n",
      "834:\tlearn: 0.1246050\ttotal: 7m 41s\tremaining: 1m 31s\n",
      "835:\tlearn: 0.1245939\ttotal: 7m 41s\tremaining: 1m 30s\n",
      "836:\tlearn: 0.1245831\ttotal: 7m 42s\tremaining: 1m 30s\n",
      "837:\tlearn: 0.1245724\ttotal: 7m 43s\tremaining: 1m 29s\n",
      "838:\tlearn: 0.1245269\ttotal: 7m 43s\tremaining: 1m 28s\n",
      "839:\tlearn: 0.1245159\ttotal: 7m 44s\tremaining: 1m 28s\n",
      "840:\tlearn: 0.1244786\ttotal: 7m 44s\tremaining: 1m 27s\n",
      "841:\tlearn: 0.1244677\ttotal: 7m 45s\tremaining: 1m 27s\n",
      "842:\tlearn: 0.1244121\ttotal: 7m 46s\tremaining: 1m 26s\n",
      "843:\tlearn: 0.1243883\ttotal: 7m 46s\tremaining: 1m 26s\n",
      "844:\tlearn: 0.1243545\ttotal: 7m 47s\tremaining: 1m 25s\n",
      "845:\tlearn: 0.1243435\ttotal: 7m 47s\tremaining: 1m 25s\n",
      "846:\tlearn: 0.1243175\ttotal: 7m 48s\tremaining: 1m 24s\n",
      "847:\tlearn: 0.1243068\ttotal: 7m 48s\tremaining: 1m 24s\n",
      "848:\tlearn: 0.1242958\ttotal: 7m 49s\tremaining: 1m 23s\n",
      "849:\tlearn: 0.1242853\ttotal: 7m 49s\tremaining: 1m 22s\n",
      "850:\tlearn: 0.1242747\ttotal: 7m 50s\tremaining: 1m 22s\n",
      "851:\tlearn: 0.1242642\ttotal: 7m 50s\tremaining: 1m 21s\n",
      "852:\tlearn: 0.1242535\ttotal: 7m 51s\tremaining: 1m 21s\n",
      "853:\tlearn: 0.1242428\ttotal: 7m 52s\tremaining: 1m 20s\n",
      "854:\tlearn: 0.1242283\ttotal: 7m 52s\tremaining: 1m 20s\n",
      "855:\tlearn: 0.1242177\ttotal: 7m 53s\tremaining: 1m 19s\n",
      "856:\tlearn: 0.1242069\ttotal: 7m 53s\tremaining: 1m 19s\n",
      "857:\tlearn: 0.1241962\ttotal: 7m 54s\tremaining: 1m 18s\n",
      "858:\tlearn: 0.1241562\ttotal: 7m 54s\tremaining: 1m 17s\n",
      "859:\tlearn: 0.1241454\ttotal: 7m 55s\tremaining: 1m 17s\n",
      "860:\tlearn: 0.1241349\ttotal: 7m 55s\tremaining: 1m 16s\n",
      "861:\tlearn: 0.1241243\ttotal: 7m 56s\tremaining: 1m 16s\n",
      "862:\tlearn: 0.1241137\ttotal: 7m 56s\tremaining: 1m 15s\n",
      "863:\tlearn: 0.1241012\ttotal: 7m 57s\tremaining: 1m 15s\n",
      "864:\tlearn: 0.1240870\ttotal: 7m 58s\tremaining: 1m 14s\n",
      "865:\tlearn: 0.1240575\ttotal: 7m 58s\tremaining: 1m 14s\n",
      "866:\tlearn: 0.1240473\ttotal: 7m 59s\tremaining: 1m 13s\n",
      "867:\tlearn: 0.1240371\ttotal: 7m 59s\tremaining: 1m 12s\n",
      "868:\tlearn: 0.1239866\ttotal: 8m\tremaining: 1m 12s\n",
      "869:\tlearn: 0.1239453\ttotal: 8m\tremaining: 1m 11s\n",
      "870:\tlearn: 0.1239353\ttotal: 8m 1s\tremaining: 1m 11s\n",
      "871:\tlearn: 0.1239247\ttotal: 8m 1s\tremaining: 1m 10s\n",
      "872:\tlearn: 0.1239143\ttotal: 8m 2s\tremaining: 1m 10s\n",
      "873:\tlearn: 0.1239039\ttotal: 8m 3s\tremaining: 1m 9s\n",
      "874:\tlearn: 0.1238854\ttotal: 8m 3s\tremaining: 1m 9s\n",
      "875:\tlearn: 0.1238748\ttotal: 8m 4s\tremaining: 1m 8s\n",
      "876:\tlearn: 0.1238393\ttotal: 8m 4s\tremaining: 1m 7s\n",
      "877:\tlearn: 0.1238051\ttotal: 8m 5s\tremaining: 1m 7s\n",
      "878:\tlearn: 0.1237949\ttotal: 8m 5s\tremaining: 1m 6s\n",
      "879:\tlearn: 0.1237845\ttotal: 8m 6s\tremaining: 1m 6s\n",
      "880:\tlearn: 0.1237565\ttotal: 8m 6s\tremaining: 1m 5s\n",
      "881:\tlearn: 0.1236952\ttotal: 8m 7s\tremaining: 1m 5s\n",
      "882:\tlearn: 0.1236799\ttotal: 8m 7s\tremaining: 1m 4s\n",
      "883:\tlearn: 0.1236352\ttotal: 8m 8s\tremaining: 1m 4s\n",
      "884:\tlearn: 0.1236105\ttotal: 8m 9s\tremaining: 1m 3s\n",
      "885:\tlearn: 0.1235768\ttotal: 8m 9s\tremaining: 1m 2s\n",
      "886:\tlearn: 0.1235667\ttotal: 8m 10s\tremaining: 1m 2s\n",
      "887:\tlearn: 0.1235565\ttotal: 8m 10s\tremaining: 1m 1s\n",
      "888:\tlearn: 0.1235467\ttotal: 8m 11s\tremaining: 1m 1s\n",
      "889:\tlearn: 0.1234935\ttotal: 8m 11s\tremaining: 1m\n",
      "890:\tlearn: 0.1234835\ttotal: 8m 12s\tremaining: 1m\n",
      "891:\tlearn: 0.1234572\ttotal: 8m 12s\tremaining: 59.7s\n",
      "892:\tlearn: 0.1234472\ttotal: 8m 13s\tremaining: 59.1s\n",
      "893:\tlearn: 0.1234370\ttotal: 8m 14s\tremaining: 58.6s\n",
      "894:\tlearn: 0.1234270\ttotal: 8m 14s\tremaining: 58s\n",
      "895:\tlearn: 0.1234166\ttotal: 8m 15s\tremaining: 57.5s\n",
      "896:\tlearn: 0.1233837\ttotal: 8m 15s\tremaining: 56.9s\n",
      "897:\tlearn: 0.1233232\ttotal: 8m 16s\tremaining: 56.4s\n",
      "898:\tlearn: 0.1233143\ttotal: 8m 16s\tremaining: 55.8s\n",
      "899:\tlearn: 0.1233039\ttotal: 8m 17s\tremaining: 55.3s\n",
      "900:\tlearn: 0.1232936\ttotal: 8m 17s\tremaining: 54.7s\n",
      "901:\tlearn: 0.1232832\ttotal: 8m 18s\tremaining: 54.2s\n",
      "902:\tlearn: 0.1232670\ttotal: 8m 18s\tremaining: 53.6s\n",
      "903:\tlearn: 0.1232289\ttotal: 8m 19s\tremaining: 53s\n",
      "904:\tlearn: 0.1231931\ttotal: 8m 20s\tremaining: 52.5s\n",
      "905:\tlearn: 0.1231830\ttotal: 8m 20s\tremaining: 51.9s\n",
      "906:\tlearn: 0.1231718\ttotal: 8m 21s\tremaining: 51.4s\n",
      "907:\tlearn: 0.1231228\ttotal: 8m 21s\tremaining: 50.8s\n",
      "908:\tlearn: 0.1231126\ttotal: 8m 22s\tremaining: 50.3s\n",
      "909:\tlearn: 0.1231023\ttotal: 8m 22s\tremaining: 49.7s\n",
      "910:\tlearn: 0.1230847\ttotal: 8m 23s\tremaining: 49.2s\n",
      "911:\tlearn: 0.1230744\ttotal: 8m 23s\tremaining: 48.6s\n",
      "912:\tlearn: 0.1230573\ttotal: 8m 24s\tremaining: 48.1s\n",
      "913:\tlearn: 0.1230354\ttotal: 8m 25s\tremaining: 47.5s\n",
      "914:\tlearn: 0.1230255\ttotal: 8m 25s\tremaining: 47s\n",
      "915:\tlearn: 0.1230049\ttotal: 8m 26s\tremaining: 46.4s\n",
      "916:\tlearn: 0.1229947\ttotal: 8m 26s\tremaining: 45.9s\n",
      "917:\tlearn: 0.1229845\ttotal: 8m 27s\tremaining: 45.3s\n",
      "918:\tlearn: 0.1229743\ttotal: 8m 27s\tremaining: 44.8s\n",
      "919:\tlearn: 0.1229644\ttotal: 8m 28s\tremaining: 44.2s\n",
      "920:\tlearn: 0.1229007\ttotal: 8m 28s\tremaining: 43.6s\n",
      "921:\tlearn: 0.1228899\ttotal: 8m 29s\tremaining: 43.1s\n",
      "922:\tlearn: 0.1228800\ttotal: 8m 29s\tremaining: 42.5s\n",
      "923:\tlearn: 0.1228699\ttotal: 8m 30s\tremaining: 42s\n"
     ]
    },
    {
     "name": "stdout",
     "output_type": "stream",
     "text": [
      "924:\tlearn: 0.1228243\ttotal: 8m 31s\tremaining: 41.4s\n",
      "925:\tlearn: 0.1228142\ttotal: 8m 31s\tremaining: 40.9s\n",
      "926:\tlearn: 0.1228042\ttotal: 8m 32s\tremaining: 40.3s\n",
      "927:\tlearn: 0.1227471\ttotal: 8m 32s\tremaining: 39.8s\n",
      "928:\tlearn: 0.1227028\ttotal: 8m 33s\tremaining: 39.2s\n",
      "929:\tlearn: 0.1226929\ttotal: 8m 33s\tremaining: 38.7s\n",
      "930:\tlearn: 0.1226832\ttotal: 8m 34s\tremaining: 38.1s\n",
      "931:\tlearn: 0.1226733\ttotal: 8m 34s\tremaining: 37.6s\n",
      "932:\tlearn: 0.1226496\ttotal: 8m 35s\tremaining: 37s\n",
      "933:\tlearn: 0.1226395\ttotal: 8m 35s\tremaining: 36.5s\n",
      "934:\tlearn: 0.1226299\ttotal: 8m 36s\tremaining: 35.9s\n",
      "935:\tlearn: 0.1226199\ttotal: 8m 37s\tremaining: 35.4s\n",
      "936:\tlearn: 0.1226100\ttotal: 8m 37s\tremaining: 34.8s\n",
      "937:\tlearn: 0.1225584\ttotal: 8m 38s\tremaining: 34.3s\n",
      "938:\tlearn: 0.1225373\ttotal: 8m 38s\tremaining: 33.7s\n",
      "939:\tlearn: 0.1225223\ttotal: 8m 39s\tremaining: 33.2s\n",
      "940:\tlearn: 0.1225126\ttotal: 8m 39s\tremaining: 32.6s\n",
      "941:\tlearn: 0.1225027\ttotal: 8m 40s\tremaining: 32s\n",
      "942:\tlearn: 0.1224918\ttotal: 8m 41s\tremaining: 31.5s\n",
      "943:\tlearn: 0.1224707\ttotal: 8m 41s\tremaining: 30.9s\n",
      "944:\tlearn: 0.1224295\ttotal: 8m 42s\tremaining: 30.4s\n",
      "945:\tlearn: 0.1224196\ttotal: 8m 42s\tremaining: 29.8s\n",
      "946:\tlearn: 0.1223981\ttotal: 8m 43s\tremaining: 29.3s\n",
      "947:\tlearn: 0.1223775\ttotal: 8m 43s\tremaining: 28.7s\n",
      "948:\tlearn: 0.1223305\ttotal: 8m 44s\tremaining: 28.2s\n",
      "949:\tlearn: 0.1223213\ttotal: 8m 44s\tremaining: 27.6s\n",
      "950:\tlearn: 0.1222732\ttotal: 8m 45s\tremaining: 27.1s\n",
      "951:\tlearn: 0.1222619\ttotal: 8m 46s\tremaining: 26.5s\n",
      "952:\tlearn: 0.1222520\ttotal: 8m 46s\tremaining: 26s\n",
      "953:\tlearn: 0.1222429\ttotal: 8m 47s\tremaining: 25.4s\n",
      "954:\tlearn: 0.1222333\ttotal: 8m 47s\tremaining: 24.9s\n",
      "955:\tlearn: 0.1222235\ttotal: 8m 48s\tremaining: 24.3s\n",
      "956:\tlearn: 0.1222139\ttotal: 8m 48s\tremaining: 23.8s\n",
      "957:\tlearn: 0.1222043\ttotal: 8m 49s\tremaining: 23.2s\n",
      "958:\tlearn: 0.1221944\ttotal: 8m 49s\tremaining: 22.7s\n",
      "959:\tlearn: 0.1221845\ttotal: 8m 50s\tremaining: 22.1s\n",
      "960:\tlearn: 0.1221747\ttotal: 8m 50s\tremaining: 21.5s\n",
      "961:\tlearn: 0.1221648\ttotal: 8m 51s\tremaining: 21s\n",
      "962:\tlearn: 0.1221344\ttotal: 8m 52s\tremaining: 20.4s\n",
      "963:\tlearn: 0.1221245\ttotal: 8m 52s\tremaining: 19.9s\n",
      "964:\tlearn: 0.1221148\ttotal: 8m 53s\tremaining: 19.3s\n",
      "965:\tlearn: 0.1220804\ttotal: 8m 53s\tremaining: 18.8s\n",
      "966:\tlearn: 0.1220299\ttotal: 8m 54s\tremaining: 18.2s\n",
      "967:\tlearn: 0.1220032\ttotal: 8m 54s\tremaining: 17.7s\n",
      "968:\tlearn: 0.1219934\ttotal: 8m 55s\tremaining: 17.1s\n",
      "969:\tlearn: 0.1219839\ttotal: 8m 55s\tremaining: 16.6s\n",
      "970:\tlearn: 0.1219748\ttotal: 8m 56s\tremaining: 16s\n",
      "971:\tlearn: 0.1219282\ttotal: 8m 57s\tremaining: 15.5s\n",
      "972:\tlearn: 0.1219088\ttotal: 8m 57s\tremaining: 14.9s\n",
      "973:\tlearn: 0.1218991\ttotal: 8m 58s\tremaining: 14.4s\n",
      "974:\tlearn: 0.1218894\ttotal: 8m 58s\tremaining: 13.8s\n",
      "975:\tlearn: 0.1218796\ttotal: 8m 59s\tremaining: 13.3s\n",
      "976:\tlearn: 0.1218703\ttotal: 8m 59s\tremaining: 12.7s\n",
      "977:\tlearn: 0.1218320\ttotal: 9m\tremaining: 12.2s\n",
      "978:\tlearn: 0.1217926\ttotal: 9m\tremaining: 11.6s\n",
      "979:\tlearn: 0.1217416\ttotal: 9m 1s\tremaining: 11s\n",
      "980:\tlearn: 0.1217319\ttotal: 9m 1s\tremaining: 10.5s\n",
      "981:\tlearn: 0.1217221\ttotal: 9m 2s\tremaining: 9.95s\n",
      "982:\tlearn: 0.1217128\ttotal: 9m 3s\tremaining: 9.39s\n",
      "983:\tlearn: 0.1217037\ttotal: 9m 3s\tremaining: 8.84s\n",
      "984:\tlearn: 0.1216940\ttotal: 9m 4s\tremaining: 8.29s\n",
      "985:\tlearn: 0.1216705\ttotal: 9m 4s\tremaining: 7.74s\n",
      "986:\tlearn: 0.1216617\ttotal: 9m 5s\tremaining: 7.18s\n",
      "987:\tlearn: 0.1216525\ttotal: 9m 5s\tremaining: 6.63s\n",
      "988:\tlearn: 0.1216429\ttotal: 9m 6s\tremaining: 6.08s\n",
      "989:\tlearn: 0.1216334\ttotal: 9m 6s\tremaining: 5.53s\n",
      "990:\tlearn: 0.1216138\ttotal: 9m 7s\tremaining: 4.97s\n",
      "991:\tlearn: 0.1216041\ttotal: 9m 8s\tremaining: 4.42s\n",
      "992:\tlearn: 0.1215946\ttotal: 9m 8s\tremaining: 3.87s\n",
      "993:\tlearn: 0.1215735\ttotal: 9m 9s\tremaining: 3.31s\n",
      "994:\tlearn: 0.1215564\ttotal: 9m 9s\tremaining: 2.76s\n",
      "995:\tlearn: 0.1215362\ttotal: 9m 10s\tremaining: 2.21s\n",
      "996:\tlearn: 0.1215265\ttotal: 9m 10s\tremaining: 1.66s\n",
      "997:\tlearn: 0.1215048\ttotal: 9m 11s\tremaining: 1.1s\n",
      "998:\tlearn: 0.1214956\ttotal: 9m 12s\tremaining: 553ms\n",
      "999:\tlearn: 0.1214860\ttotal: 9m 12s\tremaining: 0us\n",
      "CPU times: user 23min 23s, sys: 19.3 s, total: 23min 42s\n",
      "Wall time: 9min 26s\n"
     ]
    },
    {
     "data": {
      "text/plain": [
       "('f1_score_train: 0.7556689898890743', 'f1_score_test: 0.7144136078782453')"
      ]
     },
     "execution_count": 24,
     "metadata": {},
     "output_type": "execute_result"
    }
   ],
   "source": [
    "%%time\n",
    "# Расчет модели при стандартных параметрах\n",
    "\n",
    "model = CatBoostClassifier(random_seed=123, thread_count=-1)\n",
    "\n",
    "model.fit(cv_train, target_train)\n",
    "\n",
    "f1_score_train = f1_score(target_train, model.predict(cv_train))\n",
    "f1_score_test = f1_score(target_test, model.predict(cv_test))\n",
    "'f1_score_train: {}'.format(f1_score_train), 'f1_score_test: {}'.format(f1_score_test)"
   ]
  },
  {
   "cell_type": "code",
   "execution_count": 25,
   "metadata": {
    "ExecuteTime": {
     "end_time": "2020-06-21T05:49:26.133449Z",
     "start_time": "2020-06-21T05:44:43.327038Z"
    }
   },
   "outputs": [
    {
     "name": "stdout",
     "output_type": "stream",
     "text": [
      "CPU times: user 11min 49s, sys: 8.8 s, total: 11min 58s\n",
      "Wall time: 4min 42s\n"
     ]
    },
    {
     "data": {
      "text/plain": [
       "('f1_score_train: 0.8723423104181431', 'f1_score_test: 0.748753462603878')"
      ]
     },
     "execution_count": 25,
     "metadata": {},
     "output_type": "execute_result"
    }
   ],
   "source": [
    "%%time\n",
    "# Расчет модели при стандартных параметрах\n",
    "\n",
    "model = CatBoostClassifier(random_seed=123, thread_count=-1, iterations=500, verbose=False, learning_rate=1)\n",
    "\n",
    "model.fit(cv_train, target_train)\n",
    "\n",
    "f1_score_train = f1_score(target_train, model.predict(cv_train))\n",
    "f1_score_test = f1_score(target_test, model.predict(cv_test))\n",
    "'f1_score_train: {}'.format(f1_score_train), 'f1_score_test: {}'.format(f1_score_test)"
   ]
  },
  {
   "cell_type": "markdown",
   "metadata": {},
   "source": [
    "# 3. Выводы"
   ]
  },
  {
   "cell_type": "markdown",
   "metadata": {},
   "source": [
    "Первое, что хотелось бы отметить - признаки, полученные техникой \"мешок слов\" (в отличие техники TF_IDF), уже на стандартных параметрах модели логистической регрессии дают значение метрики f1 выше требуемого порога в 0,75.\n",
    "\n",
    "\"Мешок слов\" был проверен и на других моделях классификации - RandomForestClassifier, GradientBoostingClassifier и CatBoostClassifier - и почти на всех этих видах моделей были подобраны параметры, при котором значение f1 превысило необходимый порог.  \n",
    "Но при этом некоторые модели затрачивали очень большое время на расчеты. \n",
    "\n",
    "---"
   ]
  },
  {
   "cell_type": "code",
   "execution_count": null,
   "metadata": {},
   "outputs": [],
   "source": []
  }
 ],
 "metadata": {
  "kernelspec": {
   "display_name": "Python 3",
   "language": "python",
   "name": "python3"
  },
  "language_info": {
   "codemirror_mode": {
    "name": "ipython",
    "version": 3
   },
   "file_extension": ".py",
   "mimetype": "text/x-python",
   "name": "python",
   "nbconvert_exporter": "python",
   "pygments_lexer": "ipython3",
   "version": "3.7.5"
  },
  "varInspector": {
   "cols": {
    "lenName": 16,
    "lenType": 16,
    "lenVar": 40
   },
   "kernels_config": {
    "python": {
     "delete_cmd_postfix": "",
     "delete_cmd_prefix": "del ",
     "library": "var_list.py",
     "varRefreshCmd": "print(var_dic_list())"
    },
    "r": {
     "delete_cmd_postfix": ") ",
     "delete_cmd_prefix": "rm(",
     "library": "var_list.r",
     "varRefreshCmd": "cat(var_dic_list()) "
    }
   },
   "types_to_exclude": [
    "module",
    "function",
    "builtin_function_or_method",
    "instance",
    "_Feature"
   ],
   "window_display": false
  }
 },
 "nbformat": 4,
 "nbformat_minor": 2
}
