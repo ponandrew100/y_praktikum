{
 "cells": [
  {
   "cell_type": "markdown",
   "metadata": {
    "hideCode": false,
    "hidePrompt": false
   },
   "source": [
    "# Исследование оттока клиентов\n",
    "\n",
    "Оператор связи хочет научиться прогнозировать отток клиентов.   \n",
    "Если выяснится, что пользователь планирует уйти, ему будут предложены промокоды и специальные условия. Команда оператора собрала персональные данные о некоторых клиентах, информацию об их тарифах и договорах.  \n",
    "\n",
    "Оператор предоставляет два основных типа услуг:\n",
    "\n",
    "1. Стационарную телефонную связь.\n",
    "\tВозможно подключение телефонного аппарата к нескольким линиям одновременно.\n",
    "2. Интернет.\n",
    "\tПодключение может быть двух типов: через телефонную линию\n",
    "\t(DSL*,* от англ. *digital subscriber line*, «цифровая абонентская линия»)\n",
    "\tили оптоволоконный кабель (*Fiber optic*).\n",
    "\n",
    "Также доступны такие услуги:\n",
    "\n",
    "- Интернет-безопасность: антивирус (*DeviceProtection*) и блокировка небезопасных сайтов (*OnlineSecurity*);\n",
    "- Выделенная линия технической поддержки (*TechSupport*);\n",
    "- Облачное хранилище файлов для резервного копирования данных (*OnlineBackup*);\n",
    "- Стриминговое телевидение (*StreamingTV*) и каталог фильмов (*StreamingMovies*).\n",
    "\n",
    "За услуги клиенты могут платить каждый месяц или заключить договор на 1–2 года.\n",
    "Доступны различные способы расчёта и возможность получения электронного чека.\n"
   ]
  },
  {
   "cell_type": "markdown",
   "metadata": {
    "hideCode": false,
    "hidePrompt": false
   },
   "source": [
    "# Описание данных\n",
    "\n",
    "Данные состоят из файлов, полученных из разных источников:  \n",
    "\n",
    "contract.csv — информация о договоре;  \n",
    "personal.csv — персональные данные клиента;  \n",
    "internet.csv — информация об интернет-услугах;  \n",
    "phone.csv — информация об услугах телефонии.  \n",
    "\n",
    "Во всех файлах столбец customerID содержит код клиента.\n",
    "\n",
    "Информация о договорах актуальна на 1 февраля 2020."
   ]
  },
  {
   "cell_type": "markdown",
   "metadata": {},
   "source": [
    "## Библиотеки"
   ]
  },
  {
   "cell_type": "code",
   "execution_count": 1,
   "metadata": {
    "ExecuteTime": {
     "end_time": "2020-05-21T16:17:48.568614Z",
     "start_time": "2020-05-21T16:17:47.578193Z"
    },
    "hideCode": false,
    "hidePrompt": false
   },
   "outputs": [],
   "source": [
    "import numpy as np\n",
    "import pandas as pd\n",
    "import matplotlib.pyplot as plt\n",
    "import seaborn as sns\n",
    "import datetime\n",
    "from sklearn import svm\n",
    "from sklearn.pipeline import Pipeline\n",
    "from sklearn.model_selection import train_test_split, cross_val_score, \\\n",
    "                                    TimeSeriesSplit, GridSearchCV\n",
    "from sklearn.metrics import accuracy_score, roc_auc_score, recall_score, precision_score\n",
    "from sklearn.linear_model import LogisticRegression\n",
    "from sklearn.tree import DecisionTreeClassifier\n",
    "from sklearn.ensemble import RandomForestClassifier, AdaBoostClassifier, BaggingClassifier\n",
    "\n",
    "import warnings\n",
    "warnings.filterwarnings(\"ignore\")"
   ]
  },
  {
   "cell_type": "markdown",
   "metadata": {
    "hideCode": false,
    "hidePrompt": false
   },
   "source": [
    "## Получение и обработка данных"
   ]
  },
  {
   "cell_type": "code",
   "execution_count": 2,
   "metadata": {
    "ExecuteTime": {
     "end_time": "2020-05-21T16:17:48.613365Z",
     "start_time": "2020-05-21T16:17:48.570797Z"
    },
    "hideCode": false,
    "hidePrompt": false
   },
   "outputs": [],
   "source": [
    "# Импортирование данных\n",
    "data_path = '/datasets/final_provider/'\n",
    "\n",
    "df = {\n",
    "    'personal': pd.read_csv(data_path + 'personal.csv', index_col='customerID'),\n",
    "    'contract': pd.read_csv(data_path + 'contract.csv', index_col='customerID'),\n",
    "    'internet': pd.read_csv(data_path + 'internet.csv', index_col='customerID'),\n",
    "    'phone': pd.read_csv(data_path + 'phone.csv', index_col='customerID')\n",
    "}"
   ]
  },
  {
   "cell_type": "code",
   "execution_count": 3,
   "metadata": {
    "ExecuteTime": {
     "end_time": "2020-05-21T16:17:48.712144Z",
     "start_time": "2020-05-21T16:17:48.615705Z"
    },
    "hideCode": false,
    "hidePrompt": false
   },
   "outputs": [
    {
     "data": {
      "text/html": [
       "<div>\n",
       "<style scoped>\n",
       "    .dataframe tbody tr th:only-of-type {\n",
       "        vertical-align: middle;\n",
       "    }\n",
       "\n",
       "    .dataframe tbody tr th {\n",
       "        vertical-align: top;\n",
       "    }\n",
       "\n",
       "    .dataframe thead th {\n",
       "        text-align: right;\n",
       "    }\n",
       "</style>\n",
       "<table border=\"1\" class=\"dataframe\">\n",
       "  <thead>\n",
       "    <tr style=\"text-align: right;\">\n",
       "      <th></th>\n",
       "      <th></th>\n",
       "      <th>info</th>\n",
       "    </tr>\n",
       "    <tr>\n",
       "      <th>table_name</th>\n",
       "      <th>col_name</th>\n",
       "      <th></th>\n",
       "    </tr>\n",
       "  </thead>\n",
       "  <tbody>\n",
       "    <tr>\n",
       "      <td rowspan=\"7\" valign=\"top\">contract</td>\n",
       "      <td>BeginDate</td>\n",
       "      <td>7043 non-null object</td>\n",
       "    </tr>\n",
       "    <tr>\n",
       "      <td>EndDate</td>\n",
       "      <td>7043 non-null object</td>\n",
       "    </tr>\n",
       "    <tr>\n",
       "      <td>MonthlyCharges</td>\n",
       "      <td>7043 non-null float64</td>\n",
       "    </tr>\n",
       "    <tr>\n",
       "      <td>PaperlessBilling</td>\n",
       "      <td>7043 non-null object</td>\n",
       "    </tr>\n",
       "    <tr>\n",
       "      <td>PaymentMethod</td>\n",
       "      <td>7043 non-null object</td>\n",
       "    </tr>\n",
       "    <tr>\n",
       "      <td>TotalCharges</td>\n",
       "      <td>7043 non-null object</td>\n",
       "    </tr>\n",
       "    <tr>\n",
       "      <td>Type</td>\n",
       "      <td>7043 non-null object</td>\n",
       "    </tr>\n",
       "    <tr>\n",
       "      <td rowspan=\"7\" valign=\"top\">internet</td>\n",
       "      <td>DeviceProtection</td>\n",
       "      <td>5517 non-null object</td>\n",
       "    </tr>\n",
       "    <tr>\n",
       "      <td>InternetService</td>\n",
       "      <td>5517 non-null object</td>\n",
       "    </tr>\n",
       "    <tr>\n",
       "      <td>OnlineBackup</td>\n",
       "      <td>5517 non-null object</td>\n",
       "    </tr>\n",
       "    <tr>\n",
       "      <td>OnlineSecurity</td>\n",
       "      <td>5517 non-null object</td>\n",
       "    </tr>\n",
       "    <tr>\n",
       "      <td>StreamingMovies</td>\n",
       "      <td>5517 non-null object</td>\n",
       "    </tr>\n",
       "    <tr>\n",
       "      <td>StreamingTV</td>\n",
       "      <td>5517 non-null object</td>\n",
       "    </tr>\n",
       "    <tr>\n",
       "      <td>TechSupport</td>\n",
       "      <td>5517 non-null object</td>\n",
       "    </tr>\n",
       "    <tr>\n",
       "      <td rowspan=\"4\" valign=\"top\">personal</td>\n",
       "      <td>Dependents</td>\n",
       "      <td>7043 non-null object</td>\n",
       "    </tr>\n",
       "    <tr>\n",
       "      <td>Partner</td>\n",
       "      <td>7043 non-null object</td>\n",
       "    </tr>\n",
       "    <tr>\n",
       "      <td>SeniorCitizen</td>\n",
       "      <td>7043 non-null int64</td>\n",
       "    </tr>\n",
       "    <tr>\n",
       "      <td>gender</td>\n",
       "      <td>7043 non-null object</td>\n",
       "    </tr>\n",
       "    <tr>\n",
       "      <td>phone</td>\n",
       "      <td>MultipleLines</td>\n",
       "      <td>6361 non-null object</td>\n",
       "    </tr>\n",
       "  </tbody>\n",
       "</table>\n",
       "</div>"
      ],
      "text/plain": [
       "                                              info\n",
       "table_name col_name                               \n",
       "contract   BeginDate          7043 non-null object\n",
       "           EndDate            7043 non-null object\n",
       "           MonthlyCharges    7043 non-null float64\n",
       "           PaperlessBilling   7043 non-null object\n",
       "           PaymentMethod      7043 non-null object\n",
       "           TotalCharges       7043 non-null object\n",
       "           Type               7043 non-null object\n",
       "internet   DeviceProtection   5517 non-null object\n",
       "           InternetService    5517 non-null object\n",
       "           OnlineBackup       5517 non-null object\n",
       "           OnlineSecurity     5517 non-null object\n",
       "           StreamingMovies    5517 non-null object\n",
       "           StreamingTV        5517 non-null object\n",
       "           TechSupport        5517 non-null object\n",
       "personal   Dependents         7043 non-null object\n",
       "           Partner            7043 non-null object\n",
       "           SeniorCitizen       7043 non-null int64\n",
       "           gender             7043 non-null object\n",
       "phone      MultipleLines      6361 non-null object"
      ]
     },
     "execution_count": 3,
     "metadata": {},
     "output_type": "execute_result"
    }
   ],
   "source": [
    "# Вывод общей информации по всем полученным данным\n",
    "\n",
    "def info(df):\n",
    "    tbl_info = []\n",
    "    for name, tbl in df.items():\n",
    "        indx=[]\n",
    "        col_info=[]\n",
    "        format_str = \"{count} non-null {dtype}\"\n",
    "        counts = tbl.count()\n",
    "        dtypes = tbl.dtypes\n",
    "        for i, col in enumerate(tbl.columns):\n",
    "            indx.append(col)\n",
    "            col_info.append(format_str.format(count=counts.iloc[i], dtype=dtypes.iloc[i]))\n",
    "        tbl_name = [name for i in range(len(col_info))]\n",
    "        tbl_info.append(pd.DataFrame(data={'table_name': tbl_name, 'col_name': indx,'info': col_info}))\n",
    "\n",
    "    df_info = pd.concat(tbl_info)\n",
    "    return df_info\n",
    "\n",
    "\n",
    "info(df).pivot_table(index=['table_name', 'col_name'], values='info', aggfunc='first')\n"
   ]
  },
  {
   "cell_type": "markdown",
   "metadata": {
    "hideCode": false,
    "hidePrompt": false
   },
   "source": [
    "Итак, всего клиентов и их контрактов - 7043 шт. Из них имеют телефонные услуги - 6361 шт. и интернет-услуги - 5517 шт.  \n",
    "\n",
    "Для удобства дальнейшего анализа объединим все данные в одну таблицу."
   ]
  },
  {
   "cell_type": "code",
   "execution_count": 4,
   "metadata": {
    "ExecuteTime": {
     "end_time": "2020-05-21T16:17:48.820635Z",
     "start_time": "2020-05-21T16:17:48.714174Z"
    },
    "hideCode": false,
    "hidePrompt": false
   },
   "outputs": [
    {
     "name": "stdout",
     "output_type": "stream",
     "text": [
      "<class 'pandas.core.frame.DataFrame'>\n",
      "Index: 7043 entries, 0002-ORFBO to 9995-HOTOH\n",
      "Data columns (total 19 columns):\n",
      "BeginDate           7043 non-null object\n",
      "EndDate             7043 non-null object\n",
      "Type                7043 non-null object\n",
      "PaperlessBilling    7043 non-null object\n",
      "PaymentMethod       7043 non-null object\n",
      "MonthlyCharges      7043 non-null float64\n",
      "TotalCharges        7043 non-null object\n",
      "gender              7043 non-null object\n",
      "SeniorCitizen       7043 non-null int64\n",
      "Partner             7043 non-null object\n",
      "Dependents          7043 non-null object\n",
      "MultipleLines       6361 non-null object\n",
      "InternetService     5517 non-null object\n",
      "OnlineSecurity      5517 non-null object\n",
      "OnlineBackup        5517 non-null object\n",
      "DeviceProtection    5517 non-null object\n",
      "TechSupport         5517 non-null object\n",
      "StreamingTV         5517 non-null object\n",
      "StreamingMovies     5517 non-null object\n",
      "dtypes: float64(1), int64(1), object(17)\n",
      "memory usage: 1.1+ MB\n"
     ]
    }
   ],
   "source": [
    "# Объединение данных в одну таблицу\n",
    "\n",
    "df_all = df['contract'].join(df['personal']).join(df['phone']).join(df['internet']).sort_index()\n",
    "df_all.info()"
   ]
  },
  {
   "cell_type": "code",
   "execution_count": 5,
   "metadata": {
    "ExecuteTime": {
     "end_time": "2020-05-21T16:17:48.893095Z",
     "start_time": "2020-05-21T16:17:48.823536Z"
    },
    "hideCode": false,
    "hidePrompt": false
   },
   "outputs": [
    {
     "data": {
      "text/html": [
       "<div>\n",
       "<style scoped>\n",
       "    .dataframe tbody tr th:only-of-type {\n",
       "        vertical-align: middle;\n",
       "    }\n",
       "\n",
       "    .dataframe tbody tr th {\n",
       "        vertical-align: top;\n",
       "    }\n",
       "\n",
       "    .dataframe thead th {\n",
       "        text-align: right;\n",
       "    }\n",
       "</style>\n",
       "<table border=\"1\" class=\"dataframe\">\n",
       "  <thead>\n",
       "    <tr style=\"text-align: right;\">\n",
       "      <th></th>\n",
       "      <th>BeginDate</th>\n",
       "      <th>EndDate</th>\n",
       "      <th>Type</th>\n",
       "      <th>PaperlessBilling</th>\n",
       "      <th>PaymentMethod</th>\n",
       "      <th>MonthlyCharges</th>\n",
       "      <th>TotalCharges</th>\n",
       "      <th>gender</th>\n",
       "      <th>SeniorCitizen</th>\n",
       "      <th>Partner</th>\n",
       "      <th>Dependents</th>\n",
       "      <th>MultipleLines</th>\n",
       "      <th>InternetService</th>\n",
       "      <th>OnlineSecurity</th>\n",
       "      <th>OnlineBackup</th>\n",
       "      <th>DeviceProtection</th>\n",
       "      <th>TechSupport</th>\n",
       "      <th>StreamingTV</th>\n",
       "      <th>StreamingMovies</th>\n",
       "    </tr>\n",
       "    <tr>\n",
       "      <th>customerID</th>\n",
       "      <th></th>\n",
       "      <th></th>\n",
       "      <th></th>\n",
       "      <th></th>\n",
       "      <th></th>\n",
       "      <th></th>\n",
       "      <th></th>\n",
       "      <th></th>\n",
       "      <th></th>\n",
       "      <th></th>\n",
       "      <th></th>\n",
       "      <th></th>\n",
       "      <th></th>\n",
       "      <th></th>\n",
       "      <th></th>\n",
       "      <th></th>\n",
       "      <th></th>\n",
       "      <th></th>\n",
       "      <th></th>\n",
       "    </tr>\n",
       "  </thead>\n",
       "  <tbody>\n",
       "    <tr>\n",
       "      <td>0002-ORFBO</td>\n",
       "      <td>2019-05-01</td>\n",
       "      <td>No</td>\n",
       "      <td>One year</td>\n",
       "      <td>Yes</td>\n",
       "      <td>Mailed check</td>\n",
       "      <td>65.6</td>\n",
       "      <td>593.3</td>\n",
       "      <td>Female</td>\n",
       "      <td>0</td>\n",
       "      <td>Yes</td>\n",
       "      <td>Yes</td>\n",
       "      <td>No</td>\n",
       "      <td>DSL</td>\n",
       "      <td>No</td>\n",
       "      <td>Yes</td>\n",
       "      <td>No</td>\n",
       "      <td>Yes</td>\n",
       "      <td>Yes</td>\n",
       "      <td>No</td>\n",
       "    </tr>\n",
       "    <tr>\n",
       "      <td>0003-MKNFE</td>\n",
       "      <td>2019-05-01</td>\n",
       "      <td>No</td>\n",
       "      <td>Month-to-month</td>\n",
       "      <td>No</td>\n",
       "      <td>Mailed check</td>\n",
       "      <td>59.9</td>\n",
       "      <td>542.4</td>\n",
       "      <td>Male</td>\n",
       "      <td>0</td>\n",
       "      <td>No</td>\n",
       "      <td>No</td>\n",
       "      <td>Yes</td>\n",
       "      <td>DSL</td>\n",
       "      <td>No</td>\n",
       "      <td>No</td>\n",
       "      <td>No</td>\n",
       "      <td>No</td>\n",
       "      <td>No</td>\n",
       "      <td>Yes</td>\n",
       "    </tr>\n",
       "    <tr>\n",
       "      <td>0004-TLHLJ</td>\n",
       "      <td>2019-09-01</td>\n",
       "      <td>2020-01-01 00:00:00</td>\n",
       "      <td>Month-to-month</td>\n",
       "      <td>Yes</td>\n",
       "      <td>Electronic check</td>\n",
       "      <td>73.9</td>\n",
       "      <td>280.85</td>\n",
       "      <td>Male</td>\n",
       "      <td>0</td>\n",
       "      <td>No</td>\n",
       "      <td>No</td>\n",
       "      <td>No</td>\n",
       "      <td>Fiber optic</td>\n",
       "      <td>No</td>\n",
       "      <td>No</td>\n",
       "      <td>Yes</td>\n",
       "      <td>No</td>\n",
       "      <td>No</td>\n",
       "      <td>No</td>\n",
       "    </tr>\n",
       "    <tr>\n",
       "      <td>0011-IGKFF</td>\n",
       "      <td>2018-12-01</td>\n",
       "      <td>2020-01-01 00:00:00</td>\n",
       "      <td>Month-to-month</td>\n",
       "      <td>Yes</td>\n",
       "      <td>Electronic check</td>\n",
       "      <td>98.0</td>\n",
       "      <td>1237.85</td>\n",
       "      <td>Male</td>\n",
       "      <td>1</td>\n",
       "      <td>Yes</td>\n",
       "      <td>No</td>\n",
       "      <td>No</td>\n",
       "      <td>Fiber optic</td>\n",
       "      <td>No</td>\n",
       "      <td>Yes</td>\n",
       "      <td>Yes</td>\n",
       "      <td>No</td>\n",
       "      <td>Yes</td>\n",
       "      <td>Yes</td>\n",
       "    </tr>\n",
       "    <tr>\n",
       "      <td>0013-EXCHZ</td>\n",
       "      <td>2019-09-01</td>\n",
       "      <td>2019-12-01 00:00:00</td>\n",
       "      <td>Month-to-month</td>\n",
       "      <td>Yes</td>\n",
       "      <td>Mailed check</td>\n",
       "      <td>83.9</td>\n",
       "      <td>267.4</td>\n",
       "      <td>Female</td>\n",
       "      <td>1</td>\n",
       "      <td>Yes</td>\n",
       "      <td>No</td>\n",
       "      <td>No</td>\n",
       "      <td>Fiber optic</td>\n",
       "      <td>No</td>\n",
       "      <td>No</td>\n",
       "      <td>No</td>\n",
       "      <td>Yes</td>\n",
       "      <td>Yes</td>\n",
       "      <td>No</td>\n",
       "    </tr>\n",
       "  </tbody>\n",
       "</table>\n",
       "</div>"
      ],
      "text/plain": [
       "             BeginDate              EndDate            Type PaperlessBilling  \\\n",
       "customerID                                                                     \n",
       "0002-ORFBO  2019-05-01                   No        One year              Yes   \n",
       "0003-MKNFE  2019-05-01                   No  Month-to-month               No   \n",
       "0004-TLHLJ  2019-09-01  2020-01-01 00:00:00  Month-to-month              Yes   \n",
       "0011-IGKFF  2018-12-01  2020-01-01 00:00:00  Month-to-month              Yes   \n",
       "0013-EXCHZ  2019-09-01  2019-12-01 00:00:00  Month-to-month              Yes   \n",
       "\n",
       "               PaymentMethod  MonthlyCharges TotalCharges  gender  \\\n",
       "customerID                                                          \n",
       "0002-ORFBO      Mailed check            65.6        593.3  Female   \n",
       "0003-MKNFE      Mailed check            59.9        542.4    Male   \n",
       "0004-TLHLJ  Electronic check            73.9       280.85    Male   \n",
       "0011-IGKFF  Electronic check            98.0      1237.85    Male   \n",
       "0013-EXCHZ      Mailed check            83.9        267.4  Female   \n",
       "\n",
       "            SeniorCitizen Partner Dependents MultipleLines InternetService  \\\n",
       "customerID                                                                   \n",
       "0002-ORFBO              0     Yes        Yes            No             DSL   \n",
       "0003-MKNFE              0      No         No           Yes             DSL   \n",
       "0004-TLHLJ              0      No         No            No     Fiber optic   \n",
       "0011-IGKFF              1     Yes         No            No     Fiber optic   \n",
       "0013-EXCHZ              1     Yes         No            No     Fiber optic   \n",
       "\n",
       "           OnlineSecurity OnlineBackup DeviceProtection TechSupport  \\\n",
       "customerID                                                            \n",
       "0002-ORFBO             No          Yes               No         Yes   \n",
       "0003-MKNFE             No           No               No          No   \n",
       "0004-TLHLJ             No           No              Yes          No   \n",
       "0011-IGKFF             No          Yes              Yes          No   \n",
       "0013-EXCHZ             No           No               No         Yes   \n",
       "\n",
       "           StreamingTV StreamingMovies  \n",
       "customerID                              \n",
       "0002-ORFBO         Yes              No  \n",
       "0003-MKNFE          No             Yes  \n",
       "0004-TLHLJ          No              No  \n",
       "0011-IGKFF         Yes             Yes  \n",
       "0013-EXCHZ         Yes              No  "
      ]
     },
     "execution_count": 5,
     "metadata": {},
     "output_type": "execute_result"
    }
   ],
   "source": [
    "df_all.head()"
   ]
  },
  {
   "cell_type": "markdown",
   "metadata": {},
   "source": [
    "**Примечание. Для решения нашей задачи прогнозирования оттока клиентов нам нужен целевой признак, отображающий некий статус - является ли персонаж клиентом или уже нет. Назовем его `client` со значениями 1-клиент и 0-не клиент. Сформируем его на основании признака EndData - если у него значение No, то контракт еще не закрыт и персонаж до сих пор является клиентом. В противном случае - договор закрыт и персонаж уже не является клиентом.**"
   ]
  },
  {
   "cell_type": "code",
   "execution_count": 6,
   "metadata": {
    "ExecuteTime": {
     "end_time": "2020-05-21T16:17:48.960898Z",
     "start_time": "2020-05-21T16:17:48.894878Z"
    }
   },
   "outputs": [],
   "source": [
    "df_all['client'] = df_all['EndDate'].apply(lambda x: 1 if x == 'No' else 0)"
   ]
  },
  {
   "cell_type": "code",
   "execution_count": 7,
   "metadata": {
    "ExecuteTime": {
     "end_time": "2020-05-21T16:17:49.055649Z",
     "start_time": "2020-05-21T16:17:48.962860Z"
    },
    "hideCode": false,
    "hidePrompt": false
   },
   "outputs": [
    {
     "data": {
      "text/plain": [
       "BeginDate              0\n",
       "EndDate                0\n",
       "Type                   0\n",
       "PaperlessBilling       0\n",
       "PaymentMethod          0\n",
       "MonthlyCharges         0\n",
       "TotalCharges           0\n",
       "gender                 0\n",
       "SeniorCitizen          0\n",
       "Partner                0\n",
       "Dependents             0\n",
       "MultipleLines        682\n",
       "InternetService     1526\n",
       "OnlineSecurity      1526\n",
       "OnlineBackup        1526\n",
       "DeviceProtection    1526\n",
       "TechSupport         1526\n",
       "StreamingTV         1526\n",
       "StreamingMovies     1526\n",
       "client                 0\n",
       "dtype: int64"
      ]
     },
     "execution_count": 7,
     "metadata": {},
     "output_type": "execute_result"
    }
   ],
   "source": [
    "# проверка пустых значений\n",
    "\n",
    "df_all.isna().sum()"
   ]
  },
  {
   "cell_type": "markdown",
   "metadata": {
    "hideCode": false,
    "hidePrompt": false
   },
   "source": [
    "Очевидно, если в поле есть пропуск, то это означает, что соответствующая услуга клиенту не предоставлялась.  \n",
    "Поэтому все пропуски можно заполнить значением **No**."
   ]
  },
  {
   "cell_type": "code",
   "execution_count": 8,
   "metadata": {
    "ExecuteTime": {
     "end_time": "2020-05-21T16:17:49.155884Z",
     "start_time": "2020-05-21T16:17:49.059920Z"
    },
    "hideCode": false,
    "hidePrompt": false
   },
   "outputs": [],
   "source": [
    "df_all.fillna('No', inplace=True)"
   ]
  },
  {
   "cell_type": "code",
   "execution_count": 9,
   "metadata": {
    "ExecuteTime": {
     "end_time": "2020-05-21T16:17:49.309759Z",
     "start_time": "2020-05-21T16:17:49.158179Z"
    },
    "hideCode": false,
    "hidePrompt": false
   },
   "outputs": [
    {
     "data": {
      "text/html": [
       "<div>\n",
       "<style scoped>\n",
       "    .dataframe tbody tr th:only-of-type {\n",
       "        vertical-align: middle;\n",
       "    }\n",
       "\n",
       "    .dataframe tbody tr th {\n",
       "        vertical-align: top;\n",
       "    }\n",
       "\n",
       "    .dataframe thead th {\n",
       "        text-align: right;\n",
       "    }\n",
       "</style>\n",
       "<table border=\"1\" class=\"dataframe\">\n",
       "  <thead>\n",
       "    <tr style=\"text-align: right;\">\n",
       "      <th></th>\n",
       "      <th>BeginDate</th>\n",
       "      <th>EndDate</th>\n",
       "      <th>Type</th>\n",
       "      <th>PaperlessBilling</th>\n",
       "      <th>PaymentMethod</th>\n",
       "      <th>TotalCharges</th>\n",
       "      <th>gender</th>\n",
       "      <th>Partner</th>\n",
       "      <th>Dependents</th>\n",
       "      <th>MultipleLines</th>\n",
       "      <th>InternetService</th>\n",
       "      <th>OnlineSecurity</th>\n",
       "      <th>OnlineBackup</th>\n",
       "      <th>DeviceProtection</th>\n",
       "      <th>TechSupport</th>\n",
       "      <th>StreamingTV</th>\n",
       "      <th>StreamingMovies</th>\n",
       "    </tr>\n",
       "  </thead>\n",
       "  <tbody>\n",
       "    <tr>\n",
       "      <td>count</td>\n",
       "      <td>7043</td>\n",
       "      <td>7043</td>\n",
       "      <td>7043</td>\n",
       "      <td>7043</td>\n",
       "      <td>7043</td>\n",
       "      <td>7043</td>\n",
       "      <td>7043</td>\n",
       "      <td>7043</td>\n",
       "      <td>7043</td>\n",
       "      <td>7043</td>\n",
       "      <td>7043</td>\n",
       "      <td>7043</td>\n",
       "      <td>7043</td>\n",
       "      <td>7043</td>\n",
       "      <td>7043</td>\n",
       "      <td>7043</td>\n",
       "      <td>7043</td>\n",
       "    </tr>\n",
       "    <tr>\n",
       "      <td>unique</td>\n",
       "      <td>77</td>\n",
       "      <td>5</td>\n",
       "      <td>3</td>\n",
       "      <td>2</td>\n",
       "      <td>4</td>\n",
       "      <td>6531</td>\n",
       "      <td>2</td>\n",
       "      <td>2</td>\n",
       "      <td>2</td>\n",
       "      <td>2</td>\n",
       "      <td>3</td>\n",
       "      <td>2</td>\n",
       "      <td>2</td>\n",
       "      <td>2</td>\n",
       "      <td>2</td>\n",
       "      <td>2</td>\n",
       "      <td>2</td>\n",
       "    </tr>\n",
       "    <tr>\n",
       "      <td>top</td>\n",
       "      <td>2014-02-01</td>\n",
       "      <td>No</td>\n",
       "      <td>Month-to-month</td>\n",
       "      <td>Yes</td>\n",
       "      <td>Electronic check</td>\n",
       "      <td>20.2</td>\n",
       "      <td>Male</td>\n",
       "      <td>No</td>\n",
       "      <td>No</td>\n",
       "      <td>No</td>\n",
       "      <td>Fiber optic</td>\n",
       "      <td>No</td>\n",
       "      <td>No</td>\n",
       "      <td>No</td>\n",
       "      <td>No</td>\n",
       "      <td>No</td>\n",
       "      <td>No</td>\n",
       "    </tr>\n",
       "    <tr>\n",
       "      <td>freq</td>\n",
       "      <td>366</td>\n",
       "      <td>5174</td>\n",
       "      <td>3875</td>\n",
       "      <td>4171</td>\n",
       "      <td>2365</td>\n",
       "      <td>11</td>\n",
       "      <td>3555</td>\n",
       "      <td>3641</td>\n",
       "      <td>4933</td>\n",
       "      <td>4072</td>\n",
       "      <td>3096</td>\n",
       "      <td>5024</td>\n",
       "      <td>4614</td>\n",
       "      <td>4621</td>\n",
       "      <td>4999</td>\n",
       "      <td>4336</td>\n",
       "      <td>4311</td>\n",
       "    </tr>\n",
       "  </tbody>\n",
       "</table>\n",
       "</div>"
      ],
      "text/plain": [
       "         BeginDate EndDate            Type PaperlessBilling     PaymentMethod  \\\n",
       "count         7043    7043            7043             7043              7043   \n",
       "unique          77       5               3                2                 4   \n",
       "top     2014-02-01      No  Month-to-month              Yes  Electronic check   \n",
       "freq           366    5174            3875             4171              2365   \n",
       "\n",
       "       TotalCharges gender Partner Dependents MultipleLines InternetService  \\\n",
       "count          7043   7043    7043       7043          7043            7043   \n",
       "unique         6531      2       2          2             2               3   \n",
       "top            20.2   Male      No         No            No     Fiber optic   \n",
       "freq             11   3555    3641       4933          4072            3096   \n",
       "\n",
       "       OnlineSecurity OnlineBackup DeviceProtection TechSupport StreamingTV  \\\n",
       "count            7043         7043             7043        7043        7043   \n",
       "unique              2            2                2           2           2   \n",
       "top                No           No               No          No          No   \n",
       "freq             5024         4614             4621        4999        4336   \n",
       "\n",
       "       StreamingMovies  \n",
       "count             7043  \n",
       "unique               2  \n",
       "top                 No  \n",
       "freq              4311  "
      ]
     },
     "execution_count": 9,
     "metadata": {},
     "output_type": "execute_result"
    }
   ],
   "source": [
    "# Статистика по не числовым полям \n",
    "\n",
    "df_all.describe(include='object')"
   ]
  },
  {
   "cell_type": "markdown",
   "metadata": {},
   "source": [
    "Большинство признаков имеют только два значения: **No** и **Yes**, которые для удобства дальнешего анализа можно смело поменять на 0 и 1 соответственно.  \n",
    "Также всего два значения имеет признак **gender** - **Male** и **Female** - которые тоже можно поменять на 1 и 0 соответственно.  \n",
    "Формат признаков **BeginDate** и **EndDate** - преобразуем в формат дат. А признаку **EndDate** со значением **No** присвоим значение текущей даты."
   ]
  },
  {
   "cell_type": "code",
   "execution_count": 10,
   "metadata": {
    "ExecuteTime": {
     "end_time": "2020-05-21T16:17:49.371428Z",
     "start_time": "2020-05-21T16:17:49.311787Z"
    }
   },
   "outputs": [],
   "source": [
    "binary_fields = ['gender', 'Partner', 'Dependents', 'PaperlessBilling', 'MultipleLines', \n",
    "                 'OnlineSecurity', 'OnlineBackup', 'DeviceProtection', \n",
    "                 'TechSupport', 'StreamingTV', 'StreamingMovies', 'client']\n",
    "\n",
    "df_all = df_all.replace({'Yes': 1, 'No': 0})\n",
    "df_all['gender'] = df_all['gender'].replace({'Male': 1, 'Female': 0})"
   ]
  },
  {
   "cell_type": "code",
   "execution_count": 11,
   "metadata": {
    "ExecuteTime": {
     "end_time": "2020-05-21T16:17:49.419577Z",
     "start_time": "2020-05-21T16:17:49.373738Z"
    },
    "scrolled": true
   },
   "outputs": [],
   "source": [
    "# нулевые значения признака EndDate заменим на текущую дату\n",
    "\n",
    "now = datetime.datetime.now().strftime(\"%Y-%m-%d\")\n",
    "\n",
    "df_all['EndDate'] = df_all['EndDate'].apply(lambda x: now if x == 0 else x)"
   ]
  },
  {
   "cell_type": "code",
   "execution_count": 12,
   "metadata": {
    "ExecuteTime": {
     "end_time": "2020-05-21T16:17:49.522902Z",
     "start_time": "2020-05-21T16:17:49.422591Z"
    }
   },
   "outputs": [
    {
     "name": "stdout",
     "output_type": "stream",
     "text": [
      "<class 'pandas.core.frame.DataFrame'>\n",
      "Index: 7043 entries, 0002-ORFBO to 9995-HOTOH\n",
      "Data columns (total 21 columns):\n",
      "BeginDate           7043 non-null datetime64[ns]\n",
      "EndDate             7043 non-null datetime64[ns]\n",
      "Type                7043 non-null object\n",
      "PaperlessBilling    7043 non-null int64\n",
      "PaymentMethod       7043 non-null object\n",
      "MonthlyCharges      7043 non-null float64\n",
      "TotalCharges        7043 non-null object\n",
      "gender              7043 non-null int64\n",
      "SeniorCitizen       7043 non-null int64\n",
      "Partner             7043 non-null int64\n",
      "Dependents          7043 non-null int64\n",
      "MultipleLines       7043 non-null int64\n",
      "InternetService     7043 non-null object\n",
      "OnlineSecurity      7043 non-null int64\n",
      "OnlineBackup        7043 non-null int64\n",
      "DeviceProtection    7043 non-null int64\n",
      "TechSupport         7043 non-null int64\n",
      "StreamingTV         7043 non-null int64\n",
      "StreamingMovies     7043 non-null int64\n",
      "client              7043 non-null int64\n",
      "period              7043 non-null int64\n",
      "dtypes: datetime64[ns](2), float64(1), int64(14), object(4)\n",
      "memory usage: 1.2+ MB\n"
     ]
    }
   ],
   "source": [
    "# добавление признака period - срок действия контракта\n",
    "\n",
    "df_all['BeginDate'] = pd.to_datetime(df_all['BeginDate'])\n",
    "df_all['EndDate'] = pd.to_datetime(df_all['EndDate'])\n",
    "df_all['period'] = (df_all['EndDate'] - df_all['BeginDate']).dt.days\n",
    "df_all.info()"
   ]
  },
  {
   "cell_type": "code",
   "execution_count": 13,
   "metadata": {
    "ExecuteTime": {
     "end_time": "2020-05-21T16:17:49.683137Z",
     "start_time": "2020-05-21T16:17:49.524789Z"
    }
   },
   "outputs": [
    {
     "data": {
      "text/html": [
       "<div>\n",
       "<style scoped>\n",
       "    .dataframe tbody tr th:only-of-type {\n",
       "        vertical-align: middle;\n",
       "    }\n",
       "\n",
       "    .dataframe tbody tr th {\n",
       "        vertical-align: top;\n",
       "    }\n",
       "\n",
       "    .dataframe thead th {\n",
       "        text-align: right;\n",
       "    }\n",
       "</style>\n",
       "<table border=\"1\" class=\"dataframe\">\n",
       "  <thead>\n",
       "    <tr style=\"text-align: right;\">\n",
       "      <th></th>\n",
       "      <th>BeginDate</th>\n",
       "      <th>EndDate</th>\n",
       "      <th>Type</th>\n",
       "      <th>PaperlessBilling</th>\n",
       "      <th>PaymentMethod</th>\n",
       "      <th>MonthlyCharges</th>\n",
       "      <th>TotalCharges</th>\n",
       "      <th>gender</th>\n",
       "      <th>SeniorCitizen</th>\n",
       "      <th>Partner</th>\n",
       "      <th>...</th>\n",
       "      <th>MultipleLines</th>\n",
       "      <th>InternetService</th>\n",
       "      <th>OnlineSecurity</th>\n",
       "      <th>OnlineBackup</th>\n",
       "      <th>DeviceProtection</th>\n",
       "      <th>TechSupport</th>\n",
       "      <th>StreamingTV</th>\n",
       "      <th>StreamingMovies</th>\n",
       "      <th>client</th>\n",
       "      <th>period</th>\n",
       "    </tr>\n",
       "    <tr>\n",
       "      <th>customerID</th>\n",
       "      <th></th>\n",
       "      <th></th>\n",
       "      <th></th>\n",
       "      <th></th>\n",
       "      <th></th>\n",
       "      <th></th>\n",
       "      <th></th>\n",
       "      <th></th>\n",
       "      <th></th>\n",
       "      <th></th>\n",
       "      <th></th>\n",
       "      <th></th>\n",
       "      <th></th>\n",
       "      <th></th>\n",
       "      <th></th>\n",
       "      <th></th>\n",
       "      <th></th>\n",
       "      <th></th>\n",
       "      <th></th>\n",
       "      <th></th>\n",
       "      <th></th>\n",
       "    </tr>\n",
       "  </thead>\n",
       "  <tbody>\n",
       "    <tr>\n",
       "      <td>0002-ORFBO</td>\n",
       "      <td>2019-05-01</td>\n",
       "      <td>2020-05-25</td>\n",
       "      <td>One year</td>\n",
       "      <td>1</td>\n",
       "      <td>Mailed check</td>\n",
       "      <td>65.6</td>\n",
       "      <td>593.3</td>\n",
       "      <td>0</td>\n",
       "      <td>0</td>\n",
       "      <td>1</td>\n",
       "      <td>...</td>\n",
       "      <td>0</td>\n",
       "      <td>DSL</td>\n",
       "      <td>0</td>\n",
       "      <td>1</td>\n",
       "      <td>0</td>\n",
       "      <td>1</td>\n",
       "      <td>1</td>\n",
       "      <td>0</td>\n",
       "      <td>1</td>\n",
       "      <td>390</td>\n",
       "    </tr>\n",
       "    <tr>\n",
       "      <td>0003-MKNFE</td>\n",
       "      <td>2019-05-01</td>\n",
       "      <td>2020-05-25</td>\n",
       "      <td>Month-to-month</td>\n",
       "      <td>0</td>\n",
       "      <td>Mailed check</td>\n",
       "      <td>59.9</td>\n",
       "      <td>542.4</td>\n",
       "      <td>1</td>\n",
       "      <td>0</td>\n",
       "      <td>0</td>\n",
       "      <td>...</td>\n",
       "      <td>1</td>\n",
       "      <td>DSL</td>\n",
       "      <td>0</td>\n",
       "      <td>0</td>\n",
       "      <td>0</td>\n",
       "      <td>0</td>\n",
       "      <td>0</td>\n",
       "      <td>1</td>\n",
       "      <td>1</td>\n",
       "      <td>390</td>\n",
       "    </tr>\n",
       "    <tr>\n",
       "      <td>0004-TLHLJ</td>\n",
       "      <td>2019-09-01</td>\n",
       "      <td>2020-01-01</td>\n",
       "      <td>Month-to-month</td>\n",
       "      <td>1</td>\n",
       "      <td>Electronic check</td>\n",
       "      <td>73.9</td>\n",
       "      <td>280.85</td>\n",
       "      <td>1</td>\n",
       "      <td>0</td>\n",
       "      <td>0</td>\n",
       "      <td>...</td>\n",
       "      <td>0</td>\n",
       "      <td>Fiber optic</td>\n",
       "      <td>0</td>\n",
       "      <td>0</td>\n",
       "      <td>1</td>\n",
       "      <td>0</td>\n",
       "      <td>0</td>\n",
       "      <td>0</td>\n",
       "      <td>0</td>\n",
       "      <td>122</td>\n",
       "    </tr>\n",
       "    <tr>\n",
       "      <td>0011-IGKFF</td>\n",
       "      <td>2018-12-01</td>\n",
       "      <td>2020-01-01</td>\n",
       "      <td>Month-to-month</td>\n",
       "      <td>1</td>\n",
       "      <td>Electronic check</td>\n",
       "      <td>98.0</td>\n",
       "      <td>1237.85</td>\n",
       "      <td>1</td>\n",
       "      <td>1</td>\n",
       "      <td>1</td>\n",
       "      <td>...</td>\n",
       "      <td>0</td>\n",
       "      <td>Fiber optic</td>\n",
       "      <td>0</td>\n",
       "      <td>1</td>\n",
       "      <td>1</td>\n",
       "      <td>0</td>\n",
       "      <td>1</td>\n",
       "      <td>1</td>\n",
       "      <td>0</td>\n",
       "      <td>396</td>\n",
       "    </tr>\n",
       "    <tr>\n",
       "      <td>0013-EXCHZ</td>\n",
       "      <td>2019-09-01</td>\n",
       "      <td>2019-12-01</td>\n",
       "      <td>Month-to-month</td>\n",
       "      <td>1</td>\n",
       "      <td>Mailed check</td>\n",
       "      <td>83.9</td>\n",
       "      <td>267.4</td>\n",
       "      <td>0</td>\n",
       "      <td>1</td>\n",
       "      <td>1</td>\n",
       "      <td>...</td>\n",
       "      <td>0</td>\n",
       "      <td>Fiber optic</td>\n",
       "      <td>0</td>\n",
       "      <td>0</td>\n",
       "      <td>0</td>\n",
       "      <td>1</td>\n",
       "      <td>1</td>\n",
       "      <td>0</td>\n",
       "      <td>0</td>\n",
       "      <td>91</td>\n",
       "    </tr>\n",
       "  </tbody>\n",
       "</table>\n",
       "<p>5 rows × 21 columns</p>\n",
       "</div>"
      ],
      "text/plain": [
       "            BeginDate    EndDate            Type  PaperlessBilling  \\\n",
       "customerID                                                           \n",
       "0002-ORFBO 2019-05-01 2020-05-25        One year                 1   \n",
       "0003-MKNFE 2019-05-01 2020-05-25  Month-to-month                 0   \n",
       "0004-TLHLJ 2019-09-01 2020-01-01  Month-to-month                 1   \n",
       "0011-IGKFF 2018-12-01 2020-01-01  Month-to-month                 1   \n",
       "0013-EXCHZ 2019-09-01 2019-12-01  Month-to-month                 1   \n",
       "\n",
       "               PaymentMethod  MonthlyCharges TotalCharges  gender  \\\n",
       "customerID                                                          \n",
       "0002-ORFBO      Mailed check            65.6        593.3       0   \n",
       "0003-MKNFE      Mailed check            59.9        542.4       1   \n",
       "0004-TLHLJ  Electronic check            73.9       280.85       1   \n",
       "0011-IGKFF  Electronic check            98.0      1237.85       1   \n",
       "0013-EXCHZ      Mailed check            83.9        267.4       0   \n",
       "\n",
       "            SeniorCitizen  Partner  ...  MultipleLines  InternetService  \\\n",
       "customerID                          ...                                   \n",
       "0002-ORFBO              0        1  ...              0              DSL   \n",
       "0003-MKNFE              0        0  ...              1              DSL   \n",
       "0004-TLHLJ              0        0  ...              0      Fiber optic   \n",
       "0011-IGKFF              1        1  ...              0      Fiber optic   \n",
       "0013-EXCHZ              1        1  ...              0      Fiber optic   \n",
       "\n",
       "           OnlineSecurity  OnlineBackup  DeviceProtection  TechSupport  \\\n",
       "customerID                                                               \n",
       "0002-ORFBO              0             1                 0            1   \n",
       "0003-MKNFE              0             0                 0            0   \n",
       "0004-TLHLJ              0             0                 1            0   \n",
       "0011-IGKFF              0             1                 1            0   \n",
       "0013-EXCHZ              0             0                 0            1   \n",
       "\n",
       "            StreamingTV  StreamingMovies  client  period  \n",
       "customerID                                                \n",
       "0002-ORFBO            1                0       1     390  \n",
       "0003-MKNFE            0                1       1     390  \n",
       "0004-TLHLJ            0                0       0     122  \n",
       "0011-IGKFF            1                1       0     396  \n",
       "0013-EXCHZ            1                0       0      91  \n",
       "\n",
       "[5 rows x 21 columns]"
      ]
     },
     "execution_count": 13,
     "metadata": {},
     "output_type": "execute_result"
    }
   ],
   "source": [
    "df_all.head()"
   ]
  },
  {
   "cell_type": "markdown",
   "metadata": {},
   "source": [
    "***\n",
    "\n",
    "## Анализ числовых признаков"
   ]
  },
  {
   "cell_type": "code",
   "execution_count": 14,
   "metadata": {
    "ExecuteTime": {
     "end_time": "2020-05-21T16:17:49.817503Z",
     "start_time": "2020-05-21T16:17:49.685106Z"
    }
   },
   "outputs": [],
   "source": [
    "# Статистические показатели числовых полей. Добавим количество уникальных значений\n",
    "\n",
    "describes = df_all.describe()\n",
    "uniques = [df_all[col].unique().__len__() for col in describes.columns]\n",
    "uniques = pd.Series(uniques, index=describes.columns, name='uniques').to_frame().T"
   ]
  },
  {
   "cell_type": "code",
   "execution_count": 15,
   "metadata": {
    "ExecuteTime": {
     "end_time": "2020-05-21T16:17:49.879454Z",
     "start_time": "2020-05-21T16:17:49.819237Z"
    },
    "hideCode": false,
    "hidePrompt": false
   },
   "outputs": [
    {
     "data": {
      "text/html": [
       "<div>\n",
       "<style scoped>\n",
       "    .dataframe tbody tr th:only-of-type {\n",
       "        vertical-align: middle;\n",
       "    }\n",
       "\n",
       "    .dataframe tbody tr th {\n",
       "        vertical-align: top;\n",
       "    }\n",
       "\n",
       "    .dataframe thead th {\n",
       "        text-align: right;\n",
       "    }\n",
       "</style>\n",
       "<table border=\"1\" class=\"dataframe\">\n",
       "  <thead>\n",
       "    <tr style=\"text-align: right;\">\n",
       "      <th></th>\n",
       "      <th>PaperlessBilling</th>\n",
       "      <th>MonthlyCharges</th>\n",
       "      <th>gender</th>\n",
       "      <th>SeniorCitizen</th>\n",
       "      <th>Partner</th>\n",
       "      <th>Dependents</th>\n",
       "      <th>MultipleLines</th>\n",
       "      <th>OnlineSecurity</th>\n",
       "      <th>OnlineBackup</th>\n",
       "      <th>DeviceProtection</th>\n",
       "      <th>TechSupport</th>\n",
       "      <th>StreamingTV</th>\n",
       "      <th>StreamingMovies</th>\n",
       "      <th>client</th>\n",
       "      <th>period</th>\n",
       "    </tr>\n",
       "  </thead>\n",
       "  <tbody>\n",
       "    <tr>\n",
       "      <td>count</td>\n",
       "      <td>7043.000000</td>\n",
       "      <td>7043.000000</td>\n",
       "      <td>7043.000000</td>\n",
       "      <td>7043.000000</td>\n",
       "      <td>7043.000000</td>\n",
       "      <td>7043.000000</td>\n",
       "      <td>7043.000000</td>\n",
       "      <td>7043.000000</td>\n",
       "      <td>7043.000000</td>\n",
       "      <td>7043.000000</td>\n",
       "      <td>7043.000000</td>\n",
       "      <td>7043.000000</td>\n",
       "      <td>7043.000000</td>\n",
       "      <td>7043.000000</td>\n",
       "      <td>7043.000000</td>\n",
       "    </tr>\n",
       "    <tr>\n",
       "      <td>mean</td>\n",
       "      <td>0.592219</td>\n",
       "      <td>64.761692</td>\n",
       "      <td>0.504756</td>\n",
       "      <td>0.162147</td>\n",
       "      <td>0.483033</td>\n",
       "      <td>0.299588</td>\n",
       "      <td>0.421837</td>\n",
       "      <td>0.286668</td>\n",
       "      <td>0.344881</td>\n",
       "      <td>0.343888</td>\n",
       "      <td>0.290217</td>\n",
       "      <td>0.384353</td>\n",
       "      <td>0.387903</td>\n",
       "      <td>0.734630</td>\n",
       "      <td>1069.744001</td>\n",
       "    </tr>\n",
       "    <tr>\n",
       "      <td>std</td>\n",
       "      <td>0.491457</td>\n",
       "      <td>30.090047</td>\n",
       "      <td>0.500013</td>\n",
       "      <td>0.368612</td>\n",
       "      <td>0.499748</td>\n",
       "      <td>0.458110</td>\n",
       "      <td>0.493888</td>\n",
       "      <td>0.452237</td>\n",
       "      <td>0.475363</td>\n",
       "      <td>0.475038</td>\n",
       "      <td>0.453895</td>\n",
       "      <td>0.486477</td>\n",
       "      <td>0.487307</td>\n",
       "      <td>0.441561</td>\n",
       "      <td>766.788846</td>\n",
       "    </tr>\n",
       "    <tr>\n",
       "      <td>min</td>\n",
       "      <td>0.000000</td>\n",
       "      <td>18.250000</td>\n",
       "      <td>0.000000</td>\n",
       "      <td>0.000000</td>\n",
       "      <td>0.000000</td>\n",
       "      <td>0.000000</td>\n",
       "      <td>0.000000</td>\n",
       "      <td>0.000000</td>\n",
       "      <td>0.000000</td>\n",
       "      <td>0.000000</td>\n",
       "      <td>0.000000</td>\n",
       "      <td>0.000000</td>\n",
       "      <td>0.000000</td>\n",
       "      <td>0.000000</td>\n",
       "      <td>30.000000</td>\n",
       "    </tr>\n",
       "    <tr>\n",
       "      <td>25%</td>\n",
       "      <td>0.000000</td>\n",
       "      <td>35.500000</td>\n",
       "      <td>0.000000</td>\n",
       "      <td>0.000000</td>\n",
       "      <td>0.000000</td>\n",
       "      <td>0.000000</td>\n",
       "      <td>0.000000</td>\n",
       "      <td>0.000000</td>\n",
       "      <td>0.000000</td>\n",
       "      <td>0.000000</td>\n",
       "      <td>0.000000</td>\n",
       "      <td>0.000000</td>\n",
       "      <td>0.000000</td>\n",
       "      <td>0.000000</td>\n",
       "      <td>334.000000</td>\n",
       "    </tr>\n",
       "    <tr>\n",
       "      <td>50%</td>\n",
       "      <td>1.000000</td>\n",
       "      <td>70.350000</td>\n",
       "      <td>1.000000</td>\n",
       "      <td>0.000000</td>\n",
       "      <td>0.000000</td>\n",
       "      <td>0.000000</td>\n",
       "      <td>0.000000</td>\n",
       "      <td>0.000000</td>\n",
       "      <td>0.000000</td>\n",
       "      <td>0.000000</td>\n",
       "      <td>0.000000</td>\n",
       "      <td>0.000000</td>\n",
       "      <td>0.000000</td>\n",
       "      <td>1.000000</td>\n",
       "      <td>967.000000</td>\n",
       "    </tr>\n",
       "    <tr>\n",
       "      <td>75%</td>\n",
       "      <td>1.000000</td>\n",
       "      <td>89.850000</td>\n",
       "      <td>1.000000</td>\n",
       "      <td>0.000000</td>\n",
       "      <td>1.000000</td>\n",
       "      <td>1.000000</td>\n",
       "      <td>1.000000</td>\n",
       "      <td>1.000000</td>\n",
       "      <td>1.000000</td>\n",
       "      <td>1.000000</td>\n",
       "      <td>1.000000</td>\n",
       "      <td>1.000000</td>\n",
       "      <td>1.000000</td>\n",
       "      <td>1.000000</td>\n",
       "      <td>1790.000000</td>\n",
       "    </tr>\n",
       "    <tr>\n",
       "      <td>max</td>\n",
       "      <td>1.000000</td>\n",
       "      <td>118.750000</td>\n",
       "      <td>1.000000</td>\n",
       "      <td>1.000000</td>\n",
       "      <td>1.000000</td>\n",
       "      <td>1.000000</td>\n",
       "      <td>1.000000</td>\n",
       "      <td>1.000000</td>\n",
       "      <td>1.000000</td>\n",
       "      <td>1.000000</td>\n",
       "      <td>1.000000</td>\n",
       "      <td>1.000000</td>\n",
       "      <td>1.000000</td>\n",
       "      <td>1.000000</td>\n",
       "      <td>2305.000000</td>\n",
       "    </tr>\n",
       "    <tr>\n",
       "      <td>uniques</td>\n",
       "      <td>2.000000</td>\n",
       "      <td>1585.000000</td>\n",
       "      <td>2.000000</td>\n",
       "      <td>2.000000</td>\n",
       "      <td>2.000000</td>\n",
       "      <td>2.000000</td>\n",
       "      <td>2.000000</td>\n",
       "      <td>2.000000</td>\n",
       "      <td>2.000000</td>\n",
       "      <td>2.000000</td>\n",
       "      <td>2.000000</td>\n",
       "      <td>2.000000</td>\n",
       "      <td>2.000000</td>\n",
       "      <td>2.000000</td>\n",
       "      <td>204.000000</td>\n",
       "    </tr>\n",
       "  </tbody>\n",
       "</table>\n",
       "</div>"
      ],
      "text/plain": [
       "         PaperlessBilling  MonthlyCharges       gender  SeniorCitizen  \\\n",
       "count         7043.000000     7043.000000  7043.000000    7043.000000   \n",
       "mean             0.592219       64.761692     0.504756       0.162147   \n",
       "std              0.491457       30.090047     0.500013       0.368612   \n",
       "min              0.000000       18.250000     0.000000       0.000000   \n",
       "25%              0.000000       35.500000     0.000000       0.000000   \n",
       "50%              1.000000       70.350000     1.000000       0.000000   \n",
       "75%              1.000000       89.850000     1.000000       0.000000   \n",
       "max              1.000000      118.750000     1.000000       1.000000   \n",
       "uniques          2.000000     1585.000000     2.000000       2.000000   \n",
       "\n",
       "             Partner   Dependents  MultipleLines  OnlineSecurity  \\\n",
       "count    7043.000000  7043.000000    7043.000000     7043.000000   \n",
       "mean        0.483033     0.299588       0.421837        0.286668   \n",
       "std         0.499748     0.458110       0.493888        0.452237   \n",
       "min         0.000000     0.000000       0.000000        0.000000   \n",
       "25%         0.000000     0.000000       0.000000        0.000000   \n",
       "50%         0.000000     0.000000       0.000000        0.000000   \n",
       "75%         1.000000     1.000000       1.000000        1.000000   \n",
       "max         1.000000     1.000000       1.000000        1.000000   \n",
       "uniques     2.000000     2.000000       2.000000        2.000000   \n",
       "\n",
       "         OnlineBackup  DeviceProtection  TechSupport  StreamingTV  \\\n",
       "count     7043.000000       7043.000000  7043.000000  7043.000000   \n",
       "mean         0.344881          0.343888     0.290217     0.384353   \n",
       "std          0.475363          0.475038     0.453895     0.486477   \n",
       "min          0.000000          0.000000     0.000000     0.000000   \n",
       "25%          0.000000          0.000000     0.000000     0.000000   \n",
       "50%          0.000000          0.000000     0.000000     0.000000   \n",
       "75%          1.000000          1.000000     1.000000     1.000000   \n",
       "max          1.000000          1.000000     1.000000     1.000000   \n",
       "uniques      2.000000          2.000000     2.000000     2.000000   \n",
       "\n",
       "         StreamingMovies       client       period  \n",
       "count        7043.000000  7043.000000  7043.000000  \n",
       "mean            0.387903     0.734630  1069.744001  \n",
       "std             0.487307     0.441561   766.788846  \n",
       "min             0.000000     0.000000    30.000000  \n",
       "25%             0.000000     0.000000   334.000000  \n",
       "50%             0.000000     1.000000   967.000000  \n",
       "75%             1.000000     1.000000  1790.000000  \n",
       "max             1.000000     1.000000  2305.000000  \n",
       "uniques         2.000000     2.000000   204.000000  "
      ]
     },
     "execution_count": 15,
     "metadata": {},
     "output_type": "execute_result"
    }
   ],
   "source": [
    "describes = pd.concat([describes, uniques])\n",
    "describes"
   ]
  },
  {
   "cell_type": "code",
   "execution_count": 16,
   "metadata": {
    "ExecuteTime": {
     "end_time": "2020-05-21T16:17:50.931496Z",
     "start_time": "2020-05-21T16:17:49.881415Z"
    }
   },
   "outputs": [
    {
     "data": {
      "image/png": "[encoded data removed]",
      "text/plain": [
       "<Figure size 800x480 with 2 Axes>"
      ]
     },
     "metadata": {
      "needs_background": "light"
     },
     "output_type": "display_data"
    }
   ],
   "source": [
    "# матрица корреляций\n",
    "\n",
    "plt.figure(figsize=(10,6), dpi= 80)\n",
    "sns.heatmap(df_all.corr(), \n",
    "            xticklabels=df_all.corr().columns, \n",
    "            yticklabels=df_all.corr().columns, \n",
    "            cmap='RdYlGn', center=0, annot=True)\n",
    "plt.show()"
   ]
  },
  {
   "cell_type": "markdown",
   "metadata": {
    "hideCode": false,
    "hidePrompt": false
   },
   "source": [
    "***"
   ]
  },
  {
   "cell_type": "markdown",
   "metadata": {
    "ExecuteTime": {
     "end_time": "2020-05-18T10:50:52.143993Z",
     "start_time": "2020-05-18T10:50:52.009638Z"
    },
    "hideCode": false,
    "hidePrompt": false
   },
   "source": [
    "### Сравнение распределения величин ежемесячных платежей (MonthlyCharges) всех действующих клиентов и тех, кто ушёл.   \n",
    "\n",
    "Для каждой группы посчитайте статистики: средние, минимальные и максимальные значения, медиану и величины 25%- и 75%-квартилей. Постройте гистограммы распределения.\n",
    "\n",
    "Сравните поведение клиентов этих двух групп. Для каждой постройте два любых графика, изображающих:\n",
    "\n",
    "- долю пользователей телефонной связи;\n",
    "- долю интернет-пользователей.\n"
   ]
  },
  {
   "cell_type": "code",
   "execution_count": 17,
   "metadata": {
    "ExecuteTime": {
     "end_time": "2020-05-21T16:17:51.128201Z",
     "start_time": "2020-05-21T16:17:51.108293Z"
    }
   },
   "outputs": [
    {
     "name": "stdout",
     "output_type": "stream",
     "text": [
      "Уникальные значения:\n"
     ]
    },
    {
     "data": {
      "text/html": [
       "<div>\n",
       "<style scoped>\n",
       "    .dataframe tbody tr th:only-of-type {\n",
       "        vertical-align: middle;\n",
       "    }\n",
       "\n",
       "    .dataframe tbody tr th {\n",
       "        vertical-align: top;\n",
       "    }\n",
       "\n",
       "    .dataframe thead th {\n",
       "        text-align: right;\n",
       "    }\n",
       "</style>\n",
       "<table border=\"1\" class=\"dataframe\">\n",
       "  <thead>\n",
       "    <tr style=\"text-align: right;\">\n",
       "      <th></th>\n",
       "      <th>20.05</th>\n",
       "      <th>19.85</th>\n",
       "      <th>19.95</th>\n",
       "      <th>19.90</th>\n",
       "      <th>19.65</th>\n",
       "      <th>19.70</th>\n",
       "      <th>20.00</th>\n",
       "      <th>19.55</th>\n",
       "      <th>20.15</th>\n",
       "      <th>19.75</th>\n",
       "      <th>...</th>\n",
       "      <th>113.40</th>\n",
       "      <th>61.80</th>\n",
       "      <th>35.25</th>\n",
       "      <th>37.70</th>\n",
       "      <th>66.75</th>\n",
       "      <th>116.30</th>\n",
       "      <th>107.15</th>\n",
       "      <th>68.55</th>\n",
       "      <th>43.65</th>\n",
       "      <th>35.35</th>\n",
       "    </tr>\n",
       "  </thead>\n",
       "  <tbody>\n",
       "    <tr>\n",
       "      <td>MonthlyCharges</td>\n",
       "      <td>61</td>\n",
       "      <td>45</td>\n",
       "      <td>44</td>\n",
       "      <td>44</td>\n",
       "      <td>43</td>\n",
       "      <td>43</td>\n",
       "      <td>43</td>\n",
       "      <td>40</td>\n",
       "      <td>40</td>\n",
       "      <td>39</td>\n",
       "      <td>...</td>\n",
       "      <td>1</td>\n",
       "      <td>1</td>\n",
       "      <td>1</td>\n",
       "      <td>1</td>\n",
       "      <td>1</td>\n",
       "      <td>1</td>\n",
       "      <td>1</td>\n",
       "      <td>1</td>\n",
       "      <td>1</td>\n",
       "      <td>1</td>\n",
       "    </tr>\n",
       "  </tbody>\n",
       "</table>\n",
       "<p>1 rows × 1585 columns</p>\n",
       "</div>"
      ],
      "text/plain": [
       "                20.05   19.85   19.95   19.90   19.65   19.70   20.00   \\\n",
       "MonthlyCharges      61      45      44      44      43      43      43   \n",
       "\n",
       "                19.55   20.15   19.75   ...  113.40  61.80   35.25   37.70   \\\n",
       "MonthlyCharges      40      40      39  ...       1       1       1       1   \n",
       "\n",
       "                66.75   116.30  107.15  68.55   43.65   35.35   \n",
       "MonthlyCharges       1       1       1       1       1       1  \n",
       "\n",
       "[1 rows x 1585 columns]"
      ]
     },
     "execution_count": 17,
     "metadata": {},
     "output_type": "execute_result"
    }
   ],
   "source": [
    "# Количество уникальных значений \n",
    "\n",
    "print('Уникальные значения:')\n",
    "df_all['MonthlyCharges'].value_counts().to_frame().T"
   ]
  },
  {
   "cell_type": "code",
   "execution_count": 18,
   "metadata": {
    "ExecuteTime": {
     "end_time": "2020-05-21T16:17:51.194772Z",
     "start_time": "2020-05-21T16:17:51.130019Z"
    }
   },
   "outputs": [
    {
     "data": {
      "text/html": [
       "<div>\n",
       "<style scoped>\n",
       "    .dataframe tbody tr th:only-of-type {\n",
       "        vertical-align: middle;\n",
       "    }\n",
       "\n",
       "    .dataframe tbody tr th {\n",
       "        vertical-align: top;\n",
       "    }\n",
       "\n",
       "    .dataframe thead th {\n",
       "        text-align: right;\n",
       "    }\n",
       "</style>\n",
       "<table border=\"1\" class=\"dataframe\">\n",
       "  <thead>\n",
       "    <tr style=\"text-align: right;\">\n",
       "      <th></th>\n",
       "      <th>MonthlyCharges</th>\n",
       "      <th>client</th>\n",
       "    </tr>\n",
       "    <tr>\n",
       "      <th>customerID</th>\n",
       "      <th></th>\n",
       "      <th></th>\n",
       "    </tr>\n",
       "  </thead>\n",
       "  <tbody>\n",
       "    <tr>\n",
       "      <td>0002-ORFBO</td>\n",
       "      <td>65.6</td>\n",
       "      <td>1</td>\n",
       "    </tr>\n",
       "    <tr>\n",
       "      <td>0003-MKNFE</td>\n",
       "      <td>59.9</td>\n",
       "      <td>1</td>\n",
       "    </tr>\n",
       "    <tr>\n",
       "      <td>0004-TLHLJ</td>\n",
       "      <td>73.9</td>\n",
       "      <td>0</td>\n",
       "    </tr>\n",
       "    <tr>\n",
       "      <td>0011-IGKFF</td>\n",
       "      <td>98.0</td>\n",
       "      <td>0</td>\n",
       "    </tr>\n",
       "    <tr>\n",
       "      <td>0013-EXCHZ</td>\n",
       "      <td>83.9</td>\n",
       "      <td>0</td>\n",
       "    </tr>\n",
       "  </tbody>\n",
       "</table>\n",
       "</div>"
      ],
      "text/plain": [
       "            MonthlyCharges  client\n",
       "customerID                        \n",
       "0002-ORFBO            65.6       1\n",
       "0003-MKNFE            59.9       1\n",
       "0004-TLHLJ            73.9       0\n",
       "0011-IGKFF            98.0       0\n",
       "0013-EXCHZ            83.9       0"
      ]
     },
     "execution_count": 18,
     "metadata": {},
     "output_type": "execute_result"
    }
   ],
   "source": [
    "# Формирование таблицы с величинами ежемесячных платежей клиентов\n",
    "\n",
    "current_clients = df_all[['MonthlyCharges', 'client']]\n",
    "current_clients.head()"
   ]
  },
  {
   "cell_type": "code",
   "execution_count": 19,
   "metadata": {
    "ExecuteTime": {
     "end_time": "2020-05-21T16:17:51.348057Z",
     "start_time": "2020-05-21T16:17:51.196830Z"
    }
   },
   "outputs": [
    {
     "data": {
      "text/html": [
       "<div>\n",
       "<style scoped>\n",
       "    .dataframe tbody tr th:only-of-type {\n",
       "        vertical-align: middle;\n",
       "    }\n",
       "\n",
       "    .dataframe tbody tr th {\n",
       "        vertical-align: top;\n",
       "    }\n",
       "\n",
       "    .dataframe thead th {\n",
       "        text-align: right;\n",
       "    }\n",
       "</style>\n",
       "<table border=\"1\" class=\"dataframe\">\n",
       "  <thead>\n",
       "    <tr style=\"text-align: right;\">\n",
       "      <th></th>\n",
       "      <th>no_client</th>\n",
       "      <th>is_client</th>\n",
       "      <th>sum_charges</th>\n",
       "    </tr>\n",
       "    <tr>\n",
       "      <th>customerID</th>\n",
       "      <th></th>\n",
       "      <th></th>\n",
       "      <th></th>\n",
       "    </tr>\n",
       "  </thead>\n",
       "  <tbody>\n",
       "    <tr>\n",
       "      <td>0002-ORFBO</td>\n",
       "      <td>NaN</td>\n",
       "      <td>65.6</td>\n",
       "      <td>65.6</td>\n",
       "    </tr>\n",
       "    <tr>\n",
       "      <td>0003-MKNFE</td>\n",
       "      <td>NaN</td>\n",
       "      <td>59.9</td>\n",
       "      <td>59.9</td>\n",
       "    </tr>\n",
       "    <tr>\n",
       "      <td>0004-TLHLJ</td>\n",
       "      <td>73.9</td>\n",
       "      <td>NaN</td>\n",
       "      <td>73.9</td>\n",
       "    </tr>\n",
       "    <tr>\n",
       "      <td>0011-IGKFF</td>\n",
       "      <td>98.0</td>\n",
       "      <td>NaN</td>\n",
       "      <td>98.0</td>\n",
       "    </tr>\n",
       "    <tr>\n",
       "      <td>0013-EXCHZ</td>\n",
       "      <td>83.9</td>\n",
       "      <td>NaN</td>\n",
       "      <td>83.9</td>\n",
       "    </tr>\n",
       "  </tbody>\n",
       "</table>\n",
       "</div>"
      ],
      "text/plain": [
       "            no_client  is_client  sum_charges\n",
       "customerID                                   \n",
       "0002-ORFBO        NaN       65.6         65.6\n",
       "0003-MKNFE        NaN       59.9         59.9\n",
       "0004-TLHLJ       73.9        NaN         73.9\n",
       "0011-IGKFF       98.0        NaN         98.0\n",
       "0013-EXCHZ       83.9        NaN         83.9"
      ]
     },
     "execution_count": 19,
     "metadata": {},
     "output_type": "execute_result"
    }
   ],
   "source": [
    "df_monthly_charges = current_clients.reset_index()\\\n",
    "    .pivot_table(index='customerID', columns='client', \n",
    "                 values='MonthlyCharges', aggfunc='sum', \n",
    "                 margins=True).drop('All')\n",
    "df_monthly_charges.columns = ['no_client', 'is_client', 'sum_charges']\n",
    "df_monthly_charges.head()"
   ]
  },
  {
   "cell_type": "code",
   "execution_count": 20,
   "metadata": {
    "ExecuteTime": {
     "end_time": "2020-05-21T16:17:51.414759Z",
     "start_time": "2020-05-21T16:17:51.350058Z"
    }
   },
   "outputs": [
    {
     "data": {
      "text/html": [
       "<div>\n",
       "<style scoped>\n",
       "    .dataframe tbody tr th:only-of-type {\n",
       "        vertical-align: middle;\n",
       "    }\n",
       "\n",
       "    .dataframe tbody tr th {\n",
       "        vertical-align: top;\n",
       "    }\n",
       "\n",
       "    .dataframe thead th {\n",
       "        text-align: right;\n",
       "    }\n",
       "</style>\n",
       "<table border=\"1\" class=\"dataframe\">\n",
       "  <thead>\n",
       "    <tr style=\"text-align: right;\">\n",
       "      <th></th>\n",
       "      <th>no_client</th>\n",
       "      <th>is_client</th>\n",
       "      <th>sum_charges</th>\n",
       "    </tr>\n",
       "  </thead>\n",
       "  <tbody>\n",
       "    <tr>\n",
       "      <td>count</td>\n",
       "      <td>1869.000000</td>\n",
       "      <td>5174.000000</td>\n",
       "      <td>7043.000000</td>\n",
       "    </tr>\n",
       "    <tr>\n",
       "      <td>mean</td>\n",
       "      <td>74.441332</td>\n",
       "      <td>61.265124</td>\n",
       "      <td>64.761692</td>\n",
       "    </tr>\n",
       "    <tr>\n",
       "      <td>std</td>\n",
       "      <td>24.666053</td>\n",
       "      <td>31.092648</td>\n",
       "      <td>30.090047</td>\n",
       "    </tr>\n",
       "    <tr>\n",
       "      <td>min</td>\n",
       "      <td>18.850000</td>\n",
       "      <td>18.250000</td>\n",
       "      <td>18.250000</td>\n",
       "    </tr>\n",
       "    <tr>\n",
       "      <td>25%</td>\n",
       "      <td>56.150000</td>\n",
       "      <td>25.100000</td>\n",
       "      <td>35.500000</td>\n",
       "    </tr>\n",
       "    <tr>\n",
       "      <td>50%</td>\n",
       "      <td>79.650000</td>\n",
       "      <td>64.425000</td>\n",
       "      <td>70.350000</td>\n",
       "    </tr>\n",
       "    <tr>\n",
       "      <td>75%</td>\n",
       "      <td>94.200000</td>\n",
       "      <td>88.400000</td>\n",
       "      <td>89.850000</td>\n",
       "    </tr>\n",
       "    <tr>\n",
       "      <td>max</td>\n",
       "      <td>118.350000</td>\n",
       "      <td>118.750000</td>\n",
       "      <td>118.750000</td>\n",
       "    </tr>\n",
       "  </tbody>\n",
       "</table>\n",
       "</div>"
      ],
      "text/plain": [
       "         no_client    is_client  sum_charges\n",
       "count  1869.000000  5174.000000  7043.000000\n",
       "mean     74.441332    61.265124    64.761692\n",
       "std      24.666053    31.092648    30.090047\n",
       "min      18.850000    18.250000    18.250000\n",
       "25%      56.150000    25.100000    35.500000\n",
       "50%      79.650000    64.425000    70.350000\n",
       "75%      94.200000    88.400000    89.850000\n",
       "max     118.350000   118.750000   118.750000"
      ]
     },
     "execution_count": 20,
     "metadata": {},
     "output_type": "execute_result"
    }
   ],
   "source": [
    "df_monthly_charges.describe()"
   ]
  },
  {
   "cell_type": "code",
   "execution_count": 21,
   "metadata": {
    "ExecuteTime": {
     "end_time": "2020-05-21T16:17:51.741924Z",
     "start_time": "2020-05-21T16:17:51.416681Z"
    },
    "hideCode": false,
    "hidePrompt": false
   },
   "outputs": [
    {
     "data": {
      "image/png": "[encoded data removed]",
      "text/plain": [
       "<Figure size 864x288 with 2 Axes>"
      ]
     },
     "metadata": {
      "needs_background": "light"
     },
     "output_type": "display_data"
    }
   ],
   "source": [
    "f, axes = plt.subplots(1, 2, figsize=(12, 4), sharex=True)\n",
    "sns.boxplot(data=df_monthly_charges[['no_client', 'is_client']], ax=axes[0])\n",
    "axes[0].grid(color='lightgray', alpha=0.7)\n",
    "sns.violinplot(data=df_monthly_charges[['no_client', 'is_client']], inner=\"points\", ax=axes[1])\n",
    "axes[1].grid(color='lightgray', alpha=0.7)\n",
    "plt.show()"
   ]
  },
  {
   "cell_type": "markdown",
   "metadata": {},
   "source": [
    "Как видно из представленных диаграмм и статистических данных средний уровнь платежей тех клиентов, которые ушли, значительно выше, чем у действующих клиентов. Т.е. это, в основном люди, которые не довольны высокой платой за услуги.  \n",
    "Но не мало и тех, у которых ежемесячная плата на минимальных значениях. Значит эти люди могут быть не довольны качеством предлагаемых услуг."
   ]
  },
  {
   "cell_type": "code",
   "execution_count": 22,
   "metadata": {
    "ExecuteTime": {
     "end_time": "2020-05-21T16:17:52.356832Z",
     "start_time": "2020-05-21T16:17:51.746900Z"
    },
    "hideCode": false,
    "hidePrompt": false
   },
   "outputs": [
    {
     "data": {
      "image/png": "[encoded data removed]",
      "text/plain": [
       "<Figure size 576x360 with 1 Axes>"
      ]
     },
     "metadata": {
      "needs_background": "light"
     },
     "output_type": "display_data"
    }
   ],
   "source": [
    "# Гистаграммы \n",
    "\n",
    "ax = df_monthly_charges[['no_client', 'is_client']].plot\\\n",
    "    .hist(bins=80, alpha=0.5, grid=True, figsize=(8, 5));"
   ]
  },
  {
   "cell_type": "code",
   "execution_count": 23,
   "metadata": {
    "ExecuteTime": {
     "end_time": "2020-05-21T16:17:52.381671Z",
     "start_time": "2020-05-21T16:17:52.359815Z"
    }
   },
   "outputs": [
    {
     "data": {
      "text/html": [
       "<div>\n",
       "<style scoped>\n",
       "    .dataframe tbody tr th:only-of-type {\n",
       "        vertical-align: middle;\n",
       "    }\n",
       "\n",
       "    .dataframe tbody tr th {\n",
       "        vertical-align: top;\n",
       "    }\n",
       "\n",
       "    .dataframe thead th {\n",
       "        text-align: right;\n",
       "    }\n",
       "</style>\n",
       "<table border=\"1\" class=\"dataframe\">\n",
       "  <thead>\n",
       "    <tr style=\"text-align: right;\">\n",
       "      <th></th>\n",
       "      <th>no_client</th>\n",
       "      <th>is_client</th>\n",
       "      <th>sum_charges</th>\n",
       "      <th>inet</th>\n",
       "      <th>phone</th>\n",
       "    </tr>\n",
       "    <tr>\n",
       "      <th>customerID</th>\n",
       "      <th></th>\n",
       "      <th></th>\n",
       "      <th></th>\n",
       "      <th></th>\n",
       "      <th></th>\n",
       "    </tr>\n",
       "  </thead>\n",
       "  <tbody>\n",
       "    <tr>\n",
       "      <td>0002-ORFBO</td>\n",
       "      <td>NaN</td>\n",
       "      <td>65.6</td>\n",
       "      <td>65.6</td>\n",
       "      <td>1.0</td>\n",
       "      <td>1.0</td>\n",
       "    </tr>\n",
       "    <tr>\n",
       "      <td>0003-MKNFE</td>\n",
       "      <td>NaN</td>\n",
       "      <td>59.9</td>\n",
       "      <td>59.9</td>\n",
       "      <td>1.0</td>\n",
       "      <td>1.0</td>\n",
       "    </tr>\n",
       "    <tr>\n",
       "      <td>0004-TLHLJ</td>\n",
       "      <td>73.9</td>\n",
       "      <td>NaN</td>\n",
       "      <td>73.9</td>\n",
       "      <td>1.0</td>\n",
       "      <td>1.0</td>\n",
       "    </tr>\n",
       "    <tr>\n",
       "      <td>0011-IGKFF</td>\n",
       "      <td>98.0</td>\n",
       "      <td>NaN</td>\n",
       "      <td>98.0</td>\n",
       "      <td>1.0</td>\n",
       "      <td>1.0</td>\n",
       "    </tr>\n",
       "    <tr>\n",
       "      <td>0013-EXCHZ</td>\n",
       "      <td>83.9</td>\n",
       "      <td>NaN</td>\n",
       "      <td>83.9</td>\n",
       "      <td>1.0</td>\n",
       "      <td>1.0</td>\n",
       "    </tr>\n",
       "  </tbody>\n",
       "</table>\n",
       "</div>"
      ],
      "text/plain": [
       "            no_client  is_client  sum_charges  inet  phone\n",
       "customerID                                                \n",
       "0002-ORFBO        NaN       65.6         65.6   1.0    1.0\n",
       "0003-MKNFE        NaN       59.9         59.9   1.0    1.0\n",
       "0004-TLHLJ       73.9        NaN         73.9   1.0    1.0\n",
       "0011-IGKFF       98.0        NaN         98.0   1.0    1.0\n",
       "0013-EXCHZ       83.9        NaN         83.9   1.0    1.0"
      ]
     },
     "execution_count": 23,
     "metadata": {},
     "output_type": "execute_result"
    }
   ],
   "source": [
    "# добавим в таблицу признаки наличия телефонных услуг и интернет-услуг\n",
    "\n",
    "df_monthly_charges = (\n",
    "    df_monthly_charges\n",
    "    .join(pd.Series(1, df['internet'].index, name='inet'))\n",
    "    .join(pd.Series(1, df['phone'].index, name='phone'))\n",
    ")\n",
    "df_monthly_charges.head()"
   ]
  },
  {
   "cell_type": "code",
   "execution_count": 24,
   "metadata": {
    "ExecuteTime": {
     "end_time": "2020-05-21T16:17:52.474034Z",
     "start_time": "2020-05-21T16:17:52.383513Z"
    }
   },
   "outputs": [],
   "source": [
    "df_monthly_charges['inet'] = df_monthly_charges['inet'].fillna(0).astype(int)\n",
    "df_monthly_charges['phone'] = df_monthly_charges['phone'].fillna(0).astype(int)"
   ]
  },
  {
   "cell_type": "code",
   "execution_count": 25,
   "metadata": {
    "ExecuteTime": {
     "end_time": "2020-05-21T16:17:53.261102Z",
     "start_time": "2020-05-21T16:17:52.476916Z"
    }
   },
   "outputs": [
    {
     "data": {
      "image/png": "[encoded data removed]",
      "text/plain": [
       "<Figure size 622.6x360 with 2 Axes>"
      ]
     },
     "metadata": {},
     "output_type": "display_data"
    }
   ],
   "source": [
    "df_monthly_charges = df_monthly_charges.join(df_all['client'])\n",
    "\n",
    "sns.set(style=\"whitegrid\")\n",
    "g = sns.catplot(x=\"client\", y=\"sum_charges\", col=\"phone\", hue='inet', \n",
    "                data=df_monthly_charges, \n",
    "                kind=\"strip\", height=5, aspect=0.8)\n",
    "g.set_axis_labels(\"\", \"MonthlyCharges\").set_xticklabels([\"не клиент\", \"клиент\"]);\n"
   ]
  },
  {
   "cell_type": "markdown",
   "metadata": {},
   "source": [
    "Разберем эту диаграмму.  \n",
    "\n",
    "В левой части обозначены клиенты и бывшие клиенты, которые не имеют/не имели телефонных услуг - только интернет услуги.  \n",
    "Эта категория клиентов оказалась с небольшими ежемесячными платами за услуги.  \n",
    "\n",
    "В правой части - это клиенты с имеющие/имевшие телефонные услуги. Их них очень не значительная часть не имеет интернет услуг. Особенно среди тех, кто перестал быть клиентом.  \n",
    "\n",
    "Напрашивается предварительный вывод - уходящие клиенты, в основном, не довольны либо стоимостью интернет услуг, либо их качеством.  \n",
    "\n",
    "Интересно посмотреть все в цифрах - количество, доли..."
   ]
  },
  {
   "cell_type": "code",
   "execution_count": 26,
   "metadata": {
    "ExecuteTime": {
     "end_time": "2020-05-21T16:17:53.372099Z",
     "start_time": "2020-05-21T16:17:53.263008Z"
    }
   },
   "outputs": [
    {
     "data": {
      "text/html": [
       "<div>\n",
       "<style scoped>\n",
       "    .dataframe tbody tr th:only-of-type {\n",
       "        vertical-align: middle;\n",
       "    }\n",
       "\n",
       "    .dataframe tbody tr th {\n",
       "        vertical-align: top;\n",
       "    }\n",
       "\n",
       "    .dataframe thead tr th {\n",
       "        text-align: left;\n",
       "    }\n",
       "\n",
       "    .dataframe thead tr:last-of-type th {\n",
       "        text-align: right;\n",
       "    }\n",
       "</style>\n",
       "<table border=\"1\" class=\"dataframe\">\n",
       "  <thead>\n",
       "    <tr>\n",
       "      <th></th>\n",
       "      <th></th>\n",
       "      <th colspan=\"3\" halign=\"left\">count</th>\n",
       "      <th colspan=\"3\" halign=\"left\">sum</th>\n",
       "    </tr>\n",
       "    <tr>\n",
       "      <th></th>\n",
       "      <th>inet</th>\n",
       "      <th>0</th>\n",
       "      <th>1</th>\n",
       "      <th>All</th>\n",
       "      <th>0</th>\n",
       "      <th>1</th>\n",
       "      <th>All</th>\n",
       "    </tr>\n",
       "    <tr>\n",
       "      <th>phone</th>\n",
       "      <th>client</th>\n",
       "      <th></th>\n",
       "      <th></th>\n",
       "      <th></th>\n",
       "      <th></th>\n",
       "      <th></th>\n",
       "      <th></th>\n",
       "    </tr>\n",
       "  </thead>\n",
       "  <tbody>\n",
       "    <tr>\n",
       "      <td rowspan=\"2\" valign=\"top\">0</td>\n",
       "      <td>0</td>\n",
       "      <td></td>\n",
       "      <td>170.0</td>\n",
       "      <td>170</td>\n",
       "      <td></td>\n",
       "      <td>6380.75</td>\n",
       "      <td>6380.75</td>\n",
       "    </tr>\n",
       "    <tr>\n",
       "      <td>1</td>\n",
       "      <td></td>\n",
       "      <td>512.0</td>\n",
       "      <td>512</td>\n",
       "      <td></td>\n",
       "      <td>22282.75</td>\n",
       "      <td>22282.75</td>\n",
       "    </tr>\n",
       "    <tr>\n",
       "      <td rowspan=\"2\" valign=\"top\">1</td>\n",
       "      <td>0</td>\n",
       "      <td>113</td>\n",
       "      <td>1586.0</td>\n",
       "      <td>1699</td>\n",
       "      <td>2301.6</td>\n",
       "      <td>130448.50</td>\n",
       "      <td>132750.10</td>\n",
       "    </tr>\n",
       "    <tr>\n",
       "      <td>1</td>\n",
       "      <td>1413</td>\n",
       "      <td>3249.0</td>\n",
       "      <td>4662</td>\n",
       "      <td>29865.3</td>\n",
       "      <td>264837.75</td>\n",
       "      <td>294703.00</td>\n",
       "    </tr>\n",
       "    <tr>\n",
       "      <td>All</td>\n",
       "      <td></td>\n",
       "      <td>1526</td>\n",
       "      <td>5517.0</td>\n",
       "      <td>7043</td>\n",
       "      <td>32166.8</td>\n",
       "      <td>423949.75</td>\n",
       "      <td>456116.60</td>\n",
       "    </tr>\n",
       "  </tbody>\n",
       "</table>\n",
       "</div>"
      ],
      "text/plain": [
       "             count                    sum                      \n",
       "inet             0       1   All        0          1        All\n",
       "phone client                                                   \n",
       "0     0              170.0   170             6380.75    6380.75\n",
       "      1              512.0   512            22282.75   22282.75\n",
       "1     0        113  1586.0  1699   2301.6  130448.50  132750.10\n",
       "      1       1413  3249.0  4662  29865.3  264837.75  294703.00\n",
       "All           1526  5517.0  7043  32166.8  423949.75  456116.60"
      ]
     },
     "execution_count": 26,
     "metadata": {},
     "output_type": "execute_result"
    }
   ],
   "source": [
    "df_monthly_charges.pivot_table(index=['phone', 'client'], columns='inet', values='sum_charges', \n",
    "                               aggfunc=['count', 'sum'], fill_value='', margins=True)"
   ]
  },
  {
   "cell_type": "markdown",
   "metadata": {},
   "source": [
    "Понятно, что если нет телефонных услуг и интернет-услуг, то эти поля будут пустые.  \n",
    "\n",
    "Далее, при отсутствии телефонных услуг, но с интернет-услугами оказалось 682 клиента. Из них 170 - бывших, или 25%. Сумма платежей таких клиентов составила 28 667 р., из них бывших клиентов - 6381 р. или 22%.  \n",
    "\n",
    "Теперь разберем тех, кто имел телефонные услуги, но ушел.  \n",
    "Всего таких 1699 чел. Их них только 113 не имели интернет-услуг (6,7% от ушедших). Т.е. подавляющее большинство уходящих - это интернет-пользователи. \n",
    "***"
   ]
  },
  {
   "cell_type": "markdown",
   "metadata": {},
   "source": [
    "## Анализ признаков с датами"
   ]
  },
  {
   "cell_type": "code",
   "execution_count": 27,
   "metadata": {
    "ExecuteTime": {
     "end_time": "2020-05-21T16:17:53.390246Z",
     "start_time": "2020-05-21T16:17:53.374138Z"
    }
   },
   "outputs": [
    {
     "data": {
      "text/html": [
       "<div>\n",
       "<style scoped>\n",
       "    .dataframe tbody tr th:only-of-type {\n",
       "        vertical-align: middle;\n",
       "    }\n",
       "\n",
       "    .dataframe tbody tr th {\n",
       "        vertical-align: top;\n",
       "    }\n",
       "\n",
       "    .dataframe thead th {\n",
       "        text-align: right;\n",
       "    }\n",
       "</style>\n",
       "<table border=\"1\" class=\"dataframe\">\n",
       "  <thead>\n",
       "    <tr style=\"text-align: right;\">\n",
       "      <th></th>\n",
       "      <th>BeginDate</th>\n",
       "      <th>EndDate</th>\n",
       "    </tr>\n",
       "  </thead>\n",
       "  <tbody>\n",
       "    <tr>\n",
       "      <td>count</td>\n",
       "      <td>7043</td>\n",
       "      <td>7043</td>\n",
       "    </tr>\n",
       "    <tr>\n",
       "      <td>unique</td>\n",
       "      <td>77</td>\n",
       "      <td>5</td>\n",
       "    </tr>\n",
       "    <tr>\n",
       "      <td>top</td>\n",
       "      <td>2014-02-01 00:00:00</td>\n",
       "      <td>2020-05-25 00:00:00</td>\n",
       "    </tr>\n",
       "    <tr>\n",
       "      <td>freq</td>\n",
       "      <td>366</td>\n",
       "      <td>5174</td>\n",
       "    </tr>\n",
       "    <tr>\n",
       "      <td>first</td>\n",
       "      <td>2013-10-01 00:00:00</td>\n",
       "      <td>2019-10-01 00:00:00</td>\n",
       "    </tr>\n",
       "    <tr>\n",
       "      <td>last</td>\n",
       "      <td>2020-02-01 00:00:00</td>\n",
       "      <td>2020-05-25 00:00:00</td>\n",
       "    </tr>\n",
       "  </tbody>\n",
       "</table>\n",
       "</div>"
      ],
      "text/plain": [
       "                  BeginDate              EndDate\n",
       "count                  7043                 7043\n",
       "unique                   77                    5\n",
       "top     2014-02-01 00:00:00  2020-05-25 00:00:00\n",
       "freq                    366                 5174\n",
       "first   2013-10-01 00:00:00  2019-10-01 00:00:00\n",
       "last    2020-02-01 00:00:00  2020-05-25 00:00:00"
      ]
     },
     "execution_count": 27,
     "metadata": {},
     "output_type": "execute_result"
    }
   ],
   "source": [
    "df_all.describe(include='datetime')"
   ]
  },
  {
   "cell_type": "markdown",
   "metadata": {
    "ExecuteTime": {
     "end_time": "2020-05-21T06:13:56.835048Z",
     "start_time": "2020-05-21T06:13:56.827644Z"
    }
   },
   "source": [
    "В целом, на мой взляд, **признак BeginDate является важным признаком**.   \n",
    "Ведь в какой-то год может быть больше привлеченных клиентов, а в какой-то - меньше. Это может произойти,например, из-за кризиса в стране или не удачной тарифной или рекламной политики в этот период.   \n",
    "\n",
    "Но конкретно в этой задаче для прогнозирования оттока клиентов год, когда клиент заключил договор, не играет роли.\n",
    "Поэтому можем эту дату удалить.\n",
    "\n",
    "Признак EndDate тоже не является важным. Его роль - создание признака длительности контракта  period. Ну и в нашем случае еще при создании целевого признака client.\n",
    "Поэтому его тоже смело можно удалить.  "
   ]
  },
  {
   "cell_type": "code",
   "execution_count": 28,
   "metadata": {
    "ExecuteTime": {
     "end_time": "2020-05-21T16:17:53.470442Z",
     "start_time": "2020-05-21T16:17:53.392079Z"
    }
   },
   "outputs": [],
   "source": [
    "df_all = df_all.drop(['BeginDate', 'EndDate'], axis=1)"
   ]
  },
  {
   "cell_type": "markdown",
   "metadata": {},
   "source": [
    "***"
   ]
  },
  {
   "cell_type": "markdown",
   "metadata": {},
   "source": [
    "## Анализ не числовых признаков"
   ]
  },
  {
   "cell_type": "code",
   "execution_count": 30,
   "metadata": {
    "ExecuteTime": {
     "end_time": "2020-05-21T16:17:53.704391Z",
     "start_time": "2020-05-21T16:17:53.592445Z"
    }
   },
   "outputs": [
    {
     "data": {
      "text/html": [
       "<div>\n",
       "<style scoped>\n",
       "    .dataframe tbody tr th:only-of-type {\n",
       "        vertical-align: middle;\n",
       "    }\n",
       "\n",
       "    .dataframe tbody tr th {\n",
       "        vertical-align: top;\n",
       "    }\n",
       "\n",
       "    .dataframe thead th {\n",
       "        text-align: right;\n",
       "    }\n",
       "</style>\n",
       "<table border=\"1\" class=\"dataframe\">\n",
       "  <thead>\n",
       "    <tr style=\"text-align: right;\">\n",
       "      <th></th>\n",
       "      <th>Type</th>\n",
       "      <th>PaymentMethod</th>\n",
       "      <th>TotalCharges</th>\n",
       "      <th>InternetService</th>\n",
       "    </tr>\n",
       "  </thead>\n",
       "  <tbody>\n",
       "    <tr>\n",
       "      <td>count</td>\n",
       "      <td>7043</td>\n",
       "      <td>7043</td>\n",
       "      <td>7043</td>\n",
       "      <td>7043</td>\n",
       "    </tr>\n",
       "    <tr>\n",
       "      <td>unique</td>\n",
       "      <td>3</td>\n",
       "      <td>4</td>\n",
       "      <td>6531</td>\n",
       "      <td>3</td>\n",
       "    </tr>\n",
       "    <tr>\n",
       "      <td>top</td>\n",
       "      <td>Month-to-month</td>\n",
       "      <td>Electronic check</td>\n",
       "      <td>20.2</td>\n",
       "      <td>Fiber optic</td>\n",
       "    </tr>\n",
       "    <tr>\n",
       "      <td>freq</td>\n",
       "      <td>3875</td>\n",
       "      <td>2365</td>\n",
       "      <td>11</td>\n",
       "      <td>3096</td>\n",
       "    </tr>\n",
       "  </tbody>\n",
       "</table>\n",
       "</div>"
      ],
      "text/plain": [
       "                  Type     PaymentMethod TotalCharges InternetService\n",
       "count             7043              7043         7043            7043\n",
       "unique               3                 4         6531               3\n",
       "top     Month-to-month  Electronic check         20.2     Fiber optic\n",
       "freq              3875              2365           11            3096"
      ]
     },
     "execution_count": 30,
     "metadata": {},
     "output_type": "execute_result"
    }
   ],
   "source": [
    "df_all.describe(include='object')"
   ]
  },
  {
   "cell_type": "code",
   "execution_count": 31,
   "metadata": {
    "ExecuteTime": {
     "end_time": "2020-05-21T16:17:53.792763Z",
     "start_time": "2020-05-21T16:17:53.706331Z"
    }
   },
   "outputs": [
    {
     "name": "stdout",
     "output_type": "stream",
     "text": [
      "isna: 0\n",
      "empty: 0\n",
      "space: 11\n"
     ]
    }
   ],
   "source": [
    "# анализ поля TotalCharges\n",
    "print('isna:', (df_all['TotalCharges'].isna()).sum())\n",
    "print('empty:', (df_all['TotalCharges'] == '').sum())\n",
    "print('space:', (df_all['TotalCharges'] == ' ').sum())"
   ]
  },
  {
   "cell_type": "code",
   "execution_count": 55,
   "metadata": {
    "ExecuteTime": {
     "end_time": "2020-05-21T16:17:53.907914Z",
     "start_time": "2020-05-21T16:17:53.799205Z"
    }
   },
   "outputs": [
    {
     "data": {
      "text/html": [
       "<div>\n",
       "<style scoped>\n",
       "    .dataframe tbody tr th:only-of-type {\n",
       "        vertical-align: middle;\n",
       "    }\n",
       "\n",
       "    .dataframe tbody tr th {\n",
       "        vertical-align: top;\n",
       "    }\n",
       "\n",
       "    .dataframe thead th {\n",
       "        text-align: right;\n",
       "    }\n",
       "</style>\n",
       "<table border=\"1\" class=\"dataframe\">\n",
       "  <thead>\n",
       "    <tr style=\"text-align: right;\">\n",
       "      <th></th>\n",
       "      <th>BeginDate</th>\n",
       "      <th>EndDate</th>\n",
       "      <th>Type</th>\n",
       "      <th>PaperlessBilling</th>\n",
       "      <th>PaymentMethod</th>\n",
       "      <th>MonthlyCharges</th>\n",
       "      <th>TotalCharges</th>\n",
       "    </tr>\n",
       "    <tr>\n",
       "      <th>customerID</th>\n",
       "      <th></th>\n",
       "      <th></th>\n",
       "      <th></th>\n",
       "      <th></th>\n",
       "      <th></th>\n",
       "      <th></th>\n",
       "      <th></th>\n",
       "    </tr>\n",
       "  </thead>\n",
       "  <tbody>\n",
       "    <tr>\n",
       "      <td>4472-LVYGI</td>\n",
       "      <td>2020-02-01</td>\n",
       "      <td>No</td>\n",
       "      <td>Two year</td>\n",
       "      <td>Yes</td>\n",
       "      <td>Bank transfer (automatic)</td>\n",
       "      <td>52.55</td>\n",
       "      <td></td>\n",
       "    </tr>\n",
       "    <tr>\n",
       "      <td>3115-CZMZD</td>\n",
       "      <td>2020-02-01</td>\n",
       "      <td>No</td>\n",
       "      <td>Two year</td>\n",
       "      <td>No</td>\n",
       "      <td>Mailed check</td>\n",
       "      <td>20.25</td>\n",
       "      <td></td>\n",
       "    </tr>\n",
       "    <tr>\n",
       "      <td>5709-LVOEQ</td>\n",
       "      <td>2020-02-01</td>\n",
       "      <td>No</td>\n",
       "      <td>Two year</td>\n",
       "      <td>No</td>\n",
       "      <td>Mailed check</td>\n",
       "      <td>80.85</td>\n",
       "      <td></td>\n",
       "    </tr>\n",
       "    <tr>\n",
       "      <td>4367-NUYAO</td>\n",
       "      <td>2020-02-01</td>\n",
       "      <td>No</td>\n",
       "      <td>Two year</td>\n",
       "      <td>No</td>\n",
       "      <td>Mailed check</td>\n",
       "      <td>25.75</td>\n",
       "      <td></td>\n",
       "    </tr>\n",
       "    <tr>\n",
       "      <td>1371-DWPAZ</td>\n",
       "      <td>2020-02-01</td>\n",
       "      <td>No</td>\n",
       "      <td>Two year</td>\n",
       "      <td>No</td>\n",
       "      <td>Credit card (automatic)</td>\n",
       "      <td>56.05</td>\n",
       "      <td></td>\n",
       "    </tr>\n",
       "  </tbody>\n",
       "</table>\n",
       "</div>"
      ],
      "text/plain": [
       "             BeginDate EndDate      Type PaperlessBilling  \\\n",
       "customerID                                                  \n",
       "4472-LVYGI  2020-02-01      No  Two year              Yes   \n",
       "3115-CZMZD  2020-02-01      No  Two year               No   \n",
       "5709-LVOEQ  2020-02-01      No  Two year               No   \n",
       "4367-NUYAO  2020-02-01      No  Two year               No   \n",
       "1371-DWPAZ  2020-02-01      No  Two year               No   \n",
       "\n",
       "                        PaymentMethod  MonthlyCharges TotalCharges  \n",
       "customerID                                                          \n",
       "4472-LVYGI  Bank transfer (automatic)           52.55               \n",
       "3115-CZMZD               Mailed check           20.25               \n",
       "5709-LVOEQ               Mailed check           80.85               \n",
       "4367-NUYAO               Mailed check           25.75               \n",
       "1371-DWPAZ    Credit card (automatic)           56.05               "
      ]
     },
     "execution_count": 55,
     "metadata": {},
     "output_type": "execute_result"
    }
   ],
   "source": [
    "empties = df['contract'][df['contract']['TotalCharges'] == ' ']\n",
    "empties.head()"
   ]
  },
  {
   "cell_type": "code",
   "execution_count": 33,
   "metadata": {},
   "outputs": [
    {
     "data": {
      "text/plain": [
       "BeginDate           11\n",
       "EndDate              0\n",
       "Type                 0\n",
       "PaperlessBilling     0\n",
       "PaymentMethod        0\n",
       "MonthlyCharges       0\n",
       "TotalCharges         0\n",
       "dtype: int64"
      ]
     },
     "execution_count": 33,
     "metadata": {},
     "output_type": "execute_result"
    }
   ],
   "source": [
    "(df['contract'] == '2020-02-01').sum()"
   ]
  },
  {
   "cell_type": "markdown",
   "metadata": {},
   "source": [
    "В признаке TotalCharges закрались 11 пустых значений.  \n",
    "Все эти случаи относятся к договорам, открытым 01.02.2020 г. - т.е. на дату актуализации данных. Это новые клиенты, которые еще не успели провести какие-либо оплаты по договору.  \n",
    "\n",
    "Для дальнейшего анализа эти случаи не актуальны и их можно удалить.\n"
   ]
  },
  {
   "cell_type": "code",
   "execution_count": 34,
   "metadata": {
    "ExecuteTime": {
     "end_time": "2020-05-21T16:17:54.072183Z",
     "start_time": "2020-05-21T16:17:53.989550Z"
    }
   },
   "outputs": [],
   "source": [
    "df_all = df_all.drop(index=empties.index)"
   ]
  },
  {
   "cell_type": "code",
   "execution_count": 35,
   "metadata": {
    "ExecuteTime": {
     "end_time": "2020-05-21T16:17:54.166337Z",
     "start_time": "2020-05-21T16:17:54.141418Z"
    }
   },
   "outputs": [
    {
     "name": "stdout",
     "output_type": "stream",
     "text": [
      "<class 'pandas.core.frame.DataFrame'>\n",
      "Index: 7032 entries, 0002-ORFBO to 9995-HOTOH\n",
      "Data columns (total 19 columns):\n",
      "Type                7032 non-null object\n",
      "PaperlessBilling    7032 non-null int64\n",
      "PaymentMethod       7032 non-null object\n",
      "MonthlyCharges      7032 non-null float64\n",
      "TotalCharges        7032 non-null float64\n",
      "gender              7032 non-null int64\n",
      "SeniorCitizen       7032 non-null int64\n",
      "Partner             7032 non-null int64\n",
      "Dependents          7032 non-null int64\n",
      "MultipleLines       7032 non-null int64\n",
      "InternetService     7032 non-null object\n",
      "OnlineSecurity      7032 non-null int64\n",
      "OnlineBackup        7032 non-null int64\n",
      "DeviceProtection    7032 non-null int64\n",
      "TechSupport         7032 non-null int64\n",
      "StreamingTV         7032 non-null int64\n",
      "StreamingMovies     7032 non-null int64\n",
      "client              7032 non-null int64\n",
      "period              7032 non-null int64\n",
      "dtypes: float64(2), int64(14), object(3)\n",
      "memory usage: 1.1+ MB\n"
     ]
    }
   ],
   "source": [
    "df_all['TotalCharges'] = df_all['TotalCharges'].astype(float)\n",
    "df_all.info()"
   ]
  },
  {
   "cell_type": "code",
   "execution_count": 36,
   "metadata": {
    "ExecuteTime": {
     "end_time": "2020-05-21T16:17:54.239219Z",
     "start_time": "2020-05-21T16:17:54.168116Z"
    }
   },
   "outputs": [
    {
     "data": {
      "text/plain": [
       "['Type', 'PaymentMethod', 'InternetService']"
      ]
     },
     "execution_count": 36,
     "metadata": {},
     "output_type": "execute_result"
    }
   ],
   "source": [
    "object_fields = df_all.dtypes[df_all.dtypes == 'object'].index.tolist()\n",
    "object_fields"
   ]
  },
  {
   "cell_type": "markdown",
   "metadata": {},
   "source": [
    "Таким образом, не числовых полей осталось 3 штуки.  \n",
    "Далее к ним будут применены общепринятые кодировки.\n",
    "***"
   ]
  },
  {
   "cell_type": "markdown",
   "metadata": {},
   "source": [
    "***\n",
    "### Трансформация не числовых признаков. Разбивка данных на тренировочные и валидационные"
   ]
  },
  {
   "cell_type": "code",
   "execution_count": 37,
   "metadata": {
    "ExecuteTime": {
     "end_time": "2020-05-21T16:17:54.351521Z",
     "start_time": "2020-05-21T16:17:54.241337Z"
    }
   },
   "outputs": [
    {
     "data": {
      "text/html": [
       "<div>\n",
       "<style scoped>\n",
       "    .dataframe tbody tr th:only-of-type {\n",
       "        vertical-align: middle;\n",
       "    }\n",
       "\n",
       "    .dataframe tbody tr th {\n",
       "        vertical-align: top;\n",
       "    }\n",
       "\n",
       "    .dataframe thead th {\n",
       "        text-align: right;\n",
       "    }\n",
       "</style>\n",
       "<table border=\"1\" class=\"dataframe\">\n",
       "  <thead>\n",
       "    <tr style=\"text-align: right;\">\n",
       "      <th></th>\n",
       "      <th>PaperlessBilling</th>\n",
       "      <th>MonthlyCharges</th>\n",
       "      <th>TotalCharges</th>\n",
       "      <th>gender</th>\n",
       "      <th>SeniorCitizen</th>\n",
       "      <th>Partner</th>\n",
       "      <th>Dependents</th>\n",
       "      <th>MultipleLines</th>\n",
       "      <th>OnlineSecurity</th>\n",
       "      <th>OnlineBackup</th>\n",
       "      <th>...</th>\n",
       "      <th>StreamingMovies</th>\n",
       "      <th>client</th>\n",
       "      <th>period</th>\n",
       "      <th>Type_One year</th>\n",
       "      <th>Type_Two year</th>\n",
       "      <th>PaymentMethod_Credit card (automatic)</th>\n",
       "      <th>PaymentMethod_Electronic check</th>\n",
       "      <th>PaymentMethod_Mailed check</th>\n",
       "      <th>InternetService_DSL</th>\n",
       "      <th>InternetService_Fiber optic</th>\n",
       "    </tr>\n",
       "    <tr>\n",
       "      <th>customerID</th>\n",
       "      <th></th>\n",
       "      <th></th>\n",
       "      <th></th>\n",
       "      <th></th>\n",
       "      <th></th>\n",
       "      <th></th>\n",
       "      <th></th>\n",
       "      <th></th>\n",
       "      <th></th>\n",
       "      <th></th>\n",
       "      <th></th>\n",
       "      <th></th>\n",
       "      <th></th>\n",
       "      <th></th>\n",
       "      <th></th>\n",
       "      <th></th>\n",
       "      <th></th>\n",
       "      <th></th>\n",
       "      <th></th>\n",
       "      <th></th>\n",
       "      <th></th>\n",
       "    </tr>\n",
       "  </thead>\n",
       "  <tbody>\n",
       "    <tr>\n",
       "      <td>0002-ORFBO</td>\n",
       "      <td>1</td>\n",
       "      <td>65.6</td>\n",
       "      <td>593.30</td>\n",
       "      <td>0</td>\n",
       "      <td>0</td>\n",
       "      <td>1</td>\n",
       "      <td>1</td>\n",
       "      <td>0</td>\n",
       "      <td>0</td>\n",
       "      <td>1</td>\n",
       "      <td>...</td>\n",
       "      <td>0</td>\n",
       "      <td>1</td>\n",
       "      <td>390</td>\n",
       "      <td>1</td>\n",
       "      <td>0</td>\n",
       "      <td>0</td>\n",
       "      <td>0</td>\n",
       "      <td>1</td>\n",
       "      <td>1</td>\n",
       "      <td>0</td>\n",
       "    </tr>\n",
       "    <tr>\n",
       "      <td>0003-MKNFE</td>\n",
       "      <td>0</td>\n",
       "      <td>59.9</td>\n",
       "      <td>542.40</td>\n",
       "      <td>1</td>\n",
       "      <td>0</td>\n",
       "      <td>0</td>\n",
       "      <td>0</td>\n",
       "      <td>1</td>\n",
       "      <td>0</td>\n",
       "      <td>0</td>\n",
       "      <td>...</td>\n",
       "      <td>1</td>\n",
       "      <td>1</td>\n",
       "      <td>390</td>\n",
       "      <td>0</td>\n",
       "      <td>0</td>\n",
       "      <td>0</td>\n",
       "      <td>0</td>\n",
       "      <td>1</td>\n",
       "      <td>1</td>\n",
       "      <td>0</td>\n",
       "    </tr>\n",
       "    <tr>\n",
       "      <td>0004-TLHLJ</td>\n",
       "      <td>1</td>\n",
       "      <td>73.9</td>\n",
       "      <td>280.85</td>\n",
       "      <td>1</td>\n",
       "      <td>0</td>\n",
       "      <td>0</td>\n",
       "      <td>0</td>\n",
       "      <td>0</td>\n",
       "      <td>0</td>\n",
       "      <td>0</td>\n",
       "      <td>...</td>\n",
       "      <td>0</td>\n",
       "      <td>0</td>\n",
       "      <td>122</td>\n",
       "      <td>0</td>\n",
       "      <td>0</td>\n",
       "      <td>0</td>\n",
       "      <td>1</td>\n",
       "      <td>0</td>\n",
       "      <td>0</td>\n",
       "      <td>1</td>\n",
       "    </tr>\n",
       "    <tr>\n",
       "      <td>0011-IGKFF</td>\n",
       "      <td>1</td>\n",
       "      <td>98.0</td>\n",
       "      <td>1237.85</td>\n",
       "      <td>1</td>\n",
       "      <td>1</td>\n",
       "      <td>1</td>\n",
       "      <td>0</td>\n",
       "      <td>0</td>\n",
       "      <td>0</td>\n",
       "      <td>1</td>\n",
       "      <td>...</td>\n",
       "      <td>1</td>\n",
       "      <td>0</td>\n",
       "      <td>396</td>\n",
       "      <td>0</td>\n",
       "      <td>0</td>\n",
       "      <td>0</td>\n",
       "      <td>1</td>\n",
       "      <td>0</td>\n",
       "      <td>0</td>\n",
       "      <td>1</td>\n",
       "    </tr>\n",
       "    <tr>\n",
       "      <td>0013-EXCHZ</td>\n",
       "      <td>1</td>\n",
       "      <td>83.9</td>\n",
       "      <td>267.40</td>\n",
       "      <td>0</td>\n",
       "      <td>1</td>\n",
       "      <td>1</td>\n",
       "      <td>0</td>\n",
       "      <td>0</td>\n",
       "      <td>0</td>\n",
       "      <td>0</td>\n",
       "      <td>...</td>\n",
       "      <td>0</td>\n",
       "      <td>0</td>\n",
       "      <td>91</td>\n",
       "      <td>0</td>\n",
       "      <td>0</td>\n",
       "      <td>0</td>\n",
       "      <td>0</td>\n",
       "      <td>1</td>\n",
       "      <td>0</td>\n",
       "      <td>1</td>\n",
       "    </tr>\n",
       "  </tbody>\n",
       "</table>\n",
       "<p>5 rows × 23 columns</p>\n",
       "</div>"
      ],
      "text/plain": [
       "            PaperlessBilling  MonthlyCharges  TotalCharges  gender  \\\n",
       "customerID                                                           \n",
       "0002-ORFBO                 1            65.6        593.30       0   \n",
       "0003-MKNFE                 0            59.9        542.40       1   \n",
       "0004-TLHLJ                 1            73.9        280.85       1   \n",
       "0011-IGKFF                 1            98.0       1237.85       1   \n",
       "0013-EXCHZ                 1            83.9        267.40       0   \n",
       "\n",
       "            SeniorCitizen  Partner  Dependents  MultipleLines  OnlineSecurity  \\\n",
       "customerID                                                                      \n",
       "0002-ORFBO              0        1           1              0               0   \n",
       "0003-MKNFE              0        0           0              1               0   \n",
       "0004-TLHLJ              0        0           0              0               0   \n",
       "0011-IGKFF              1        1           0              0               0   \n",
       "0013-EXCHZ              1        1           0              0               0   \n",
       "\n",
       "            OnlineBackup  ...  StreamingMovies  client  period  Type_One year  \\\n",
       "customerID                ...                                                   \n",
       "0002-ORFBO             1  ...                0       1     390              1   \n",
       "0003-MKNFE             0  ...                1       1     390              0   \n",
       "0004-TLHLJ             0  ...                0       0     122              0   \n",
       "0011-IGKFF             1  ...                1       0     396              0   \n",
       "0013-EXCHZ             0  ...                0       0      91              0   \n",
       "\n",
       "            Type_Two year  PaymentMethod_Credit card (automatic)  \\\n",
       "customerID                                                         \n",
       "0002-ORFBO              0                                      0   \n",
       "0003-MKNFE              0                                      0   \n",
       "0004-TLHLJ              0                                      0   \n",
       "0011-IGKFF              0                                      0   \n",
       "0013-EXCHZ              0                                      0   \n",
       "\n",
       "            PaymentMethod_Electronic check  PaymentMethod_Mailed check  \\\n",
       "customerID                                                               \n",
       "0002-ORFBO                               0                           1   \n",
       "0003-MKNFE                               0                           1   \n",
       "0004-TLHLJ                               1                           0   \n",
       "0011-IGKFF                               1                           0   \n",
       "0013-EXCHZ                               0                           1   \n",
       "\n",
       "            InternetService_DSL  InternetService_Fiber optic  \n",
       "customerID                                                    \n",
       "0002-ORFBO                    1                            0  \n",
       "0003-MKNFE                    1                            0  \n",
       "0004-TLHLJ                    0                            1  \n",
       "0011-IGKFF                    0                            1  \n",
       "0013-EXCHZ                    0                            1  \n",
       "\n",
       "[5 rows x 23 columns]"
      ]
     },
     "execution_count": 37,
     "metadata": {},
     "output_type": "execute_result"
    }
   ],
   "source": [
    "df_ohe = pd.get_dummies(df_all, drop_first=True)\n",
    "df_ohe.head()"
   ]
  },
  {
   "cell_type": "code",
   "execution_count": 38,
   "metadata": {
    "ExecuteTime": {
     "end_time": "2020-05-21T16:17:54.440651Z",
     "start_time": "2020-05-21T16:17:54.353405Z"
    }
   },
   "outputs": [],
   "source": [
    "target = df_ohe['client']\n",
    "features = df_ohe.drop('client', axis=1)"
   ]
  },
  {
   "cell_type": "code",
   "execution_count": 39,
   "metadata": {
    "ExecuteTime": {
     "end_time": "2020-05-21T16:17:54.518833Z",
     "start_time": "2020-05-21T16:17:54.442744Z"
    }
   },
   "outputs": [],
   "source": [
    "RND_STATE = 2112\n"
   ]
  },
  {
   "cell_type": "code",
   "execution_count": 40,
   "metadata": {
    "ExecuteTime": {
     "end_time": "2020-05-21T16:17:54.605986Z",
     "start_time": "2020-05-21T16:17:54.520654Z"
    }
   },
   "outputs": [
    {
     "name": "stdout",
     "output_type": "stream",
     "text": [
      "1    2320\n",
      "0    1408\n",
      "Name: client, dtype: int64\n"
     ]
    }
   ],
   "source": [
    "# для борьбы с дисбаласом создана функция downsample, уменьшающая более многочисленный класс\n",
    "\n",
    "x_train, x_valid, y_train, y_valid = train_test_split(features, target, \n",
    "                                                      test_size=0.25, \n",
    "                                                      random_state=RND_STATE)\n",
    "\n",
    "def downsample(features, target, fraction):\n",
    "    from sklearn.utils import shuffle\n",
    "\n",
    "    features_zeros = features[target == 0]\n",
    "    features_ones = features[target == 1]\n",
    "    target_zeros = target[target == 0]\n",
    "    target_ones = target[target == 1]\n",
    "\n",
    "    features_downsampled = pd.concat(\n",
    "        [features_ones.sample(frac=fraction, random_state=RND_STATE)] + [features_zeros])\n",
    "    target_downsampled = pd.concat(\n",
    "        [target_ones.sample(frac=fraction, random_state=RND_STATE)] + [target_zeros])\n",
    "    \n",
    "    features_downsampled, target_downsampled = shuffle(\n",
    "        features_downsampled, target_downsampled, random_state=RND_STATE)\n",
    "    \n",
    "    return features_downsampled, target_downsampled\n",
    "\n",
    "x_train, y_train = downsample(x_train, y_train, 0.6)\n",
    "print(y_train.value_counts())\n"
   ]
  },
  {
   "cell_type": "markdown",
   "metadata": {},
   "source": [
    "***\n",
    "\n",
    "# Модели"
   ]
  },
  {
   "cell_type": "code",
   "execution_count": 41,
   "metadata": {
    "ExecuteTime": {
     "end_time": "2020-05-21T16:19:09.941182Z",
     "start_time": "2020-05-21T16:19:09.934461Z"
    }
   },
   "outputs": [],
   "source": [
    "cv = TimeSeriesSplit(4)\n",
    "best_models = dict(best_model=[], roc_auc=[], accuracy=[], recall=[], precision=[])\n",
    "\n",
    "\n",
    "def run_model(pipe, params):\n",
    "    model = GridSearchCV(pipe, params, scoring='roc_auc', \n",
    "                         verbose=1, cv=cv, n_jobs=-1)\n",
    "    model.fit(x_train, y_train)\n",
    "\n",
    "    predicted_valid = model.predict(x_valid)\n",
    "    rocauc_valid = roc_auc_score(y_valid, predicted_valid)\n",
    "    accuracy_valid = accuracy_score(y_valid, predicted_valid)\n",
    "    recall_valid = recall_score(y_valid, predicted_valid)\n",
    "    precision_valid = precision_score(y_valid, predicted_valid)\n",
    "    print('roc_auc: {: >10.6f}'.format(rocauc_valid))\n",
    "    print('accuracy: {: >9.6f}'.format(accuracy_valid))\n",
    "    print('recall: {: >11.6f}'.format(recall_valid))\n",
    "    print('precision: {: >8.6f}'.format(precision_valid))\n",
    "    \n",
    "    best_models['best_model'].append(model.best_params_['estimator'])\n",
    "    best_models['roc_auc'].append(rocauc_valid)\n",
    "    best_models['accuracy'].append(accuracy_valid)\n",
    "    best_models['recall'].append(recall_valid)\n",
    "    best_models['precision'].append(precision_valid)"
   ]
  },
  {
   "cell_type": "markdown",
   "metadata": {},
   "source": [
    "### LogisticRegression"
   ]
  },
  {
   "cell_type": "code",
   "execution_count": 42,
   "metadata": {
    "ExecuteTime": {
     "end_time": "2020-05-21T16:19:14.000924Z",
     "start_time": "2020-05-21T16:19:11.918219Z"
    }
   },
   "outputs": [
    {
     "name": "stdout",
     "output_type": "stream",
     "text": [
      "Fitting 4 folds for each of 16 candidates, totalling 64 fits\n"
     ]
    },
    {
     "name": "stderr",
     "output_type": "stream",
     "text": [
      "[Parallel(n_jobs=-1)]: Using backend SequentialBackend with 1 concurrent workers.\n"
     ]
    },
    {
     "name": "stdout",
     "output_type": "stream",
     "text": [
      "roc_auc:   0.816654\n",
      "accuracy:  0.836746\n",
      "recall:    0.858905\n",
      "precision: 0.914614\n"
     ]
    },
    {
     "name": "stderr",
     "output_type": "stream",
     "text": [
      "[Parallel(n_jobs=-1)]: Done  64 out of  64 | elapsed:   12.0s finished\n"
     ]
    }
   ],
   "source": [
    "pipe = Pipeline([('estimator', LogisticRegression())])\n",
    "params_grid = [\n",
    "    {\n",
    "        'estimator': [LogisticRegression(random_state=RND_STATE, solver='liblinear')],\n",
    "        'estimator__max_iter': [100, 500],\n",
    "        'estimator__C': [0.05, 0.1, 0.5, 1],\n",
    "        'estimator__class_weight': ['balanced', None],\n",
    "    },\n",
    "]\n",
    "\n",
    "run_model(pipe, params_grid)"
   ]
  },
  {
   "cell_type": "markdown",
   "metadata": {},
   "source": [
    "### RandomForestClassifier"
   ]
  },
  {
   "cell_type": "code",
   "execution_count": 43,
   "metadata": {
    "ExecuteTime": {
     "end_time": "2020-05-21T16:20:35.774311Z",
     "start_time": "2020-05-21T16:19:16.688776Z"
    }
   },
   "outputs": [
    {
     "name": "stdout",
     "output_type": "stream",
     "text": [
      "Fitting 4 folds for each of 180 candidates, totalling 720 fits\n"
     ]
    },
    {
     "name": "stderr",
     "output_type": "stream",
     "text": [
      "[Parallel(n_jobs=-1)]: Using backend SequentialBackend with 1 concurrent workers.\n",
      "[Parallel(n_jobs=-1)]: Done 720 out of 720 | elapsed:  5.2min finished\n"
     ]
    },
    {
     "name": "stdout",
     "output_type": "stream",
     "text": [
      "roc_auc:   0.814172\n",
      "accuracy:  0.836177\n",
      "recall:    0.860447\n",
      "precision: 0.912510\n"
     ]
    }
   ],
   "source": [
    "pipe = Pipeline([('estimator', RandomForestClassifier())])\n",
    "params_grid = [\n",
    "    {\n",
    "        'estimator': [RandomForestClassifier(random_state=RND_STATE)],\n",
    "        'estimator__max_depth': range(3, 20, 4),\n",
    "        'estimator__n_estimators': [50, 100, 300],\n",
    "        'estimator__min_samples_leaf': range(2, 13, 2),\n",
    "        'estimator__class_weight': ['balanced', None],\n",
    "    },\n",
    "]\n",
    "\n",
    "run_model(pipe, params_grid)"
   ]
  },
  {
   "cell_type": "markdown",
   "metadata": {},
   "source": [
    "### BaggingClassifier"
   ]
  },
  {
   "cell_type": "code",
   "execution_count": 44,
   "metadata": {
    "ExecuteTime": {
     "end_time": "2020-05-21T16:20:46.216173Z",
     "start_time": "2020-05-21T16:20:37.595232Z"
    }
   },
   "outputs": [
    {
     "name": "stdout",
     "output_type": "stream",
     "text": [
      "Fitting 4 folds for each of 18 candidates, totalling 72 fits\n"
     ]
    },
    {
     "name": "stderr",
     "output_type": "stream",
     "text": [
      "[Parallel(n_jobs=-1)]: Using backend SequentialBackend with 1 concurrent workers.\n",
      "[Parallel(n_jobs=-1)]: Done  72 out of  72 | elapsed:   22.3s finished\n"
     ]
    },
    {
     "name": "stdout",
     "output_type": "stream",
     "text": [
      "roc_auc:   0.895884\n",
      "accuracy:  0.928896\n",
      "recall:    0.965305\n",
      "precision: 0.939940\n"
     ]
    }
   ],
   "source": [
    "pipe = Pipeline([('estimator', BaggingClassifier())])\n",
    "params_grid = [\n",
    "    {\n",
    "        'estimator': [BaggingClassifier(random_state=RND_STATE)],\n",
    "        'estimator__n_estimators': [10, 50, 100],\n",
    "        'estimator__max_samples': [0.5, 1.],\n",
    "        'estimator__max_features': [0.8, 0.9, 1.],\n",
    "    },\n",
    "]\n",
    "\n",
    "run_model(pipe, params_grid)"
   ]
  },
  {
   "cell_type": "markdown",
   "metadata": {},
   "source": [
    "### AdaBoostClassifier"
   ]
  },
  {
   "cell_type": "code",
   "execution_count": 45,
   "metadata": {
    "ExecuteTime": {
     "end_time": "2020-05-21T16:20:55.377865Z",
     "start_time": "2020-05-21T16:20:48.042308Z"
    }
   },
   "outputs": [
    {
     "name": "stdout",
     "output_type": "stream",
     "text": [
      "Fitting 4 folds for each of 9 candidates, totalling 36 fits\n"
     ]
    },
    {
     "name": "stderr",
     "output_type": "stream",
     "text": [
      "[Parallel(n_jobs=-1)]: Using backend SequentialBackend with 1 concurrent workers.\n",
      "[Parallel(n_jobs=-1)]: Done  36 out of  36 | elapsed:   15.1s finished\n"
     ]
    },
    {
     "name": "stdout",
     "output_type": "stream",
     "text": [
      "roc_auc:   0.898393\n",
      "accuracy:  0.924346\n",
      "recall:    0.952968\n",
      "precision: 0.944954\n"
     ]
    }
   ],
   "source": [
    "pipe = Pipeline([('estimator', AdaBoostClassifier())])\n",
    "params_grid = [\n",
    "    {\n",
    "        'estimator': [AdaBoostClassifier(random_state=RND_STATE)],\n",
    "        'estimator__learning_rate': [1, 0.5, 0.1],\n",
    "        'estimator__n_estimators': [50, 100, 200],\n",
    "    },\n",
    "]\n",
    "\n",
    "run_model(pipe, params_grid)"
   ]
  },
  {
   "cell_type": "markdown",
   "metadata": {},
   "source": [
    "### KNeighborsClassifier"
   ]
  },
  {
   "cell_type": "code",
   "execution_count": 46,
   "metadata": {
    "ExecuteTime": {
     "end_time": "2020-05-21T16:20:59.166857Z",
     "start_time": "2020-05-21T16:20:57.266816Z"
    }
   },
   "outputs": [
    {
     "name": "stdout",
     "output_type": "stream",
     "text": [
      "Fitting 4 folds for each of 18 candidates, totalling 72 fits\n"
     ]
    },
    {
     "name": "stderr",
     "output_type": "stream",
     "text": [
      "[Parallel(n_jobs=-1)]: Using backend SequentialBackend with 1 concurrent workers.\n"
     ]
    },
    {
     "name": "stdout",
     "output_type": "stream",
     "text": [
      "roc_auc:   0.863229\n",
      "accuracy:  0.904437\n",
      "recall:    0.949884\n",
      "precision: 0.922846\n"
     ]
    },
    {
     "name": "stderr",
     "output_type": "stream",
     "text": [
      "[Parallel(n_jobs=-1)]: Done  72 out of  72 | elapsed:    1.1s finished\n"
     ]
    }
   ],
   "source": [
    "from sklearn.neighbors import KNeighborsClassifier\n",
    "\n",
    "pipe = Pipeline([('estimator', AdaBoostClassifier())])\n",
    "params_grid = [\n",
    "    {\n",
    "        'estimator': [KNeighborsClassifier()],\n",
    "        'estimator__n_neighbors': [5, 9, 13],\n",
    "        'estimator__weights': ['uniform', 'distance'],\n",
    "        'estimator__leaf_size': [20, 30, 40],\n",
    "    },\n",
    "]\n",
    "\n",
    "run_model(pipe, params_grid)"
   ]
  },
  {
   "cell_type": "code",
   "execution_count": 47,
   "metadata": {
    "ExecuteTime": {
     "end_time": "2020-05-21T16:21:04.499650Z",
     "start_time": "2020-05-21T16:21:04.493057Z"
    }
   },
   "outputs": [],
   "source": [
    "best_models = pd.DataFrame(best_models)"
   ]
  },
  {
   "cell_type": "code",
   "execution_count": 48,
   "metadata": {
    "ExecuteTime": {
     "end_time": "2020-05-21T16:21:07.503257Z",
     "start_time": "2020-05-21T16:21:07.355348Z"
    }
   },
   "outputs": [
    {
     "data": {
      "text/html": [
       "<div>\n",
       "<style scoped>\n",
       "    .dataframe tbody tr th:only-of-type {\n",
       "        vertical-align: middle;\n",
       "    }\n",
       "\n",
       "    .dataframe tbody tr th {\n",
       "        vertical-align: top;\n",
       "    }\n",
       "\n",
       "    .dataframe thead th {\n",
       "        text-align: right;\n",
       "    }\n",
       "</style>\n",
       "<table border=\"1\" class=\"dataframe\">\n",
       "  <thead>\n",
       "    <tr style=\"text-align: right;\">\n",
       "      <th></th>\n",
       "      <th>best_model</th>\n",
       "      <th>roc_auc</th>\n",
       "      <th>accuracy</th>\n",
       "      <th>recall</th>\n",
       "      <th>precision</th>\n",
       "      <th>name</th>\n",
       "    </tr>\n",
       "  </thead>\n",
       "  <tbody>\n",
       "    <tr>\n",
       "      <td>0</td>\n",
       "      <td>LogisticRegression(C=0.1, class_weight=None, d...</td>\n",
       "      <td>0.816654</td>\n",
       "      <td>0.836746</td>\n",
       "      <td>0.858905</td>\n",
       "      <td>0.914614</td>\n",
       "      <td>LogisticRegression</td>\n",
       "    </tr>\n",
       "    <tr>\n",
       "      <td>1</td>\n",
       "      <td>(DecisionTreeClassifier(class_weight=None, cri...</td>\n",
       "      <td>0.814172</td>\n",
       "      <td>0.836177</td>\n",
       "      <td>0.860447</td>\n",
       "      <td>0.912510</td>\n",
       "      <td>RandomForestClassifier</td>\n",
       "    </tr>\n",
       "    <tr>\n",
       "      <td>2</td>\n",
       "      <td>(DecisionTreeClassifier(class_weight=None, cri...</td>\n",
       "      <td>0.895884</td>\n",
       "      <td>0.928896</td>\n",
       "      <td>0.965305</td>\n",
       "      <td>0.939940</td>\n",
       "      <td>BaggingClassifier</td>\n",
       "    </tr>\n",
       "    <tr>\n",
       "      <td>3</td>\n",
       "      <td>(DecisionTreeClassifier(class_weight=None, cri...</td>\n",
       "      <td>0.898393</td>\n",
       "      <td>0.924346</td>\n",
       "      <td>0.952968</td>\n",
       "      <td>0.944954</td>\n",
       "      <td>AdaBoostClassifier</td>\n",
       "    </tr>\n",
       "    <tr>\n",
       "      <td>4</td>\n",
       "      <td>KNeighborsClassifier(algorithm='auto', leaf_si...</td>\n",
       "      <td>0.863229</td>\n",
       "      <td>0.904437</td>\n",
       "      <td>0.949884</td>\n",
       "      <td>0.922846</td>\n",
       "      <td>KNeighborsClassifier</td>\n",
       "    </tr>\n",
       "  </tbody>\n",
       "</table>\n",
       "</div>"
      ],
      "text/plain": [
       "                                          best_model   roc_auc  accuracy  \\\n",
       "0  LogisticRegression(C=0.1, class_weight=None, d...  0.816654  0.836746   \n",
       "1  (DecisionTreeClassifier(class_weight=None, cri...  0.814172  0.836177   \n",
       "2  (DecisionTreeClassifier(class_weight=None, cri...  0.895884  0.928896   \n",
       "3  (DecisionTreeClassifier(class_weight=None, cri...  0.898393  0.924346   \n",
       "4  KNeighborsClassifier(algorithm='auto', leaf_si...  0.863229  0.904437   \n",
       "\n",
       "     recall  precision                    name  \n",
       "0  0.858905   0.914614      LogisticRegression  \n",
       "1  0.860447   0.912510  RandomForestClassifier  \n",
       "2  0.965305   0.939940       BaggingClassifier  \n",
       "3  0.952968   0.944954      AdaBoostClassifier  \n",
       "4  0.949884   0.922846    KNeighborsClassifier  "
      ]
     },
     "execution_count": 48,
     "metadata": {},
     "output_type": "execute_result"
    }
   ],
   "source": [
    "best_models['name'] = ''\n",
    "for i in best_models.index:\n",
    "    best_models.loc[i, 'name'] = best_models.loc[i, 'best_model'].__str__().split('(')[0]\n",
    "best_models"
   ]
  },
  {
   "cell_type": "code",
   "execution_count": 49,
   "metadata": {
    "ExecuteTime": {
     "end_time": "2020-05-21T16:21:11.418419Z",
     "start_time": "2020-05-21T16:21:11.171738Z"
    }
   },
   "outputs": [
    {
     "data": {
      "image/png": "[encoded data removed]",
      "text/plain": [
       "<Figure size 720x360 with 1 Axes>"
      ]
     },
     "metadata": {},
     "output_type": "display_data"
    }
   ],
   "source": [
    "ax = best_models[['roc_auc','accuracy','recall', 'precision', 'name']].plot(kind='bar', x='name', figsize=(10,5));\n",
    "ax.legend(loc='lower left', bbox_to_anchor= (1.0, .5));"
   ]
  },
  {
   "cell_type": "markdown",
   "metadata": {},
   "source": [
    "### Лучшая модель\n",
    "\n",
    "Основная метрика: AUC_ROC.  \n",
    "Дополнительная метрика: Accuracy.  \n",
    "Критерии оценки:  \n",
    "AUC_ROC < 0.75 — 0 sp  \n",
    "0.75 ≤ AUC_ROC < 0.81 — 4 sp  \n",
    "0.81 ≤ AUC_ROC < 0.85 — 4.5 sp  \n",
    "0.85 ≤ AUC_ROC < 0.87 — 5 sp  \n",
    "0.87 ≤ AUC_ROC < 0.88 — 5.5 sp  \n",
    "AUC_ROC ≥ 0.88 — 6 sp"
   ]
  },
  {
   "cell_type": "markdown",
   "metadata": {
    "ExecuteTime": {
     "end_time": "2020-05-21T15:53:46.588766Z",
     "start_time": "2020-05-21T15:53:46.581952Z"
    }
   },
   "source": [
    "Как видно порог в 0,85 преодолели три вида моделей. Два из них превысило крайний порог в 0,88!  \n",
    "Но лучшей по показателям оказалась модель AdaBoostClassifier."
   ]
  },
  {
   "cell_type": "code",
   "execution_count": 52,
   "metadata": {
    "ExecuteTime": {
     "end_time": "2020-05-21T16:22:03.129684Z",
     "start_time": "2020-05-21T16:22:03.121429Z"
    }
   },
   "outputs": [
    {
     "name": "stdout",
     "output_type": "stream",
     "text": [
      "Лушая модель: AdaBoostClassifier\n",
      "Параметры модели:\n"
     ]
    },
    {
     "data": {
      "text/plain": [
       "{'base_estimator': None,\n",
       " 'bootstrap': True,\n",
       " 'bootstrap_features': False,\n",
       " 'max_features': 1.0,\n",
       " 'max_samples': 1.0,\n",
       " 'n_estimators': 100,\n",
       " 'n_jobs': None,\n",
       " 'oob_score': False,\n",
       " 'random_state': 2112,\n",
       " 'verbose': 0,\n",
       " 'warm_start': False}"
      ]
     },
     "execution_count": 52,
     "metadata": {},
     "output_type": "execute_result"
    }
   ],
   "source": [
    "print('Лушая модель:', best_models.loc[3, 'name'])\n",
    "best_model = best_models.loc[2, 'best_model']\n",
    "print('Параметры модели:')\n",
    "best_model.get_params()"
   ]
  },
  {
   "cell_type": "code",
   "execution_count": 53,
   "metadata": {
    "ExecuteTime": {
     "end_time": "2020-05-21T16:22:35.001407Z",
     "start_time": "2020-05-21T16:22:34.929857Z"
    }
   },
   "outputs": [
    {
     "name": "stdout",
     "output_type": "stream",
     "text": [
      "roc_auc: 0.9684296741632104\n",
      "accuracy: 0.9736916951080774\n",
      "recall: 0.979662986635677\n",
      "precision: 0.9844297391981316\n"
     ]
    }
   ],
   "source": [
    "# для примера проведем расчет по всему датасету\n",
    "\n",
    "predicted_ = best_model.predict(features)\n",
    "rocauc_ = roc_auc_score(target, predicted_)\n",
    "accuracy_ = accuracy_score(target, predicted_)\n",
    "recall_ = recall_score(target, predicted_)\n",
    "precision_ = precision_score(target, predicted_)\n",
    "print('roc_auc:', rocauc_)\n",
    "print('accuracy:', accuracy_)\n",
    "print('recall:', recall_)\n",
    "print('precision:', precision_)\n"
   ]
  },
  {
   "cell_type": "markdown",
   "metadata": {},
   "source": [
    "***"
   ]
  }
 ],
 "metadata": {
  "hide_code_all_hidden": false,
  "kernelspec": {
   "display_name": "Python 3",
   "language": "python",
   "name": "python3"
  },
  "language_info": {
   "codemirror_mode": {
    "name": "ipython",
    "version": 3
   },
   "file_extension": ".py",
   "mimetype": "text/x-python",
   "name": "python",
   "nbconvert_exporter": "python",
   "pygments_lexer": "ipython3",
   "version": "3.7.5"
  },
  "varInspector": {
   "cols": {
    "lenName": 16,
    "lenType": 16,
    "lenVar": 40
   },
   "kernels_config": {
    "python": {
     "delete_cmd_postfix": "",
     "delete_cmd_prefix": "del ",
     "library": "var_list.py",
     "varRefreshCmd": "print(var_dic_list())"
    },
    "r": {
     "delete_cmd_postfix": ") ",
     "delete_cmd_prefix": "rm(",
     "library": "var_list.r",
     "varRefreshCmd": "cat(var_dic_list()) "
    }
   },
   "types_to_exclude": [
    "module",
    "function",
    "builtin_function_or_method",
    "instance",
    "_Feature"
   ],
   "window_display": false
  }
 },
 "nbformat": 4,
 "nbformat_minor": 2
}
