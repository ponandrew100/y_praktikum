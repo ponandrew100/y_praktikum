{
 "cells": [
  {
   "cell_type": "markdown",
   "metadata": {},
   "source": [
    "# Описание проекта"
   ]
  },
  {
   "cell_type": "markdown",
   "metadata": {},
   "source": [
    "Допустим, вы работаете в нефте-добывающей компании. Нужно решить, где бурить новую скважину.\n",
    "\n",
    "Вам предоставлены пробы нефти в трёх регионах: в каждом 10 000 месторождений, где измерили качество нефти и объём её запасов. Постройте модель машинного обучения, которая поможет определить регион, где добыча принесёт наибольшую прибыль. Проанализируйте возможную прибыль и риски техникой *Bootstrap.*\n"
   ]
  },
  {
   "cell_type": "markdown",
   "metadata": {},
   "source": [
    "**Описание данных**  \n",
    "Данные геологоразведки трёх регионов находятся в файлах: `geo_data_0.csv`, `geo_data_1.csv` и `geo_data_2.csv`.  \n",
    "`id` — уникальный идентификатор месторождения;  \n",
    "`f0, f1, f2` — три признака точек (неважно, что они означают, но сами признаки значимы);  \n",
    "`product` — объём запасов в месторождении (тыс. баррелей)."
   ]
  },
  {
   "cell_type": "code",
   "execution_count": 1,
   "metadata": {},
   "outputs": [],
   "source": [
    "import pandas as pd\n",
    "import numpy as np\n",
    "import matplotlib.pyplot as plt\n",
    "import seaborn as sns\n",
    "from sklearn.model_selection import train_test_split\n",
    "from sklearn.linear_model import LinearRegression\n",
    "from sklearn.metrics import mean_squared_error\n",
    "from scipy import stats as st"
   ]
  },
  {
   "cell_type": "markdown",
   "metadata": {},
   "source": [
    "# 1. Загрузка и подготовка данных"
   ]
  },
  {
   "cell_type": "code",
   "execution_count": 2,
   "metadata": {},
   "outputs": [
    {
     "name": "stdout",
     "output_type": "stream",
     "text": [
      "<class 'pandas.core.frame.DataFrame'>\n",
      "Index: 100000 entries, txEyH to 1CWhH\n",
      "Data columns (total 4 columns):\n",
      "f0         100000 non-null float64\n",
      "f1         100000 non-null float64\n",
      "f2         100000 non-null float64\n",
      "product    100000 non-null float64\n",
      "dtypes: float64(4)\n",
      "memory usage: 3.8+ MB\n",
      "<class 'pandas.core.frame.DataFrame'>\n",
      "Index: 100000 entries, kBEdx to relB0\n",
      "Data columns (total 4 columns):\n",
      "f0         100000 non-null float64\n",
      "f1         100000 non-null float64\n",
      "f2         100000 non-null float64\n",
      "product    100000 non-null float64\n",
      "dtypes: float64(4)\n",
      "memory usage: 3.8+ MB\n",
      "<class 'pandas.core.frame.DataFrame'>\n",
      "Index: 100000 entries, fwXo0 to V9kWn\n",
      "Data columns (total 4 columns):\n",
      "f0         100000 non-null float64\n",
      "f1         100000 non-null float64\n",
      "f2         100000 non-null float64\n",
      "product    100000 non-null float64\n",
      "dtypes: float64(4)\n",
      "memory usage: 3.8+ MB\n"
     ]
    },
    {
     "data": {
      "text/plain": [
       "[None, None, None]"
      ]
     },
     "execution_count": 2,
     "metadata": {},
     "output_type": "execute_result"
    }
   ],
   "source": [
    "regions_data = []\n",
    "for i in range(3):\n",
    "    df = pd.read_csv('/datasets/geo_data_{}.csv'.format(i))\n",
    "    df.set_index('id', inplace=True)\n",
    "    regions_data.append(df)\n",
    "    \n",
    "[data.info() for data in regions_data]"
   ]
  },
  {
   "cell_type": "markdown",
   "metadata": {},
   "source": [
    "По представленной информации можем сделать вывод, что пустых значений нет.  \n",
    "Поскольку поле 'id' является уникальным идентификатором конкретного месторождения, то оно должно быть единственным в данных.  \n",
    "Проверим их на дублирование."
   ]
  },
  {
   "cell_type": "code",
   "execution_count": 3,
   "metadata": {},
   "outputs": [
    {
     "name": "stdout",
     "output_type": "stream",
     "text": [
      "Дублированные меторождения по регионам:\n",
      "регион 0: 10 шт.\n",
      "регион 1: 4 шт.\n",
      "регион 2: 4 шт.\n"
     ]
    }
   ],
   "source": [
    "print('Дублированные меторождения по регионам:')\n",
    "for i in range(3):\n",
    "    ids = pd.Series(regions_data[i].index)\n",
    "    print('регион {}: {} шт.'.format(i, ids.duplicated().sum()))"
   ]
  },
  {
   "cell_type": "markdown",
   "metadata": {},
   "source": [
    "Мы обнаружили, что все-таки не все месторождения представлены в единственном экземпляре. Почему это произошло - не известно, это может быть как из-за опечатки в идентификаторе, так и из-за ошибочных данных в одном из введенных экземпляров.  \n",
    "Поскольку выяснить причину и исправить ошибки мы не можем, то просто удалим их из данных. "
   ]
  },
  {
   "cell_type": "code",
   "execution_count": 4,
   "metadata": {},
   "outputs": [
    {
     "name": "stdout",
     "output_type": "stream",
     "text": [
      "['HZww2' 'bxg6G' 'A5aEY' 'QcMuo' '74z30' 'AGS9W' 'Tdehs' 'fiKDv' 'TtcGQ'\n",
      " 'bsk9y']\n",
      "<class 'pandas.core.frame.DataFrame'>\n",
      "Index: 99980 entries, txEyH to 1CWhH\n",
      "Data columns (total 4 columns):\n",
      "f0         99980 non-null float64\n",
      "f1         99980 non-null float64\n",
      "f2         99980 non-null float64\n",
      "product    99980 non-null float64\n",
      "dtypes: float64(4)\n",
      "memory usage: 3.8+ MB\n",
      "-----------------------------------\n",
      "['LHZR0' 'bfPNe' 'wt4Uk' '5ltQ6']\n",
      "<class 'pandas.core.frame.DataFrame'>\n",
      "Index: 99992 entries, kBEdx to relB0\n",
      "Data columns (total 4 columns):\n",
      "f0         99992 non-null float64\n",
      "f1         99992 non-null float64\n",
      "f2         99992 non-null float64\n",
      "product    99992 non-null float64\n",
      "dtypes: float64(4)\n",
      "memory usage: 3.8+ MB\n",
      "-----------------------------------\n",
      "['xCHr8' 'VF7Jo' 'KUPhW' 'Vcm5J']\n",
      "<class 'pandas.core.frame.DataFrame'>\n",
      "Index: 99992 entries, fwXo0 to V9kWn\n",
      "Data columns (total 4 columns):\n",
      "f0         99992 non-null float64\n",
      "f1         99992 non-null float64\n",
      "f2         99992 non-null float64\n",
      "product    99992 non-null float64\n",
      "dtypes: float64(4)\n",
      "memory usage: 3.8+ MB\n",
      "-----------------------------------\n"
     ]
    }
   ],
   "source": [
    "for i in range(3):\n",
    "    ids = pd.Series(regions_data[i].index)\n",
    "    dup_ids = ids[ids.duplicated()].values\n",
    "    print(dup_ids)\n",
    "    regions_data[i].drop(index=dup_ids, inplace=True)\n",
    "    regions_data[i].info()\n",
    "    print('-'*35)\n"
   ]
  },
  {
   "cell_type": "markdown",
   "metadata": {},
   "source": [
    "# 2. Обучение и проверка модели"
   ]
  },
  {
   "cell_type": "markdown",
   "metadata": {},
   "source": [
    "Предварительно рассмотрим показатели запасов сырья по регионам методом `describe()` и визуализируем их."
   ]
  },
  {
   "cell_type": "code",
   "execution_count": 5,
   "metadata": {},
   "outputs": [
    {
     "data": {
      "text/html": [
       "<div>\n",
       "<style scoped>\n",
       "    .dataframe tbody tr th:only-of-type {\n",
       "        vertical-align: middle;\n",
       "    }\n",
       "\n",
       "    .dataframe tbody tr th {\n",
       "        vertical-align: top;\n",
       "    }\n",
       "\n",
       "    .dataframe thead th {\n",
       "        text-align: right;\n",
       "    }\n",
       "</style>\n",
       "<table border=\"1\" class=\"dataframe\">\n",
       "  <thead>\n",
       "    <tr style=\"text-align: right;\">\n",
       "      <th></th>\n",
       "      <th>0</th>\n",
       "      <th>1</th>\n",
       "      <th>2</th>\n",
       "    </tr>\n",
       "  </thead>\n",
       "  <tbody>\n",
       "    <tr>\n",
       "      <td>count</td>\n",
       "      <td>99980.000000</td>\n",
       "      <td>99992.000000</td>\n",
       "      <td>99992.000000</td>\n",
       "    </tr>\n",
       "    <tr>\n",
       "      <td>mean</td>\n",
       "      <td>92.499166</td>\n",
       "      <td>68.824148</td>\n",
       "      <td>94.998767</td>\n",
       "    </tr>\n",
       "    <tr>\n",
       "      <td>std</td>\n",
       "      <td>44.289044</td>\n",
       "      <td>45.944889</td>\n",
       "      <td>44.747763</td>\n",
       "    </tr>\n",
       "    <tr>\n",
       "      <td>min</td>\n",
       "      <td>0.000000</td>\n",
       "      <td>0.000000</td>\n",
       "      <td>0.000000</td>\n",
       "    </tr>\n",
       "    <tr>\n",
       "      <td>25%</td>\n",
       "      <td>56.496513</td>\n",
       "      <td>26.953261</td>\n",
       "      <td>59.450441</td>\n",
       "    </tr>\n",
       "    <tr>\n",
       "      <td>50%</td>\n",
       "      <td>91.847928</td>\n",
       "      <td>57.085625</td>\n",
       "      <td>94.925026</td>\n",
       "    </tr>\n",
       "    <tr>\n",
       "      <td>75%</td>\n",
       "      <td>128.564089</td>\n",
       "      <td>107.813044</td>\n",
       "      <td>130.585544</td>\n",
       "    </tr>\n",
       "    <tr>\n",
       "      <td>max</td>\n",
       "      <td>185.364347</td>\n",
       "      <td>137.945408</td>\n",
       "      <td>190.029838</td>\n",
       "    </tr>\n",
       "  </tbody>\n",
       "</table>\n",
       "</div>"
      ],
      "text/plain": [
       "                  0             1             2\n",
       "count  99980.000000  99992.000000  99992.000000\n",
       "mean      92.499166     68.824148     94.998767\n",
       "std       44.289044     45.944889     44.747763\n",
       "min        0.000000      0.000000      0.000000\n",
       "25%       56.496513     26.953261     59.450441\n",
       "50%       91.847928     57.085625     94.925026\n",
       "75%      128.564089    107.813044    130.585544\n",
       "max      185.364347    137.945408    190.029838"
      ]
     },
     "execution_count": 5,
     "metadata": {},
     "output_type": "execute_result"
    }
   ],
   "source": [
    "describes = {}\n",
    "for i in range(3):\n",
    "    desc_prod = regions_data[i]['product'].describe().to_frame() \n",
    "    describes[i] = desc_prod['product'].values\n",
    "describes = pd.DataFrame(data=describes, index=desc_prod.index)\n",
    "describes"
   ]
  },
  {
   "cell_type": "code",
   "execution_count": 6,
   "metadata": {},
   "outputs": [],
   "source": [
    "regions_product = regions_data[0]['product'].reset_index().drop('id', axis=1)\n",
    "regions_product = regions_product.join(regions_data[1]['product'].reset_index().drop('id', axis=1), rsuffix='_1')\n",
    "regions_product = regions_product.join(regions_data[2]['product'].reset_index().drop('id', axis=1), rsuffix='_2')"
   ]
  },
  {
   "cell_type": "code",
   "execution_count": 7,
   "metadata": {},
   "outputs": [
    {
     "data": {
      "image/png": "[encoded data removed]",
      "text/plain": [
       "<Figure size 576x288 with 1 Axes>"
      ]
     },
     "metadata": {
      "needs_background": "light"
     },
     "output_type": "display_data"
    }
   ],
   "source": [
    "plt.figure(figsize=(8, 4))\n",
    "boxplt = sns.boxplot(data=regions_product)\n",
    "boxplt.grid(color='lightgray', alpha=0.7)\n",
    "plt.show()"
   ]
  },
  {
   "cell_type": "code",
   "execution_count": 9,
   "metadata": {},
   "outputs": [
    {
     "name": "stdout",
     "output_type": "stream",
     "text": [
      "Регион 0\n",
      "Средний запас сырья по региону по всем данным: 92.4992\n",
      "Средний запас сырья по региону по предсказанным данным: 92.4238\n",
      "RMSE предсказанных данных: 37.7169\n",
      "----------------------------------------\n",
      "Регион 1\n",
      "Средний запас сырья по региону по всем данным: 68.8241\n",
      "Средний запас сырья по региону по предсказанным данным: 68.9831\n",
      "RMSE предсказанных данных: 0.8915\n",
      "----------------------------------------\n",
      "Регион 2\n",
      "Средний запас сырья по региону по всем данным: 94.9988\n",
      "Средний запас сырья по региону по предсказанным данным: 95.1162\n",
      "RMSE предсказанных данных: 39.9755\n",
      "----------------------------------------\n"
     ]
    }
   ],
   "source": [
    "# модели линейной регрессии\n",
    "\n",
    "for i, df in enumerate(regions_data):\n",
    "    features = df.drop(['product'] , axis=1)\n",
    "    target = df['product']\n",
    "    features_train, features_valid, target_train, target_valid = train_test_split(\n",
    "        features, target, test_size=0.25, random_state=12345)\n",
    "    \n",
    "    model = LinearRegression()\n",
    "    model.fit(features_train, target_train)\n",
    "    predicted_valid = model.predict(features_valid)\n",
    "    rmse = mean_squared_error(target_valid, predicted_valid) ** 0.5\n",
    "    \n",
    "    print('Регион {}'.format(i))\n",
    "    print('Средний запас сырья по региону по всем данным: {:.4f}'.format(df['product'].mean()))\n",
    "    print('Средний запас сырья по региону по предсказанным данным: {:.4f}'.format(predicted_valid.mean()))\n",
    "    print('RMSE предсказанных данных: {:.4f}'.format(rmse))\n",
    "    print('-'*40)\n",
    "    "
   ]
  },
  {
   "cell_type": "markdown",
   "metadata": {},
   "source": [
    "**Выводы.**\n",
    "\n",
    "Первое, что хотелось бы отметить - это то, что средние по всем данным и по предсказанным данным почти совпадают.\n",
    "\n",
    "Второе, запасы сырья в регионах значительно разнятся. Особенно это касается региона №1, в котором средние запасы значительно ниже, чем в других.  \n",
    "Но в этом регионе метрика RMSE намного ниже, чем в двух других, а значит модель на данных этого региона оказалась лучшей.\n",
    "\n",
    "***"
   ]
  },
  {
   "cell_type": "markdown",
   "metadata": {},
   "source": [
    "# 3. Подготовка к расчёту прибыли"
   ]
  },
  {
   "cell_type": "markdown",
   "metadata": {},
   "source": [
    "Из условий задачи:  \n",
    "Бюджет на разработку месторождений — 10 млрд рублей, стоимость бурения одной скважины — 50 млн рублей.  \n",
    "Один баррель сырья приносит 4500 рублей прибыли.  \n",
    "\n",
    "Исходя из условий задания мы в регионе можем пробурить до 200 скважин. А под минимальным средним объемом сырья, достаточным для его разработки, понимается условия, когда общая прибыль выходит в ноль. Т.е. выручка с объема сырья этих скважин должна быть не ниже затрат на их бурение, а именно - не ниже 10 млрд.руб.  \n",
    "\n",
    "Таким образом,\n",
    "\n",
    "**Минимальный объем сырья**: $V_m= 10000000000 / 4500 = 2222222,22$ барелей"
   ]
  },
  {
   "cell_type": "code",
   "execution_count": 10,
   "metadata": {},
   "outputs": [],
   "source": [
    "# функция по  для расчёта прибыли по набору отобранных месторождений \n",
    "\n",
    "def revenue(poins500):\n",
    "    poins200 = poins500.sort_values(ascending=False)[:200]\n",
    "    return poins200.sum() * 1000 * 4500 - 10000000000"
   ]
  },
  {
   "cell_type": "markdown",
   "metadata": {},
   "source": [
    "# 4. Расчёт прибыли и рисков "
   ]
  },
  {
   "cell_type": "markdown",
   "metadata": {},
   "source": [
    "Из условий задачи:  \n",
    "- Для обучения модели подходит только линейная регрессия (остальные — недостаточно предсказуемые).\n",
    "- При разведке региона проводится исследование 500 точек.  \n",
    "- Не рассматривать регионы, в которых риск убытков выше 2.5%. Из оставшихся выбирается регион с наибольшей средней прибылью.  \n",
    "\n",
    "Таким образом, нам нужно для данных каждого региона (которые заранее делим на тренировочные и тестовые) построить модель линейной регрессии, получить предсказанные данные по тестовой выборке, из предсказанных данных техникой Bootstrap с 1000 циклами получить 500 точек и уже их этих 500 выбрать 200 лучших."
   ]
  },
  {
   "cell_type": "code",
   "execution_count": 11,
   "metadata": {},
   "outputs": [
    {
     "data": {
      "text/html": [
       "<div>\n",
       "<style scoped>\n",
       "    .dataframe tbody tr th:only-of-type {\n",
       "        vertical-align: middle;\n",
       "    }\n",
       "\n",
       "    .dataframe tbody tr th {\n",
       "        vertical-align: top;\n",
       "    }\n",
       "\n",
       "    .dataframe thead th {\n",
       "        text-align: right;\n",
       "    }\n",
       "</style>\n",
       "<table border=\"1\" class=\"dataframe\">\n",
       "  <thead>\n",
       "    <tr style=\"text-align: right;\">\n",
       "      <th></th>\n",
       "      <th>0</th>\n",
       "      <th>1</th>\n",
       "      <th>2</th>\n",
       "    </tr>\n",
       "  </thead>\n",
       "  <tbody>\n",
       "    <tr>\n",
       "      <td>0</td>\n",
       "      <td>9.434449e+10</td>\n",
       "      <td>9.499439e+10</td>\n",
       "      <td>9.298328e+10</td>\n",
       "    </tr>\n",
       "    <tr>\n",
       "      <td>1</td>\n",
       "      <td>9.308703e+10</td>\n",
       "      <td>9.584126e+10</td>\n",
       "      <td>9.296294e+10</td>\n",
       "    </tr>\n",
       "    <tr>\n",
       "      <td>2</td>\n",
       "      <td>9.262002e+10</td>\n",
       "      <td>9.083060e+10</td>\n",
       "      <td>9.219969e+10</td>\n",
       "    </tr>\n",
       "    <tr>\n",
       "      <td>3</td>\n",
       "      <td>9.355309e+10</td>\n",
       "      <td>9.412181e+10</td>\n",
       "      <td>9.327275e+10</td>\n",
       "    </tr>\n",
       "    <tr>\n",
       "      <td>4</td>\n",
       "      <td>9.236064e+10</td>\n",
       "      <td>9.738374e+10</td>\n",
       "      <td>9.367961e+10</td>\n",
       "    </tr>\n",
       "  </tbody>\n",
       "</table>\n",
       "</div>"
      ],
      "text/plain": [
       "              0             1             2\n",
       "0  9.434449e+10  9.499439e+10  9.298328e+10\n",
       "1  9.308703e+10  9.584126e+10  9.296294e+10\n",
       "2  9.262002e+10  9.083060e+10  9.219969e+10\n",
       "3  9.355309e+10  9.412181e+10  9.327275e+10\n",
       "4  9.236064e+10  9.738374e+10  9.367961e+10"
      ]
     },
     "execution_count": 11,
     "metadata": {},
     "output_type": "execute_result"
    }
   ],
   "source": [
    "state = np.random.RandomState(12345)\n",
    "regions_profit = {}\n",
    "\n",
    "for i, df in enumerate(regions_data):\n",
    "    features = df.drop(['product'] , axis=1)\n",
    "    target = df['product']\n",
    "    features_train, features_test, target_train, target_test = train_test_split(\n",
    "        features, target, test_size=0.25, random_state=state)\n",
    "    model = LinearRegression()\n",
    "    model.fit(features_train, target_train)\n",
    "    predicted_target = pd.Series(model.predict(features_test))\n",
    "\n",
    "    values = []\n",
    "    for k in range(1000):\n",
    "        target_sample = predicted_target.sample(n=500, random_state=state, replace=True)\n",
    "        values.append(revenue(target_sample))\n",
    "\n",
    "    regions_profit[i] = values\n",
    "\n",
    "regions_profit = pd.DataFrame(regions_profit)    \n",
    "regions_profit.head()"
   ]
  },
  {
   "cell_type": "code",
   "execution_count": 12,
   "metadata": {},
   "outputs": [
    {
     "name": "stdout",
     "output_type": "stream",
     "text": [
      "Регион 0\n",
      "Средняя прибыль: 93,400,468,596.85\n",
      "95%-ый доверительный интервал: (91,143,935,686.21, 95,634,997,120.83)\n",
      "----------------------------------------\n",
      "Регион 1\n",
      "Средняя прибыль: 94,556,464,582.00\n",
      "95%-ый доверительный интервал: (90,630,542,382.98, 98,646,529,461.36)\n",
      "----------------------------------------\n",
      "Регион 2\n",
      "Средняя прибыль: 93,000,276,340.15\n",
      "95%-ый доверительный интервал: (91,062,416,301.66, 95,039,626,350.97)\n",
      "----------------------------------------\n"
     ]
    }
   ],
   "source": [
    "for k in regions_profit.columns:\n",
    "    print('Регион {}'.format(k))\n",
    "    print(\"Средняя прибыль: {:,.2f}\".format(regions_profit[k].mean()))\n",
    "    print(\"95%-ый доверительный интервал: ({:,.2f}, {:,.2f})\".\n",
    "          format(regions_profit[k].quantile(0.025), regions_profit[k].quantile(0.975)))\n",
    "    print('-'*40)"
   ]
  },
  {
   "cell_type": "code",
   "execution_count": 13,
   "metadata": {},
   "outputs": [
    {
     "data": {
      "image/png": "[encoded data removed]",
      "text/plain": [
       "<Figure size 576x288 with 1 Axes>"
      ]
     },
     "metadata": {
      "needs_background": "light"
     },
     "output_type": "display_data"
    }
   ],
   "source": [
    "plt.figure(figsize=(8, 4))\n",
    "boxplt = sns.boxplot(data=regions_profit)\n",
    "boxplt.grid(color='lightgray', alpha=0.7)\n",
    "plt.show()"
   ]
  },
  {
   "cell_type": "code",
   "execution_count": 14,
   "metadata": {},
   "outputs": [
    {
     "data": {
      "image/png": "[encoded data removed]",
      "text/plain": [
       "<Figure size 576x360 with 1 Axes>"
      ]
     },
     "metadata": {
      "needs_background": "light"
     },
     "output_type": "display_data"
    }
   ],
   "source": [
    "regions_profit.plot(kind='hist', bins=50, grid=True, figsize=(8, 5), alpha=0.7);"
   ]
  },
  {
   "cell_type": "code",
   "execution_count": 15,
   "metadata": {},
   "outputs": [
    {
     "name": "stdout",
     "output_type": "stream",
     "text": [
      "Кол-во значений, превышающих среднее значение из региона 0: 725\n",
      "Кол-во значений, превышающих среднее значение из региона 2: 777\n",
      "Кол-во значений, превышающих верхнюю границу региона 0: 311\n",
      "Кол-во значений, превышающих верхнюю границу региона 2: 406\n"
     ]
    }
   ],
   "source": [
    "count0 = regions_profit[regions_profit[1] > regions_profit[0].mean()][1].count()\n",
    "print('Кол-во значений, превышающих среднее значение из региона 0:', count0)\n",
    "count2 = regions_profit[regions_profit[1] > regions_profit[2].mean()][1].count()\n",
    "print('Кол-во значений, превышающих среднее значение из региона 2:', count2)\n",
    "count_0 = regions_profit[regions_profit[1] > regions_profit[0].quantile(0.975)][1].count()\n",
    "print('Кол-во значений, превышающих верхнюю границу региона 0:', count_0)\n",
    "count_2 = regions_profit[regions_profit[1] > regions_profit[2].quantile(0.975)][1].count()\n",
    "print('Кол-во значений, превышающих верхнюю границу региона 2:', count_2)\n"
   ]
  },
  {
   "cell_type": "markdown",
   "metadata": {},
   "source": [
    "**Выводы.**  \n",
    "\n",
    "Из полученных результатов можно сделать вывод, что убыточных регионов нет.  \n",
    "\n",
    "Что касается средней прибыли по региону, то здесь наилучшие показатели у региона №1, не смотря на то, что в этом регионе средние запасы меньше, чем в других регионах.  \n",
    "\n",
    "С другой стороны, для данного региона наблюдается значительный разброс результатов. Разность между верхней и нижней границами 95%го доверительного интервала в этом регионе составляет более 8 млрд.руб., тогда как в других регионах только 4, а нижняя граница этого интервала в регионе №1 ниже, чем в других регионах.  \n",
    "\n",
    "Но даже при этом регион №1 предпочтительней двух других!\n",
    "Среднее значение прибыли по этому региону близко к верхней границе доверительных интервалов двух других регионов. На показанной выше гистограмме и вычесленных данных видно, что почти 3/4 всех значений этого региона больше средних значений двух других регионов, а треть значений - выше верхних границ доверительного интервала тех регионов."
   ]
  },
  {
   "cell_type": "code",
   "execution_count": null,
   "metadata": {},
   "outputs": [],
   "source": []
  }
 ],
 "metadata": {
  "kernelspec": {
   "display_name": "Python 3",
   "language": "python",
   "name": "python3"
  },
  "language_info": {
   "codemirror_mode": {
    "name": "ipython",
    "version": 3
   },
   "file_extension": ".py",
   "mimetype": "text/x-python",
   "name": "python",
   "nbconvert_exporter": "python",
   "pygments_lexer": "ipython3",
   "version": "3.7.5"
  },
  "varInspector": {
   "cols": {
    "lenName": 16,
    "lenType": 16,
    "lenVar": 40
   },
   "kernels_config": {
    "python": {
     "delete_cmd_postfix": "",
     "delete_cmd_prefix": "del ",
     "library": "var_list.py",
     "varRefreshCmd": "print(var_dic_list())"
    },
    "r": {
     "delete_cmd_postfix": ") ",
     "delete_cmd_prefix": "rm(",
     "library": "var_list.r",
     "varRefreshCmd": "cat(var_dic_list()) "
    }
   },
   "types_to_exclude": [
    "module",
    "function",
    "builtin_function_or_method",
    "instance",
    "_Feature"
   ],
   "window_display": false
  }
 },
 "nbformat": 4,
 "nbformat_minor": 2
}
